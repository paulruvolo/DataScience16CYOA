{
 "cells": [
  {
   "cell_type": "markdown",
   "metadata": {},
   "source": [
    "Kiki Chandra & Zoher Ghadyali\n",
    "\n",
    "Data Science Spring 2016\n",
    "\n",
    "CYOA Project"
   ]
  },
  {
   "cell_type": "markdown",
   "metadata": {},
   "source": [
    "## Starting off by using the example from class"
   ]
  },
  {
   "cell_type": "markdown",
   "metadata": {},
   "source": [
    "The cell below is practically the same as the one we went through in class that uses the tfidf vectorizer to create a matrix where the columns are the individual words used in each post and the rows are each post. We train the model using this matrix, calculate the accuracy of the model in our train-test split, and then use the model to make our predictions on the test data."
   ]
  },
  {
   "cell_type": "code",
   "execution_count": 108,
   "metadata": {
    "collapsed": false
   },
   "outputs": [
    {
     "name": "stdout",
     "output_type": "stream",
     "text": [
      "Accuracy 0.622824554658\n"
     ]
    }
   ],
   "source": [
    "import pandas as pd\n",
    "from matplotlib import pyplot as plt\n",
    "from sklearn.feature_extraction.text import TfidfVectorizer\n",
    "from sklearn.linear_model import LogisticRegression\n",
    "from sklearn.cross_validation import train_test_split\n",
    "from sklearn.naive_bayes import MultinomialNB\n",
    "import re\n",
    "\n",
    "%matplotlib inline\n",
    "\n",
    "train_df = pd.read_table('train.tsv')\n",
    "test_df = pd.read_table('test.tsv')\n",
    "\n",
    "vectorizer = TfidfVectorizer()\n",
    "vectorizer.fit(train_df.Phrase)\n",
    "\n",
    "X = vectorizer.transform(train_df.Phrase)\n",
    "y = train_df.Sentiment\n",
    "X_train, X_test, y_train, y_test = train_test_split(X, y, train_size=0.5)\n",
    "model = LogisticRegression(multi_class='multinomial', solver='newton-cg')\n",
    "model.fit(X_train, y_train)\n",
    "print \"Accuracy\", model.score(X_test, y_test)\n",
    "\n",
    "model.fit(X, y) #retrain the model using all of the data now before we predict on the test dataset\n",
    "result = model.predict(vectorizer.transform(test_df.Phrase))\n",
    "output = pd.DataFrame(data={\"PhraseId\":test_df[\"PhraseId\"], \"Sentiment\":result})\n",
    "output.to_csv( \"ZG_rotten_tomatoes_model1.csv\", index=False, quoting=3 )"
   ]
  },
  {
   "cell_type": "markdown",
   "metadata": {},
   "source": [
    "This csv file got a Kaggle score of 0.6026. We were unable to improve upon this score but we prioritized trying different methods we found from online tutorials and research."
   ]
  },
  {
   "cell_type": "markdown",
   "metadata": {},
   "source": [
    "## Using the single words in the train dataset as a lookup table"
   ]
  },
  {
   "cell_type": "markdown",
   "metadata": {},
   "source": [
    "So pulling from previous iterations of our model, we are going to create a dataframe that contains only the single words from the data. The plot is a histogram that counts how many records in the train data have a certain sentiment and the percentages below that are printed out show what percentage of the train data has that sentiment. We see a lot of 2s (neutral) which makes sense given that these are only the single words and most do not have a lot of connotations by themselves."
   ]
  },
  {
   "cell_type": "code",
   "execution_count": 100,
   "metadata": {
    "collapsed": false
   },
   "outputs": [
    {
     "data": {
      "image/png": "[encoded data removed]",
      "text/plain": [
       "<matplotlib.figure.Figure at 0x183854250>"
      ]
     },
     "metadata": {},
     "output_type": "display_data"
    },
    {
     "name": "stdout",
     "output_type": "stream",
     "text": [
      "0 0.0119170044159\n",
      "1 0.115842961708\n",
      "2 0.742786280322\n",
      "3 0.116145423749\n",
      "4 0.0133083298046\n"
     ]
    }
   ],
   "source": [
    "import pandas as pd\n",
    "from matplotlib import pyplot as plt\n",
    "\n",
    "train_df = pd.read_table('train.tsv')\n",
    "train_df[\"containsSpaces\"] = train_df[\"Phrase\"].apply(lambda x: ' ' in x)\n",
    "sw = train_df[train_df.containsSpaces == False]\n",
    "\n",
    "plt.hist(sw.Sentiment)\n",
    "plt.show()\n",
    "for i in range(0, 5):\n",
    "    print i, len(sw[sw.Sentiment == i]) / float(len(sw))"
   ]
  },
  {
   "cell_type": "markdown",
   "metadata": {},
   "source": [
    "For this iteration of the model, we decided to use the single words as a lookup table. So instead of training a model and predicting the test data off of that, we use a dictionary of all the single words and their sentiment from the train data and we use it to average the sentiment of each phrase. We then calculate our accuracy within the train data by comparing the calculated sentiment to the actual sentiment."
   ]
  },
  {
   "cell_type": "code",
   "execution_count": 105,
   "metadata": {
    "collapsed": false
   },
   "outputs": [
    {
     "name": "stdout",
     "output_type": "stream",
     "text": [
      "Number wrong 70410\n",
      "Percentage wrong 45.1172625913\n"
     ]
    }
   ],
   "source": [
    "sw_dict = sw.set_index('Phrase')['Sentiment'].to_dict()\n",
    "\n",
    "def get_sentiment_single_word(word):\n",
    "    \"\"\" Takes a word in as input, looks for it in the dictionary of single words and their sentiments, and returns the\n",
    "    sentiment of the word if it is in the dictionary. Otherwise it returns 2 which is neutral\"\"\"\n",
    "    if word in sw_dict:\n",
    "        return sw_dict[word]\n",
    "    else:\n",
    "        return 2\n",
    "\n",
    "def get_sentiment_phrase(phrase):\n",
    "    \"\"\"Takes a phrase as input, creates an empty list of the sentiments for each word in that phrase, and loops\n",
    "    through the words in the phrase, appending the sentiment of each word to the list. Once we have finished, we\n",
    "    return the average of the values in the list, or if the list is empty, we return 2\"\"\"\n",
    "    phrase_sentiment = []\n",
    "    for word in phrase.split():\n",
    "        phrase_sentiment.append(get_sentiment_single_word(word))\n",
    "    if len(phrase_sentiment):\n",
    "        return int(sum(phrase_sentiment)/len(phrase_sentiment))\n",
    "    else:\n",
    "        return 2\n",
    "\n",
    "train_df[\"calcSentiment\"] = train_df[\"Phrase\"].apply(get_sentiment_phrase)\n",
    "row_ids = train_df[train_df.Sentiment != train_df.calcSentiment].index\n",
    "print \"Number wrong\", len(row_ids)\n",
    "print \"Percentage wrong\", (float(len(row_ids))/len(train_df)) * 100"
   ]
  },
  {
   "cell_type": "markdown",
   "metadata": {},
   "source": [
    "So we now take the functions we just tested on the train dataset and apply them to the test data. We are using a very simple function that we will then try and improve upon later in this iteration. In the section below, after calculating the sentiment of the test data, we plot a histogram that shows how many phrases of each sentiment we calculated from the train data and the percentage of the total dataset that each sentiment has. We find very few 0s and 4s which is due to our averaging of the list of sentiments for each word in the phrase."
   ]
  },
  {
   "cell_type": "code",
   "execution_count": 6,
   "metadata": {
    "collapsed": false
   },
   "outputs": [
    {
     "data": {
      "image/png": "[encoded data removed]",
      "text/plain": [
       "<matplotlib.figure.Figure at 0x1143a0850>"
      ]
     },
     "metadata": {},
     "output_type": "display_data"
    },
    {
     "name": "stdout",
     "output_type": "stream",
     "text": [
      "0 0.0017649188439\n",
      "1 0.161301514512\n",
      "2 0.811002835938\n",
      "3 0.0238641163338\n",
      "4 0.00206661437277\n"
     ]
    }
   ],
   "source": [
    "test_df = pd.read_table('test.tsv')\n",
    "\n",
    "test_df[\"Sentiment\"] = test_df[\"Phrase\"].apply(get_sentiment_phrase)\n",
    "output = test_df[['PhraseId', 'Sentiment']]\n",
    "\n",
    "plt.hist(output.Sentiment)\n",
    "plt.show()\n",
    "for i in range(0, 5):\n",
    "    print i, len(output[output.Sentiment == i]) / float(len(output))\n",
    "\n",
    "output.to_csv( \"ZG_rotten_tomatoes_model2.csv\", index=False, quoting=3 )"
   ]
  },
  {
   "cell_type": "markdown",
   "metadata": {},
   "source": [
    "The resulting csv file got a Kaggle score of 0.56008 which surprised us given the simplicity of this approach. We will next try to improve our get_sentiment_phrase function to try and get more extreme values instead of averaging only to 2. We again show the histogram and we see that our second iteration of get_sentiment_phrase is working because we see much higher counts of phrases that have sentiments 0, 1, 3, and 4."
   ]
  },
  {
   "cell_type": "code",
   "execution_count": 7,
   "metadata": {
    "collapsed": false
   },
   "outputs": [
    {
     "data": {
      "image/png": "[encoded data removed]",
      "text/plain": [
       "<matplotlib.figure.Figure at 0x10fa91a10>"
      ]
     },
     "metadata": {},
     "output_type": "display_data"
    },
    {
     "name": "stdout",
     "output_type": "stream",
     "text": [
      "0 0.0274445726003\n",
      "1 0.169883378188\n",
      "2 0.519716775599\n",
      "3 0.244950660003\n",
      "4 0.0380046136101\n",
      "Number wrong 69969\n",
      "Percentage wrong 44.8346789696\n"
     ]
    }
   ],
   "source": [
    "train_df = pd.read_table('train.tsv')\n",
    "\n",
    "def get_sentiment_phrase(phrase):\n",
    "    \"\"\"This function is very similar to the previous iteration except that we only append sentiments to the list for\n",
    "    each phrase if they are not 2. This should force our averaging closer to the extremes.\"\"\"\n",
    "    phrase_sentiment = []\n",
    "    for word in phrase.split():\n",
    "        word_sentiment = get_sentiment_single_word(word)\n",
    "        if word_sentiment > 2 or word_sentiment < 2:\n",
    "            phrase_sentiment.append(word_sentiment)\n",
    "    if len(phrase_sentiment):\n",
    "        return int(sum(phrase_sentiment)/len(phrase_sentiment))\n",
    "    else:\n",
    "        return 2\n",
    "\n",
    "train_df[\"calcSentiment\"] = train_df[\"Phrase\"].apply(get_sentiment_phrase2)\n",
    "\n",
    "plt.hist(train_df.calcSentiment)\n",
    "plt.show()\n",
    "for i in range(0, 5):\n",
    "    print i, len(train_df[train_df.calcSentiment == i]) / float(len(train_df))\n",
    "    \n",
    "row_ids = train_df[train_df.Sentiment != train_df.calcSentiment].index\n",
    "print \"Number wrong\", len(row_ids)\n",
    "print \"Percentage wrong\", (float(len(row_ids))/len(train_df)) * 100"
   ]
  },
  {
   "cell_type": "markdown",
   "metadata": {},
   "source": [
    "So if we look at the percentage that this function calculated incorrectly among the training data as compared to the previous function, we see a 0.28% improvement in accuracy. We now apply the function again to the test dataset submit to Kaggle."
   ]
  },
  {
   "cell_type": "code",
   "execution_count": 109,
   "metadata": {
    "collapsed": false
   },
   "outputs": [],
   "source": [
    "test_df = pd.read_table('test.tsv')\n",
    "\n",
    "test_df[\"Sentiment\"] = test_df[\"Phrase\"].apply(get_sentiment_phrase2)\n",
    "output = test_df[['PhraseId', 'Sentiment']]\n",
    "\n",
    "output.to_csv( \"ZG_rotten_tomatoes_model3.csv\", index=False, quoting=3 )"
   ]
  },
  {
   "cell_type": "markdown",
   "metadata": {},
   "source": [
    "The resulting csv got a Kaggle score of 0.55836 which is actually a decrease by 0.00172 from our previous function's score. There is a lot more that we could do here. We could look at the position of each sentiment within the phrase and find the most important parts of the phrase. We could take the sentiment from the middle of the phrase as the most important sentiment. We could set the sentiment of the phrase to be the value that appears most often in the list of sentiments for each phrase. Given more time, we would like to explore this further but instead, we decided to try and tackle a better method for creating the dictionary of single words."
   ]
  },
  {
   "cell_type": "markdown",
   "metadata": {},
   "source": [
    "## Using the vocab words from the tfidf vectorizer for the lookup table"
   ]
  },
  {
   "cell_type": "markdown",
   "metadata": {},
   "source": [
    "The code below is identical to the one we run above except that this time, we clean the phrases before training the vecotrizer. We also store the vocab as a list which we will use to create a dictionary for each vocab word and its predicted sentiment value using the model."
   ]
  },
  {
   "cell_type": "code",
   "execution_count": 112,
   "metadata": {
    "collapsed": false
   },
   "outputs": [
    {
     "name": "stdout",
     "output_type": "stream",
     "text": [
      "Accuracy 0.622581058567\n"
     ]
    }
   ],
   "source": [
    "train_df = pd.read_table('train.tsv')\n",
    "\n",
    "def review_to_words( word ):\n",
    "    \"\"\"Takes as input a phrase or a word, cleans all punctuation such as commas or hyphens from it and makes all\n",
    "    letters lowercase, then returns the phrase\"\"\"\n",
    "    letters_only = re.sub(\"[^a-zA-Z]\", \" \", word) \n",
    "    word = letters_only.lower()\n",
    "    return word\n",
    "\n",
    "train_df.Phrase = train_df.Phrase.apply(review_to_words)\n",
    "\n",
    "vectorizer = TfidfVectorizer()\n",
    "vectorizer.fit(train_df.Phrase)\n",
    "vocab = vectorizer.get_feature_names()\n",
    "\n",
    "X = vectorizer.transform(train_df.Phrase)\n",
    "y = train_df.Sentiment\n",
    "X_train, X_test, y_train, y_test = train_test_split(X, y, train_size=0.5)\n",
    "model = LogisticRegression(multi_class='multinomial', solver='newton-cg')\n",
    "model.fit(X_train, y_train)\n",
    "print \"Accuracy\", model.score(X_test, y_test)"
   ]
  },
  {
   "cell_type": "markdown",
   "metadata": {},
   "source": [
    "We now create a dictionary of the vocab words where the value for each word is the sentiment predicted using the vectorizer. We then redefine our get_sentiment_phrase function and the helper function get_sentiment_single_word to use the new dictionary and calculate our accuracy within the training dataset. In looking at the resulting histogram that is our calculated sentiment, we are again calculating a lot of sentiments as 2 which is neutral and is probably because we are again averaging each phrase and because a lot of the vocab words probably have a value of 2."
   ]
  },
  {
   "cell_type": "code",
   "execution_count": 113,
   "metadata": {
    "collapsed": false
   },
   "outputs": [
    {
     "data": {
      "image/png": "[encoded data removed]",
      "text/plain": [
       "<matplotlib.figure.Figure at 0x1154ad4d0>"
      ]
     },
     "metadata": {},
     "output_type": "display_data"
    },
    {
     "name": "stdout",
     "output_type": "stream",
     "text": [
      "0 0.000192233756248\n",
      "1 0.122529796232\n",
      "2 0.869498910675\n",
      "3 0.00748430090991\n",
      "4 0.000294758426246\n",
      "Number wrong 70344\n",
      "Percentage wrong 45.0749711649\n"
     ]
    }
   ],
   "source": [
    "model.fit(X, y) #retrain the model using all of the data now before we predict on the test dataset\n",
    "vocab_dict = dict(zip(vocab, model.predict(vectorizer.transform(vocab))))\n",
    "\n",
    "train_df = pd.read_table('train.tsv')\n",
    "\n",
    "def get_sentiment_single_word(word):\n",
    "    if word in vocab_dict:\n",
    "        return vocab_dict[word]\n",
    "    else:\n",
    "        return 2\n",
    "\n",
    "def get_sentiment_phrase(phrase):\n",
    "    phrase_sentiment = []\n",
    "    for word in phrase.split():\n",
    "        phrase_sentiment.append(get_sentiment_single_word(word))\n",
    "    if len(phrase_sentiment):\n",
    "        return int(sum(phrase_sentiment)/len(phrase_sentiment))\n",
    "    else:\n",
    "        return 2\n",
    "\n",
    "train_df[\"calcSentiment\"] = train_df[\"Phrase\"].apply(get_sentiment_phrase)\n",
    "\n",
    "plt.hist(train_df.calcSentiment)\n",
    "plt.show()\n",
    "for i in range(0, 5):\n",
    "    print i, len(train_df[train_df.calcSentiment == i]) / float(len(train_df))\n",
    "    \n",
    "row_ids = train_df[train_df.Sentiment != train_df.calcSentiment].index\n",
    "print \"Number wrong\", len(row_ids)\n",
    "print \"Percentage wrong\", (float(len(row_ids))/len(train_df)) * 100"
   ]
  },
  {
   "cell_type": "markdown",
   "metadata": {},
   "source": [
    "We have a slight improvement in accuracy over our original function but have lost accuracy compared to our second function. We now apply this method to the test data set to see our Kaggle score."
   ]
  },
  {
   "cell_type": "code",
   "execution_count": 96,
   "metadata": {
    "collapsed": false
   },
   "outputs": [
    {
     "data": {
      "image/png": "[encoded data removed]",
      "text/plain": [
       "<matplotlib.figure.Figure at 0x1863ffe10>"
      ]
     },
     "metadata": {},
     "output_type": "display_data"
    },
    {
     "name": "stdout",
     "output_type": "stream",
     "text": [
      "0 0.000316780305316\n",
      "1 0.0960447716165\n",
      "2 0.893848428166\n",
      "3 0.00923188318349\n",
      "4 0.000558136728414\n"
     ]
    }
   ],
   "source": [
    "test_df = pd.read_table('test.tsv')\n",
    "test_df[\"Sentiment\"] = test_df[\"Phrase\"].apply(get_sentiment_phrase)\n",
    "output = test_df[['PhraseId', 'Sentiment']]\n",
    "output.to_csv(\"ZG_rotten_tomatoes_model4.csv\", index=False, quoting=3 )"
   ]
  },
  {
   "cell_type": "markdown",
   "metadata": {},
   "source": [
    "This produced a Kaggle score of 0.54805 which is still worse than using the single words from the train dataset as a lookup table. One reason for this is that all of the words that appear in the train dataset also appear in the test dataset and so for each individual word in the test data set, we have an accurate sentiment. The computations we chose to perform manually we could also use a model to predict, as we did at the beginning of this notebook, but we wanted to see how our own interpretation of sentiment was performing."
   ]
  },
  {
   "cell_type": "code",
   "execution_count": null,
   "metadata": {
    "collapsed": true
   },
   "outputs": [],
   "source": []
  }
 ],
 "metadata": {
  "kernelspec": {
   "display_name": "Python 2",
   "language": "python",
   "name": "python2"
  },
  "language_info": {
   "codemirror_mode": {
    "name": "ipython",
    "version": 2
   },
   "file_extension": ".py",
   "mimetype": "text/x-python",
   "name": "python",
   "nbconvert_exporter": "python",
   "pygments_lexer": "ipython2",
   "version": "2.7.11"
  }
 },
 "nbformat": 4,
 "nbformat_minor": 0
}
