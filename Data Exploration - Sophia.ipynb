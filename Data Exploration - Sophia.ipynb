{
 "cells": [
  {
   "cell_type": "markdown",
   "metadata": {},
   "source": [
    "# Data Exploration\n",
    "\n",
    "Here, I'm going to explore creating heatmaps of where crimes occured. \n",
    "\n",
    "To do this, I found this Kaggle script written in R that I pulled inspiration from [this script.](https://www.kaggle.com/ldocao/sf-crime/population-density-heat-map/code). I also found [this](https://www.kaggle.com/ldocao/sf-crime/population-density-heat-map) python scipt that proved helpful.  "
   ]
  },
  {
   "cell_type": "markdown",
   "metadata": {},
   "source": [
    "## Importing Everything"
   ]
  },
  {
   "cell_type": "code",
   "execution_count": null,
   "metadata": {
    "collapsed": false
   },
   "outputs": [],
   "source": [
    "% matplotlib inline\n",
    "import shapefile\n",
    "import pandas as pd\n",
    "import numpy as np\n",
    "import itertools\n",
    "\n",
    "import matplotlib.pyplot as plt\n",
    "from matplotlib.patches import Polygon\n",
    "from matplotlib.collections import PatchCollection\n",
    "from matplotlib import cm\n",
    "from datetime import datetime\n",
    "from ipywidgets import widgets  \n",
    "from IPython.display import display\n"
   ]
  },
  {
   "cell_type": "markdown",
   "metadata": {},
   "source": [
    "## Read in Data\n",
    "Also, here, I'm converting the timestamp to a timetime object, as well as years, months, days, and hours"
   ]
  },
  {
   "cell_type": "code",
   "execution_count": null,
   "metadata": {
    "collapsed": false
   },
   "outputs": [],
   "source": [
    "crimeData = pd.read_csv('train.csv')\n",
    "\n",
    "crimeData['DateTime'] = crimeData['Dates'].apply(\n",
    "    lambda x: datetime.strptime(x, '%Y-%m-%d %H:%M:%S'))\n",
    "\n",
    "crimeData['Year'] = crimeData['DateTime'].apply(lambda x: x.year)\n",
    "crimeData['Month'] = crimeData['DateTime'].apply(lambda x: x.month)\n",
    "crimeData['Day'] = crimeData['DateTime'].apply(lambda x: x.day)\n",
    "crimeData['Hour'] = crimeData['DateTime'].apply(lambda x: x.hour)\n",
    "\n",
    "crimeData"
   ]
  },
  {
   "cell_type": "markdown",
   "metadata": {},
   "source": [
    "## Get Count of Crimes by District \n",
    "Here, I want to create an interactive display that allows me to choose different categories and see how the number of crimes for each district (the selected crimes only) changes over time). I want to be able to specify both the types of crimes I want to look at and the year. \n",
    "\n",
    "To do this, I'm going to define a function that takes in a list of check boxes, and returns the dataframe of counts by police district for those crimes. "
   ]
  },
  {
   "cell_type": "code",
   "execution_count": null,
   "metadata": {
    "collapsed": true
   },
   "outputs": [],
   "source": [
    "def getCountsFromCategories (checkboxes, districtOrder):\n",
    "    '''Given a list of checkboxes, this code takes all the selected checkboxes and counts the number of crimes that \n",
    "    occurred for each district.'''\n",
    "    \n",
    "    CrimesYearsDict = {}\n",
    "    selectedCategories = []\n",
    "    for crime in checkboxes:\n",
    "        if (checkboxes[crime].value):\n",
    "            selectedCategories.append(crime)\n",
    "            \n",
    "    crimeCountByDistrict = crimeData[crimeData.Category.isin(selectedCategories)].groupby(['PdDistrict','Year']).count().reset_index()\n",
    "    years = range(2003, 2016)\n",
    "    \n",
    "    for year in years:\n",
    "        districtColors = []\n",
    "        for district in districtOrder:\n",
    "            numCrimes = crimeCountByDistrict[\n",
    "                (crimeCountByDistrict.Year == year) \n",
    "                & (crimeCountByDistrict.PdDistrict == district)]['Dates'].tolist()\n",
    "\n",
    "            if (len(numCrimes) <1):\n",
    "                numCrimes = [0]\n",
    "\n",
    "            maxCrimeCount = crimeCountByDistrict[crimeCountByDistrict.Year == year]['Dates'].max()\n",
    "            districtColors.append(1.0*numCrimes[0]/maxCrimeCount)\n",
    "\n",
    "\n",
    "\n",
    "            colors = np.array(map(float,districtColors)) #convert to float\n",
    "\n",
    "            CrimesYearsDict[year] = colors\n",
    "    return CrimesYearsDict"
   ]
  },
  {
   "cell_type": "code",
   "execution_count": null,
   "metadata": {
    "collapsed": true
   },
   "outputs": [],
   "source": [
    "def getDistrictOutlines (filename):\n",
    "    '''get the district outlines and a list of the disrticts in the file above'''\n",
    "    sf = shapefile.Reader(filename)\n",
    "\n",
    "    policeDistricts = sf.shapeRecords()\n",
    "\n",
    "    districtOrder = []\n",
    "    districtShapes = []\n",
    "    districtOutlines = []\n",
    "    \n",
    "    for district in policeDistricts:\n",
    "\n",
    "        xDistrict = [i[0] for i in district.shape.points[:]]\n",
    "        yDistrict = [i[1] for i in district.shape.points[:]]\n",
    "\n",
    "        districtOrder.append(district.record[1])\n",
    "\n",
    "        districtPolygon = Polygon(np.array([xDistrict,yDistrict]).T, closed=True) #get one single polygon\n",
    "        districtShapes.append(districtPolygon)\n",
    "        districtOutlines.append((xDistrict,yDistrict))\n",
    "        \n",
    "    return districtOrder, districtShapes, districtOutlines\n",
    "    "
   ]
  },
  {
   "cell_type": "code",
   "execution_count": null,
   "metadata": {
    "collapsed": false
   },
   "outputs": [],
   "source": [
    "crimeTypes = crimeData.Category.unique().tolist()\n",
    "checkboxes = {}\n",
    "for crime in crimeTypes:\n",
    "    checkboxes[crime] = widgets.Checkbox(description=crime, value=False)\n",
    "    display(checkboxes[crime])"
   ]
  },
  {
   "cell_type": "markdown",
   "metadata": {},
   "source": [
    "### Creating Plot of Crimes by Police District\n",
    "Here, I'm going to plot the number of crimes that occurred in each police district. "
   ]
  },
  {
   "cell_type": "code",
   "execution_count": null,
   "metadata": {
    "collapsed": false,
    "scrolled": true
   },
   "outputs": [],
   "source": [
    "def image_display(i):\n",
    "    districtOrder, districtShapes, districtOutlines = getDistrictOutlines(\"./sfpd_districts/sfpd_districts.shp\")\n",
    "    \n",
    "    CrimesYearsDict = getCountsFromCategories (checkboxes, districtOrder)\n",
    "    \n",
    "    fig, ax = plt.subplots(figsize=(8,8))\n",
    "    for xDistrict, yDistrict in districtOutlines:\n",
    "        plt.plot(xDistrict, yDistrict, 'k')\n",
    "    \n",
    "    p = PatchCollection(districtShapes, cmap=\"Blues\")\n",
    "    p.set_array(CrimesYearsDict[i])\n",
    "    ax.add_collection(p)\n",
    "    plt.axis('scaled')\n",
    "    plt.show()\n",
    "\n",
    "\n",
    "step_slider = widgets.IntSlider(min=2003, max=2015, value=2003)\n",
    "widgets.interact(image_display, i=step_slider)"
   ]
  },
  {
   "cell_type": "markdown",
   "metadata": {},
   "source": [
    "so, it seems like the (downtown?) is the district with the most crimes. (But that most of the crimes happen in the three districts that in the north eastern parts of SF. It also seems like the distribution of the crimes that occur in each district over the years aren't that different. (Maybe because more crimes occur in places with more people, and that doesn't really change over the years. \n",
    "\n",
    "Now, this graph isn't all that helpful... I'd like to actually get the districts normalized by the number of crimes that occurred in each district, as opposed to the number of crimes that occured each year. This might prove to be a more helpful visualization. (I will do this eventually)"
   ]
  },
  {
   "cell_type": "markdown",
   "metadata": {},
   "source": [
    "## Now plotting by the number of crimes by time of day. \n",
    "\n",
    "I'm guessing that certain crimes are more likely to happen at various times of the day, so I'm going to plot the number of each crime that happened every hour. "
   ]
  },
  {
   "cell_type": "code",
   "execution_count": null,
   "metadata": {
    "collapsed": false
   },
   "outputs": [],
   "source": [
    "groupedByHour = crimeData.groupby(['Hour', 'Category']).count().reset_index()"
   ]
  },
  {
   "cell_type": "code",
   "execution_count": null,
   "metadata": {
    "collapsed": false
   },
   "outputs": [],
   "source": [
    "def image_display_hour(i):\n",
    "    hour = i\n",
    "    totalCrimes = sum(groupedByHour[groupedByHour.Hour == hour]['Dates'].tolist())\n",
    "    crimeTypes = crimeData.Category.unique().tolist()\n",
    "    crimeCountsPercent = []\n",
    "    for crime in crimeTypes:\n",
    "        countList = groupedByHour[(groupedByHour.Hour == hour) & (groupedByHour.Category == crime)]['Dates'].tolist()\n",
    "        if (len(countList) > 0):\n",
    "            count = countList[0]\n",
    "        else:\n",
    "            count = 0\n",
    "\n",
    "        crimeCountsPercent.append(1.0*count/totalCrimes)\n",
    "\n",
    "    plt.figure(figsize=(10,8))\n",
    "    plt.bar([x + 0.1 for x in range(len(crimeCountsPercent))], crimeCountsPercent, width = 0.8)\n",
    "    plt.xticks([x + 0.5 for x in range(len(crimeCountsPercent))], crimeTypes, rotation='vertical')\n",
    "    plt.axis([-0.5, 39.5, 0 ,0.3])\n",
    "    plt.title('Crime Breakdown where hour = ' + str(hour))\n",
    "    plt.xlabel('Type of Crime')\n",
    "    plt.ylabel('Percentage of Crimes')\n",
    "\n",
    "\n",
    "step_slider = widgets.IntSlider(min=0, max=23, value=0)\n",
    "widgets.interact(image_display_hour, i=step_slider)"
   ]
  },
  {
   "cell_type": "markdown",
   "metadata": {},
   "source": [
    "So, it seems like the most common crimes are larcent/theft or other offenses. It, however, appears that these aren't as common in the early hours of the morning. Also, it appears that crime picks up in the evening time. \n",
    "\n",
    "Now, I want to see whether there's a similar pattern for days of the week."
   ]
  },
  {
   "cell_type": "code",
   "execution_count": null,
   "metadata": {
    "collapsed": false
   },
   "outputs": [],
   "source": [
    "groupedByDayOfWeek = crimeData.groupby(['DayOfWeek', 'Category']).count().reset_index()"
   ]
  },
  {
   "cell_type": "code",
   "execution_count": null,
   "metadata": {
    "collapsed": false
   },
   "outputs": [],
   "source": [
    "def image_display_day_of_week(i):\n",
    "    dayOfWeek = ['Sunday','Monday','Tuesday','Wednesday','Thursday','Friday','Saturday']\n",
    "    day = dayOfWeek[i]\n",
    "    totalCrimes = sum(groupedByDayOfWeek[groupedByDayOfWeek.DayOfWeek == day]['Dates'].tolist())\n",
    "    crimeTypes = crimeData.Category.unique().tolist()\n",
    "    crimeCountsPercent = []\n",
    "    for crime in crimeTypes:\n",
    "        countList = groupedByDayOfWeek[(groupedByDayOfWeek.DayOfWeek == day) & (groupedByDayOfWeek.Category == crime)]['Dates'].tolist()\n",
    "        if (len(countList) > 0):\n",
    "            count = countList[0]\n",
    "        else:\n",
    "            count = 0\n",
    "\n",
    "        crimeCountsPercent.append(1.0*count/totalCrimes)\n",
    "\n",
    "    plt.figure(figsize=(10,8))\n",
    "    plt.bar([x + 0.1 for x in range(len(crimeCountsPercent))], crimeCountsPercent, width = 0.8)\n",
    "    plt.xticks([x + 0.5 for x in range(len(crimeCountsPercent))], crimeTypes, rotation='vertical')\n",
    "    plt.axis([-0.5, 39.5, 0 ,0.3])\n",
    "    plt.title('Crime Breakdown where day of week is ' + str(day))\n",
    "    plt.xlabel('Type of Crime')\n",
    "    plt.ylabel('Percentage of Crimes')\n",
    "\n",
    "\n",
    "step_slider = widgets.IntSlider(min=0, max=6, value=0)\n",
    "widgets.interact(image_display_day_of_week, i=step_slider)"
   ]
  },
  {
   "cell_type": "markdown",
   "metadata": {},
   "source": [
    "It does, in fact seem like crime picks up over the weekend. Especially, theft and stuff."
   ]
  },
  {
   "cell_type": "markdown",
   "metadata": {
    "collapsed": true
   },
   "source": [
    "So, now, I'm curious. Do different types of crime happen at different hours on different weeks? Now, I'm going to try to plot that.\n",
    "\n",
    "First, I want to group by days of the week, then hour and then category. "
   ]
  },
  {
   "cell_type": "code",
   "execution_count": null,
   "metadata": {
    "collapsed": false
   },
   "outputs": [],
   "source": [
    "groupedByTime = crimeData.groupby(['DayOfWeek', 'Hour', 'Category']).count().reset_index()\n",
    "groupedByTime"
   ]
  },
  {
   "cell_type": "markdown",
   "metadata": {},
   "source": [
    "Now, we want to create the heatmap!"
   ]
  },
  {
   "cell_type": "code",
   "execution_count": null,
   "metadata": {
    "collapsed": false
   },
   "outputs": [],
   "source": [
    "crimeCategories = groupedByTime.Category.unique().tolist()\n",
    "daysOfWeek = ['Sunday', 'Monday', 'Tuesday', 'Wednesday', 'Thursday', 'Friday', 'Saturday']\n",
    "hours = range(24)\n",
    "daysOfWeekHours = list(itertools.product(daysOfWeek, hours))\n",
    "daysOfWeekHoursString = [x[0] + ': ' + str(x[1]) for x in daysOfWeekHours]\n",
    "\n",
    "numCrimes = np.zeros((len(crimeCategories), len(daysOfWeekHours)))\n",
    "\n",
    "\n",
    "for i,crimeCategory in enumerate(crimeCategories):\n",
    "    for j,time in enumerate(daysOfWeekHours):\n",
    "        try:\n",
    "            crimeCount = groupedByTime[(groupedByTime.DayOfWeek == time[0]) & \n",
    "                                       (groupedByTime.Hour == time[1]) & \n",
    "                                       (groupedByTime.Category == crimeCategory)]['Dates'].tolist()[0]\n",
    "        except:\n",
    "            crimeCount = 0\n",
    "        \n",
    "        \n",
    "        numCrimes[i][j] = crimeCount\n",
    "fig = plt.figure()\n",
    "fig.set_size_inches(10,10)\n",
    "plt.pcolor(numCrimes)\n",
    "xticks = plt.xticks(range(0,len(daysOfWeekHoursString),6), daysOfWeekHoursString[0::6], rotation='vertical')\n",
    "yticks = plt.yticks(range(len(crimeCategories)), crimeCategories)\n",
    "plt.axis([0,len(daysOfWeekHoursString), 0, len(crimeCategories)])"
   ]
  },
  {
   "cell_type": "markdown",
   "metadata": {},
   "source": [
    "Hmmm, so it seems like most things are relatively periodic, and that the most crimes are are either larceny/theft, other offenses,or non-crimal offinses. Additionally, it seems like more crimes happen on the weekends. This is a huge plot. Other helpful plots might be to see if there are certain crimes that are more common in a given district. \n",
    "\n",
    "This doesn't really seem to be a hugely helpful graph. Let's try doing one by crime category, where the x axis is the day of the week and the y axis is the hour"
   ]
  },
  {
   "cell_type": "code",
   "execution_count": null,
   "metadata": {
    "collapsed": false
   },
   "outputs": [],
   "source": [
    "crimeCategories = groupedByTime.Category.unique().tolist()\n",
    "daysOfWeek = ['Sunday', 'Monday', 'Tuesday', 'Wednesday', 'Thursday', 'Friday', 'Saturday']\n",
    "daysOfWeekDisp = ['Sun', 'Mon', 'Tue', 'Wed', 'Thu', 'Fri', 'Sat']\n",
    "hours = range(24)\n",
    "\n",
    "#Create all the subplots\n",
    "f, subplots = plt.subplots(len(crimeCategories),figsize = (5, len(crimeCategories)*5))\n",
    "plt.setp(subplots, xticks=range(len(daysOfWeek)), xticklabels=daysOfWeekDisp,\n",
    "        yticks=range(len(hours)), yticklabels=hours)\n",
    "\n",
    "##Create a plot for each crime. \n",
    "for p,crime in enumerate(crimeCategories):\n",
    "    numCrimes = np.zeros((len(hours), len(daysOfWeek)))\n",
    "    for i,hour in enumerate(hours):\n",
    "        for j,dayOfWeek in enumerate(daysOfWeek):\n",
    "            try:\n",
    "                crimeCount = groupedByTime[(groupedByTime.DayOfWeek == dayOfWeek) & \n",
    "                                           (groupedByTime.Hour == hour) & \n",
    "                                           (groupedByTime.Category == crime)]['Dates'].tolist()[0]\n",
    "            except:\n",
    "                crimeCount = 0\n",
    "\n",
    "\n",
    "            numCrimes[i][j] = crimeCount\n",
    "\n",
    "    subplots[p].pcolor(numCrimes)\n",
    "    subplots[p].set_title(crime)\n"
   ]
  },
  {
   "cell_type": "markdown",
   "metadata": {},
   "source": [
    "So, it seems like some plots are very regular --- they are concentrated around some day of the week/time combination. Examples of these are Drug/Narcotic, Theft/assault. Others, like arson or bribery are much less predictable. So, as we're implementing a model, we'll have to account for the fact that some times predict certain categories, while others do not. Also, there are some crimes for which we just simply don't have much data, like treason, and pornograph/obscene materials. "
   ]
  },
  {
   "cell_type": "code",
   "execution_count": null,
   "metadata": {
    "collapsed": true
   },
   "outputs": [],
   "source": []
  }
 ],
 "metadata": {
  "kernelspec": {
   "display_name": "Python 2",
   "language": "python",
   "name": "python2"
  },
  "language_info": {
   "codemirror_mode": {
    "name": "ipython",
    "version": 2
   },
   "file_extension": ".py",
   "mimetype": "text/x-python",
   "name": "python",
   "nbconvert_exporter": "python",
   "pygments_lexer": "ipython2",
   "version": "2.7.11"
  }
 },
 "nbformat": 4,
 "nbformat_minor": 0
}
