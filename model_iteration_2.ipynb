{
 "cells": [
  {
   "cell_type": "markdown",
   "metadata": {},
   "source": [
    "# Model Iteration 1\n",
    "### SF-Crime Kaggle Challenge      2.23.16\n",
    "##### Data Science 2016 - CYOA Project.\n",
    "_______________________________________________________\n",
    "\n",
    "##### Olin College\n",
    "##### David Abrahams & Brenna Manning\n"
   ]
  },
  {
   "cell_type": "markdown",
   "metadata": {},
   "source": [
    "#### Imports"
   ]
  },
  {
   "cell_type": "code",
   "execution_count": 30,
   "metadata": {
    "collapsed": false
   },
   "outputs": [],
   "source": [
    "%matplotlib inline\n",
    "import pandas as pd\n",
    "import os\n",
    "import matplotlib.pyplot as plt\n",
    "import seaborn as sns\n",
    "import numpy as np\n",
    "import sklearn\n",
    "import scipy.stats as st\n",
    "import random\n",
    "from datetime import datetime\n",
    "from sklearn.tree import DecisionTreeClassifier\n",
    "from sklearn.ensemble import RandomForestClassifier\n",
    "from patsy import dmatrix, dmatrices\n",
    "from sklearn import cross_validation\n",
    "from sklearn.cross_validation import train_test_split\n",
    "from sklearn.metrics import log_loss\n",
    "from sklearn.preprocessing import MultiLabelBinarizer\n",
    "from sklearn.grid_search import GridSearchCV\n",
    "from sklearn.naive_bayes import BernoulliNB"
   ]
  },
  {
   "cell_type": "markdown",
   "metadata": {},
   "source": [
    "#### Load Data"
   ]
  },
  {
   "cell_type": "code",
   "execution_count": 31,
   "metadata": {
    "collapsed": true
   },
   "outputs": [],
   "source": [
    "cur_dir = os.path.dirname('__file__')\n",
    "\n",
    "train = pd.read_csv(os.path.join(cur_dir, \"data\", \"train.csv\"))\n",
    "test = pd.read_csv(os.path.join(cur_dir, \"data\", \"test.csv\"))\n",
    "mapdata = np.loadtxt(os.path.join(cur_dir, \"data\", \"sf_map.txt\"))"
   ]
  },
  {
   "cell_type": "markdown",
   "metadata": {},
   "source": [
    "#### Functions to be used later"
   ]
  },
  {
   "cell_type": "code",
   "execution_count": 32,
   "metadata": {
    "collapsed": true
   },
   "outputs": [],
   "source": [
    "def get_random_subset(df, n=5000):\n",
    "    sub = random.sample(xrange(len(df)), min(n, len(df)))\n",
    "    return df.iloc[sub]\n",
    "\n",
    "def preprocess(df):\n",
    "    res = df.copy()\n",
    "    res = res[res.X != res.X.max()]\n",
    "    datetimes = res.Dates.apply(get_datetime)\n",
    "    res['Hour'] = datetimes.apply(lambda dt: dt.hour)\n",
    "    res['Month'] = datetimes.apply(lambda dt: dt.month)\n",
    "    res['Hour_Minutes'] = datetimes.apply(lambda dt: dt.hour + dt.minute / 60.0)\n",
    "    res['Minutes_Since_03'] = datetimes.apply(lambda dt: (dt-datetime(2003, 1, 1)).total_seconds() / 60)\n",
    "    res['Minutes_Since_New_Year'] = datetimes.apply(lambda dt: (dt-datetime(dt.year, 1, 1)).total_seconds() / 60)\n",
    "    res['DOW'] = train.DayOfWeek.apply(lambda x: dow.index(x))\n",
    "    res['Street_Corner'] = res['Address'].apply(lambda x: 1 if '/' in x else 0)\n",
    "    return res\n",
    "\n",
    "def get_datetime(s):\n",
    "    dt = datetime.strptime(s, \"%Y-%m-%d %H:%M:%S\")\n",
    "    return dt\n",
    "\n",
    "dow = ['Monday', 'Tuesday', 'Wednesday', 'Thursday', 'Friday', 'Saturday', 'Sunday']\n",
    "\n",
    "def isNight(hour):\n",
    "    if hour in [0, 1, 2, 3, 4, 5, 6, 19, 20, 21, 22, 23]:\n",
    "        return \"Night\"\n",
    "    else:\n",
    "        return \"Day\""
   ]
  },
  {
   "cell_type": "markdown",
   "metadata": {},
   "source": [
    "#### Preprocess the full dataset"
   ]
  },
  {
   "cell_type": "code",
   "execution_count": 33,
   "metadata": {
    "collapsed": false
   },
   "outputs": [],
   "source": [
    "train_df = preprocess(get_random_subset(train, len(train)))"
   ]
  },
  {
   "cell_type": "markdown",
   "metadata": {
    "collapsed": true
   },
   "source": [
    "#### View the data"
   ]
  },
  {
   "cell_type": "code",
   "execution_count": 34,
   "metadata": {
    "collapsed": false
   },
   "outputs": [
    {
     "name": "stdout",
     "output_type": "stream",
     "text": [
      "                   X              Y           Hour          Month  \\\n",
      "count  877982.000000  877982.000000  877982.000000  877982.000000   \n",
      "mean     -122.422763      37.767035      13.412737       6.436416   \n",
      "std         0.025285       0.024165       6.549521       3.428998   \n",
      "min      -122.513642      37.707879       0.000000       1.000000   \n",
      "25%      -122.432952      37.752427       9.000000       3.000000   \n",
      "50%      -122.416420      37.775421      14.000000       6.000000   \n",
      "75%      -122.406959      37.784368      19.000000       9.000000   \n",
      "max      -122.364937      37.819975      23.000000      12.000000   \n",
      "\n",
      "        Hour_Minutes  Minutes_Since_03  Minutes_Since_New_Year            DOW  \\\n",
      "count  877982.000000     877982.000000           877982.000000  877982.000000   \n",
      "mean       13.748657    3263716.192895           259058.977781       2.992719   \n",
      "std         6.560013    1908460.344165           151054.164970       1.972028   \n",
      "min         0.016667       7201.000000                1.000000       0.000000   \n",
      "25%         9.500000    1593126.500000           129326.000000       1.000000   \n",
      "50%        14.750000    3251129.000000           257121.000000       3.000000   \n",
      "75%        19.000000    4967235.000000           392882.000000       5.000000   \n",
      "max        23.983333    6503033.000000           525599.000000       6.000000   \n",
      "\n",
      "       Street_Corner  \n",
      "count  877982.000000  \n",
      "mean        0.296989  \n",
      "std         0.456932  \n",
      "min         0.000000  \n",
      "25%         0.000000  \n",
      "50%         0.000000  \n",
      "75%         1.000000  \n",
      "max         1.000000  \n"
     ]
    }
   ],
   "source": [
    "print train_df.describe()"
   ]
  },
  {
   "cell_type": "markdown",
   "metadata": {},
   "source": [
    "#### Tuning Parameters of Random Forest\n",
    "We separately found that min_samples_leaf was the only parameter that appeared to have significant impact on the Random Forest's performance for this dataset."
   ]
  },
  {
   "cell_type": "code",
   "execution_count": 35,
   "metadata": {
    "collapsed": false
   },
   "outputs": [
    {
     "data": {
      "image/png": "[encoded data removed]",
      "text/plain": [
       "<matplotlib.figure.Figure at 0x7fe686483650>"
      ]
     },
     "metadata": {},
     "output_type": "display_data"
    }
   ],
   "source": [
    "training, validation = train_test_split(train_df, train_size=.60)\n",
    "\n",
    "formula_ml = 'X+Y+Hour'\n",
    "formula_ml = 'C(DayOfWeek) + C(PdDistrict) + Street_Corner + X+Y+Hour+Month'\n",
    "x_train = dmatrix(formula_ml, data=training, return_type='dataframe')\n",
    "# print x_train\n",
    "y_train = training.Category\n",
    "\n",
    "x_validation = dmatrix(formula_ml, data=validation, return_type='dataframe')\n",
    "y_validation = validation.Category\n",
    "\n",
    "x_validation = x_validation[y_validation.isin(y_train.values)]\n",
    "# y_validation = y_validation[y_validation.isin(y_train.values)]\n",
    "# mlb = MultiLabelBinarizer(classes=alg.classes_)\n",
    "# print y_validation\n",
    "# y_validation = mlb.fit_transform(np.array([y_validation]).T)\n",
    "\n",
    "num_trees = [5, 10, 50, 250]\n",
    "min_leaves = [10, 50, 500, 2500, 10000, 50000]\n",
    "\n",
    "for trees in num_trees:\n",
    "    scores = []\n",
    "    for l in min_leaves:\n",
    "        alg = RandomForestClassifier(min_samples_leaf=l)\n",
    "        alg.fit(x_train, y_train)\n",
    "        # alg = BernoulliNB()\n",
    "        y_validation = validation.Category\n",
    "        y_validation = y_validation[y_validation.isin(y_train.values)]\n",
    "        mlb = MultiLabelBinarizer(classes=alg.classes_)\n",
    "        y_validation = mlb.fit_transform(np.array([y_validation]).T)\n",
    "\n",
    "        predictions = np.array(alg.predict_proba(x_validation))\n",
    "        scores.append(log_loss(y_validation, predictions))\n",
    "    #     print \"Min leaf \" + str(l) + \": \" + str(log_loss(y_validation, predictions))\n",
    "    plt.plot(min_leaves, scores, label=(str(trees) + \" trees\"))\n",
    "plt.legend()\n",
    "plt.xlabel('min_leaves')\n",
    "plt.ylabel('log-loss scores')\n",
    "plt.gca().set_xscale('log')"
   ]
  },
  {
   "cell_type": "markdown",
   "metadata": {},
   "source": [
    "#### Comparing Random Forest and Bernoulli"
   ]
  },
  {
   "cell_type": "code",
   "execution_count": 36,
   "metadata": {
    "collapsed": false
   },
   "outputs": [
    {
     "data": {
      "text/plain": [
       "<matplotlib.text.Text at 0x7fe685562a90>"
      ]
     },
     "execution_count": 36,
     "metadata": {},
     "output_type": "execute_result"
    },
    {
     "data": {
      "image/png": "[encoded data removed]",
      "text/plain": [
       "<matplotlib.figure.Figure at 0x7fe686416f90>"
      ]
     },
     "metadata": {},
     "output_type": "display_data"
    }
   ],
   "source": [
    "training, validation = train_test_split(train_df, train_size=.60)\n",
    "\n",
    "formula_ml = 'C(DayOfWeek) + C(PdDistrict) + Street_Corner + X+Y+Hour+Month'\n",
    "x_train = dmatrix(formula_ml, data=training, return_type='dataframe')\n",
    "# print x_train\n",
    "# y_train = training.Category\n",
    "\n",
    "x_validation = dmatrix(formula_ml, data=validation, return_type='dataframe')\n",
    "y_validation = validation.Category\n",
    "\n",
    "x_validation = x_validation[y_validation.isin(y_train.values)]\n",
    "# y_validation = y_validation[y_validation.isin(y_train.values)]\n",
    "# mlb = MultiLabelBinarizer(classes=alg.classes_)\n",
    "# print y_validation\n",
    "# y_validation = mlb.fit_transform(np.array([y_validation]).T)\n",
    "\n",
    "weights = np.linspace(0.7, 1, 10)\n",
    "scores = []\n",
    "\n",
    "for w in weights:\n",
    "    alg1 = RandomForestClassifier(min_samples_leaf=1000)\n",
    "    alg2 = BernoulliNB()\n",
    "    alg1.fit(x_train, y_train)\n",
    "    alg2.fit(x_train, y_train)\n",
    "    # alg = BernoulliNB()\n",
    "    y_validation = validation.Category\n",
    "    y_validation = y_validation[y_validation.isin(y_train.values)]\n",
    "    mlb = MultiLabelBinarizer(classes=alg1.classes_)\n",
    "    y_validation = mlb.fit_transform(np.array([y_validation]).T)\n",
    "\n",
    "    predictions1 = np.array(alg1.predict_proba(x_validation))\n",
    "    predictions2 = np.array(alg2.predict_proba(x_validation))\n",
    "    predictions = (w * predictions1 + (1-w) * predictions2)\n",
    "    score = log_loss(y_validation, predictions)\n",
    "    scores.append(score)\n",
    "    #     print \"Min leaf \" + str(l) + \": \" + str(log_loss(y_validation, predictions))\n",
    "plt.plot(weights, scores)\n",
    "plt.xlabel(\"Percentage forest\")\n",
    "plt.ylabel(\"score\")\n",
    "# plt.gca().set_xscale('log')"
   ]
  },
  {
   "cell_type": "markdown",
   "metadata": {
    "collapsed": true
   },
   "source": [
    "#### Log Loss Scores for each value of the min_samples_leaf parameter"
   ]
  },
  {
   "cell_type": "code",
   "execution_count": 37,
   "metadata": {
    "collapsed": false
   },
   "outputs": [
    {
     "name": "stdout",
     "output_type": "stream",
     "text": [
      "[mean: -3.03685, std: 0.04824, params: {'min_samples_leaf': 10}, mean: -2.49850, std: 0.00625, params: {'min_samples_leaf': 50}, mean: -2.46725, std: 0.00078, params: {'min_samples_leaf': 500}, mean: -2.51232, std: 0.00186, params: {'min_samples_leaf': 2500}, mean: -2.55342, std: 0.00305, params: {'min_samples_leaf': 10000}, mean: -2.62584, std: 0.00394, params: {'min_samples_leaf': 50000}]\n"
     ]
    }
   ],
   "source": [
    "formula_ml = 'C(DayOfWeek) + C(PdDistrict) + Street_Corner + X+Y+Hour+Month'\n",
    "\n",
    "x_vals = dmatrix(formula_ml, data=train_df, return_type='dataframe')\n",
    "y_vals = train_df.Category\n",
    "\n",
    "min_leaves = [10, 50, 500, 2500, 10000, 50000]\n",
    "\n",
    "parameters = {'min_samples_leaf':min_leaves}\n",
    "\n",
    "clf = GridSearchCV(RandomForestClassifier(), parameters, scoring='log_loss')\n",
    "\n",
    "clf.fit(x_vals, y_vals)\n",
    "\n",
    "print clf.grid_scores_"
   ]
  },
  {
   "cell_type": "markdown",
   "metadata": {},
   "source": [
    "#### These results were not officially submitted to Kaggle, but were used to develop later models."
   ]
  },
  {
   "cell_type": "code",
   "execution_count": null,
   "metadata": {
    "collapsed": true
   },
   "outputs": [],
   "source": []
  }
 ],
 "metadata": {
  "kernelspec": {
   "display_name": "Python 2",
   "language": "python",
   "name": "python2"
  },
  "language_info": {
   "codemirror_mode": {
    "name": "ipython",
    "version": 2
   },
   "file_extension": ".py",
   "mimetype": "text/x-python",
   "name": "python",
   "nbconvert_exporter": "python",
   "pygments_lexer": "ipython2",
   "version": "2.7.11"
  }
 },
 "nbformat": 4,
 "nbformat_minor": 0
}
