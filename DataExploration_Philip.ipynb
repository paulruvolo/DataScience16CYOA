{
 "cells": [
  {
   "cell_type": "markdown",
   "metadata": {},
   "source": [
    "# Philip's Exploration of SF Crime Dataset\n",
    "To start off this project, we plan on looking a bit into what data is in the dataset, and a bit of what we can do with said data. Initially, we load in the needed modules and also some commonly used modules:"
   ]
  },
  {
   "cell_type": "code",
   "execution_count": 1,
   "metadata": {
    "collapsed": false
   },
   "outputs": [
    {
     "name": "stdout",
     "output_type": "stream",
     "text": [
      "                 Dates        Category                      Descript  \\\n",
      "0  2015-05-13 23:53:00        WARRANTS                WARRANT ARREST   \n",
      "1  2015-05-13 23:53:00  OTHER OFFENSES      TRAFFIC VIOLATION ARREST   \n",
      "2  2015-05-13 23:33:00  OTHER OFFENSES      TRAFFIC VIOLATION ARREST   \n",
      "3  2015-05-13 23:30:00   LARCENY/THEFT  GRAND THEFT FROM LOCKED AUTO   \n",
      "4  2015-05-13 23:30:00   LARCENY/THEFT  GRAND THEFT FROM LOCKED AUTO   \n",
      "\n",
      "   DayOfWeek PdDistrict      Resolution                    Address  \\\n",
      "0  Wednesday   NORTHERN  ARREST, BOOKED         OAK ST / LAGUNA ST   \n",
      "1  Wednesday   NORTHERN  ARREST, BOOKED         OAK ST / LAGUNA ST   \n",
      "2  Wednesday   NORTHERN  ARREST, BOOKED  VANNESS AV / GREENWICH ST   \n",
      "3  Wednesday   NORTHERN            NONE   1500 Block of LOMBARD ST   \n",
      "4  Wednesday       PARK            NONE  100 Block of BRODERICK ST   \n",
      "\n",
      "            X          Y  \n",
      "0 -122.425892  37.774599  \n",
      "1 -122.425892  37.774599  \n",
      "2 -122.424363  37.800414  \n",
      "3 -122.426995  37.800873  \n",
      "4 -122.438738  37.771541  \n",
      "                   X              Y\n",
      "count  878049.000000  878049.000000\n",
      "mean     -122.422616      37.771020\n",
      "std         0.030354       0.456893\n",
      "min      -122.513642      37.707879\n",
      "25%      -122.432952      37.752427\n",
      "50%      -122.416420      37.775421\n",
      "75%      -122.406959      37.784369\n",
      "max      -120.500000      90.000000\n"
     ]
    }
   ],
   "source": [
    "import pandas as pd\n",
    "import numpy as np\n",
    "import matplotlib.pyplot as plt\n",
    "%matplotlib inline\n",
    "\n",
    "data = pd.read_csv('train.csv')\n",
    "print data.head()\n",
    "print data.describe()"
   ]
  },
  {
   "cell_type": "markdown",
   "metadata": {},
   "source": [
    "Cool, we have some data. What's really interesting about this dataset, and will require a lot of playing around to manipulate the data in a way that is more understandable later on, is that most values are strings. The only real number values we have are the dates, along with x and y coordinates. The columns we have are as follow:\n",
    "\n",
    "**Dates**, **Category** of offense, **Descript**ion of crime, **DayOfWeek**, **PdDistrict** of arrest, **Resolution** of crime, and **Address**, along with **X** and **Y** coordinates, of event."
   ]
  },
  {
   "cell_type": "markdown",
   "metadata": {},
   "source": [
    "## Looking into data\n",
    "You know what would be cool. A map! I'm curious of the locations of events that happened, so let's plot them all on a map of SF using the X and Y coordinates (longitude and latitude). Inspiration was drawn from (https://www.kaggle.com/swbevan/sf-crime/a-history-of-crime-python/code). Starting off, we import the map file (in `.txt` format)."
   ]
  },
  {
   "cell_type": "code",
   "execution_count": null,
   "metadata": {
    "collapsed": false
   },
   "outputs": [],
   "source": [
    "print len(data.X)\n",
    "print len(data.Y)\n",
    "\n",
    "for val in range(len(data.X)):\n",
    "    plt.scatter(data.X[val], data.Y[val])"
   ]
  },
  {
   "cell_type": "code",
   "execution_count": null,
   "metadata": {
    "collapsed": false
   },
   "outputs": [],
   "source": [
    "mapdata = np.loadtxt(\"sf_map_copyright_openstreetmap_contributors.txt\")\n",
    "# create a larger image for the map so we can see it\n",
    "fig1 = plt.figure(figsize = (10,10))\n",
    "\n",
    "plt.imshow(mapdata, cmap = plt.get_cmap('gray'))\n",
    "\n",
    "# read through the x,y values and plot a dot on the map\n",
    "for val in range(len(data.X)):\n",
    "    plt.scatter(data.X[val], data.Y[val], marker=',')\n",
    "\n",
    "plt.savefig('map.png')"
   ]
  },
  {
   "cell_type": "code",
   "execution_count": null,
   "metadata": {
    "collapsed": true
   },
   "outputs": [],
   "source": []
  }
 ],
 "metadata": {
  "kernelspec": {
   "display_name": "Python 2",
   "language": "python",
   "name": "python2"
  },
  "language_info": {
   "codemirror_mode": {
    "name": "ipython",
    "version": 2
   },
   "file_extension": ".py",
   "mimetype": "text/x-python",
   "name": "python",
   "nbconvert_exporter": "python",
   "pygments_lexer": "ipython2",
   "version": "2.7.10"
  }
 },
 "nbformat": 4,
 "nbformat_minor": 0
}
