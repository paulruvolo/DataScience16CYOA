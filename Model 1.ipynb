{
 "cells": [
  {
   "cell_type": "markdown",
   "metadata": {},
   "source": [
    "# Model Iteration 1 (Linear Regression)\n",
    "To start, we are going to implement a linear regression set for the data. Then we will iterate, and improve, the model."
   ]
  },
  {
   "cell_type": "code",
   "execution_count": 88,
   "metadata": {
    "collapsed": true
   },
   "outputs": [],
   "source": [
    "import pandas as pd\n",
    "import numpy as np\n",
    "import matplotlib.pyplot as plt\n",
    "%matplotlib inline\n",
    "\n",
    "data = pd.read_csv(\"train.csv\")"
   ]
  },
  {
   "cell_type": "markdown",
   "metadata": {},
   "source": [
    "First things first, we are going to clean days of week to be values ranging from 0 - 6 (Mon - Sun) using a dictionary and mapping."
   ]
  },
  {
   "cell_type": "code",
   "execution_count": 89,
   "metadata": {
    "collapsed": true
   },
   "outputs": [],
   "source": [
    "dow = {\n",
    "    \"Monday\" : 0,\n",
    "    \"Tuesday\" : 1,\n",
    "    \"Wednesday\" : 2,\n",
    "    \"Thursday\" : 3,\n",
    "    \"Friday\" : 4,\n",
    "    \"Saturday\" : 5,\n",
    "    \"Sunday\" : 6\n",
    "}\n",
    "data[\"DOW\"] = data.DayOfWeek.map(dow)"
   ]
  },
  {
   "cell_type": "markdown",
   "metadata": {},
   "source": [
    "Next step is similar, but now with Police Districts so we can just deal with ints instead of strings."
   ]
  },
  {
   "cell_type": "code",
   "execution_count": 102,
   "metadata": {
    "collapsed": false
   },
   "outputs": [],
   "source": [
    "pds = {\n",
    "    \"SOUTHERN\" : 0,\n",
    "    \"MISSION\" : 1,\n",
    "    \"NORTHERN\" : 2,\n",
    "    \"BAYVIEW\" : 3,\n",
    "    \"CENTRAL\" : 4,\n",
    "    \"TERNDERLOIN\" : 5,\n",
    "    \"INGLESIDE\" : 6,\n",
    "    \"TARAVAL\" : 7,\n",
    "    \"PARK\" : 8,\n",
    "    \"RICHMOND\" : 9\n",
    "}\n",
    "data[\"pds\"] = data.PdDistrict.map(pds)\n",
    "# for crimes without PD, use \"Other\" : 10\n",
    "data[\"pds\"] = data[\"pds\"].fillna(10)"
   ]
  },
  {
   "cell_type": "markdown",
   "metadata": {},
   "source": [
    "Next, we are going to use X and Y coordinates as they are pretty continuous. There are some outlying data points, so let's clean that up. First, we check for those outlying data points (which we happen to know are at the north pole)."
   ]
  },
  {
   "cell_type": "code",
   "execution_count": 103,
   "metadata": {
    "collapsed": false
   },
   "outputs": [],
   "source": [
    "for val in data.Y:\n",
    "    if val == 90.0:\n",
    "        print val\n",
    "        \n",
    "for val in data.X:\n",
    "    if val == -120.5:\n",
    "        print val"
   ]
  },
  {
   "cell_type": "markdown",
   "metadata": {},
   "source": [
    "Then we replace those points for more reasonable numbers. Running the code below, then the code above will produce 0 outlying values (because we got rid of them)."
   ]
  },
  {
   "cell_type": "code",
   "execution_count": 104,
   "metadata": {
    "collapsed": false
   },
   "outputs": [],
   "source": [
    "data.X.replace(-120.5, data[\"X\"].median(), inplace = True)\n",
    "data.Y.replace(90, data[\"Y\"].median(), inplace = True)"
   ]
  },
  {
   "cell_type": "markdown",
   "metadata": {
    "collapsed": true
   },
   "source": [
    "The data cleaning train has no brakes. Now we are going to clean up date/time."
   ]
  },
  {
   "cell_type": "code",
   "execution_count": 105,
   "metadata": {
    "collapsed": true
   },
   "outputs": [],
   "source": [
    "def parse_date(Dates):\n",
    "    \"\"\" Convert a date in YYYY-MM-DD HH:MM:SS to a tuple\n",
    "        containing year, month, day, and hours each expressed\n",
    "        as an integer. Used from Paul Ruvolo's example in bikeshare kaggle dataset\n",
    "\n",
    "        >>> parse_date(\"2014-04-05 14:00:00\")\n",
    "        (2014, 4, 5, 14)\n",
    "    \"\"\"\n",
    "    return int(Dates[0:4]), int(Dates[5:7]), int(Dates[8:10]), int(Dates[11:13])\n",
    "\n",
    "# \"now we use the lambda functions\" - Mack\n",
    "data[\"Year\"] = data.Dates.apply(lambda x: parse_date(x)[0])\n",
    "data[\"Month\"] = data.Dates.apply(lambda x: parse_date(x)[1])\n",
    "data[\"Hour\"] = data.Dates.apply(lambda x: parse_date(x)[3])"
   ]
  },
  {
   "cell_type": "markdown",
   "metadata": {},
   "source": [
    "And so now we are going to do the predictive thingamajig. We drew inspiration from this script (https://www.kaggle.com/sonuk7/sf-crime/prediction-with-bernoulinb/code)"
   ]
  },
  {
   "cell_type": "code",
   "execution_count": 115,
   "metadata": {
    "collapsed": false
   },
   "outputs": [
    {
     "name": "stdout",
     "output_type": "stream",
     "text": [
      "[ 0.19976153  0.19864289  0.19928998]\n"
     ]
    }
   ],
   "source": [
    "from sklearn.naive_bayes import BernoulliNB\n",
    "from sklearn import cross_validation\n",
    "\n",
    "cats = data.Category.values\n",
    "cleanData = data.drop([\"Address\",\"Category\",\"Dates\",\"Descript\",\"X\", \"Y\",\"Resolution\", \"DayOfWeek\", \"PdDistrict\"], axis=1)\n",
    "\n",
    "model = BernoulliNB()\n",
    "model.fit(cleanData.dropna(), cats)\n",
    "\n",
    "scores = cross_validation.cross_val_score(model, cleanData, data[\"Category\"], cv = 3)\n",
    "print scores"
   ]
  },
  {
   "cell_type": "markdown",
   "metadata": {},
   "source": [
    "Wow that's a bad score :\\"
   ]
  },
  {
   "cell_type": "code",
   "execution_count": null,
   "metadata": {
    "collapsed": true
   },
   "outputs": [],
   "source": []
  }
 ],
 "metadata": {
  "kernelspec": {
   "display_name": "Python 2",
   "language": "python",
   "name": "python2"
  },
  "language_info": {
   "codemirror_mode": {
    "name": "ipython",
    "version": 2
   },
   "file_extension": ".py",
   "mimetype": "text/x-python",
   "name": "python",
   "nbconvert_exporter": "python",
   "pygments_lexer": "ipython2",
   "version": "2.7.10"
  }
 },
 "nbformat": 4,
 "nbformat_minor": 0
}
