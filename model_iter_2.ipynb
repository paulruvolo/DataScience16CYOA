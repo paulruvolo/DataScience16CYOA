{
 "cells": [
  {
   "cell_type": "code",
   "execution_count": 14,
   "metadata": {
    "collapsed": false
   },
   "outputs": [
    {
     "name": "stdout",
     "output_type": "stream",
     "text": [
      "                Dates        Category                  Descript  DayOfWeek  \\\n",
      "0 2015-05-13 23:53:00        WARRANTS            WARRANT ARREST  Wednesday   \n",
      "1 2015-05-13 23:53:00  OTHER OFFENSES  TRAFFIC VIOLATION ARREST  Wednesday   \n",
      "\n",
      "  PdDistrict      Resolution             Address           X          Y  \n",
      "0   NORTHERN  ARREST, BOOKED  OAK ST / LAGUNA ST -122.425892  37.774599  \n",
      "1   NORTHERN  ARREST, BOOKED  OAK ST / LAGUNA ST -122.425892  37.774599  \n"
     ]
    }
   ],
   "source": [
    "import pandas as pd\n",
    "import helpers\n",
    "\n",
    "from IPython.display import display\n",
    "from sklearn.cross_validation import train_test_split\n",
    "from sklearn import preprocessing\n",
    "# from sklearn.metrics import log_loss\n",
    "# from sklearn.naive_bayes import BernoulliNB\n",
    "# from sklearn.linear_model import LogisticRegression\n",
    "from sklearn.cross_validation import KFold\n",
    "import numpy as np\n",
    "\n",
    "# convert the Dates column of our provided data from string to datetime format.\n",
    "train=pd.read_csv('train.csv', parse_dates = ['Dates'])\n",
    "test=pd.read_csv('test.csv', parse_dates = ['Dates'])\n",
    "training, validation = train_test_split(train, train_size=.60)\n",
    "\n",
    "# Print the first 5 rows of the dataframe.\n",
    "print train.head(2)\n"
   ]
  },
  {
   "cell_type": "code",
   "execution_count": 15,
   "metadata": {
    "collapsed": false
   },
   "outputs": [
    {
     "data": {
      "text/html": [
       "<div>\n",
       "<table border=\"1\" class=\"dataframe\">\n",
       "  <thead>\n",
       "    <tr style=\"text-align: right;\">\n",
       "      <th></th>\n",
       "      <th>Dates</th>\n",
       "      <th>Friday</th>\n",
       "      <th>Monday</th>\n",
       "      <th>Saturday</th>\n",
       "      <th>Sunday</th>\n",
       "      <th>Thursday</th>\n",
       "      <th>Tuesday</th>\n",
       "      <th>Wednesday</th>\n",
       "      <th>BAYVIEW</th>\n",
       "      <th>CENTRAL</th>\n",
       "      <th>INGLESIDE</th>\n",
       "      <th>MISSION</th>\n",
       "      <th>NORTHERN</th>\n",
       "      <th>PARK</th>\n",
       "      <th>RICHMOND</th>\n",
       "      <th>SOUTHERN</th>\n",
       "      <th>TARAVAL</th>\n",
       "      <th>TENDERLOIN</th>\n",
       "    </tr>\n",
       "  </thead>\n",
       "  <tbody>\n",
       "    <tr>\n",
       "      <th>287724</th>\n",
       "      <td>19</td>\n",
       "      <td>0</td>\n",
       "      <td>0</td>\n",
       "      <td>1</td>\n",
       "      <td>0</td>\n",
       "      <td>0</td>\n",
       "      <td>0</td>\n",
       "      <td>0</td>\n",
       "      <td>0</td>\n",
       "      <td>0</td>\n",
       "      <td>0</td>\n",
       "      <td>0</td>\n",
       "      <td>0</td>\n",
       "      <td>1</td>\n",
       "      <td>0</td>\n",
       "      <td>0</td>\n",
       "      <td>0</td>\n",
       "      <td>0</td>\n",
       "    </tr>\n",
       "    <tr>\n",
       "      <th>388098</th>\n",
       "      <td>23</td>\n",
       "      <td>1</td>\n",
       "      <td>0</td>\n",
       "      <td>0</td>\n",
       "      <td>0</td>\n",
       "      <td>0</td>\n",
       "      <td>0</td>\n",
       "      <td>0</td>\n",
       "      <td>0</td>\n",
       "      <td>0</td>\n",
       "      <td>0</td>\n",
       "      <td>0</td>\n",
       "      <td>0</td>\n",
       "      <td>0</td>\n",
       "      <td>0</td>\n",
       "      <td>0</td>\n",
       "      <td>1</td>\n",
       "      <td>0</td>\n",
       "    </tr>\n",
       "    <tr>\n",
       "      <th>842064</th>\n",
       "      <td>17</td>\n",
       "      <td>0</td>\n",
       "      <td>0</td>\n",
       "      <td>0</td>\n",
       "      <td>0</td>\n",
       "      <td>0</td>\n",
       "      <td>0</td>\n",
       "      <td>1</td>\n",
       "      <td>1</td>\n",
       "      <td>0</td>\n",
       "      <td>0</td>\n",
       "      <td>0</td>\n",
       "      <td>0</td>\n",
       "      <td>0</td>\n",
       "      <td>0</td>\n",
       "      <td>0</td>\n",
       "      <td>0</td>\n",
       "      <td>0</td>\n",
       "    </tr>\n",
       "    <tr>\n",
       "      <th>90899</th>\n",
       "      <td>0</td>\n",
       "      <td>0</td>\n",
       "      <td>1</td>\n",
       "      <td>0</td>\n",
       "      <td>0</td>\n",
       "      <td>0</td>\n",
       "      <td>0</td>\n",
       "      <td>0</td>\n",
       "      <td>0</td>\n",
       "      <td>0</td>\n",
       "      <td>0</td>\n",
       "      <td>0</td>\n",
       "      <td>0</td>\n",
       "      <td>0</td>\n",
       "      <td>0</td>\n",
       "      <td>0</td>\n",
       "      <td>1</td>\n",
       "      <td>0</td>\n",
       "    </tr>\n",
       "    <tr>\n",
       "      <th>600781</th>\n",
       "      <td>16</td>\n",
       "      <td>1</td>\n",
       "      <td>0</td>\n",
       "      <td>0</td>\n",
       "      <td>0</td>\n",
       "      <td>0</td>\n",
       "      <td>0</td>\n",
       "      <td>0</td>\n",
       "      <td>0</td>\n",
       "      <td>0</td>\n",
       "      <td>1</td>\n",
       "      <td>0</td>\n",
       "      <td>0</td>\n",
       "      <td>0</td>\n",
       "      <td>0</td>\n",
       "      <td>0</td>\n",
       "      <td>0</td>\n",
       "      <td>0</td>\n",
       "    </tr>\n",
       "  </tbody>\n",
       "</table>\n",
       "</div>"
      ],
      "text/plain": [
       "        Dates  Friday  Monday  Saturday  Sunday  Thursday  Tuesday  Wednesday  \\\n",
       "287724     19       0       0         1       0         0        0          0   \n",
       "388098     23       1       0         0       0         0        0          0   \n",
       "842064     17       0       0         0       0         0        0          1   \n",
       "90899       0       0       1         0       0         0        0          0   \n",
       "600781     16       1       0         0       0         0        0          0   \n",
       "\n",
       "        BAYVIEW  CENTRAL  INGLESIDE  MISSION  NORTHERN  PARK  RICHMOND  \\\n",
       "287724        0        0          0        0         0     1         0   \n",
       "388098        0        0          0        0         0     0         0   \n",
       "842064        1        0          0        0         0     0         0   \n",
       "90899         0        0          0        0         0     0         0   \n",
       "600781        0        0          1        0         0     0         0   \n",
       "\n",
       "        SOUTHERN  TARAVAL  TENDERLOIN  \n",
       "287724         0        0           0  \n",
       "388098         0        1           0  \n",
       "842064         0        0           0  \n",
       "90899          0        1           0  \n",
       "600781         0        0           0  "
      ]
     },
     "metadata": {},
     "output_type": "display_data"
    }
   ],
   "source": [
    "def prep(data):\n",
    "    days = pd.get_dummies(data.DayOfWeek)\n",
    "    district = pd.get_dummies(data.PdDistrict)\n",
    "    \n",
    "    # Gets the hour portion form the \"Dates\" column\n",
    "    hour = data.Dates.dt.hour\n",
    "    \n",
    "    #Build new array with binary info on location, day and hour and numbered crime\n",
    "    train_data = pd.concat([hour, days, district], axis=1)\n",
    "    return train_data\n",
    "\n",
    "\n",
    "train_data = prep(training)\n",
    "# 878049 x 18 columns\n",
    "display(train_data.head())"
   ]
  },
  {
   "cell_type": "code",
   "execution_count": 16,
   "metadata": {
    "collapsed": false
   },
   "outputs": [
    {
     "name": "stdout",
     "output_type": "stream",
     "text": [
      "['SUSPICIOUS OCC' 'VANDALISM' 'VEHICLE THEFT' ..., 'VEHICLE THEFT'\n",
      " 'LARCENY/THEFT' 'BURGLARY']\n",
      "[32 35 36 ..., 36 16  4]\n"
     ]
    }
   ],
   "source": [
    "#Convert crime labels to numbers\n",
    "le_crime = preprocessing.LabelEncoder()\n",
    "encodedCrime = le_crime.fit_transform(training.Category)\n",
    "humanReadableCrime = le_crime.inverse_transform(encodedCrime)\n",
    "print humanReadableCrime\n",
    "print encodedCrime"
   ]
  },
  {
   "cell_type": "code",
   "execution_count": 17,
   "metadata": {
    "collapsed": false
   },
   "outputs": [],
   "source": [
    "from sklearn import tree\n",
    "X = train_data\n",
    "Y = encodedCrime\n",
    "clf = tree.DecisionTreeClassifier()\n",
    "clf = clf.fit(X, Y)"
   ]
  },
  {
   "cell_type": "code",
   "execution_count": 18,
   "metadata": {
    "collapsed": false
   },
   "outputs": [],
   "source": [
    "validation_data = prep(validation)\n",
    "validationPredictions = clf.predict(validation_data)"
   ]
  },
  {
   "cell_type": "code",
   "execution_count": 19,
   "metadata": {
    "collapsed": false
   },
   "outputs": [],
   "source": [
    "humanReadableValidationPredictions = le_crime.inverse_transform(validationPredictions)"
   ]
  },
  {
   "cell_type": "code",
   "execution_count": 20,
   "metadata": {
    "collapsed": false
   },
   "outputs": [
    {
     "data": {
      "text/html": [
       "<div>\n",
       "<table border=\"1\" class=\"dataframe\">\n",
       "  <thead>\n",
       "    <tr style=\"text-align: right;\">\n",
       "      <th></th>\n",
       "      <th>Dates</th>\n",
       "      <th>Category</th>\n",
       "      <th>Descript</th>\n",
       "      <th>DayOfWeek</th>\n",
       "      <th>PdDistrict</th>\n",
       "      <th>Resolution</th>\n",
       "      <th>Address</th>\n",
       "      <th>X</th>\n",
       "      <th>Y</th>\n",
       "    </tr>\n",
       "  </thead>\n",
       "  <tbody>\n",
       "    <tr>\n",
       "      <th>17079</th>\n",
       "      <td>2015-02-20 01:00:00</td>\n",
       "      <td>MISSING PERSON</td>\n",
       "      <td>MISSING ADULT</td>\n",
       "      <td>Friday</td>\n",
       "      <td>MISSION</td>\n",
       "      <td>NONE</td>\n",
       "      <td>2000 Block of MARKET ST</td>\n",
       "      <td>-122.426956</td>\n",
       "      <td>37.769247</td>\n",
       "    </tr>\n",
       "    <tr>\n",
       "      <th>70679</th>\n",
       "      <td>2014-06-09 21:30:00</td>\n",
       "      <td>LARCENY/THEFT</td>\n",
       "      <td>GRAND THEFT FROM UNLOCKED AUTO</td>\n",
       "      <td>Monday</td>\n",
       "      <td>TENDERLOIN</td>\n",
       "      <td>NONE</td>\n",
       "      <td>OFARRELL ST / HYDE ST</td>\n",
       "      <td>-122.416262</td>\n",
       "      <td>37.785375</td>\n",
       "    </tr>\n",
       "    <tr>\n",
       "      <th>833295</th>\n",
       "      <td>2003-08-07 18:05:00</td>\n",
       "      <td>BURGLARY</td>\n",
       "      <td>BURGLARY OF STORE, FORCIBLE ENTRY</td>\n",
       "      <td>Thursday</td>\n",
       "      <td>SOUTHERN</td>\n",
       "      <td>NONE</td>\n",
       "      <td>1600 Block of MISSION ST</td>\n",
       "      <td>-122.419794</td>\n",
       "      <td>37.770363</td>\n",
       "    </tr>\n",
       "    <tr>\n",
       "      <th>626898</th>\n",
       "      <td>2006-06-26 07:48:00</td>\n",
       "      <td>FRAUD</td>\n",
       "      <td>FRAUDULENT CREDIT APPLICATION</td>\n",
       "      <td>Monday</td>\n",
       "      <td>CENTRAL</td>\n",
       "      <td>NOT PROSECUTED</td>\n",
       "      <td>2500 Block of MASON ST</td>\n",
       "      <td>-122.413814</td>\n",
       "      <td>37.807036</td>\n",
       "    </tr>\n",
       "    <tr>\n",
       "      <th>790506</th>\n",
       "      <td>2004-03-05 14:00:00</td>\n",
       "      <td>VEHICLE THEFT</td>\n",
       "      <td>VEHICLE, RECOVERED, AUTO</td>\n",
       "      <td>Friday</td>\n",
       "      <td>MISSION</td>\n",
       "      <td>NONE</td>\n",
       "      <td>SANCHEZ ST / 17TH ST</td>\n",
       "      <td>-122.430726</td>\n",
       "      <td>37.762752</td>\n",
       "    </tr>\n",
       "  </tbody>\n",
       "</table>\n",
       "</div>"
      ],
      "text/plain": [
       "                     Dates        Category                           Descript  \\\n",
       "17079  2015-02-20 01:00:00  MISSING PERSON                      MISSING ADULT   \n",
       "70679  2014-06-09 21:30:00   LARCENY/THEFT     GRAND THEFT FROM UNLOCKED AUTO   \n",
       "833295 2003-08-07 18:05:00        BURGLARY  BURGLARY OF STORE, FORCIBLE ENTRY   \n",
       "626898 2006-06-26 07:48:00           FRAUD      FRAUDULENT CREDIT APPLICATION   \n",
       "790506 2004-03-05 14:00:00   VEHICLE THEFT           VEHICLE, RECOVERED, AUTO   \n",
       "\n",
       "       DayOfWeek  PdDistrict      Resolution                   Address  \\\n",
       "17079     Friday     MISSION            NONE   2000 Block of MARKET ST   \n",
       "70679     Monday  TENDERLOIN            NONE     OFARRELL ST / HYDE ST   \n",
       "833295  Thursday    SOUTHERN            NONE  1600 Block of MISSION ST   \n",
       "626898    Monday     CENTRAL  NOT PROSECUTED    2500 Block of MASON ST   \n",
       "790506    Friday     MISSION            NONE      SANCHEZ ST / 17TH ST   \n",
       "\n",
       "                 X          Y  \n",
       "17079  -122.426956  37.769247  \n",
       "70679  -122.416262  37.785375  \n",
       "833295 -122.419794  37.770363  \n",
       "626898 -122.413814  37.807036  \n",
       "790506 -122.430726  37.762752  "
      ]
     },
     "metadata": {},
     "output_type": "display_data"
    },
    {
     "name": "stdout",
     "output_type": "stream",
     "text": [
      "['LARCENY/THEFT' 'DRUG/NARCOTIC' 'LARCENY/THEFT' 'LARCENY/THEFT'\n",
      " 'LARCENY/THEFT']\n"
     ]
    }
   ],
   "source": [
    "validationTrueLabels = le_crime.fit_transform(validation.Category)\n",
    "display(validation.head())\n",
    "print(le_crime.inverse_transform(validationPredictions[0:5]))"
   ]
  },
  {
   "cell_type": "code",
   "execution_count": 21,
   "metadata": {
    "collapsed": false
   },
   "outputs": [
    {
     "name": "stdout",
     "output_type": "stream",
     "text": [
      "[16  7 16 16 16 16 21 21 21 16]\n",
      "[19 16  4 13 36 19 20 16 21 13]\n",
      "0.22314219008\n"
     ]
    }
   ],
   "source": [
    "print validationPredictions[0:10]\n",
    "print validationTrueLabels[0:10]\n",
    "counter = 0\n",
    "for i in range(len(validationPredictions)):\n",
    "    if validationPredictions[i] == validationTrueLabels[i]:\n",
    "        counter+=1\n",
    "\n",
    "accuracy = counter/float(len(validationPredictions))\n",
    "print accuracy"
   ]
  },
  {
   "cell_type": "code",
   "execution_count": 23,
   "metadata": {
    "collapsed": false
   },
   "outputs": [
    {
     "name": "stdout",
     "output_type": "stream",
     "text": [
      "0.22072684747\n"
     ]
    }
   ],
   "source": [
    "from sklearn import cross_validation\n",
    "from sklearn.ensemble import RandomForestClassifier\n",
    "\n",
    "preppedTrainData = prep(train)\n",
    "alg = RandomForestClassifier(random_state=1, n_estimators=10, min_samples_split=4, min_samples_leaf=1)\n",
    "scores = cross_validation.cross_val_score(alg, preppedTrainData, train[\"Category\"], cv=3)\n",
    "\n",
    "print scores.mean()"
   ]
  },
  {
   "cell_type": "markdown",
   "metadata": {},
   "source": [
    "After testing both a simple decision tree and a RandomForrest algorith from sklearn we have resulted with a pretty low accuracy score. We believe that the one-hot-encoding method we used (prep()) to encode categorical data, such as days of the week, did not yeild interesting results in the accuracy predictions. "
   ]
  }
 ],
 "metadata": {
  "kernelspec": {
   "display_name": "Python 2",
   "language": "python",
   "name": "python2"
  },
  "language_info": {
   "codemirror_mode": {
    "name": "ipython",
    "version": 2
   },
   "file_extension": ".py",
   "mimetype": "text/x-python",
   "name": "python",
   "nbconvert_exporter": "python",
   "pygments_lexer": "ipython2",
   "version": "2.7.11"
  }
 },
 "nbformat": 4,
 "nbformat_minor": 0
}
