{
 "cells": [
  {
   "cell_type": "code",
   "execution_count": 50,
   "metadata": {
    "collapsed": false
   },
   "outputs": [
    {
     "name": "stdout",
     "output_type": "stream",
     "text": [
      "                Dates        Category                  Descript  DayOfWeek  \\\n",
      "0 2015-05-13 23:53:00        WARRANTS            WARRANT ARREST  Wednesday   \n",
      "1 2015-05-13 23:53:00  OTHER OFFENSES  TRAFFIC VIOLATION ARREST  Wednesday   \n",
      "\n",
      "  PdDistrict      Resolution             Address           X          Y  \n",
      "0   NORTHERN  ARREST, BOOKED  OAK ST / LAGUNA ST -122.425892  37.774599  \n",
      "1   NORTHERN  ARREST, BOOKED  OAK ST / LAGUNA ST -122.425892  37.774599  \n"
     ]
    }
   ],
   "source": [
    "import pandas as pd\n",
    "import helpers\n",
    "\n",
    "from IPython.display import display\n",
    "from sklearn.cross_validation import train_test_split\n",
    "from sklearn import preprocessing\n",
    "# from sklearn.metrics import log_loss\n",
    "# from sklearn.naive_bayes import BernoulliNB\n",
    "# from sklearn.linear_model import LogisticRegression\n",
    "from sklearn.cross_validation import KFold\n",
    "import numpy as np\n",
    "\n",
    "# convert the Dates column of our provided data from string to datetime format.\n",
    "train=pd.read_csv('train.csv', parse_dates = ['Dates'])\n",
    "test=pd.read_csv('test.csv', parse_dates = ['Dates'])\n",
    "training, validation = train_test_split(train, train_size=.60)\n",
    "\n",
    "# Print the first 5 rows of the dataframe.\n",
    "print train.head(2)\n"
   ]
  },
  {
   "cell_type": "code",
   "execution_count": 51,
   "metadata": {
    "collapsed": false
   },
   "outputs": [
    {
     "data": {
      "text/html": [
       "<div>\n",
       "<table border=\"1\" class=\"dataframe\">\n",
       "  <thead>\n",
       "    <tr style=\"text-align: right;\">\n",
       "      <th></th>\n",
       "      <th>Dates</th>\n",
       "      <th>Friday</th>\n",
       "      <th>Monday</th>\n",
       "      <th>Saturday</th>\n",
       "      <th>Sunday</th>\n",
       "      <th>Thursday</th>\n",
       "      <th>Tuesday</th>\n",
       "      <th>Wednesday</th>\n",
       "      <th>BAYVIEW</th>\n",
       "      <th>CENTRAL</th>\n",
       "      <th>INGLESIDE</th>\n",
       "      <th>MISSION</th>\n",
       "      <th>NORTHERN</th>\n",
       "      <th>PARK</th>\n",
       "      <th>RICHMOND</th>\n",
       "      <th>SOUTHERN</th>\n",
       "      <th>TARAVAL</th>\n",
       "      <th>TENDERLOIN</th>\n",
       "    </tr>\n",
       "  </thead>\n",
       "  <tbody>\n",
       "    <tr>\n",
       "      <th>554939</th>\n",
       "      <td>15</td>\n",
       "      <td>1</td>\n",
       "      <td>0</td>\n",
       "      <td>0</td>\n",
       "      <td>0</td>\n",
       "      <td>0</td>\n",
       "      <td>0</td>\n",
       "      <td>0</td>\n",
       "      <td>0</td>\n",
       "      <td>0</td>\n",
       "      <td>0</td>\n",
       "      <td>0</td>\n",
       "      <td>0</td>\n",
       "      <td>0</td>\n",
       "      <td>0</td>\n",
       "      <td>1</td>\n",
       "      <td>0</td>\n",
       "      <td>0</td>\n",
       "    </tr>\n",
       "    <tr>\n",
       "      <th>854069</th>\n",
       "      <td>11</td>\n",
       "      <td>0</td>\n",
       "      <td>0</td>\n",
       "      <td>0</td>\n",
       "      <td>0</td>\n",
       "      <td>0</td>\n",
       "      <td>1</td>\n",
       "      <td>0</td>\n",
       "      <td>0</td>\n",
       "      <td>0</td>\n",
       "      <td>0</td>\n",
       "      <td>0</td>\n",
       "      <td>0</td>\n",
       "      <td>0</td>\n",
       "      <td>0</td>\n",
       "      <td>0</td>\n",
       "      <td>0</td>\n",
       "      <td>1</td>\n",
       "    </tr>\n",
       "    <tr>\n",
       "      <th>770680</th>\n",
       "      <td>22</td>\n",
       "      <td>0</td>\n",
       "      <td>0</td>\n",
       "      <td>0</td>\n",
       "      <td>0</td>\n",
       "      <td>0</td>\n",
       "      <td>1</td>\n",
       "      <td>0</td>\n",
       "      <td>0</td>\n",
       "      <td>0</td>\n",
       "      <td>0</td>\n",
       "      <td>0</td>\n",
       "      <td>0</td>\n",
       "      <td>0</td>\n",
       "      <td>0</td>\n",
       "      <td>0</td>\n",
       "      <td>0</td>\n",
       "      <td>1</td>\n",
       "    </tr>\n",
       "    <tr>\n",
       "      <th>512292</th>\n",
       "      <td>0</td>\n",
       "      <td>0</td>\n",
       "      <td>0</td>\n",
       "      <td>1</td>\n",
       "      <td>0</td>\n",
       "      <td>0</td>\n",
       "      <td>0</td>\n",
       "      <td>0</td>\n",
       "      <td>0</td>\n",
       "      <td>0</td>\n",
       "      <td>0</td>\n",
       "      <td>0</td>\n",
       "      <td>0</td>\n",
       "      <td>0</td>\n",
       "      <td>0</td>\n",
       "      <td>1</td>\n",
       "      <td>0</td>\n",
       "      <td>0</td>\n",
       "    </tr>\n",
       "    <tr>\n",
       "      <th>738457</th>\n",
       "      <td>23</td>\n",
       "      <td>0</td>\n",
       "      <td>0</td>\n",
       "      <td>1</td>\n",
       "      <td>0</td>\n",
       "      <td>0</td>\n",
       "      <td>0</td>\n",
       "      <td>0</td>\n",
       "      <td>0</td>\n",
       "      <td>0</td>\n",
       "      <td>0</td>\n",
       "      <td>0</td>\n",
       "      <td>0</td>\n",
       "      <td>0</td>\n",
       "      <td>0</td>\n",
       "      <td>0</td>\n",
       "      <td>0</td>\n",
       "      <td>1</td>\n",
       "    </tr>\n",
       "  </tbody>\n",
       "</table>\n",
       "</div>"
      ],
      "text/plain": [
       "        Dates  Friday  Monday  Saturday  Sunday  Thursday  Tuesday  Wednesday  \\\n",
       "554939     15       1       0         0       0         0        0          0   \n",
       "854069     11       0       0         0       0         0        1          0   \n",
       "770680     22       0       0         0       0         0        1          0   \n",
       "512292      0       0       0         1       0         0        0          0   \n",
       "738457     23       0       0         1       0         0        0          0   \n",
       "\n",
       "        BAYVIEW  CENTRAL  INGLESIDE  MISSION  NORTHERN  PARK  RICHMOND  \\\n",
       "554939        0        0          0        0         0     0         0   \n",
       "854069        0        0          0        0         0     0         0   \n",
       "770680        0        0          0        0         0     0         0   \n",
       "512292        0        0          0        0         0     0         0   \n",
       "738457        0        0          0        0         0     0         0   \n",
       "\n",
       "        SOUTHERN  TARAVAL  TENDERLOIN  \n",
       "554939         1        0           0  \n",
       "854069         0        0           1  \n",
       "770680         0        0           1  \n",
       "512292         1        0           0  \n",
       "738457         0        0           1  "
      ]
     },
     "metadata": {},
     "output_type": "display_data"
    }
   ],
   "source": [
    "def prep(data):\n",
    "    days = pd.get_dummies(data.DayOfWeek)\n",
    "    district = pd.get_dummies(data.PdDistrict)\n",
    "    \n",
    "    # Gets the hour portion form the \"Dates\" column\n",
    "    hour = data.Dates.dt.hour\n",
    "    \n",
    "    #Build new array with binary info on location, day and hour and numbered crime\n",
    "    train_data = pd.concat([hour, days, district], axis=1)\n",
    "    return train_data\n",
    "\n",
    "\n",
    "train_data = prep(training)\n",
    "# 878049 x 18 columns\n",
    "display(train_data.head())"
   ]
  },
  {
   "cell_type": "code",
   "execution_count": 52,
   "metadata": {
    "collapsed": false
   },
   "outputs": [
    {
     "name": "stdout",
     "output_type": "stream",
     "text": [
      "['LARCENY/THEFT' 'DRUG/NARCOTIC' 'VANDALISM' ..., 'BURGLARY' 'NON-CRIMINAL'\n",
      " 'OTHER OFFENSES']\n",
      "[16  7 35 ...,  4 20 21]\n"
     ]
    }
   ],
   "source": [
    "#Convert crime labels to numbers\n",
    "le_crime = preprocessing.LabelEncoder()\n",
    "encodedCrime = le_crime.fit_transform(training.Category)\n",
    "humanReadableCrime = le_crime.inverse_transform(encodedCrime)\n",
    "print humanReadableCrime\n",
    "print encodedCrime"
   ]
  },
  {
   "cell_type": "code",
   "execution_count": 53,
   "metadata": {
    "collapsed": false
   },
   "outputs": [],
   "source": [
    "from sklearn import tree\n",
    "X = train_data\n",
    "Y = encodedCrime\n",
    "clf = tree.DecisionTreeClassifier()\n",
    "clf = clf.fit(X, Y)"
   ]
  },
  {
   "cell_type": "code",
   "execution_count": 54,
   "metadata": {
    "collapsed": false
   },
   "outputs": [],
   "source": [
    "validation_data = prep(validation)\n",
    "validationPredictions = clf.predict(validation_data)"
   ]
  },
  {
   "cell_type": "code",
   "execution_count": 55,
   "metadata": {
    "collapsed": false
   },
   "outputs": [],
   "source": [
    "humanReadableValidationPredictions = le_crime.inverse_transform(validationPredictions)"
   ]
  },
  {
   "cell_type": "code",
   "execution_count": 56,
   "metadata": {
    "collapsed": false
   },
   "outputs": [
    {
     "data": {
      "text/html": [
       "<div>\n",
       "<table border=\"1\" class=\"dataframe\">\n",
       "  <thead>\n",
       "    <tr style=\"text-align: right;\">\n",
       "      <th></th>\n",
       "      <th>Dates</th>\n",
       "      <th>Category</th>\n",
       "      <th>Descript</th>\n",
       "      <th>DayOfWeek</th>\n",
       "      <th>PdDistrict</th>\n",
       "      <th>Resolution</th>\n",
       "      <th>Address</th>\n",
       "      <th>X</th>\n",
       "      <th>Y</th>\n",
       "    </tr>\n",
       "  </thead>\n",
       "  <tbody>\n",
       "    <tr>\n",
       "      <th>446186</th>\n",
       "      <td>2009-02-02 21:21:00</td>\n",
       "      <td>NON-CRIMINAL</td>\n",
       "      <td>COURTESY REPORT</td>\n",
       "      <td>Monday</td>\n",
       "      <td>MISSION</td>\n",
       "      <td>NONE</td>\n",
       "      <td>2000 Block of MISSION ST</td>\n",
       "      <td>-122.419520</td>\n",
       "      <td>37.764229</td>\n",
       "    </tr>\n",
       "    <tr>\n",
       "      <th>44882</th>\n",
       "      <td>2014-10-05 07:00:00</td>\n",
       "      <td>SEX OFFENSES FORCIBLE</td>\n",
       "      <td>SEXUAL BATTERY</td>\n",
       "      <td>Sunday</td>\n",
       "      <td>MISSION</td>\n",
       "      <td>NONE</td>\n",
       "      <td>500 Block of DOLORES ST</td>\n",
       "      <td>-122.426153</td>\n",
       "      <td>37.760619</td>\n",
       "    </tr>\n",
       "    <tr>\n",
       "      <th>716415</th>\n",
       "      <td>2005-03-22 17:35:00</td>\n",
       "      <td>NON-CRIMINAL</td>\n",
       "      <td>AIDED CASE, MENTAL DISTURBED</td>\n",
       "      <td>Tuesday</td>\n",
       "      <td>TENDERLOIN</td>\n",
       "      <td>PSYCHOPATHIC CASE</td>\n",
       "      <td>100 Block of GOLDEN GATE AV</td>\n",
       "      <td>-122.413048</td>\n",
       "      <td>37.781912</td>\n",
       "    </tr>\n",
       "    <tr>\n",
       "      <th>672122</th>\n",
       "      <td>2005-11-01 21:46:00</td>\n",
       "      <td>SUSPICIOUS OCC</td>\n",
       "      <td>SUSPICIOUS OCCURRENCE</td>\n",
       "      <td>Tuesday</td>\n",
       "      <td>TARAVAL</td>\n",
       "      <td>NONE</td>\n",
       "      <td>400 Block of PACHECO ST</td>\n",
       "      <td>-122.464815</td>\n",
       "      <td>37.750922</td>\n",
       "    </tr>\n",
       "    <tr>\n",
       "      <th>242674</th>\n",
       "      <td>2012-02-08 18:18:00</td>\n",
       "      <td>LARCENY/THEFT</td>\n",
       "      <td>PETTY THEFT SHOPLIFTING</td>\n",
       "      <td>Wednesday</td>\n",
       "      <td>TARAVAL</td>\n",
       "      <td>ARREST, CITED</td>\n",
       "      <td>3200 Block of 20TH AV</td>\n",
       "      <td>-122.475647</td>\n",
       "      <td>37.728528</td>\n",
       "    </tr>\n",
       "  </tbody>\n",
       "</table>\n",
       "</div>"
      ],
      "text/plain": [
       "                     Dates               Category  \\\n",
       "446186 2009-02-02 21:21:00           NON-CRIMINAL   \n",
       "44882  2014-10-05 07:00:00  SEX OFFENSES FORCIBLE   \n",
       "716415 2005-03-22 17:35:00           NON-CRIMINAL   \n",
       "672122 2005-11-01 21:46:00         SUSPICIOUS OCC   \n",
       "242674 2012-02-08 18:18:00          LARCENY/THEFT   \n",
       "\n",
       "                            Descript  DayOfWeek  PdDistrict  \\\n",
       "446186               COURTESY REPORT     Monday     MISSION   \n",
       "44882                 SEXUAL BATTERY     Sunday     MISSION   \n",
       "716415  AIDED CASE, MENTAL DISTURBED    Tuesday  TENDERLOIN   \n",
       "672122         SUSPICIOUS OCCURRENCE    Tuesday     TARAVAL   \n",
       "242674       PETTY THEFT SHOPLIFTING  Wednesday     TARAVAL   \n",
       "\n",
       "               Resolution                      Address           X          Y  \n",
       "446186               NONE     2000 Block of MISSION ST -122.419520  37.764229  \n",
       "44882                NONE      500 Block of DOLORES ST -122.426153  37.760619  \n",
       "716415  PSYCHOPATHIC CASE  100 Block of GOLDEN GATE AV -122.413048  37.781912  \n",
       "672122               NONE      400 Block of PACHECO ST -122.464815  37.750922  \n",
       "242674      ARREST, CITED        3200 Block of 20TH AV -122.475647  37.728528  "
      ]
     },
     "metadata": {},
     "output_type": "display_data"
    },
    {
     "name": "stdout",
     "output_type": "stream",
     "text": [
      "['LARCENY/THEFT' 'OTHER OFFENSES' 'DRUG/NARCOTIC' 'LARCENY/THEFT'\n",
      " 'LARCENY/THEFT']\n"
     ]
    }
   ],
   "source": [
    "validationTrueLabels = le_crime.fit_transform(validation.Category)\n",
    "display(validation.head())\n",
    "print(le_crime.inverse_transform(validationPredictions[0:5]))"
   ]
  },
  {
   "cell_type": "code",
   "execution_count": 57,
   "metadata": {
    "collapsed": false
   },
   "outputs": [
    {
     "name": "stdout",
     "output_type": "stream",
     "text": [
      "[16 21  7 16 16 16 21 21 16 21]\n",
      "[20 28 20 32 16  4  7 19 21  1]\n",
      "0.224263994078\n"
     ]
    }
   ],
   "source": [
    "print validationPredictions[0:10]\n",
    "print validationTrueLabels[0:10]\n",
    "counter = 0\n",
    "for i in range(len(validationPredictions)):\n",
    "    if validationPredictions[i] == validationTrueLabels[i]:\n",
    "        counter+=1\n",
    "\n",
    "accuracy = counter/float(len(validationPredictions))\n",
    "print accuracy"
   ]
  },
  {
   "cell_type": "code",
   "execution_count": null,
   "metadata": {
    "collapsed": true
   },
   "outputs": [],
   "source": []
  }
 ],
 "metadata": {
  "kernelspec": {
   "display_name": "Python 2",
   "language": "python",
   "name": "python2"
  },
  "language_info": {
   "codemirror_mode": {
    "name": "ipython",
    "version": 2
   },
   "file_extension": ".py",
   "mimetype": "text/x-python",
   "name": "python",
   "nbconvert_exporter": "python",
   "pygments_lexer": "ipython2",
   "version": "2.7.11"
  }
 },
 "nbformat": 4,
 "nbformat_minor": 0
}
