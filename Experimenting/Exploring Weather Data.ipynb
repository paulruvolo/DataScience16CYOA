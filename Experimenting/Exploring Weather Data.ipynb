{
 "cells": [
  {
   "cell_type": "markdown",
   "metadata": {},
   "source": [
    "# Exploring Weather Data (Sophia and Mac-I)\n",
    "First, we'll start by importing everything we need"
   ]
  },
  {
   "cell_type": "code",
   "execution_count": 1,
   "metadata": {
    "collapsed": true
   },
   "outputs": [],
   "source": [
    "%matplotlib inline\n",
    "\n",
    "import pandas as pd\n",
    "import numpy as np\n",
    "import itertools\n",
    "import re\n",
    "\n",
    "import matplotlib.pyplot as plt"
   ]
  },
  {
   "cell_type": "markdown",
   "metadata": {},
   "source": [
    "Now, let's read in the weather data and clean it up. "
   ]
  },
  {
   "cell_type": "code",
   "execution_count": 2,
   "metadata": {
    "collapsed": false
   },
   "outputs": [
    {
     "data": {
      "text/html": [
       "<div>\n",
       "<table border=\"1\" class=\"dataframe\">\n",
       "  <thead>\n",
       "    <tr style=\"text-align: right;\">\n",
       "      <th></th>\n",
       "      <th>ELEVATION</th>\n",
       "      <th>LATITUDE</th>\n",
       "      <th>LONGITUDE</th>\n",
       "      <th>DATE</th>\n",
       "      <th>MDPR</th>\n",
       "      <th>DAPR</th>\n",
       "      <th>PRCP</th>\n",
       "      <th>SNWD</th>\n",
       "      <th>SNOW</th>\n",
       "      <th>TMAX</th>\n",
       "      <th>TMIN</th>\n",
       "      <th>TOBS</th>\n",
       "      <th>WT01</th>\n",
       "      <th>WT11</th>\n",
       "    </tr>\n",
       "  </thead>\n",
       "  <tbody>\n",
       "    <tr>\n",
       "      <th>count</th>\n",
       "      <td>4517.000000</td>\n",
       "      <td>4517.000000</td>\n",
       "      <td>4517.000000</td>\n",
       "      <td>4517.000000</td>\n",
       "      <td>0</td>\n",
       "      <td>0</td>\n",
       "      <td>4517.000000</td>\n",
       "      <td>1365</td>\n",
       "      <td>1377</td>\n",
       "      <td>4517.000000</td>\n",
       "      <td>4517.000000</td>\n",
       "      <td>361.000000</td>\n",
       "      <td>0</td>\n",
       "      <td>1</td>\n",
       "    </tr>\n",
       "    <tr>\n",
       "      <th>mean</th>\n",
       "      <td>48.200244</td>\n",
       "      <td>37.770151</td>\n",
       "      <td>-122.429026</td>\n",
       "      <td>20087581.782378</td>\n",
       "      <td>NaN</td>\n",
       "      <td>NaN</td>\n",
       "      <td>14.906354</td>\n",
       "      <td>0</td>\n",
       "      <td>0</td>\n",
       "      <td>177.565862</td>\n",
       "      <td>106.725924</td>\n",
       "      <td>124.761773</td>\n",
       "      <td>NaN</td>\n",
       "      <td>1</td>\n",
       "    </tr>\n",
       "    <tr>\n",
       "      <th>std</th>\n",
       "      <td>3.571198</td>\n",
       "      <td>0.000498</td>\n",
       "      <td>0.003038</td>\n",
       "      <td>35733.385873</td>\n",
       "      <td>NaN</td>\n",
       "      <td>NaN</td>\n",
       "      <td>54.512583</td>\n",
       "      <td>0</td>\n",
       "      <td>0</td>\n",
       "      <td>40.620246</td>\n",
       "      <td>24.558027</td>\n",
       "      <td>27.550837</td>\n",
       "      <td>NaN</td>\n",
       "      <td>NaN</td>\n",
       "    </tr>\n",
       "    <tr>\n",
       "      <th>min</th>\n",
       "      <td>45.700000</td>\n",
       "      <td>37.769440</td>\n",
       "      <td>-122.434440</td>\n",
       "      <td>20030101.000000</td>\n",
       "      <td>NaN</td>\n",
       "      <td>NaN</td>\n",
       "      <td>0.000000</td>\n",
       "      <td>0</td>\n",
       "      <td>0</td>\n",
       "      <td>67.000000</td>\n",
       "      <td>22.000000</td>\n",
       "      <td>67.000000</td>\n",
       "      <td>NaN</td>\n",
       "      <td>1</td>\n",
       "    </tr>\n",
       "    <tr>\n",
       "      <th>25%</th>\n",
       "      <td>45.700000</td>\n",
       "      <td>37.769440</td>\n",
       "      <td>-122.433330</td>\n",
       "      <td>20060203.000000</td>\n",
       "      <td>NaN</td>\n",
       "      <td>NaN</td>\n",
       "      <td>0.000000</td>\n",
       "      <td>0</td>\n",
       "      <td>0</td>\n",
       "      <td>150.000000</td>\n",
       "      <td>89.000000</td>\n",
       "      <td>106.000000</td>\n",
       "      <td>NaN</td>\n",
       "      <td>1</td>\n",
       "    </tr>\n",
       "    <tr>\n",
       "      <th>50%</th>\n",
       "      <td>45.700000</td>\n",
       "      <td>37.770500</td>\n",
       "      <td>-122.426900</td>\n",
       "      <td>20090308.000000</td>\n",
       "      <td>NaN</td>\n",
       "      <td>NaN</td>\n",
       "      <td>0.000000</td>\n",
       "      <td>0</td>\n",
       "      <td>0</td>\n",
       "      <td>172.000000</td>\n",
       "      <td>106.000000</td>\n",
       "      <td>122.000000</td>\n",
       "      <td>NaN</td>\n",
       "      <td>1</td>\n",
       "    </tr>\n",
       "    <tr>\n",
       "      <th>75%</th>\n",
       "      <td>53.300000</td>\n",
       "      <td>37.770500</td>\n",
       "      <td>-122.426900</td>\n",
       "      <td>20120410.000000</td>\n",
       "      <td>NaN</td>\n",
       "      <td>NaN</td>\n",
       "      <td>0.000000</td>\n",
       "      <td>0</td>\n",
       "      <td>0</td>\n",
       "      <td>194.000000</td>\n",
       "      <td>122.000000</td>\n",
       "      <td>144.000000</td>\n",
       "      <td>NaN</td>\n",
       "      <td>1</td>\n",
       "    </tr>\n",
       "    <tr>\n",
       "      <th>max</th>\n",
       "      <td>53.300000</td>\n",
       "      <td>37.770500</td>\n",
       "      <td>-122.426900</td>\n",
       "      <td>20150514.000000</td>\n",
       "      <td>NaN</td>\n",
       "      <td>NaN</td>\n",
       "      <td>864.000000</td>\n",
       "      <td>0</td>\n",
       "      <td>0</td>\n",
       "      <td>367.000000</td>\n",
       "      <td>200.000000</td>\n",
       "      <td>222.000000</td>\n",
       "      <td>NaN</td>\n",
       "      <td>1</td>\n",
       "    </tr>\n",
       "  </tbody>\n",
       "</table>\n",
       "</div>"
      ],
      "text/plain": [
       "         ELEVATION     LATITUDE    LONGITUDE             DATE  MDPR  DAPR  \\\n",
       "count  4517.000000  4517.000000  4517.000000      4517.000000     0     0   \n",
       "mean     48.200244    37.770151  -122.429026  20087581.782378   NaN   NaN   \n",
       "std       3.571198     0.000498     0.003038     35733.385873   NaN   NaN   \n",
       "min      45.700000    37.769440  -122.434440  20030101.000000   NaN   NaN   \n",
       "25%      45.700000    37.769440  -122.433330  20060203.000000   NaN   NaN   \n",
       "50%      45.700000    37.770500  -122.426900  20090308.000000   NaN   NaN   \n",
       "75%      53.300000    37.770500  -122.426900  20120410.000000   NaN   NaN   \n",
       "max      53.300000    37.770500  -122.426900  20150514.000000   NaN   NaN   \n",
       "\n",
       "              PRCP  SNWD  SNOW         TMAX         TMIN        TOBS  WT01  \\\n",
       "count  4517.000000  1365  1377  4517.000000  4517.000000  361.000000     0   \n",
       "mean     14.906354     0     0   177.565862   106.725924  124.761773   NaN   \n",
       "std      54.512583     0     0    40.620246    24.558027   27.550837   NaN   \n",
       "min       0.000000     0     0    67.000000    22.000000   67.000000   NaN   \n",
       "25%       0.000000     0     0   150.000000    89.000000  106.000000   NaN   \n",
       "50%       0.000000     0     0   172.000000   106.000000  122.000000   NaN   \n",
       "75%       0.000000     0     0   194.000000   122.000000  144.000000   NaN   \n",
       "max     864.000000     0     0   367.000000   200.000000  222.000000   NaN   \n",
       "\n",
       "       WT11  \n",
       "count     1  \n",
       "mean      1  \n",
       "std     NaN  \n",
       "min       1  \n",
       "25%       1  \n",
       "50%       1  \n",
       "75%       1  \n",
       "max       1  "
      ]
     },
     "execution_count": 2,
     "metadata": {},
     "output_type": "execute_result"
    }
   ],
   "source": [
    "readData = pd.read_csv('./../weather1.csv')\n",
    "readData = readData.replace('-9999', np.nan)\n",
    "readData.describe()"
   ]
  },
  {
   "cell_type": "markdown",
   "metadata": {},
   "source": [
    "Create a column for each station name"
   ]
  },
  {
   "cell_type": "code",
   "execution_count": 3,
   "metadata": {
    "collapsed": false
   },
   "outputs": [
    {
     "data": {
      "text/plain": [
       "array(['SAN FRANCISCO DOWNTOWN CA US'], dtype=object)"
      ]
     },
     "execution_count": 3,
     "metadata": {},
     "output_type": "execute_result"
    }
   ],
   "source": [
    "stations = readData['STATION_NAME'].unique()\n",
    "stations"
   ]
  },
  {
   "cell_type": "markdown",
   "metadata": {},
   "source": [
    "Previously, we tried to get data from multiple difference sources. The code below is us exploring how to import that data and work with it. (This code won't actually run because we no longer have data for those sources in our repo. (All of our data is downtown data)"
   ]
  },
  {
   "cell_type": "code",
   "execution_count": null,
   "metadata": {
    "collapsed": false
   },
   "outputs": [],
   "source": [
    "stationOcean = readData.loc[readData['STATION_NAME'] == stations[0]]\n",
    "station30 = readData.loc[readData['STATION_NAME'] == stations[1]]\n",
    "stationDowntown = readData.loc[readData['STATION_NAME'] == stations[2]]\n",
    "station11 = readData.loc[readData['STATION_NAME'] == stations[3]]\n",
    "station28 = readData.loc[readData['STATION_NAME'] == stations[4]]"
   ]
  },
  {
   "cell_type": "code",
   "execution_count": null,
   "metadata": {
    "collapsed": false
   },
   "outputs": [],
   "source": [
    "print len(stationOcean)\n",
    "print len(station30)\n",
    "print len(stationDowntown)\n",
    "print len(station11)\n",
    "print len(station28)"
   ]
  },
  {
   "cell_type": "code",
   "execution_count": null,
   "metadata": {
    "collapsed": false
   },
   "outputs": [],
   "source": [
    "stationDowntown.is_copy = False\n",
    "stationDowntown.describe()"
   ]
  },
  {
   "cell_type": "code",
   "execution_count": null,
   "metadata": {
    "collapsed": false
   },
   "outputs": [],
   "source": [
    "# stationDowntown['DATE'] = stationDowntown['DATE'].astype(str);\n",
    "stationDowntown['DATE'] = stationDowntown.DATE.astype(str)"
   ]
  },
  {
   "cell_type": "code",
   "execution_count": null,
   "metadata": {
    "collapsed": false
   },
   "outputs": [],
   "source": [
    "stationDowntown['YEAR'] = stationDowntown['DATE'].apply(lambda x: x[:4]).astype(int)\n",
    "stationDowntown['Month'] = stationDowntown['DATE'].apply(lambda x: x[4:6]).astype(int)\n",
    "stationDowntown['Day'] = stationDowntown['DATE'].apply(lambda x: x[6:8]).astype(int)"
   ]
  },
  {
   "cell_type": "code",
   "execution_count": null,
   "metadata": {
    "collapsed": false
   },
   "outputs": [],
   "source": [
    "stationDowntown"
   ]
  },
  {
   "cell_type": "code",
   "execution_count": null,
   "metadata": {
    "collapsed": false
   },
   "outputs": [],
   "source": [
    "grouped = stationDowntown.groupby(['YEAR', 'Month'])\n",
    "monthAverage = grouped.aggregate(np.average)\n",
    "plt.plot(monthAverage['TMAX'].values)\n",
    "plt.plot(monthAverage['TMIN'].values)\n",
    "plt.show()\n",
    "# grouped.get_group(1)\n",
    "# for name, group in grouped:\n",
    "#     print(name)\n",
    "#     print(group)"
   ]
  },
  {
   "cell_type": "code",
   "execution_count": null,
   "metadata": {
    "collapsed": false
   },
   "outputs": [],
   "source": [
    "plt.plot(monthAverage['PRCP'].values)\n",
    "plt.show()"
   ]
  },
  {
   "cell_type": "code",
   "execution_count": null,
   "metadata": {
    "collapsed": true
   },
   "outputs": [],
   "source": []
  }
 ],
 "metadata": {
  "kernelspec": {
   "display_name": "Python 2",
   "language": "python",
   "name": "python2"
  },
  "language_info": {
   "codemirror_mode": {
    "name": "ipython",
    "version": 2
   },
   "file_extension": ".py",
   "mimetype": "text/x-python",
   "name": "python",
   "nbconvert_exporter": "python",
   "pygments_lexer": "ipython2",
   "version": "2.7.11"
  }
 },
 "nbformat": 4,
 "nbformat_minor": 0
}
