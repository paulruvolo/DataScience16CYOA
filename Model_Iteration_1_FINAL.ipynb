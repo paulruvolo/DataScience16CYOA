{
 "cells": [
  {
   "cell_type": "code",
   "execution_count": 16,
   "metadata": {
    "collapsed": true
   },
   "outputs": [],
   "source": [
    "import re\n",
    "import pandas as pd\n",
    "import numpy as np\n",
    "from matplotlib import pyplot as plt\n",
    "import nltk\n",
    "from nltk.corpus import stopwords # Import the stop word list\n",
    "from sklearn.feature_extraction.text import TfidfVectorizer\n",
    "from sklearn import cross_validation\n",
    "from sklearn.naive_bayes import MultinomialNB\n",
    "\n",
    "\n",
    "%matplotlib inline\n",
    "\n",
    "def review_to_words( raw_review ):\n",
    "    letters_only = re.sub(\"[^a-zA-Z]\", \" \", raw_review) \n",
    "    words = letters_only.lower().split()                             \n",
    "    stops = set(stopwords.words(\"english\"))                  \n",
    "    meaningful_words = [w for w in words if not w in stops]   \n",
    "    return( \" \".join( meaningful_words ))   \n",
    "\n",
    "train_df = pd.read_table('train.tsv')\n",
    "test_df = pd.read_table('test.tsv')\n",
    "\n",
    "test_df['Sentiment'] = -1 #a placeholder value, once we break up the test data into subsets, we can change this value\n",
    "train_sentences = train_df.groupby('SentenceId').first().reset_index()\n",
    "test_sentences = test_df.groupby('SentenceId').first().reset_index()\n",
    "train_sentences[\"Phrase\"] = train_sentences[\"Phrase\"].apply(review_to_words)\n",
    "test_sentences[\"Phrase\"] = test_sentences[\"Phrase\"].apply(review_to_words)"
   ]
  },
  {
   "cell_type": "code",
   "execution_count": 19,
   "metadata": {
    "collapsed": false
   },
   "outputs": [
    {
     "name": "stdout",
     "output_type": "stream",
     "text": [
      "Accuracy 0.392437801424\n"
     ]
    },
    {
     "data": {
      "image/png": "[encoded data removed]",
      "text/plain": [
       "<matplotlib.figure.Figure at 0x11773a350>"
      ]
     },
     "metadata": {},
     "output_type": "display_data"
    },
    {
     "name": "stdout",
     "output_type": "stream",
     "text": [
      "Sentiment:  0 Percentage:  0.00211480362538\n",
      "Sentiment:  1 Percentage:  0.415709969789\n",
      "Sentiment:  2 Percentage:  0.0190332326284\n",
      "Sentiment:  3 Percentage:  0.548640483384\n",
      "Sentiment:  4 Percentage:  0.014501510574\n"
     ]
    }
   ],
   "source": [
    "vectorizer = TfidfVectorizer()\n",
    "vectorizer.fit(train_sentences.Phrase)\n",
    "\n",
    "train_sentences_features = vectorizer.transform(train_sentences.Phrase)\n",
    "test_sentences_features = vectorizer.transform(test_sentences.Phrase)\n",
    "\n",
    "clf = MultinomialNB(alpha=1.0, class_prior=None, fit_prior=True)\n",
    "scores = cross_validation.cross_val_score(clf, train_sentences_features, train_sentences[\"Sentiment\"], cv=10)\n",
    "print \"Accuracy\", scores.mean()\n",
    "\n",
    "clf = clf.fit(train_sentences_features, train_sentences[\"Sentiment\"])\n",
    "result = clf.predict(test_sentences_features)\n",
    "sentences = pd.DataFrame(data={\"PhraseId\":test_sentences[\"PhraseId\"], \"Sentiment\":result})\n",
    "\n",
    "plt.hist(sentences.Sentiment)\n",
    "plt.xlabel('Sentiment')\n",
    "plt.ylabel('Count')\n",
    "plt.title('Count of the number of sentences for each predicted sentiment')\n",
    "plt.show()\n",
    "for i in range(0, 5):\n",
    "    print \"Sentiment: \", i, \"Percentage: \", len(sentences[sentences.Sentiment == i]) / float(len(sentences))"
   ]
  },
  {
   "cell_type": "code",
   "execution_count": 23,
   "metadata": {
    "collapsed": false
   },
   "outputs": [
    {
     "name": "stderr",
     "output_type": "stream",
     "text": [
      "/anaconda/lib/python2.7/site-packages/ipykernel/__main__.py:18: SettingWithCopyWarning: \n",
      "A value is trying to be set on a copy of a slice from a DataFrame.\n",
      "Try using .loc[row_indexer,col_indexer] = value instead\n",
      "\n",
      "See the caveats in the documentation: http://pandas.pydata.org/pandas-docs/stable/indexing.html#indexing-view-versus-copy\n"
     ]
    },
    {
     "data": {
      "image/png": "[encoded data removed]",
      "text/plain": [
       "<matplotlib.figure.Figure at 0x115b56fd0>"
      ]
     },
     "metadata": {},
     "output_type": "display_data"
    },
    {
     "name": "stdout",
     "output_type": "stream",
     "text": [
      "Sentiment:  0 Percentage:  0.0\n",
      "Sentiment:  1 Percentage:  0.0913720790893\n",
      "Sentiment:  2 Percentage:  0.830037946874\n",
      "Sentiment:  3 Percentage:  0.0785899740363\n",
      "Sentiment:  4 Percentage:  0.0\n"
     ]
    }
   ],
   "source": [
    "negWords = open(\"negative.txt\").read().split(\"\\n\")\n",
    "posWords = open(\"positive.txt\").read().split(\"\\n\")\n",
    "\n",
    "test_df[\"containsSpaces\"] = test_df[\"Phrase\"].apply(lambda x: ' ' in x)\n",
    "test_sw = test_df[test_df.containsSpaces == False]\n",
    "\n",
    "def get_sentiment_single_word(word):\n",
    "    \"\"\"Takes in as input a single word, checks if the word is in two text files we downloaded of negative and positive\n",
    "    words, and returns the corresponding value. We use 1 and 3 instead of 0 and 4 because we assume no single word can\n",
    "    have an extremely negative or positive sentiment.\"\"\"\n",
    "    if word in negWords:\n",
    "        return 1\n",
    "    elif word in posWords:\n",
    "        return 3\n",
    "    else:\n",
    "        return 2\n",
    "    \n",
    "test_sw['Sentiment'] = test_sw['Phrase'].apply(get_sentiment_single_word)\n",
    "\n",
    "sw = test_sw[['PhraseId', 'Sentiment']]\n",
    "\n",
    "plt.hist(sw.Sentiment)\n",
    "plt.xlabel('Sentiment')\n",
    "plt.ylabel('Count')\n",
    "plt.title('Count of the number of single words for each predicted sentiment')\n",
    "plt.show()\n",
    "for i in range(0, 5):\n",
    "    print \"Sentiment: \", i, \"Percentage: \", len(sw[sw.Sentiment == i]) / float(len(sw))\n",
    "\n",
    "merged1 = pd.merge(sentences, sw, how='outer')"
   ]
  },
  {
   "cell_type": "code",
   "execution_count": 25,
   "metadata": {
    "collapsed": false
   },
   "outputs": [
    {
     "name": "stdout",
     "output_type": "stream",
     "text": [
      "66292\n"
     ]
    }
   ],
   "source": [
    "remainingPhrases = test_df[~test_df['PhraseId'].isin(merged1['PhraseId'])].reset_index()\n",
    "remainingPhrases[\"Phrase\"] = remainingPhrases[\"Phrase\"].apply(review_to_words)\n",
    "\n",
    "sw_dict = test_sw.set_index('Phrase')['Sentiment'].to_dict()\n",
    "\n",
    "def get_sentiment_phrase(phrase):\n",
    "    phrase_sentiment = []\n",
    "    for word in phrase.split():\n",
    "        if word in sw_dict:\n",
    "            phrase_sentiment.append(sw_dict[word])\n",
    "        else:\n",
    "            phrase_sentiment.append(2)\n",
    "    if len(phrase_sentiment):\n",
    "        return sum(phrase_sentiment)/len(phrase_sentiment)\n",
    "    else:\n",
    "        return 2\n",
    "\n",
    "remainingPhrases['Sentiment'] = remainingPhrases['Phrase'].apply(get_sentiment_phrase)\n",
    "phrases = remainingPhrases[['PhraseId', 'Sentiment']]\n",
    "merged2 = pd.merge(merged1, phrases, how='outer')\n",
    "print len(merged2)"
   ]
  },
  {
   "cell_type": "code",
   "execution_count": 34,
   "metadata": {
    "collapsed": false
   },
   "outputs": [],
   "source": [
    "final = merged2.sort_values(by='PhraseId')\n",
    "final['PhraseId'] = final['PhraseId'].apply(lambda x: int(x))\n",
    "final['Sentiment'] = final['Sentiment'].apply(lambda x: int(x))\n",
    "final.to_csv( \"ZG_rotten_tomatoes_model1.csv\", index=False, quoting=3 )"
   ]
  },
  {
   "cell_type": "markdown",
   "metadata": {},
   "source": [
    "Kaggle score: 0.52572"
   ]
  },
  {
   "cell_type": "code",
   "execution_count": 36,
   "metadata": {
    "collapsed": false
   },
   "outputs": [],
   "source": [
    "baseline = merged2.sort_values(by='PhraseId')\n",
    "baseline['PhraseId'] = final['PhraseId'].apply(lambda x: int(x))\n",
    "baseline['Sentiment'] = final['Sentiment'].apply(lambda x: 2)\n",
    "baseline.to_csv( \"ZG_rotten_tomatoes_baseline.csv\", index=False, quoting=3 )"
   ]
  },
  {
   "cell_type": "markdown",
   "metadata": {},
   "source": [
    "Kaggle score: 0.51789"
   ]
  }
 ],
 "metadata": {
  "kernelspec": {
   "display_name": "Python 2",
   "language": "python",
   "name": "python2"
  },
  "language_info": {
   "codemirror_mode": {
    "name": "ipython",
    "version": 2
   },
   "file_extension": ".py",
   "mimetype": "text/x-python",
   "name": "python",
   "nbconvert_exporter": "python",
   "pygments_lexer": "ipython2",
   "version": "2.7.11"
  }
 },
 "nbformat": 4,
 "nbformat_minor": 0
}
