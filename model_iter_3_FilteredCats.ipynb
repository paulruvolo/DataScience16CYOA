{
 "cells": [
  {
   "cell_type": "code",
   "execution_count": 1,
   "metadata": {
    "collapsed": false
   },
   "outputs": [
    {
     "name": "stdout",
     "output_type": "stream",
     "text": [
      "                Dates        Category                  Descript  DayOfWeek  \\\n",
      "0 2015-05-13 23:53:00        WARRANTS            WARRANT ARREST  Wednesday   \n",
      "1 2015-05-13 23:53:00  OTHER OFFENSES  TRAFFIC VIOLATION ARREST  Wednesday   \n",
      "\n",
      "  PdDistrict      Resolution             Address           X          Y  \n",
      "0   NORTHERN  ARREST, BOOKED  OAK ST / LAGUNA ST -122.425892  37.774599  \n",
      "1   NORTHERN  ARREST, BOOKED  OAK ST / LAGUNA ST -122.425892  37.774599  \n"
     ]
    }
   ],
   "source": [
    "import pandas as pd\n",
    "import helpers\n",
    "\n",
    "from IPython.display import display\n",
    "from sklearn.cross_validation import train_test_split\n",
    "from sklearn import preprocessing\n",
    "# from sklearn.metrics import log_loss\n",
    "# from sklearn.naive_bayes import BernoulliNB\n",
    "# from sklearn.linear_model import LogisticRegression\n",
    "from sklearn.cross_validation import KFold\n",
    "import numpy as np\n",
    "\n",
    "# convert the Dates column of our provided data from string to datetime format.\n",
    "train=pd.read_csv('train.csv', parse_dates = ['Dates'])\n",
    "test=pd.read_csv('test.csv', parse_dates = ['Dates'])\n",
    "\n",
    "# Print the first 5 rows of the dataframe.\n",
    "print train.head(2)\n"
   ]
  },
  {
   "cell_type": "code",
   "execution_count": 2,
   "metadata": {
    "collapsed": false
   },
   "outputs": [],
   "source": [
    "def filter_cats(data):\n",
    "    # Filters the dataset for the most popular crime categories \n",
    "    # \"most popular\" being categories with more than 5000 incidents\n",
    "    df = data.groupby(\"Category\")\n",
    "    keep_cats = []\n",
    "    drop_cats = []\n",
    "    keep_cats_dataframes = []\n",
    "    for c in data[\"Category\"].unique():\n",
    "        if len(df.get_group(c)) > 13000:\n",
    "            keep_cats.append(c)\n",
    "            keep_cats_dataframes.append(data[data[\"Category\"] == c])\n",
    "        else:\n",
    "            drop_cats.append(c)\n",
    "\n",
    "    filtered_df = pd.concat(keep_cats_dataframes)\n",
    "    return filtered_df, keep_cats\n",
    "\n",
    "filtered_train, keep_cats = filter_cats(train)\n",
    "\n",
    "training, validation = train_test_split(filtered_train, train_size=.60)"
   ]
  },
  {
   "cell_type": "code",
   "execution_count": 3,
   "metadata": {
    "collapsed": false
   },
   "outputs": [
    {
     "data": {
      "text/html": [
       "<div>\n",
       "<table border=\"1\" class=\"dataframe\">\n",
       "  <thead>\n",
       "    <tr style=\"text-align: right;\">\n",
       "      <th></th>\n",
       "      <th>Dates</th>\n",
       "      <th>Friday</th>\n",
       "      <th>Monday</th>\n",
       "      <th>Saturday</th>\n",
       "      <th>Sunday</th>\n",
       "      <th>Thursday</th>\n",
       "      <th>Tuesday</th>\n",
       "      <th>Wednesday</th>\n",
       "      <th>BAYVIEW</th>\n",
       "      <th>CENTRAL</th>\n",
       "      <th>INGLESIDE</th>\n",
       "      <th>MISSION</th>\n",
       "      <th>NORTHERN</th>\n",
       "      <th>PARK</th>\n",
       "      <th>RICHMOND</th>\n",
       "      <th>SOUTHERN</th>\n",
       "      <th>TARAVAL</th>\n",
       "      <th>TENDERLOIN</th>\n",
       "    </tr>\n",
       "  </thead>\n",
       "  <tbody>\n",
       "    <tr>\n",
       "      <th>779309</th>\n",
       "      <td>18</td>\n",
       "      <td>0</td>\n",
       "      <td>0</td>\n",
       "      <td>0</td>\n",
       "      <td>0</td>\n",
       "      <td>0</td>\n",
       "      <td>0</td>\n",
       "      <td>1</td>\n",
       "      <td>0</td>\n",
       "      <td>0</td>\n",
       "      <td>0</td>\n",
       "      <td>1</td>\n",
       "      <td>0</td>\n",
       "      <td>0</td>\n",
       "      <td>0</td>\n",
       "      <td>0</td>\n",
       "      <td>0</td>\n",
       "      <td>0</td>\n",
       "    </tr>\n",
       "    <tr>\n",
       "      <th>30821</th>\n",
       "      <td>14</td>\n",
       "      <td>0</td>\n",
       "      <td>0</td>\n",
       "      <td>1</td>\n",
       "      <td>0</td>\n",
       "      <td>0</td>\n",
       "      <td>0</td>\n",
       "      <td>0</td>\n",
       "      <td>1</td>\n",
       "      <td>0</td>\n",
       "      <td>0</td>\n",
       "      <td>0</td>\n",
       "      <td>0</td>\n",
       "      <td>0</td>\n",
       "      <td>0</td>\n",
       "      <td>0</td>\n",
       "      <td>0</td>\n",
       "      <td>0</td>\n",
       "    </tr>\n",
       "    <tr>\n",
       "      <th>65133</th>\n",
       "      <td>14</td>\n",
       "      <td>0</td>\n",
       "      <td>1</td>\n",
       "      <td>0</td>\n",
       "      <td>0</td>\n",
       "      <td>0</td>\n",
       "      <td>0</td>\n",
       "      <td>0</td>\n",
       "      <td>0</td>\n",
       "      <td>0</td>\n",
       "      <td>0</td>\n",
       "      <td>0</td>\n",
       "      <td>0</td>\n",
       "      <td>0</td>\n",
       "      <td>0</td>\n",
       "      <td>1</td>\n",
       "      <td>0</td>\n",
       "      <td>0</td>\n",
       "    </tr>\n",
       "    <tr>\n",
       "      <th>6669</th>\n",
       "      <td>11</td>\n",
       "      <td>0</td>\n",
       "      <td>1</td>\n",
       "      <td>0</td>\n",
       "      <td>0</td>\n",
       "      <td>0</td>\n",
       "      <td>0</td>\n",
       "      <td>0</td>\n",
       "      <td>0</td>\n",
       "      <td>0</td>\n",
       "      <td>0</td>\n",
       "      <td>0</td>\n",
       "      <td>1</td>\n",
       "      <td>0</td>\n",
       "      <td>0</td>\n",
       "      <td>0</td>\n",
       "      <td>0</td>\n",
       "      <td>0</td>\n",
       "    </tr>\n",
       "    <tr>\n",
       "      <th>452456</th>\n",
       "      <td>10</td>\n",
       "      <td>0</td>\n",
       "      <td>0</td>\n",
       "      <td>1</td>\n",
       "      <td>0</td>\n",
       "      <td>0</td>\n",
       "      <td>0</td>\n",
       "      <td>0</td>\n",
       "      <td>0</td>\n",
       "      <td>1</td>\n",
       "      <td>0</td>\n",
       "      <td>0</td>\n",
       "      <td>0</td>\n",
       "      <td>0</td>\n",
       "      <td>0</td>\n",
       "      <td>0</td>\n",
       "      <td>0</td>\n",
       "      <td>0</td>\n",
       "    </tr>\n",
       "  </tbody>\n",
       "</table>\n",
       "</div>"
      ],
      "text/plain": [
       "        Dates  Friday  Monday  Saturday  Sunday  Thursday  Tuesday  Wednesday  \\\n",
       "779309     18       0       0         0       0         0        0          1   \n",
       "30821      14       0       0         1       0         0        0          0   \n",
       "65133      14       0       1         0       0         0        0          0   \n",
       "6669       11       0       1         0       0         0        0          0   \n",
       "452456     10       0       0         1       0         0        0          0   \n",
       "\n",
       "        BAYVIEW  CENTRAL  INGLESIDE  MISSION  NORTHERN  PARK  RICHMOND  \\\n",
       "779309        0        0          0        1         0     0         0   \n",
       "30821         1        0          0        0         0     0         0   \n",
       "65133         0        0          0        0         0     0         0   \n",
       "6669          0        0          0        0         1     0         0   \n",
       "452456        0        1          0        0         0     0         0   \n",
       "\n",
       "        SOUTHERN  TARAVAL  TENDERLOIN  \n",
       "779309         0        0           0  \n",
       "30821          0        0           0  \n",
       "65133          1        0           0  \n",
       "6669           0        0           0  \n",
       "452456         0        0           0  "
      ]
     },
     "metadata": {},
     "output_type": "display_data"
    }
   ],
   "source": [
    "def prep(data):\n",
    "    days = pd.get_dummies(data.DayOfWeek)\n",
    "    district = pd.get_dummies(data.PdDistrict)\n",
    "    \n",
    "    # Gets the hour portion form the \"Dates\" column\n",
    "    hour = data.Dates.dt.hour\n",
    "    \n",
    "    #Build new array with binary info on location, day and hour and numbered crime\n",
    "    train_data = pd.concat([hour, days, district], axis=1)\n",
    "    return train_data\n",
    "\n",
    "\n",
    "preped_filtered_train = prep(training)\n",
    "# 878049 x 18 columns\n",
    "display(preped_filtered_train.head())"
   ]
  },
  {
   "cell_type": "code",
   "execution_count": 4,
   "metadata": {
    "collapsed": false
   },
   "outputs": [
    {
     "name": "stdout",
     "output_type": "stream",
     "text": [
      "['LARCENY/THEFT' 'VEHICLE THEFT' 'ROBBERY' ..., 'OTHER OFFENSES'\n",
      " 'OTHER OFFENSES' 'BURGLARY']\n",
      "[ 4 11  8 ...,  7  7  1]\n"
     ]
    }
   ],
   "source": [
    "#Convert crime labels to numbers\n",
    "le_crime = preprocessing.LabelEncoder()\n",
    "encodedCrime = le_crime.fit_transform(training.Category)\n",
    "humanReadableCrime = le_crime.inverse_transform(encodedCrime)\n",
    "print humanReadableCrime\n",
    "print encodedCrime"
   ]
  },
  {
   "cell_type": "code",
   "execution_count": 7,
   "metadata": {
    "collapsed": false
   },
   "outputs": [],
   "source": [
    "from sklearn import tree\n",
    "X = preped_filtered_train\n",
    "Y = encodedCrime\n",
    "clf = tree.DecisionTreeClassifier()\n",
    "clf = clf.fit(X, Y)"
   ]
  },
  {
   "cell_type": "code",
   "execution_count": 8,
   "metadata": {
    "collapsed": false
   },
   "outputs": [],
   "source": [
    "keep_cats_dataframes = []\n",
    "for c in keep_cats:\n",
    "    keep_cats_dataframes.append(validation[validation[\"Category\"] == c])\n",
    "filtered_validation_df = pd.concat(keep_cats_dataframes)\n",
    "\n",
    "preped_filtered_validation = prep(filtered_validation_df)\n",
    "validationPredictions = clf.predict(preped_filtered_validation)"
   ]
  },
  {
   "cell_type": "code",
   "execution_count": 9,
   "metadata": {
    "collapsed": false
   },
   "outputs": [],
   "source": [
    "humanReadableValidationPredictions = le_crime.inverse_transform(validationPredictions)"
   ]
  },
  {
   "cell_type": "code",
   "execution_count": 11,
   "metadata": {
    "collapsed": false
   },
   "outputs": [],
   "source": [
    "validationTrueLabels = le_crime.fit_transform(filtered_validation_df.Category)"
   ]
  },
  {
   "cell_type": "code",
   "execution_count": 15,
   "metadata": {
    "collapsed": false
   },
   "outputs": [
    {
     "name": "stdout",
     "output_type": "stream",
     "text": [
      "[0 7 7 4 4 4 7 4 7 4 7 4 4 4 2 4 4 7 2 4]\n",
      "[12 12 12 12 12 12 12 12 12 12 12 12 12 12 12 12 12 12 12 12]\n",
      "0.24578737841\n"
     ]
    }
   ],
   "source": [
    "print validationPredictions[0:20]\n",
    "print validationTrueLabels[0:20]\n",
    "counter = 0\n",
    "for i in range(len(validationPredictions)):\n",
    "    if validationPredictions[i] == validationTrueLabels[i]:\n",
    "        counter+=1\n",
    "\n",
    "accuracy = counter/float(len(validationPredictions))\n",
    "print accuracy"
   ]
  },
  {
   "cell_type": "code",
   "execution_count": 22,
   "metadata": {
    "collapsed": false
   },
   "outputs": [
    {
     "name": "stdout",
     "output_type": "stream",
     "text": [
      "0.242081142127\n"
     ]
    }
   ],
   "source": [
    "from sklearn import cross_validation\n",
    "from sklearn.ensemble import RandomForestClassifier\n",
    "\n",
    "preppedTrainData = prep(filter_cats(train)[0])\n",
    "alg = RandomForestClassifier(random_state=1, n_estimators=10, min_samples_split=4, min_samples_leaf=1)\n",
    "scores = cross_validation.cross_val_score(alg, preppedTrainData, filter_cats(train)[0][\"Category\"], cv=3)\n",
    "\n",
    "print scores.mean()"
   ]
  },
  {
   "cell_type": "code",
   "execution_count": null,
   "metadata": {
    "collapsed": true
   },
   "outputs": [],
   "source": []
  },
  {
   "cell_type": "markdown",
   "metadata": {},
   "source": [
    "After testing both a simple decision tree and a RandomForrest algorith from sklearn we have resulted with a pretty low accuracy score. We believe that the one-hot-encoding method we used (prep()) to encode categorical data, such as days of the week and "
   ]
  }
 ],
 "metadata": {
  "kernelspec": {
   "display_name": "Python 2",
   "language": "python",
   "name": "python2"
  },
  "language_info": {
   "codemirror_mode": {
    "name": "ipython",
    "version": 2
   },
   "file_extension": ".py",
   "mimetype": "text/x-python",
   "name": "python",
   "nbconvert_exporter": "python",
   "pygments_lexer": "ipython2",
   "version": "2.7.11"
  }
 },
 "nbformat": 4,
 "nbformat_minor": 0
}
