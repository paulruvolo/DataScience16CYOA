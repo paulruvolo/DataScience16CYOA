{
 "cells": [
  {
   "cell_type": "code",
   "execution_count": 4,
   "metadata": {
    "collapsed": false
   },
   "outputs": [
    {
     "name": "stdout",
     "output_type": "stream",
     "text": [
      "                   X              Y\n",
      "count  878049.000000  878049.000000\n",
      "mean     -122.422616      37.771020\n",
      "std         0.030354       0.456893\n",
      "min      -122.513642      37.707879\n",
      "25%      -122.432952      37.752427\n",
      "50%      -122.416420      37.775421\n",
      "75%      -122.406959      37.784369\n",
      "max      -120.500000      90.000000\n"
     ]
    }
   ],
   "source": [
    "\n",
    "import pandas as pd\n",
    "\n",
    "\n",
    "train = pd.read_csv('train.csv')\n",
    "\n",
    "print train.describe()"
   ]
  },
  {
   "cell_type": "code",
   "execution_count": 5,
   "metadata": {
    "collapsed": false,
    "scrolled": true
   },
   "outputs": [
    {
     "name": "stdout",
     "output_type": "stream",
     "text": [
      "                 Dates        Category                      Descript  \\\n",
      "0  2015-05-13 23:53:00        WARRANTS                WARRANT ARREST   \n",
      "1  2015-05-13 23:53:00  OTHER OFFENSES      TRAFFIC VIOLATION ARREST   \n",
      "2  2015-05-13 23:33:00  OTHER OFFENSES      TRAFFIC VIOLATION ARREST   \n",
      "3  2015-05-13 23:30:00   LARCENY/THEFT  GRAND THEFT FROM LOCKED AUTO   \n",
      "4  2015-05-13 23:30:00   LARCENY/THEFT  GRAND THEFT FROM LOCKED AUTO   \n",
      "\n",
      "   DayOfWeek PdDistrict      Resolution                    Address  \\\n",
      "0  Wednesday   NORTHERN  ARREST, BOOKED         OAK ST / LAGUNA ST   \n",
      "1  Wednesday   NORTHERN  ARREST, BOOKED         OAK ST / LAGUNA ST   \n",
      "2  Wednesday   NORTHERN  ARREST, BOOKED  VANNESS AV / GREENWICH ST   \n",
      "3  Wednesday   NORTHERN            NONE   1500 Block of LOMBARD ST   \n",
      "4  Wednesday       PARK            NONE  100 Block of BRODERICK ST   \n",
      "\n",
      "            X          Y  \n",
      "0 -122.425892  37.774599  \n",
      "1 -122.425892  37.774599  \n",
      "2 -122.424363  37.800414  \n",
      "3 -122.426995  37.800873  \n",
      "4 -122.438738  37.771541  \n"
     ]
    }
   ],
   "source": [
    "print train.head()"
   ]
  },
  {
   "cell_type": "code",
   "execution_count": 10,
   "metadata": {
    "collapsed": false
   },
   "outputs": [
    {
     "data": {
      "text/plain": [
       "\"Resolution and Descript are  only in train, so it's not going to be worth looking into\""
      ]
     },
     "execution_count": 10,
     "metadata": {},
     "output_type": "execute_result"
    }
   ],
   "source": [
    "\"\"\"Resolution and Descript are  only in train, so it's not going to be worth looking into\"\"\""
   ]
  },
  {
   "cell_type": "code",
   "execution_count": 7,
   "metadata": {
    "collapsed": false,
    "scrolled": true
   },
   "outputs": [
    {
     "data": {
      "text/plain": [
       "Dates         0\n",
       "Category      0\n",
       "Descript      0\n",
       "DayOfWeek     0\n",
       "PdDistrict    0\n",
       "Resolution    0\n",
       "Address       0\n",
       "X             0\n",
       "Y             0\n",
       "dtype: int64"
      ]
     },
     "execution_count": 7,
     "metadata": {},
     "output_type": "execute_result"
    }
   ],
   "source": [
    "train.isnull().sum()"
   ]
  },
  {
   "cell_type": "code",
   "execution_count": 8,
   "metadata": {
    "collapsed": false,
    "scrolled": false
   },
   "outputs": [
    {
     "data": {
      "text/plain": [
       "' Based on my educated guess right now, time of day and location would be my first guess at predictive variables for category. PdDistrict is probably just dependant on Address and/or X Y coords. I want to look at how these three interact'"
      ]
     },
     "execution_count": 8,
     "metadata": {},
     "output_type": "execute_result"
    }
   ],
   "source": [
    "\"\"\" Based on my educated guess right now, time of day and location would be my first guess at predictive variables for category. PdDistrict is probably just dependant on Address and/or X Y coords. I want to look at how these three interact\"\"\""
   ]
  },
  {
   "cell_type": "code",
   "execution_count": 18,
   "metadata": {
    "collapsed": false
   },
   "outputs": [
    {
     "data": {
      "text/plain": [
       "\"Looking at which days of the week correspond best with crime. It'd be nice if I could clean Dates for time only, because then I could look at each time of day at each day of the week\""
      ]
     },
     "execution_count": 18,
     "metadata": {},
     "output_type": "execute_result"
    }
   ],
   "source": [
    "\"\"\"Looking at which days of the week correspond best with crime. It'd be nice if I could clean Dates for time only, because then I could look at each time of day at each day of the week\"\"\""
   ]
  },
  {
   "cell_type": "code",
   "execution_count": 30,
   "metadata": {
    "collapsed": false
   },
   "outputs": [
    {
     "name": "stdout",
     "output_type": "stream",
     "text": [
      "Friday       133734\n",
      "Wednesday    129211\n",
      "Saturday     126810\n",
      "Thursday     125038\n",
      "Tuesday      124965\n",
      "Monday       121584\n",
      "Sunday       116707\n",
      "Name: DayOfWeek, dtype: int64\n",
      "LARCENY/THEFT                  174900\n",
      "OTHER OFFENSES                 126182\n",
      "NON-CRIMINAL                    92304\n",
      "ASSAULT                         76876\n",
      "DRUG/NARCOTIC                   53971\n",
      "VEHICLE THEFT                   53781\n",
      "VANDALISM                       44725\n",
      "WARRANTS                        42214\n",
      "BURGLARY                        36755\n",
      "SUSPICIOUS OCC                  31414\n",
      "MISSING PERSON                  25989\n",
      "ROBBERY                         23000\n",
      "FRAUD                           16679\n",
      "FORGERY/COUNTERFEITING          10609\n",
      "SECONDARY CODES                  9985\n",
      "WEAPON LAWS                      8555\n",
      "PROSTITUTION                     7484\n",
      "TRESPASS                         7326\n",
      "STOLEN PROPERTY                  4540\n",
      "SEX OFFENSES FORCIBLE            4388\n",
      "DISORDERLY CONDUCT               4320\n",
      "DRUNKENNESS                      4280\n",
      "RECOVERED VEHICLE                3138\n",
      "KIDNAPPING                       2341\n",
      "DRIVING UNDER THE INFLUENCE      2268\n",
      "RUNAWAY                          1946\n",
      "LIQUOR LAWS                      1903\n",
      "ARSON                            1513\n",
      "LOITERING                        1225\n",
      "EMBEZZLEMENT                     1166\n",
      "SUICIDE                           508\n",
      "FAMILY OFFENSES                   491\n",
      "BAD CHECKS                        406\n",
      "BRIBERY                           289\n",
      "EXTORTION                         256\n",
      "SEX OFFENSES NON FORCIBLE         148\n",
      "GAMBLING                          146\n",
      "PORNOGRAPHY/OBSCENE MAT            22\n",
      "TREA                                6\n",
      "Name: Category, dtype: int64\n"
     ]
    },
    {
     "data": {
      "text/plain": [
       "[<matplotlib.text.Text at 0x7f5a97b41650>,\n",
       " <matplotlib.text.Text at 0x7f5a97b603d0>,\n",
       " <matplotlib.text.Text at 0x7f5a97adc9d0>,\n",
       " <matplotlib.text.Text at 0x7f5a97adcf90>,\n",
       " <matplotlib.text.Text at 0x7f5a97ae5710>,\n",
       " <matplotlib.text.Text at 0x7f5a97ae5e50>,\n",
       " <matplotlib.text.Text at 0x7f5a97aef5d0>]"
      ]
     },
     "execution_count": 30,
     "metadata": {},
     "output_type": "execute_result"
    },
    {
     "data": {
      "image/png": "[encoded data removed]",
      "text/plain": [
       "<matplotlib.figure.Figure at 0x7f5a98b19050>"
      ]
     },
     "metadata": {},
     "output_type": "display_data"
    }
   ],
   "source": [
    "%matplotlib inline \n",
    "import numpy as np\n",
    "import matplotlib.pyplot as plt\n",
    "print train.DayOfWeek.value_counts()\n",
    "print train.Category.value_counts()\n",
    "\n",
    "#make a plot for DayOfWeek counts \n",
    "\n",
    "fig, ax = plt.subplots()\n",
    "weekRects = ax.bar(np.arange(7), train.DayOfWeek.value_counts(), 0.35, color ='y')\n",
    "ax.set_ylabel('Number of Crimes')\n",
    "ax.set_xlabel('Days of Week')\n",
    "ax.set_xticks(np.arange(7), 0.55)\n",
    "ax.set_xticklabels(('Friday','Wednesday','Saturday','Thursday','Tuesday','Monday', 'Sunday'))"
   ]
  },
  {
   "cell_type": "code",
   "execution_count": 49,
   "metadata": {
    "collapsed": false,
    "scrolled": true
   },
   "outputs": [
    {
     "name": "stdout",
     "output_type": "stream",
     "text": [
      "LARCENY/THEFT     24150\n",
      "OTHER OFFENSES    15457\n",
      "NON-CRIMINAL      12973\n",
      "ASSAULT           12082\n",
      "VEHICLE THEFT      7504\n",
      "Name: Category, dtype: int64\n",
      "LARCENY/THEFT     23570\n",
      "OTHER OFFENSES    17787\n",
      "NON-CRIMINAL      12855\n",
      "ASSAULT           10560\n",
      "DRUG/NARCOTIC      7823\n",
      "Name: Category, dtype: int64\n",
      "LARCENY/THEFT     23957\n",
      "OTHER OFFENSES    18809\n",
      "NON-CRIMINAL      12738\n",
      "ASSAULT           10280\n",
      "DRUG/NARCOTIC      8474\n",
      "Name: Category, dtype: int64\n",
      "LARCENY/THEFT     24487\n",
      "OTHER OFFENSES    19950\n",
      "NON-CRIMINAL      12928\n",
      "ASSAULT           10553\n",
      "DRUG/NARCOTIC      9267\n",
      "Name: Category, dtype: int64\n",
      "LARCENY/THEFT     24415\n",
      "OTHER OFFENSES    18462\n",
      "NON-CRIMINAL      12819\n",
      "ASSAULT           10246\n",
      "DRUG/NARCOTIC      8454\n",
      "Name: Category, dtype: int64\n",
      "LARCENY/THEFT     27104\n",
      "OTHER OFFENSES    18588\n",
      "NON-CRIMINAL      13984\n",
      "ASSAULT           11160\n",
      "VEHICLE THEFT      8613\n",
      "Name: Category, dtype: int64\n",
      "LARCENY/THEFT     27217\n",
      "OTHER OFFENSES    17129\n",
      "NON-CRIMINAL      14007\n",
      "ASSAULT           11995\n",
      "VEHICLE THEFT      8119\n",
      "Name: Category, dtype: int64\n"
     ]
    },
    {
     "data": {
      "text/plain": [
       "\"\\nN = 39 #39 different categories \\nind = np.arange(N)\\nwidth = 0.3\\n\\nfig,ax = plt.subplots()\\nfriRects = ax.bar(ind,friCounts,width, color = 'r')\\nwedRects =ax.bar(ind, wedCounts, width, color ='y')\\nthuRects = ax.bar(ind, thuCounts, width, color ='g')\\ntueRects = ax.bar(ind, tuecounts, width, color ='b')\\nmonRects = ax.bar(ind, monCounts, width, color ='c')\\nsatRects = ax.bar(ind, satCounts, width, color ='k')\\nsunRects = ax.bar(ind, sunCounts, width, color = 'm')\\n\""
      ]
     },
     "execution_count": 49,
     "metadata": {},
     "output_type": "execute_result"
    }
   ],
   "source": [
    "import numpy as np\n",
    "import matplotlib.pyplot as plt\n",
    "\n",
    "Fridays = train[train.DayOfWeek == 'Friday']\n",
    "Wednesdays = train[train.DayOfWeek == 'Wednesday']\n",
    "Thursdays = train[train.DayOfWeek == 'Thursday']\n",
    "Tuesdays = train[train.DayOfWeek == 'Tuesday']\n",
    "Mondays = train[train.DayOfWeek == 'Monday']\n",
    "Saturdays =train[train.DayOfWeek == 'Saturday']\n",
    "Sundays = train[train.DayOfWeek == 'Sunday']\n",
    "\n",
    "\n",
    "\n",
    "friCounts= Fridays.Category.value_counts().head()\n",
    "wedCounts = Wednesdays. Category.value_counts().head()\n",
    "thuCounts =Thursdays.Category.value_counts().head()\n",
    "tueCounts =Tuesdays.Category.value_counts().head()\n",
    "monCounts = Mondays.Category.value_counts().head()\n",
    "satCounts = Saturdays.Category.value_counts().head()\n",
    "sunCounts = Sundays.Category.value_counts().head()\n",
    "#Can also use sort_index() to look at each specific crime across the days\n",
    "\n",
    "print sunCounts\n",
    "\n",
    "print monCounts\n",
    "\n",
    "print tueCounts\n",
    "\n",
    "print wedCounts\n",
    "\n",
    "print thuCounts\n",
    "\n",
    "print friCounts\n",
    "\n",
    "print satCounts\n",
    "#I want to get a comparitive bar graph going at some point. If we're trying to preduct category, I'll want to look at what categories are most popular in a given day\n",
    "\n",
    "'''\n",
    "N = 39 #39 different categories \n",
    "ind = np.arange(N)\n",
    "width = 0.3\n",
    "\n",
    "fig,ax = plt.subplots()\n",
    "friRects = ax.bar(ind,friCounts,width, color = 'r')\n",
    "wedRects =ax.bar(ind, wedCounts, width, color ='y')\n",
    "thuRects = ax.bar(ind, thuCounts, width, color ='g')\n",
    "tueRects = ax.bar(ind, tuecounts, width, color ='b')\n",
    "monRects = ax.bar(ind, monCounts, width, color ='c')\n",
    "satRects = ax.bar(ind, satCounts, width, color ='k')\n",
    "sunRects = ax.bar(ind, sunCounts, width, color = 'm')\n",
    "'''"
   ]
  },
  {
   "cell_type": "code",
   "execution_count": 52,
   "metadata": {
    "collapsed": false
   },
   "outputs": [
    {
     "data": {
      "text/plain": [
       "\"Looks likes Larceny/Theft, other offenses, non-criminal, assault, and vehicle theft are always the most popular. I'm going to track how each one fluctuates over a given week.\""
      ]
     },
     "execution_count": 52,
     "metadata": {},
     "output_type": "execute_result"
    }
   ],
   "source": [
    "\"\"\"Looks likes Larceny/Theft, other offenses, non-criminal, assault, and vehicle theft are always the most popular. I'm going to track how each one fluctuates over a given week.\"\"\""
   ]
  },
  {
   "cell_type": "code",
   "execution_count": 63,
   "metadata": {
    "collapsed": false
   },
   "outputs": [
    {
     "name": "stdout",
     "output_type": "stream",
     "text": [
      "sunday crime\n",
      "ARSON                            211\n",
      "ASSAULT                        12082\n",
      "BAD CHECKS                        20\n",
      "BRIBERY                           41\n",
      "BURGLARY                        4231\n",
      "DISORDERLY CONDUCT               586\n",
      "DRIVING UNDER THE INFLUENCE      442\n",
      "DRUG/NARCOTIC                   6143\n",
      "DRUNKENNESS                      813\n",
      "EMBEZZLEMENT                     108\n",
      "EXTORTION                         39\n",
      "FAMILY OFFENSES                   54\n",
      "FORGERY/COUNTERFEITING           901\n",
      "FRAUD                           1874\n",
      "GAMBLING                          12\n",
      "KIDNAPPING                       374\n",
      "LARCENY/THEFT                  24150\n",
      "LIQUOR LAWS                      222\n",
      "LOITERING                        155\n",
      "MISSING PERSON                  3061\n",
      "NON-CRIMINAL                   12973\n",
      "OTHER OFFENSES                 15457\n",
      "PORNOGRAPHY/OBSCENE MAT            3\n",
      "PROSTITUTION                     620\n",
      "RECOVERED VEHICLE                307\n",
      "ROBBERY                         3284\n",
      "RUNAWAY                          205\n",
      "SECONDARY CODES                 1543\n",
      "SEX OFFENSES FORCIBLE            690\n",
      "SEX OFFENSES NON FORCIBLE         16\n",
      "STOLEN PROPERTY                  583\n",
      "SUICIDE                           67\n",
      "SUSPICIOUS OCC                  4010\n",
      "TRESPASS                         915\n",
      "VANDALISM                       6602\n",
      "VEHICLE THEFT                   7504\n",
      "WARRANTS                        5281\n",
      "WEAPON LAWS                     1128\n",
      "Name: Category, dtype: int64\n"
     ]
    }
   ],
   "source": [
    "#what about every kind of crime? \n",
    "friCounts= Fridays.Category.value_counts().sort_index()\n",
    "wedCounts = Wednesdays. Category.value_counts().sort_index()\n",
    "thuCounts =Thursdays.Category.value_counts().sort_index()\n",
    "tueCounts =Tuesdays.Category.value_counts().sort_index()\n",
    "monCounts = Mondays.Category.value_counts().sort_index()\n",
    "satCounts = Saturdays.Category.value_counts().sort_index()\n",
    "sunCounts = Sundays.Category.value_counts().sort_index()\n",
    "\n",
    "print \"sunday crime\"\n",
    "print sunCounts"
   ]
  },
  {
   "cell_type": "code",
   "execution_count": 64,
   "metadata": {
    "collapsed": false
   },
   "outputs": [
    {
     "ename": "AttributeError",
     "evalue": "'function' object has no attribute 'hist'",
     "output_type": "error",
     "traceback": [
      "\u001b[1;31m---------------------------------------------------------------------------\u001b[0m",
      "\u001b[1;31mAttributeError\u001b[0m                            Traceback (most recent call last)",
      "\u001b[1;32m<ipython-input-64-f77d59a56d10>\u001b[0m in \u001b[0;36m<module>\u001b[1;34m()\u001b[0m\n\u001b[0;32m      1\u001b[0m \u001b[1;31m#group by category and histogram each type\u001b[0m\u001b[1;33m\u001b[0m\u001b[1;33m\u001b[0m\u001b[0m\n\u001b[1;32m----> 2\u001b[1;33m \u001b[0mtrain\u001b[0m\u001b[1;33m.\u001b[0m\u001b[0mCategory\u001b[0m\u001b[1;33m.\u001b[0m\u001b[0mgroupby\u001b[0m\u001b[1;33m.\u001b[0m\u001b[0mhist\u001b[0m\u001b[1;33m(\u001b[0m\u001b[1;33m)\u001b[0m\u001b[1;33m\u001b[0m\u001b[0m\n\u001b[0m",
      "\u001b[1;31mAttributeError\u001b[0m: 'function' object has no attribute 'hist'"
     ]
    }
   ],
   "source": []
  },
  {
   "cell_type": "code",
   "execution_count": null,
   "metadata": {
    "collapsed": true
   },
   "outputs": [],
   "source": []
  },
  {
   "cell_type": "code",
   "execution_count": 60,
   "metadata": {
    "collapsed": false
   },
   "outputs": [
    {
     "data": {
      "text/plain": [
       "'Now filtering to look at time'"
      ]
     },
     "execution_count": 60,
     "metadata": {},
     "output_type": "execute_result"
    }
   ],
   "source": [
    "\"\"\"Now filtering to look at time\"\"\""
   ]
  },
  {
   "cell_type": "code",
   "execution_count": 53,
   "metadata": {
    "collapsed": false
   },
   "outputs": [
    {
     "data": {
      "text/plain": [
       "TestResults(failed=0, attempted=1)"
      ]
     },
     "execution_count": 53,
     "metadata": {},
     "output_type": "execute_result"
    }
   ],
   "source": [
    "#next I want to fileter the Date column just for time. Then I'll groupby time and day\n",
    "\n",
    "def parse_date(Dates):\n",
    "    \"\"\" Convert a date in YYYY-MM-DD HH:MM:SS to a tuple\n",
    "        containing year, month, day, and hours each expressed\n",
    "        as an integer. Used from Paul Ruvolo's example in bikeshare kaggle dataset\n",
    "\n",
    "        >>> parse_date(\"2014-04-05 14:00:00\")\n",
    "        (2014, 4, 5, 14)\n",
    "    \"\"\"\n",
    "    return int(Dates[0:4]), int(Dates[5:7]), int(Dates[8:10]), int(Dates[11:13])\n",
    "import doctest\n",
    "doctest.testmod()"
   ]
  },
  {
   "cell_type": "code",
   "execution_count": null,
   "metadata": {
    "collapsed": true
   },
   "outputs": [],
   "source": []
  },
  {
   "cell_type": "code",
   "execution_count": null,
   "metadata": {
    "collapsed": true
   },
   "outputs": [],
   "source": []
  },
  {
   "cell_type": "code",
   "execution_count": 55,
   "metadata": {
    "collapsed": false,
    "scrolled": true
   },
   "outputs": [],
   "source": [
    "train['hour'] = train.Dates.apply(lambda x: parse_date(x)[3])\n"
   ]
  },
  {
   "cell_type": "code",
   "execution_count": 59,
   "metadata": {
    "collapsed": false
   },
   "outputs": [
    {
     "name": "stdout",
     "output_type": "stream",
     "text": [
      "                         X          Y\n",
      "DayOfWeek hour                       \n",
      "Friday    0    -122.422975  37.790947\n",
      "          1    -122.423157  37.785006\n",
      "          2    -122.423848  37.769253\n",
      "          3    -122.423212  37.768079\n",
      "          4    -122.422790  37.767505\n",
      "          5    -122.420989  37.768818\n",
      "          6    -122.422892  37.766799\n",
      "          7    -122.423002  37.763350\n",
      "          8    -122.423330  37.774572\n",
      "          9    -122.423340  37.765687\n",
      "          10   -122.423794  37.775781\n",
      "          11   -122.423424  37.767063\n",
      "          12   -122.424825  37.766493\n",
      "          13   -122.422122  37.767620\n",
      "          14   -122.422164  37.767236\n",
      "          15   -122.423415  37.766879\n",
      "          16   -122.422395  37.767088\n",
      "          17   -122.421950  37.773840\n",
      "          18   -122.422652  37.779565\n",
      "          19   -122.421844  37.767569\n",
      "          20   -122.422100  37.766894\n",
      "          21   -122.421247  37.775580\n",
      "          22   -122.421830  37.766887\n",
      "          23   -122.421264  37.775285\n",
      "Monday    0    -122.424358  37.766004\n",
      "          1    -122.422513  37.784621\n",
      "          2    -122.423092  37.768825\n",
      "          3    -122.423581  37.767306\n",
      "          4    -122.422698  37.767660\n",
      "          5    -122.422035  37.767796\n",
      "...                    ...        ...\n",
      "Tuesday   18   -122.422117  37.780154\n",
      "          19   -122.421677  37.781109\n",
      "          20   -122.422943  37.782122\n",
      "          21   -122.422717  37.775462\n",
      "          22   -122.424046  37.766532\n",
      "          23   -122.424044  37.775830\n",
      "Wednesday 0    -122.424477  37.766473\n",
      "          1    -122.421268  37.824059\n",
      "          2    -122.423857  37.768267\n",
      "          3    -122.424061  37.769318\n",
      "          4    -122.422489  37.769305\n",
      "          5    -122.419810  37.769517\n",
      "          6    -122.420963  37.766986\n",
      "          7    -122.422172  37.793397\n",
      "          8    -122.423434  37.773988\n",
      "          9    -122.423179  37.765301\n",
      "          10   -122.423516  37.766525\n",
      "          11   -122.421914  37.775887\n",
      "          12   -122.422695  37.787175\n",
      "          13   -122.421979  37.766766\n",
      "          14   -122.422137  37.767277\n",
      "          15   -122.422526  37.767494\n",
      "          16   -122.421517  37.766457\n",
      "          17   -122.422057  37.766560\n",
      "          18   -122.421824  37.767450\n",
      "          19   -122.422383  37.767201\n",
      "          20   -122.422725  37.773622\n",
      "          21   -122.423355  37.766013\n",
      "          22   -122.423115  37.765696\n",
      "          23   -122.423155  37.766846\n",
      "\n",
      "[168 rows x 2 columns]\n"
     ]
    }
   ],
   "source": [
    "print train.groupby(['DayOfWeek', 'hour']).mean()"
   ]
  },
  {
   "cell_type": "code",
   "execution_count": null,
   "metadata": {
    "collapsed": true
   },
   "outputs": [],
   "source": []
  }
 ],
 "metadata": {
  "kernelspec": {
   "display_name": "Python 2",
   "language": "python",
   "name": "python2"
  },
  "language_info": {
   "codemirror_mode": {
    "name": "ipython",
    "version": 2
   },
   "file_extension": ".py",
   "mimetype": "text/x-python",
   "name": "python",
   "nbconvert_exporter": "python",
   "pygments_lexer": "ipython2",
   "version": "2.7.11"
  }
 },
 "nbformat": 4,
 "nbformat_minor": 0
}
