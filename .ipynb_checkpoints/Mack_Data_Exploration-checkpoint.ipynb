{
 "cells": [
  {
   "cell_type": "code",
   "execution_count": 1,
   "metadata": {
    "collapsed": false
   },
   "outputs": [
    {
     "name": "stdout",
     "output_type": "stream",
     "text": [
      "                   X              Y\n",
      "count  878049.000000  878049.000000\n",
      "mean     -122.422616      37.771020\n",
      "std         0.030354       0.456893\n",
      "min      -122.513642      37.707879\n",
      "25%      -122.432952      37.752427\n",
      "50%      -122.416420      37.775421\n",
      "75%      -122.406959      37.784369\n",
      "max      -120.500000      90.000000\n"
     ]
    }
   ],
   "source": [
    "\n",
    "import pandas as pd\n",
    "\n",
    "\n",
    "train = pd.read_csv('train.csv')\n",
    "\n",
    "print train.describe()"
   ]
  },
  {
   "cell_type": "code",
   "execution_count": 2,
   "metadata": {
    "collapsed": false,
    "scrolled": true
   },
   "outputs": [
    {
     "name": "stdout",
     "output_type": "stream",
     "text": [
      "                 Dates        Category                      Descript  \\\n",
      "0  2015-05-13 23:53:00        WARRANTS                WARRANT ARREST   \n",
      "1  2015-05-13 23:53:00  OTHER OFFENSES      TRAFFIC VIOLATION ARREST   \n",
      "2  2015-05-13 23:33:00  OTHER OFFENSES      TRAFFIC VIOLATION ARREST   \n",
      "3  2015-05-13 23:30:00   LARCENY/THEFT  GRAND THEFT FROM LOCKED AUTO   \n",
      "4  2015-05-13 23:30:00   LARCENY/THEFT  GRAND THEFT FROM LOCKED AUTO   \n",
      "\n",
      "   DayOfWeek PdDistrict      Resolution                    Address  \\\n",
      "0  Wednesday   NORTHERN  ARREST, BOOKED         OAK ST / LAGUNA ST   \n",
      "1  Wednesday   NORTHERN  ARREST, BOOKED         OAK ST / LAGUNA ST   \n",
      "2  Wednesday   NORTHERN  ARREST, BOOKED  VANNESS AV / GREENWICH ST   \n",
      "3  Wednesday   NORTHERN            NONE   1500 Block of LOMBARD ST   \n",
      "4  Wednesday       PARK            NONE  100 Block of BRODERICK ST   \n",
      "\n",
      "            X          Y  \n",
      "0 -122.425892  37.774599  \n",
      "1 -122.425892  37.774599  \n",
      "2 -122.424363  37.800414  \n",
      "3 -122.426995  37.800873  \n",
      "4 -122.438738  37.771541  \n"
     ]
    }
   ],
   "source": [
    "print train.head()"
   ]
  },
  {
   "cell_type": "code",
   "execution_count": 3,
   "metadata": {
    "collapsed": false
   },
   "outputs": [
    {
     "data": {
      "text/plain": [
       "\"Resolution and Descript are  only in train, so it's not going to be worth looking into\""
      ]
     },
     "execution_count": 3,
     "metadata": {},
     "output_type": "execute_result"
    }
   ],
   "source": [
    "\"\"\"Resolution and Descript are  only in train, so it's not going to be worth looking into\"\"\""
   ]
  },
  {
   "cell_type": "code",
   "execution_count": 4,
   "metadata": {
    "collapsed": false,
    "scrolled": true
   },
   "outputs": [
    {
     "data": {
      "text/plain": [
       "Dates         0\n",
       "Category      0\n",
       "Descript      0\n",
       "DayOfWeek     0\n",
       "PdDistrict    0\n",
       "Resolution    0\n",
       "Address       0\n",
       "X             0\n",
       "Y             0\n",
       "dtype: int64"
      ]
     },
     "execution_count": 4,
     "metadata": {},
     "output_type": "execute_result"
    }
   ],
   "source": [
    "train.isnull().sum()"
   ]
  },
  {
   "cell_type": "code",
   "execution_count": 21,
   "metadata": {
    "collapsed": false,
    "scrolled": false
   },
   "outputs": [
    {
     "data": {
      "text/plain": [
       "' Based on my educated guess right now, time of day/day and location would be my first guess at predictive variables for category. PdDistrict is probably just dependant on Address and/or X Y coords. I want to look at how these three interact'"
      ]
     },
     "execution_count": 21,
     "metadata": {},
     "output_type": "execute_result"
    }
   ],
   "source": [
    "\"\"\" Based on my educated guess right now, time of day/day and location would be my first guess at predictive variables for category. PdDistrict is probably just dependant on Address and/or X Y coords. I want to look at how these three interact\"\"\""
   ]
  },
  {
   "cell_type": "code",
   "execution_count": 6,
   "metadata": {
    "collapsed": false
   },
   "outputs": [
    {
     "data": {
      "text/plain": [
       "\"Looking at which days of the week correspond best with crime. It'd be nice if I could clean Dates for time only, because then I could look at each time of day at each day of the week\""
      ]
     },
     "execution_count": 6,
     "metadata": {},
     "output_type": "execute_result"
    }
   ],
   "source": [
    "\"\"\"Looking at which days of the week correspond best with crime. It'd be nice if I could clean Dates for time only, because then I could look at each time of day at each day of the week\"\"\""
   ]
  },
  {
   "cell_type": "code",
   "execution_count": 7,
   "metadata": {
    "collapsed": false
   },
   "outputs": [
    {
     "name": "stdout",
     "output_type": "stream",
     "text": [
      "Friday       133734\n",
      "Wednesday    129211\n",
      "Saturday     126810\n",
      "Thursday     125038\n",
      "Tuesday      124965\n",
      "Monday       121584\n",
      "Sunday       116707\n",
      "Name: DayOfWeek, dtype: int64\n",
      "LARCENY/THEFT                  174900\n",
      "OTHER OFFENSES                 126182\n",
      "NON-CRIMINAL                    92304\n",
      "ASSAULT                         76876\n",
      "DRUG/NARCOTIC                   53971\n",
      "VEHICLE THEFT                   53781\n",
      "VANDALISM                       44725\n",
      "WARRANTS                        42214\n",
      "BURGLARY                        36755\n",
      "SUSPICIOUS OCC                  31414\n",
      "MISSING PERSON                  25989\n",
      "ROBBERY                         23000\n",
      "FRAUD                           16679\n",
      "FORGERY/COUNTERFEITING          10609\n",
      "SECONDARY CODES                  9985\n",
      "WEAPON LAWS                      8555\n",
      "PROSTITUTION                     7484\n",
      "TRESPASS                         7326\n",
      "STOLEN PROPERTY                  4540\n",
      "SEX OFFENSES FORCIBLE            4388\n",
      "DISORDERLY CONDUCT               4320\n",
      "DRUNKENNESS                      4280\n",
      "RECOVERED VEHICLE                3138\n",
      "KIDNAPPING                       2341\n",
      "DRIVING UNDER THE INFLUENCE      2268\n",
      "RUNAWAY                          1946\n",
      "LIQUOR LAWS                      1903\n",
      "ARSON                            1513\n",
      "LOITERING                        1225\n",
      "EMBEZZLEMENT                     1166\n",
      "SUICIDE                           508\n",
      "FAMILY OFFENSES                   491\n",
      "BAD CHECKS                        406\n",
      "BRIBERY                           289\n",
      "EXTORTION                         256\n",
      "SEX OFFENSES NON FORCIBLE         148\n",
      "GAMBLING                          146\n",
      "PORNOGRAPHY/OBSCENE MAT            22\n",
      "TREA                                6\n",
      "Name: Category, dtype: int64\n"
     ]
    },
    {
     "name": "stderr",
     "output_type": "stream",
     "text": [
      "/home/mackenzie/anaconda2/lib/python2.7/site-packages/matplotlib/font_manager.py:273: UserWarning: Matplotlib is building the font cache using fc-list. This may take a moment.\n",
      "  warnings.warn('Matplotlib is building the font cache using fc-list. This may take a moment.')\n"
     ]
    },
    {
     "data": {
      "text/plain": [
       "[<matplotlib.text.Text at 0x7f1b8d1e3190>,\n",
       " <matplotlib.text.Text at 0x7f1b8d1eec10>,\n",
       " <matplotlib.text.Text at 0x7f1b8d179290>,\n",
       " <matplotlib.text.Text at 0x7f1b8d179850>,\n",
       " <matplotlib.text.Text at 0x7f1b8d179f90>,\n",
       " <matplotlib.text.Text at 0x7f1b8d103710>,\n",
       " <matplotlib.text.Text at 0x7f1b8d103e50>]"
      ]
     },
     "execution_count": 7,
     "metadata": {},
     "output_type": "execute_result"
    },
    {
     "data": {
      "image/png": "[encoded data removed]",
      "text/plain": [
       "<matplotlib.figure.Figure at 0x7f1b8d27b850>"
      ]
     },
     "metadata": {},
     "output_type": "display_data"
    }
   ],
   "source": [
    "%matplotlib inline \n",
    "import numpy as np\n",
    "import matplotlib.pyplot as plt\n",
    "print train.DayOfWeek.value_counts()\n",
    "print train.Category.value_counts()\n",
    "\n",
    "#make a plot for DayOfWeek counts \n",
    "\n",
    "fig, ax = plt.subplots()\n",
    "weekRects = ax.bar(np.arange(7), train.DayOfWeek.value_counts(), 0.35, color ='y')\n",
    "ax.set_ylabel('Number of Crimes')\n",
    "ax.set_xlabel('Days of Week')\n",
    "ax.set_xticks(np.arange(7), 0.55)\n",
    "ax.set_xticklabels(('Friday','Wednesday','Saturday','Thursday','Tuesday','Monday', 'Sunday'))"
   ]
  },
  {
   "cell_type": "code",
   "execution_count": 8,
   "metadata": {
    "collapsed": false,
    "scrolled": true
   },
   "outputs": [
    {
     "name": "stdout",
     "output_type": "stream",
     "text": [
      "LARCENY/THEFT     24150\n",
      "OTHER OFFENSES    15457\n",
      "NON-CRIMINAL      12973\n",
      "ASSAULT           12082\n",
      "VEHICLE THEFT      7504\n",
      "Name: Category, dtype: int64\n",
      "LARCENY/THEFT     23570\n",
      "OTHER OFFENSES    17787\n",
      "NON-CRIMINAL      12855\n",
      "ASSAULT           10560\n",
      "DRUG/NARCOTIC      7823\n",
      "Name: Category, dtype: int64\n",
      "LARCENY/THEFT     23957\n",
      "OTHER OFFENSES    18809\n",
      "NON-CRIMINAL      12738\n",
      "ASSAULT           10280\n",
      "DRUG/NARCOTIC      8474\n",
      "Name: Category, dtype: int64\n",
      "LARCENY/THEFT     24487\n",
      "OTHER OFFENSES    19950\n",
      "NON-CRIMINAL      12928\n",
      "ASSAULT           10553\n",
      "DRUG/NARCOTIC      9267\n",
      "Name: Category, dtype: int64\n",
      "LARCENY/THEFT     24415\n",
      "OTHER OFFENSES    18462\n",
      "NON-CRIMINAL      12819\n",
      "ASSAULT           10246\n",
      "DRUG/NARCOTIC      8454\n",
      "Name: Category, dtype: int64\n",
      "LARCENY/THEFT     27104\n",
      "OTHER OFFENSES    18588\n",
      "NON-CRIMINAL      13984\n",
      "ASSAULT           11160\n",
      "VEHICLE THEFT      8613\n",
      "Name: Category, dtype: int64\n",
      "LARCENY/THEFT     27217\n",
      "OTHER OFFENSES    17129\n",
      "NON-CRIMINAL      14007\n",
      "ASSAULT           11995\n",
      "VEHICLE THEFT      8119\n",
      "Name: Category, dtype: int64\n"
     ]
    },
    {
     "data": {
      "text/plain": [
       "\"\\nN = 39 #39 different categories \\nind = np.arange(N)\\nwidth = 0.3\\n\\nfig,ax = plt.subplots()\\nfriRects = ax.bar(ind,friCounts,width, color = 'r')\\nwedRects =ax.bar(ind, wedCounts, width, color ='y')\\nthuRects = ax.bar(ind, thuCounts, width, color ='g')\\ntueRects = ax.bar(ind, tuecounts, width, color ='b')\\nmonRects = ax.bar(ind, monCounts, width, color ='c')\\nsatRects = ax.bar(ind, satCounts, width, color ='k')\\nsunRects = ax.bar(ind, sunCounts, width, color = 'm')\\n\""
      ]
     },
     "execution_count": 8,
     "metadata": {},
     "output_type": "execute_result"
    }
   ],
   "source": [
    "import numpy as np\n",
    "import matplotlib.pyplot as plt\n",
    "\n",
    "Fridays = train[train.DayOfWeek == 'Friday']\n",
    "Wednesdays = train[train.DayOfWeek == 'Wednesday']\n",
    "Thursdays = train[train.DayOfWeek == 'Thursday']\n",
    "Tuesdays = train[train.DayOfWeek == 'Tuesday']\n",
    "Mondays = train[train.DayOfWeek == 'Monday']\n",
    "Saturdays =train[train.DayOfWeek == 'Saturday']\n",
    "Sundays = train[train.DayOfWeek == 'Sunday']\n",
    "\n",
    "\n",
    "\n",
    "friCounts= Fridays.Category.value_counts().head()\n",
    "wedCounts = Wednesdays. Category.value_counts().head()\n",
    "thuCounts =Thursdays.Category.value_counts().head()\n",
    "tueCounts =Tuesdays.Category.value_counts().head()\n",
    "monCounts = Mondays.Category.value_counts().head()\n",
    "satCounts = Saturdays.Category.value_counts().head()\n",
    "sunCounts = Sundays.Category.value_counts().head()\n",
    "#Can also use sort_index() to look at each specific crime across the days\n",
    "\n",
    "print sunCounts\n",
    "\n",
    "print monCounts\n",
    "\n",
    "print tueCounts\n",
    "\n",
    "print wedCounts\n",
    "\n",
    "print thuCounts\n",
    "\n",
    "print friCounts\n",
    "\n",
    "print satCounts\n",
    "#I want to get a comparitive bar graph going at some point. If we're trying to preduct category, I'll want to look at what categories are most popular in a given day\n",
    "\n",
    "'''\n",
    "N = 39 #39 different categories \n",
    "ind = np.arange(N)\n",
    "width = 0.3\n",
    "\n",
    "fig,ax = plt.subplots()\n",
    "friRects = ax.bar(ind,friCounts,width, color = 'r')\n",
    "wedRects =ax.bar(ind, wedCounts, width, color ='y')\n",
    "thuRects = ax.bar(ind, thuCounts, width, color ='g')\n",
    "tueRects = ax.bar(ind, tuecounts, width, color ='b')\n",
    "monRects = ax.bar(ind, monCounts, width, color ='c')\n",
    "satRects = ax.bar(ind, satCounts, width, color ='k')\n",
    "sunRects = ax.bar(ind, sunCounts, width, color = 'm')\n",
    "'''"
   ]
  },
  {
   "cell_type": "code",
   "execution_count": 9,
   "metadata": {
    "collapsed": false
   },
   "outputs": [
    {
     "data": {
      "text/plain": [
       "\"Looks likes Larceny/Theft, other offenses, non-criminal, assault, and vehicle theft are always the most popular. I'm going to track how each one fluctuates over a given week.\""
      ]
     },
     "execution_count": 9,
     "metadata": {},
     "output_type": "execute_result"
    }
   ],
   "source": [
    "\"\"\"Looks likes Larceny/Theft, other offenses, non-criminal, assault, and vehicle theft are always the most popular. I'm going to track how each one fluctuates over a given week.\"\"\""
   ]
  },
  {
   "cell_type": "code",
   "execution_count": 10,
   "metadata": {
    "collapsed": false
   },
   "outputs": [
    {
     "name": "stdout",
     "output_type": "stream",
     "text": [
      "sunday crime\n",
      "ARSON                            211\n",
      "ASSAULT                        12082\n",
      "BAD CHECKS                        20\n",
      "BRIBERY                           41\n",
      "BURGLARY                        4231\n",
      "DISORDERLY CONDUCT               586\n",
      "DRIVING UNDER THE INFLUENCE      442\n",
      "DRUG/NARCOTIC                   6143\n",
      "DRUNKENNESS                      813\n",
      "EMBEZZLEMENT                     108\n",
      "EXTORTION                         39\n",
      "FAMILY OFFENSES                   54\n",
      "FORGERY/COUNTERFEITING           901\n",
      "FRAUD                           1874\n",
      "GAMBLING                          12\n",
      "KIDNAPPING                       374\n",
      "LARCENY/THEFT                  24150\n",
      "LIQUOR LAWS                      222\n",
      "LOITERING                        155\n",
      "MISSING PERSON                  3061\n",
      "NON-CRIMINAL                   12973\n",
      "OTHER OFFENSES                 15457\n",
      "PORNOGRAPHY/OBSCENE MAT            3\n",
      "PROSTITUTION                     620\n",
      "RECOVERED VEHICLE                307\n",
      "ROBBERY                         3284\n",
      "RUNAWAY                          205\n",
      "SECONDARY CODES                 1543\n",
      "SEX OFFENSES FORCIBLE            690\n",
      "SEX OFFENSES NON FORCIBLE         16\n",
      "STOLEN PROPERTY                  583\n",
      "SUICIDE                           67\n",
      "SUSPICIOUS OCC                  4010\n",
      "TRESPASS                         915\n",
      "VANDALISM                       6602\n",
      "VEHICLE THEFT                   7504\n",
      "WARRANTS                        5281\n",
      "WEAPON LAWS                     1128\n",
      "Name: Category, dtype: int64\n"
     ]
    }
   ],
   "source": [
    "#what about every kind of crime? \n",
    "friCounts= Fridays.Category.value_counts().sort_index()\n",
    "wedCounts = Wednesdays. Category.value_counts().sort_index()\n",
    "thuCounts =Thursdays.Category.value_counts().sort_index()\n",
    "tueCounts =Tuesdays.Category.value_counts().sort_index()\n",
    "monCounts = Mondays.Category.value_counts().sort_index()\n",
    "satCounts = Saturdays.Category.value_counts().sort_index()\n",
    "sunCounts = Sundays.Category.value_counts().sort_index()\n",
    "\n",
    "print \"sunday crime\"\n",
    "print sunCounts"
   ]
  },
  {
   "cell_type": "code",
   "execution_count": null,
   "metadata": {
    "collapsed": false
   },
   "outputs": [],
   "source": []
  },
  {
   "cell_type": "code",
   "execution_count": null,
   "metadata": {
    "collapsed": true
   },
   "outputs": [],
   "source": []
  },
  {
   "cell_type": "code",
   "execution_count": 11,
   "metadata": {
    "collapsed": false,
    "scrolled": true
   },
   "outputs": [
    {
     "data": {
      "text/plain": [
       "'Now filtering to look at time and day w/respect to crimes'"
      ]
     },
     "execution_count": 11,
     "metadata": {},
     "output_type": "execute_result"
    }
   ],
   "source": [
    "\"\"\"Now filtering to look at time and day w/respect to crimes\"\"\""
   ]
  },
  {
   "cell_type": "code",
   "execution_count": 12,
   "metadata": {
    "collapsed": false
   },
   "outputs": [
    {
     "data": {
      "text/plain": [
       "TestResults(failed=0, attempted=1)"
      ]
     },
     "execution_count": 12,
     "metadata": {},
     "output_type": "execute_result"
    }
   ],
   "source": [
    "#next I want to fileter the Date column just for time. Then I'll groupby time and day\n",
    "\n",
    "def parse_date(Dates):\n",
    "    \"\"\" Convert a date in YYYY-MM-DD HH:MM:SS to a tuple\n",
    "        containing year, month, day, and hours each expressed\n",
    "        as an integer. Used from Paul Ruvolo's example in bikeshare kaggle dataset\n",
    "\n",
    "        >>> parse_date(\"2014-04-05 14:00:00\")\n",
    "        (2014, 4, 5, 14)\n",
    "    \"\"\"\n",
    "    return int(Dates[0:4]), int(Dates[5:7]), int(Dates[8:10]), int(Dates[11:13])\n",
    "import doctest\n",
    "doctest.testmod()"
   ]
  },
  {
   "cell_type": "code",
   "execution_count": 13,
   "metadata": {
    "collapsed": false,
    "scrolled": true
   },
   "outputs": [],
   "source": [
    "train['Hour'] = train.Dates.apply(lambda x: parse_date(x)[3])\n"
   ]
  },
  {
   "cell_type": "code",
   "execution_count": 14,
   "metadata": {
    "collapsed": false
   },
   "outputs": [],
   "source": [
    "#inspired by script by StarGazer in kaggle discussion page \n",
    "import numpy as np\n",
    "import pandas as pd\n",
    "import matplotlib.pyplot as plt\n",
    "\n",
    "#map days of week to integers. same result as replace() but this is more legible\n",
    "dow = {\n",
    "    'Monday':0,\n",
    "    'Tuesday':1,\n",
    "    'Wednesday':2,\n",
    "    'Thursday':3,\n",
    "    'Friday':4,\n",
    "    'Saturday':5,\n",
    "    'Sunday':6\n",
    "}\n",
    "train['DOW'] = train.DayOfWeek.map(dow)\n",
    "\n",
    "#take a count of Categories and put it in a usable form\n",
    "cats = pd.Series(train.Category.values.ravel()).unique()#make categories into a unique array\n",
    "print type(cats)\n",
    "cats.sort() #sort based on category"
   ]
  },
  {
   "cell_type": "code",
   "execution_count": 15,
   "metadata": {
    "collapsed": false
   },
   "outputs": [
    {
     "data": {
      "text/plain": [
       "<matplotlib.text.Text at 0x7f1b8d07bed0>"
      ]
     },
     "execution_count": 15,
     "metadata": {},
     "output_type": "execute_result"
    },
    {
     "data": {
      "image/png": "[encoded data removed]",
      "text/plain": [
       "<matplotlib.figure.Figure at 0x7f1b8d0efe10>"
      ]
     },
     "metadata": {},
     "output_type": "display_data"
    }
   ],
   "source": [
    "#looking at crimes across all the categories first\n",
    "plt.figure(1,figsize=(6,4))\n",
    "plt.hist2d(\n",
    "    train.Hour.values,\n",
    "    train.DOW.values,\n",
    "    bins=[24,7],\n",
    "    range=[[-0.5,23.5],[-0.5,6.5]]\n",
    ")\n",
    "plt.xticks(np.arange(0,24,6))\n",
    "plt.xlabel('Time of Day')\n",
    "plt.yticks(np.arange(0,7),['Mon','Tue','Wed','Thu','Fri','Sat','Sun'])\n",
    "plt.ylabel('Day of Week')\n",
    "plt.gca().invert_yaxis()\n",
    "plt.title('Occurance by Time and Day - All Categories')"
   ]
  },
  {
   "cell_type": "code",
   "execution_count": 16,
   "metadata": {
    "collapsed": false
   },
   "outputs": [
    {
     "data": {
      "image/png": "[encoded data removed]",
      "text/plain": [
       "<matplotlib.figure.Figure at 0x7f1b8d050ad0>"
      ]
     },
     "metadata": {},
     "output_type": "display_data"
    }
   ],
   "source": [
    "#\n",
    "# Now look into each category\n",
    "#\n",
    "\n",
    "plt.figure(2,figsize=(16,9))\n",
    "plt.subplots_adjust(hspace=0.5)\n",
    "for i in np.arange(1,cats.size + 1):\n",
    "    ax = plt.subplot(5,8,i)\n",
    "    ax.set_title(cats[i - 1],fontsize=10)\n",
    "    ax.axes.get_xaxis().set_visible(False)\n",
    "    ax.axes.get_yaxis().set_visible(False)\n",
    "    plt.hist2d(\n",
    "        train[train.Category==cats[i - 1]].Hour.values,\n",
    "        train[train.Category==cats[i - 1]].DOW.values, \n",
    "        bins=[24,7],\n",
    "        range=[[-0.5,23.5],[-0.5,6.5]]\n",
    "    )\n",
    "    plt.gca().invert_yaxis()"
   ]
  },
  {
   "cell_type": "code",
   "execution_count": 17,
   "metadata": {
    "collapsed": false
   },
   "outputs": [
    {
     "data": {
      "text/plain": [
       "\"white collar crimes look like they're actually only recorded at midnight and noon. this could be an internal/filing factor? Things like narcotics, assault, and maybe robbery should be reliatbly predicted. Suicide and family offenses are gonna be hard to get right\""
      ]
     },
     "execution_count": 17,
     "metadata": {},
     "output_type": "execute_result"
    }
   ],
   "source": [
    "\"\"\"white collar crimes look like they're actually only recorded at midnight and noon. this could be an internal/filing factor? Things like narcotics, assault, and maybe robbery should be reliatbly predicted. Suicide and family offenses are gonna be hard to get right\"\"\""
   ]
  },
  {
   "cell_type": "code",
   "execution_count": 18,
   "metadata": {
    "collapsed": false
   },
   "outputs": [],
   "source": [
    "\"\"\"The following scripts inspired by Wendy Khan on competition Kaggle Scripts page\"\"\"\n",
    "import pandas as pd\n",
    "import zipfile\n",
    "import matplotlib.pyplot as plt\n",
    "train['Year'] = train['Dates'].apply(lambda x:parse_date(x)[1])\n",
    "train['Week'] = train['Dates'].apply(lambda x: parse_date(x)[2])\n",
    "train['Hour'] = train.Dates.apply(lambda x: parse_date(x)[3])"
   ]
  },
  {
   "cell_type": "code",
   "execution_count": 19,
   "metadata": {
    "collapsed": false
   },
   "outputs": [
    {
     "data": {
      "image/png": "[encoded data removed]",
      "text/plain": [
       "<matplotlib.figure.Figure at 0x7f1b8d06f0d0>"
      ]
     },
     "metadata": {},
     "output_type": "display_data"
    }
   ],
   "source": [
    "\"\"\"district investigation. Where has the most crimes?\"\"\"\n",
    "train.PdDistrict.value_counts().plot(kind='bar', figsize=(8,10))\n",
    "plt.savefig('district_counts.png')"
   ]
  },
  {
   "cell_type": "code",
   "execution_count": 20,
   "metadata": {
    "collapsed": false,
    "scrolled": true
   },
   "outputs": [
    {
     "ename": "KeyError",
     "evalue": "\"['event'] not in index\"",
     "output_type": "error",
     "traceback": [
      "\u001b[1;31m---------------------------------------------------------------------------\u001b[0m",
      "\u001b[1;31mKeyError\u001b[0m                                  Traceback (most recent call last)",
      "\u001b[1;32m<ipython-input-20-700e3604a384>\u001b[0m in \u001b[0;36m<module>\u001b[1;34m()\u001b[0m\n\u001b[0;32m      1\u001b[0m \u001b[1;34m\"\"\"Do some districts have generally more crime at special times?\"\"\"\u001b[0m\u001b[1;33m\u001b[0m\u001b[0m\n\u001b[1;32m----> 2\u001b[1;33m \u001b[0mhourly_district_events\u001b[0m \u001b[1;33m=\u001b[0m \u001b[0mtrain\u001b[0m\u001b[1;33m[\u001b[0m\u001b[1;33m[\u001b[0m\u001b[1;34m'PdDistrict'\u001b[0m\u001b[1;33m,\u001b[0m\u001b[1;34m'Hour'\u001b[0m\u001b[1;33m,\u001b[0m\u001b[1;34m'event'\u001b[0m\u001b[1;33m]\u001b[0m\u001b[1;33m]\u001b[0m\u001b[1;33m.\u001b[0m\u001b[0mgroupby\u001b[0m\u001b[1;33m(\u001b[0m\u001b[1;33m[\u001b[0m\u001b[1;34m'PdDistrict'\u001b[0m\u001b[1;33m,\u001b[0m\u001b[1;34m'Hour'\u001b[0m\u001b[1;33m]\u001b[0m\u001b[1;33m)\u001b[0m\u001b[1;33m.\u001b[0m\u001b[0mcount\u001b[0m\u001b[1;33m(\u001b[0m\u001b[1;33m)\u001b[0m\u001b[1;33m.\u001b[0m\u001b[0mreset_index\u001b[0m\u001b[1;33m(\u001b[0m\u001b[1;33m)\u001b[0m\u001b[1;33m\u001b[0m\u001b[0m\n\u001b[0m\u001b[0;32m      3\u001b[0m \u001b[0mhourly_district_events_pivot\u001b[0m \u001b[1;33m=\u001b[0m \u001b[0mhourly_district_events\u001b[0m\u001b[1;33m.\u001b[0m\u001b[0mpivot\u001b[0m\u001b[1;33m(\u001b[0m\u001b[0mindex\u001b[0m\u001b[1;33m=\u001b[0m\u001b[1;34m'Hour'\u001b[0m\u001b[1;33m,\u001b[0m \u001b[0mcolumns\u001b[0m\u001b[1;33m=\u001b[0m\u001b[1;34m'PdDistrict'\u001b[0m\u001b[1;33m,\u001b[0m \u001b[0mvalues\u001b[0m\u001b[1;33m=\u001b[0m\u001b[1;34m'event'\u001b[0m\u001b[1;33m)\u001b[0m\u001b[1;33m.\u001b[0m\u001b[0mfillna\u001b[0m\u001b[1;33m(\u001b[0m\u001b[0mmethod\u001b[0m\u001b[1;33m=\u001b[0m\u001b[1;34m'ffill'\u001b[0m\u001b[1;33m)\u001b[0m\u001b[1;33m\u001b[0m\u001b[0m\n\u001b[0;32m      4\u001b[0m \u001b[0mhourly_district_events_pivot\u001b[0m\u001b[1;33m.\u001b[0m\u001b[0minterpolate\u001b[0m\u001b[1;33m(\u001b[0m\u001b[1;33m)\u001b[0m\u001b[1;33m.\u001b[0m\u001b[0mplot\u001b[0m\u001b[1;33m(\u001b[0m\u001b[0mtitle\u001b[0m\u001b[1;33m=\u001b[0m\u001b[1;34m'number of cases hourly by district'\u001b[0m\u001b[1;33m,\u001b[0m \u001b[0mfigsize\u001b[0m\u001b[1;33m=\u001b[0m\u001b[1;33m(\u001b[0m\u001b[1;36m10\u001b[0m\u001b[1;33m,\u001b[0m\u001b[1;36m6\u001b[0m\u001b[1;33m)\u001b[0m\u001b[1;33m)\u001b[0m\u001b[1;33m\u001b[0m\u001b[0m\n\u001b[0;32m      5\u001b[0m \u001b[0mplt\u001b[0m\u001b[1;33m.\u001b[0m\u001b[0msavefig\u001b[0m\u001b[1;33m(\u001b[0m\u001b[1;34m'hourly_events_by_district.png'\u001b[0m\u001b[1;33m)\u001b[0m\u001b[1;33m\u001b[0m\u001b[0m\n",
      "\u001b[1;32m/home/mackenzie/anaconda2/lib/python2.7/site-packages/pandas/core/frame.pyc\u001b[0m in \u001b[0;36m__getitem__\u001b[1;34m(self, key)\u001b[0m\n\u001b[0;32m   1961\u001b[0m         \u001b[1;32mif\u001b[0m \u001b[0misinstance\u001b[0m\u001b[1;33m(\u001b[0m\u001b[0mkey\u001b[0m\u001b[1;33m,\u001b[0m \u001b[1;33m(\u001b[0m\u001b[0mSeries\u001b[0m\u001b[1;33m,\u001b[0m \u001b[0mnp\u001b[0m\u001b[1;33m.\u001b[0m\u001b[0mndarray\u001b[0m\u001b[1;33m,\u001b[0m \u001b[0mIndex\u001b[0m\u001b[1;33m,\u001b[0m \u001b[0mlist\u001b[0m\u001b[1;33m)\u001b[0m\u001b[1;33m)\u001b[0m\u001b[1;33m:\u001b[0m\u001b[1;33m\u001b[0m\u001b[0m\n\u001b[0;32m   1962\u001b[0m             \u001b[1;31m# either boolean or fancy integer index\u001b[0m\u001b[1;33m\u001b[0m\u001b[1;33m\u001b[0m\u001b[0m\n\u001b[1;32m-> 1963\u001b[1;33m             \u001b[1;32mreturn\u001b[0m \u001b[0mself\u001b[0m\u001b[1;33m.\u001b[0m\u001b[0m_getitem_array\u001b[0m\u001b[1;33m(\u001b[0m\u001b[0mkey\u001b[0m\u001b[1;33m)\u001b[0m\u001b[1;33m\u001b[0m\u001b[0m\n\u001b[0m\u001b[0;32m   1964\u001b[0m         \u001b[1;32melif\u001b[0m \u001b[0misinstance\u001b[0m\u001b[1;33m(\u001b[0m\u001b[0mkey\u001b[0m\u001b[1;33m,\u001b[0m \u001b[0mDataFrame\u001b[0m\u001b[1;33m)\u001b[0m\u001b[1;33m:\u001b[0m\u001b[1;33m\u001b[0m\u001b[0m\n\u001b[0;32m   1965\u001b[0m             \u001b[1;32mreturn\u001b[0m \u001b[0mself\u001b[0m\u001b[1;33m.\u001b[0m\u001b[0m_getitem_frame\u001b[0m\u001b[1;33m(\u001b[0m\u001b[0mkey\u001b[0m\u001b[1;33m)\u001b[0m\u001b[1;33m\u001b[0m\u001b[0m\n",
      "\u001b[1;32m/home/mackenzie/anaconda2/lib/python2.7/site-packages/pandas/core/frame.pyc\u001b[0m in \u001b[0;36m_getitem_array\u001b[1;34m(self, key)\u001b[0m\n\u001b[0;32m   2005\u001b[0m             \u001b[1;32mreturn\u001b[0m \u001b[0mself\u001b[0m\u001b[1;33m.\u001b[0m\u001b[0mtake\u001b[0m\u001b[1;33m(\u001b[0m\u001b[0mindexer\u001b[0m\u001b[1;33m,\u001b[0m \u001b[0maxis\u001b[0m\u001b[1;33m=\u001b[0m\u001b[1;36m0\u001b[0m\u001b[1;33m,\u001b[0m \u001b[0mconvert\u001b[0m\u001b[1;33m=\u001b[0m\u001b[0mFalse\u001b[0m\u001b[1;33m)\u001b[0m\u001b[1;33m\u001b[0m\u001b[0m\n\u001b[0;32m   2006\u001b[0m         \u001b[1;32melse\u001b[0m\u001b[1;33m:\u001b[0m\u001b[1;33m\u001b[0m\u001b[0m\n\u001b[1;32m-> 2007\u001b[1;33m             \u001b[0mindexer\u001b[0m \u001b[1;33m=\u001b[0m \u001b[0mself\u001b[0m\u001b[1;33m.\u001b[0m\u001b[0mix\u001b[0m\u001b[1;33m.\u001b[0m\u001b[0m_convert_to_indexer\u001b[0m\u001b[1;33m(\u001b[0m\u001b[0mkey\u001b[0m\u001b[1;33m,\u001b[0m \u001b[0maxis\u001b[0m\u001b[1;33m=\u001b[0m\u001b[1;36m1\u001b[0m\u001b[1;33m)\u001b[0m\u001b[1;33m\u001b[0m\u001b[0m\n\u001b[0m\u001b[0;32m   2008\u001b[0m             \u001b[1;32mreturn\u001b[0m \u001b[0mself\u001b[0m\u001b[1;33m.\u001b[0m\u001b[0mtake\u001b[0m\u001b[1;33m(\u001b[0m\u001b[0mindexer\u001b[0m\u001b[1;33m,\u001b[0m \u001b[0maxis\u001b[0m\u001b[1;33m=\u001b[0m\u001b[1;36m1\u001b[0m\u001b[1;33m,\u001b[0m \u001b[0mconvert\u001b[0m\u001b[1;33m=\u001b[0m\u001b[0mTrue\u001b[0m\u001b[1;33m)\u001b[0m\u001b[1;33m\u001b[0m\u001b[0m\n\u001b[0;32m   2009\u001b[0m \u001b[1;33m\u001b[0m\u001b[0m\n",
      "\u001b[1;32m/home/mackenzie/anaconda2/lib/python2.7/site-packages/pandas/core/indexing.pyc\u001b[0m in \u001b[0;36m_convert_to_indexer\u001b[1;34m(self, obj, axis, is_setter)\u001b[0m\n\u001b[0;32m   1148\u001b[0m                 \u001b[0mmask\u001b[0m \u001b[1;33m=\u001b[0m \u001b[0mcheck\u001b[0m \u001b[1;33m==\u001b[0m \u001b[1;33m-\u001b[0m\u001b[1;36m1\u001b[0m\u001b[1;33m\u001b[0m\u001b[0m\n\u001b[0;32m   1149\u001b[0m                 \u001b[1;32mif\u001b[0m \u001b[0mmask\u001b[0m\u001b[1;33m.\u001b[0m\u001b[0many\u001b[0m\u001b[1;33m(\u001b[0m\u001b[1;33m)\u001b[0m\u001b[1;33m:\u001b[0m\u001b[1;33m\u001b[0m\u001b[0m\n\u001b[1;32m-> 1150\u001b[1;33m                     \u001b[1;32mraise\u001b[0m \u001b[0mKeyError\u001b[0m\u001b[1;33m(\u001b[0m\u001b[1;34m'%s not in index'\u001b[0m \u001b[1;33m%\u001b[0m \u001b[0mobjarr\u001b[0m\u001b[1;33m[\u001b[0m\u001b[0mmask\u001b[0m\u001b[1;33m]\u001b[0m\u001b[1;33m)\u001b[0m\u001b[1;33m\u001b[0m\u001b[0m\n\u001b[0m\u001b[0;32m   1151\u001b[0m \u001b[1;33m\u001b[0m\u001b[0m\n\u001b[0;32m   1152\u001b[0m                 \u001b[1;32mreturn\u001b[0m \u001b[0m_values_from_object\u001b[0m\u001b[1;33m(\u001b[0m\u001b[0mindexer\u001b[0m\u001b[1;33m)\u001b[0m\u001b[1;33m\u001b[0m\u001b[0m\n",
      "\u001b[1;31mKeyError\u001b[0m: \"['event'] not in index\""
     ]
    }
   ],
   "source": [
    "\"\"\"Do some districts have generally more crime at special times?\"\"\"\n",
    "hourly_district_events = train[['PdDistrict','Hour','event']].groupby(['PdDistrict','Hour']).count().reset_index()\n",
    "hourly_district_events_pivot = hourly_district_events.pivot(index='Hour', columns='PdDistrict', values='event').fillna(method='ffill')\n",
    "hourly_district_events_pivot.interpolate().plot(title='number of cases hourly by district', figsize=(10,6))\n",
    "plt.savefig('hourly_events_by_district.png')"
   ]
  },
  {
   "cell_type": "code",
   "execution_count": null,
   "metadata": {
    "collapsed": false
   },
   "outputs": [],
   "source": [
    "\"\"\"looks like tenderloin or ingleside don't experience the characteristic hump in crimes, but have a higher overall crime rate. This is probably the tenderloin, knowing the area, because people aren't leaving offices all at once. \"\"\""
   ]
  },
  {
   "cell_type": "code",
   "execution_count": null,
   "metadata": {
    "collapsed": false
   },
   "outputs": [],
   "source": [
    "\"\"\"In general, crimes seem to fit the same curve by the hour\"\"\"\n",
    "hourly_events = train[['Hour','event']].groupby(['Hour']).count().reset_index()\n",
    "hourly_events.plot(kind='bar', figsize=(6, 6))\n",
    "plt.savefig('hourly_events.png')\n"
   ]
  }
 ],
 "metadata": {
  "kernelspec": {
   "display_name": "Python 2",
   "language": "python",
   "name": "python2"
  },
  "language_info": {
   "codemirror_mode": {
    "name": "ipython",
    "version": 2
   },
   "file_extension": ".py",
   "mimetype": "text/x-python",
   "name": "python",
   "nbconvert_exporter": "python",
   "pygments_lexer": "ipython2",
   "version": "2.7.11"
  }
 },
 "nbformat": 4,
 "nbformat_minor": 0
}
