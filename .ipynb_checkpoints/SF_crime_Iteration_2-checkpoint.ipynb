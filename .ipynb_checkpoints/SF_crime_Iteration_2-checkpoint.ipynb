{
 "cells": [
  {
   "cell_type": "code",
   "execution_count": null,
   "metadata": {
    "collapsed": true
   },
   "outputs": [],
   "source": [
    "import pandas as pd\n",
    "import numpy as np\n",
    "import matplotlib.pyplot as pl\n",
    "import seaborn as sns\n",
    "\n",
    "%matplotlib inline\n",
    "\n",
    "# Supplied map bounding box:\n",
    "#    ll.lon     ll.lat   ur.lon     ur.lat\n",
    "#    -122.52469 37.69862 -122.33663 37.82986\n",
    "mapdata = np.loadtxt(\"./sf_map_copyright_openstreetmap_contributors.txt\")\n",
    "asp = mapdata.shape[0] * 1.0 / mapdata.shape[1]\n",
    "\n",
    "lon_lat_box = (-122.5247, -122.3366, 37.699, 37.8299)\n",
    "clipsize = [[-122.5247, -122.3366],[ 37.699, 37.8299]]\n",
    "\n",
    "\n",
    "train=pd.read_csv('train.csv', parse_dates = ['Dates'])\n",
    "test=pd.read_csv('test.csv', parse_dates = ['Dates'])\n",
    "\n",
    "\n",
    "#Get rid of the bad lat/longs\n",
    "train['Xok'] = train[train.X<-121].X\n",
    "train['Yok'] = train[train.Y<40].Y\n",
    "train = train.dropna()\n",
    "trainP = train[train.Category == 'PROSTITUTION'] #Grab the prostitution crimes\n",
    "train = train[1:300000] #Can't use all the data and complete within 600 sec :(\n",
    "\n",
    "#Seaborn FacetGrid, split by crime Category\n",
    "g= sns.FacetGrid(train, col=\"Category\", col_wrap=6, size=5, aspect=1/asp)\n",
    "\n",
    "#Show the background map\n",
    "for ax in g.axes:\n",
    "    ax.imshow(mapdata, cmap=pl.get_cmap('gray'), \n",
    "              extent=lon_lat_box, \n",
    "              aspect=asp)\n",
    "#Kernel Density Estimate plot\n",
    "g.map(sns.kdeplot, \"Xok\", \"Yok\", clip=clipsize)\n",
    "\n",
    "pl.show()\n",
    "# pl.savefig('category_density_plot.png')\n",
    "\n",
    "# #Do a larger plot with prostitution only\n",
    "# pl.figure(figsize=(20,20*asp))\n",
    "# ax = sns.kdeplot(trainP.Xok, trainP.Yok, clip=clipsize, aspect=1/asp)\n",
    "# ax.imshow(mapdata, cmap=pl.get_cmap('gray'), \n",
    "#               extent=lon_lat_box, \n",
    "#               aspect=asp)\n",
    "# pl.savefig('prostitution_density_plot.png')"
   ]
  },
  {
   "cell_type": "code",
   "execution_count": null,
   "metadata": {
    "collapsed": true
   },
   "outputs": [],
   "source": []
  },
  {
   "cell_type": "code",
   "execution_count": null,
   "metadata": {
    "collapsed": true
   },
   "outputs": [],
   "source": []
  },
  {
   "cell_type": "code",
   "execution_count": null,
   "metadata": {
    "collapsed": true
   },
   "outputs": [],
   "source": []
  },
  {
   "cell_type": "code",
   "execution_count": null,
   "metadata": {
    "collapsed": true
   },
   "outputs": [],
   "source": []
  },
  {
   "cell_type": "code",
   "execution_count": null,
   "metadata": {
    "collapsed": true
   },
   "outputs": [],
   "source": []
  },
  {
   "cell_type": "code",
   "execution_count": null,
   "metadata": {
    "collapsed": true
   },
   "outputs": [],
   "source": []
  }
 ],
 "metadata": {
  "kernelspec": {
   "display_name": "Python 2",
   "language": "python",
   "name": "python2"
  },
  "language_info": {
   "codemirror_mode": {
    "name": "ipython",
    "version": 2
   },
   "file_extension": ".py",
   "mimetype": "text/x-python",
   "name": "python",
   "nbconvert_exporter": "python",
   "pygments_lexer": "ipython2",
   "version": "2.7.11"
  }
 },
 "nbformat": 4,
 "nbformat_minor": 0
}
