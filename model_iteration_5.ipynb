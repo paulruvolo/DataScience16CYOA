{
 "cells": [
  {
   "cell_type": "code",
   "execution_count": 47,
   "metadata": {
    "collapsed": false
   },
   "outputs": [],
   "source": [
    "%matplotlib inline\n",
    "import pandas as pd\n",
    "import os\n",
    "import matplotlib.pyplot as plt\n",
    "import seaborn as sns\n",
    "import numpy as np\n",
    "import sklearn\n",
    "import scipy.stats as st\n",
    "import random\n",
    "from datetime import datetime\n",
    "from sklearn.tree import DecisionTreeClassifier\n",
    "from sklearn.ensemble import RandomForestClassifier\n",
    "from sklearn.linear_model import LogisticRegressionCV\n",
    "from patsy import dmatrix, dmatrices\n",
    "from sklearn import cross_validation\n",
    "from sklearn.cross_validation import train_test_split, cross_val_score, cross_val_predict\n",
    "from sklearn.metrics import log_loss\n",
    "from sklearn.preprocessing import MultiLabelBinarizer\n",
    "from sklearn.grid_search import GridSearchCV\n",
    "from sklearn.naive_bayes import BernoulliNB\n",
    "from sklearn.linear_model import LogisticRegression\n",
    "from sklearn.base import BaseEstimator\n",
    "from sklearn.cross_validation import StratifiedKFold"
   ]
  },
  {
   "cell_type": "code",
   "execution_count": 69,
   "metadata": {
    "collapsed": false
   },
   "outputs": [],
   "source": [
    "cur_dir = os.path.dirname('__file__')\n",
    "\n",
    "train = pd.read_csv(os.path.join(cur_dir, \"data\", \"train.csv\"))\n",
    "test = pd.read_csv(os.path.join(cur_dir, \"data\", \"test.csv\"))\n",
    "#mapdata = np.loadtxt(os.path.join(cur_dir, \"data\", \"sf_map.txt\"))"
   ]
  },
  {
   "cell_type": "code",
   "execution_count": 9,
   "metadata": {
    "collapsed": true
   },
   "outputs": [],
   "source": [
    "def get_random_subset(df, n=5000):\n",
    "    sub = random.sample(xrange(len(df)), min(n, len(df)))\n",
    "    return df.iloc[sub]\n",
    "\n",
    "def preprocess(df):\n",
    "    res = df.copy()\n",
    "    res = res[res.X != res.X.max()]\n",
    "    datetimes = res.Dates.apply(get_datetime)\n",
    "    res['Hour'] = datetimes.apply(lambda dt: dt.hour)\n",
    "    res['Month'] = datetimes.apply(lambda dt: dt.month)\n",
    "    res['Hour_Minutes'] = datetimes.apply(lambda dt: dt.hour + dt.minute / 60.0)\n",
    "    res['Minutes_Since_03'] = datetimes.apply(lambda dt: (dt-datetime(2003, 1, 1)).total_seconds() / 60)\n",
    "    res['Minutes_Since_New_Year'] = datetimes.apply(lambda dt: (dt-datetime(dt.year, 1, 1)).total_seconds() / 60)\n",
    "    res['DOW'] = train.DayOfWeek.apply(lambda x: dow.index(x))\n",
    "    res['Street_Corner'] = res['Address'].apply(lambda x: 1 if '/' in x else 0)\n",
    "    return res\n",
    "\n",
    "def get_datetime(s):\n",
    "    dt = datetime.strptime(s, \"%Y-%m-%d %H:%M:%S\")\n",
    "    return dt\n",
    "\n",
    "dow = ['Monday', 'Tuesday', 'Wednesday', 'Thursday', 'Friday', 'Saturday', 'Sunday']\n",
    "\n",
    "def isNight(hour):\n",
    "    if hour in [0, 1, 2, 3, 4, 5, 6, 19, 20, 21, 22, 23]:\n",
    "        return \"Night\"\n",
    "    else:\n",
    "        return \"Day\""
   ]
  },
  {
   "cell_type": "code",
   "execution_count": 43,
   "metadata": {
    "collapsed": true
   },
   "outputs": [],
   "source": [
    "def train_models(models, x_train, y_train):\n",
    "    for m in models:\n",
    "        m.fit(x_train, y_train)\n",
    "        \n",
    "def get_x_y_matrices(df, formula, target):\n",
    "    \n",
    "    x_vals = dmatrix(formula, data=df, return_type='dataframe')\n",
    "    y_vals = df[target]\n",
    "\n",
    "    return filter_infrequent(x_vals, y_vals)\n",
    "    \n",
    "def filter_infrequent(x, y, threshold=3):\n",
    "    counts = y.value_counts()\n",
    "    for cat, count in counts.iteritems():\n",
    "        if count < 3:\n",
    "            x = x[y != cat]\n",
    "            y = y[y != cat]\n",
    "            \n",
    "    return x, y"
   ]
  },
  {
   "cell_type": "code",
   "execution_count": 67,
   "metadata": {
    "collapsed": true
   },
   "outputs": [],
   "source": [
    "class ProbaRandomForestClassifier(RandomForestClassifier):\n",
    "    def predict(self, X):\n",
    "        return self.predict_proba(X)\n",
    "        \n",
    "class ProbaLogisticRegression(LogisticRegression):\n",
    "    def predict(self, X):\n",
    "        return self.predict_proba(X)"
   ]
  },
  {
   "cell_type": "code",
   "execution_count": 10,
   "metadata": {
    "collapsed": false
   },
   "outputs": [],
   "source": [
    "train_df = preprocess(get_random_subset(train, 50000))\n",
    "# train_df = preprocess(train)"
   ]
  },
  {
   "cell_type": "code",
   "execution_count": null,
   "metadata": {
    "collapsed": false
   },
   "outputs": [],
   "source": [
    "formula_ml = 'C(DayOfWeek) + C(PdDistrict) + Street_Corner + X+Y+Hour+Month'\n",
    "\n",
    "x_vals = dmatrix(formula_ml, data=train_df, return_type='dataframe')\n",
    "y_vals = train_df.Category\n",
    "min_leaves = np.round_(np.logspace(1, 3.5, num=6)) # values from 10 to 3100\n",
    "\n",
    "parameters = {'min_samples_leaf':min_leaves}\n",
    "\n",
    "clf = GridSearchCV(RandomForestClassifier(), parameters, scoring='log_loss')\n",
    "\n",
    "clf.fit(x_vals, y_vals)\n",
    "\n",
    "for f in clf.grid_scores_:\n",
    "    print f"
   ]
  },
  {
   "cell_type": "code",
   "execution_count": null,
   "metadata": {
    "collapsed": false
   },
   "outputs": [],
   "source": [
    "formula_ml = 'C(DayOfWeek) + C(PdDistrict) + Street_Corner + X+Y+Hour+Month'\n",
    "\n",
    "x_vals = dmatrix(formula_ml, data=train_df, return_type='dataframe')\n",
    "y_vals = train_df.Category\n",
    "\n",
    "vals = y_vals.value_counts()\n",
    "\n",
    "for index, value in vals.iteritems():\n",
    "    if value < 3:\n",
    "        x_vals = x_vals[y_vals != index]\n",
    "        y_vals = y_vals[y_vals != index]\n",
    "    \n",
    "\n",
    "Cs = np.logspace(-4, 4, 9)\n",
    "\n",
    "parameters = {'C':Cs}\n",
    "\n",
    "clf = GridSearchCV(LogisticRegression(), parameters, scoring='log_loss')\n",
    "\n",
    "clf.fit(x_vals, y_vals)\n",
    "\n",
    "for f in clf.grid_scores_:\n",
    "    print f"
   ]
  },
  {
   "cell_type": "code",
   "execution_count": null,
   "metadata": {
    "collapsed": false
   },
   "outputs": [],
   "source": [
    "for f in lg.C_:\n",
    "    print f"
   ]
  },
  {
   "cell_type": "code",
   "execution_count": 36,
   "metadata": {
    "collapsed": false
   },
   "outputs": [
    {
     "name": "stdout",
     "output_type": "stream",
     "text": [
      "874473                 OTHER OFFENSES\n",
      "476903                    DRUNKENNESS\n",
      "231569                       BURGLARY\n",
      "718600                  VEHICLE THEFT\n",
      "404343                        ROBBERY\n",
      "693644                 OTHER OFFENSES\n",
      "501631                 OTHER OFFENSES\n",
      "677702                        ASSAULT\n",
      "433030                 OTHER OFFENSES\n",
      "550500                 OTHER OFFENSES\n",
      "456631                        ASSAULT\n",
      "182996                  DRUG/NARCOTIC\n",
      "260023                    WEAPON LAWS\n",
      "313872                  LARCENY/THEFT\n",
      "236883                   NON-CRIMINAL\n",
      "368391                  LARCENY/THEFT\n",
      "139474                   NON-CRIMINAL\n",
      "853606                  LARCENY/THEFT\n",
      "252541                  LARCENY/THEFT\n",
      "309341                 MISSING PERSON\n",
      "193629                  VEHICLE THEFT\n",
      "284984                        ASSAULT\n",
      "153323                        ASSAULT\n",
      "662383                   NON-CRIMINAL\n",
      "813852                  VEHICLE THEFT\n",
      "795919                  VEHICLE THEFT\n",
      "95238                    NON-CRIMINAL\n",
      "317779                 OTHER OFFENSES\n",
      "616970                 OTHER OFFENSES\n",
      "217125                  DRUG/NARCOTIC\n",
      "                     ...             \n",
      "253906                        ASSAULT\n",
      "824521                  VEHICLE THEFT\n",
      "765654                   NON-CRIMINAL\n",
      "772670                 SUSPICIOUS OCC\n",
      "765247                        ASSAULT\n",
      "234173    DRIVING UNDER THE INFLUENCE\n",
      "309253                 OTHER OFFENSES\n",
      "791276                  LARCENY/THEFT\n",
      "348602                        ASSAULT\n",
      "263644                  LARCENY/THEFT\n",
      "520323                       BURGLARY\n",
      "148878                   NON-CRIMINAL\n",
      "608050                  DRUG/NARCOTIC\n",
      "570057                 OTHER OFFENSES\n",
      "500599                  LARCENY/THEFT\n",
      "260552                        ASSAULT\n",
      "454416                 OTHER OFFENSES\n",
      "876103                  DRUG/NARCOTIC\n",
      "616180                 SUSPICIOUS OCC\n",
      "680592                 SUSPICIOUS OCC\n",
      "108522                   NON-CRIMINAL\n",
      "674428                        ROBBERY\n",
      "659415                  VEHICLE THEFT\n",
      "242222                       BURGLARY\n",
      "861985                        ASSAULT\n",
      "21176                  SUSPICIOUS OCC\n",
      "873338             DISORDERLY CONDUCT\n",
      "300963                 OTHER OFFENSES\n",
      "607726                   NON-CRIMINAL\n",
      "698946                      VANDALISM\n",
      "Name: Category, dtype: object\n"
     ]
    }
   ],
   "source": [
    "import numpy as np\n",
    "from sklearn.cross_validation import train_test_split\n",
    "\n",
    "formula_ml = 'C(DayOfWeek) + C(PdDistrict) + Street_Corner + X+Y+Hour+Month'\n",
    "training, validation = train_test_split(train_df, train_size=.60)\n",
    "x_train = dmatrix(formula_ml, data=training)\n",
    "y_train = training.Category\n",
    "x_vals = dmatrix(formula_ml, data=train_df, return_type='dataframe')\n",
    "y_vals = train_df.Category\n",
    "\n",
    "#print \"X_train\"\n",
    "#print x_train\n",
    "#print \"y_train\"\n",
    "#print y_train\n",
    "#print \"X_test\"\n",
    "#print x_vals\n",
    "#print \"y_test\"\n",
    "print y_vals\n"
   ]
  },
  {
   "cell_type": "code",
   "execution_count": 39,
   "metadata": {
    "collapsed": false
   },
   "outputs": [
    {
     "name": "stdout",
     "output_type": "stream",
     "text": [
      "xval shape\n",
      "(49998, 21)\n",
      "yval shape \n",
      "(49998,)\n",
      "predictions shape\n",
      "(49998, 37)\n",
      "[[  8.67519343e-04   9.38270587e-02   5.99304005e-04 ...,   2.98354831e-02\n",
      "    6.95966312e-02   1.00060140e-02]\n",
      " [  6.10715257e-04   7.08819186e-02   7.36100490e-05 ...,   7.47285559e-02\n",
      "    5.62110565e-02   1.05121221e-02]\n",
      " [  1.15968952e-03   8.51756706e-02   4.02806065e-04 ...,   3.41000274e-02\n",
      "    4.70512923e-02   7.47854661e-03]\n",
      " ..., \n",
      " [  2.97791215e-04   6.20912780e-02   1.96460262e-04 ...,   6.64092453e-02\n",
      "    4.97820562e-02   7.44324034e-03]\n",
      " [  2.16380366e-03   8.31998714e-02   4.40749673e-04 ...,   2.99980835e-02\n",
      "    5.27462788e-02   7.23740974e-03]\n",
      " [  1.55807307e-03   9.55013788e-02   3.40205769e-04 ...,   7.26742190e-02\n",
      "    3.97856710e-02   8.66926275e-03]]\n"
     ]
    },
    {
     "ename": "KeyError",
     "evalue": "'OTHER OFFENSES'",
     "output_type": "error",
     "traceback": [
      "\u001b[1;31m---------------------------------------------------------------------------\u001b[0m",
      "\u001b[1;31mKeyError\u001b[0m                                  Traceback (most recent call last)",
      "\u001b[1;32m<ipython-input-39-a8bbe912b6a2>\u001b[0m in \u001b[0;36m<module>\u001b[1;34m()\u001b[0m\n\u001b[0;32m     32\u001b[0m \u001b[1;33m\u001b[0m\u001b[0m\n\u001b[0;32m     33\u001b[0m \u001b[1;32mfor\u001b[0m \u001b[0mi\u001b[0m \u001b[1;32min\u001b[0m \u001b[0my_vals\u001b[0m\u001b[1;33m:\u001b[0m\u001b[1;33m\u001b[0m\u001b[0m\n\u001b[1;32m---> 34\u001b[1;33m     \u001b[1;32mif\u001b[0m \u001b[0my_vals\u001b[0m\u001b[1;33m[\u001b[0m\u001b[0mi\u001b[0m\u001b[1;33m]\u001b[0m \u001b[1;33m==\u001b[0m \u001b[0mpredictions\u001b[0m\u001b[1;33m[\u001b[0m\u001b[0mi\u001b[0m\u001b[1;33m]\u001b[0m\u001b[1;33m:\u001b[0m\u001b[1;33m\u001b[0m\u001b[0m\n\u001b[0m\u001b[0;32m     35\u001b[0m         \u001b[0mcorrectly_predicted\u001b[0m\u001b[1;33m.\u001b[0m\u001b[0mappend\u001b[0m\u001b[1;33m(\u001b[0m\u001b[0my_vals\u001b[0m\u001b[1;33m)\u001b[0m\u001b[1;33m\u001b[0m\u001b[0m\n\u001b[0;32m     36\u001b[0m     \u001b[1;32melse\u001b[0m\u001b[1;33m:\u001b[0m\u001b[1;33m\u001b[0m\u001b[0m\n",
      "\u001b[1;32m/home/brenna/anaconda2/lib/python2.7/site-packages/pandas/core/series.pyc\u001b[0m in \u001b[0;36m__getitem__\u001b[1;34m(self, key)\u001b[0m\n\u001b[0;32m    555\u001b[0m     \u001b[1;32mdef\u001b[0m \u001b[0m__getitem__\u001b[0m\u001b[1;33m(\u001b[0m\u001b[0mself\u001b[0m\u001b[1;33m,\u001b[0m \u001b[0mkey\u001b[0m\u001b[1;33m)\u001b[0m\u001b[1;33m:\u001b[0m\u001b[1;33m\u001b[0m\u001b[0m\n\u001b[0;32m    556\u001b[0m         \u001b[1;32mtry\u001b[0m\u001b[1;33m:\u001b[0m\u001b[1;33m\u001b[0m\u001b[0m\n\u001b[1;32m--> 557\u001b[1;33m             \u001b[0mresult\u001b[0m \u001b[1;33m=\u001b[0m \u001b[0mself\u001b[0m\u001b[1;33m.\u001b[0m\u001b[0mindex\u001b[0m\u001b[1;33m.\u001b[0m\u001b[0mget_value\u001b[0m\u001b[1;33m(\u001b[0m\u001b[0mself\u001b[0m\u001b[1;33m,\u001b[0m \u001b[0mkey\u001b[0m\u001b[1;33m)\u001b[0m\u001b[1;33m\u001b[0m\u001b[0m\n\u001b[0m\u001b[0;32m    558\u001b[0m \u001b[1;33m\u001b[0m\u001b[0m\n\u001b[0;32m    559\u001b[0m             \u001b[1;32mif\u001b[0m \u001b[1;32mnot\u001b[0m \u001b[0mnp\u001b[0m\u001b[1;33m.\u001b[0m\u001b[0misscalar\u001b[0m\u001b[1;33m(\u001b[0m\u001b[0mresult\u001b[0m\u001b[1;33m)\u001b[0m\u001b[1;33m:\u001b[0m\u001b[1;33m\u001b[0m\u001b[0m\n",
      "\u001b[1;32m/home/brenna/anaconda2/lib/python2.7/site-packages/pandas/core/index.pyc\u001b[0m in \u001b[0;36mget_value\u001b[1;34m(self, series, key)\u001b[0m\n\u001b[0;32m   1788\u001b[0m \u001b[1;33m\u001b[0m\u001b[0m\n\u001b[0;32m   1789\u001b[0m         \u001b[1;32mtry\u001b[0m\u001b[1;33m:\u001b[0m\u001b[1;33m\u001b[0m\u001b[0m\n\u001b[1;32m-> 1790\u001b[1;33m             \u001b[1;32mreturn\u001b[0m \u001b[0mself\u001b[0m\u001b[1;33m.\u001b[0m\u001b[0m_engine\u001b[0m\u001b[1;33m.\u001b[0m\u001b[0mget_value\u001b[0m\u001b[1;33m(\u001b[0m\u001b[0ms\u001b[0m\u001b[1;33m,\u001b[0m \u001b[0mk\u001b[0m\u001b[1;33m)\u001b[0m\u001b[1;33m\u001b[0m\u001b[0m\n\u001b[0m\u001b[0;32m   1791\u001b[0m         \u001b[1;32mexcept\u001b[0m \u001b[0mKeyError\u001b[0m \u001b[1;32mas\u001b[0m \u001b[0me1\u001b[0m\u001b[1;33m:\u001b[0m\u001b[1;33m\u001b[0m\u001b[0m\n\u001b[0;32m   1792\u001b[0m             \u001b[1;32mif\u001b[0m \u001b[0mlen\u001b[0m\u001b[1;33m(\u001b[0m\u001b[0mself\u001b[0m\u001b[1;33m)\u001b[0m \u001b[1;33m>\u001b[0m \u001b[1;36m0\u001b[0m \u001b[1;32mand\u001b[0m \u001b[0mself\u001b[0m\u001b[1;33m.\u001b[0m\u001b[0minferred_type\u001b[0m \u001b[1;32min\u001b[0m \u001b[1;33m[\u001b[0m\u001b[1;34m'integer'\u001b[0m\u001b[1;33m,\u001b[0m\u001b[1;34m'boolean'\u001b[0m\u001b[1;33m]\u001b[0m\u001b[1;33m:\u001b[0m\u001b[1;33m\u001b[0m\u001b[0m\n",
      "\u001b[1;32mpandas/index.pyx\u001b[0m in \u001b[0;36mpandas.index.IndexEngine.get_value (pandas/index.c:3204)\u001b[1;34m()\u001b[0m\n",
      "\u001b[1;32mpandas/index.pyx\u001b[0m in \u001b[0;36mpandas.index.IndexEngine.get_value (pandas/index.c:2903)\u001b[1;34m()\u001b[0m\n",
      "\u001b[1;32mpandas/index.pyx\u001b[0m in \u001b[0;36mpandas.index.IndexEngine.get_loc (pandas/index.c:3908)\u001b[1;34m()\u001b[0m\n",
      "\u001b[1;31mKeyError\u001b[0m: 'OTHER OFFENSES'"
     ]
    }
   ],
   "source": [
    "training, validation = train_test_split(train_df, train_size=.60)\n",
    "\n",
    "formula_ml = 'C(DayOfWeek) + C(PdDistrict) + Street_Corner + X+Y+Hour+Month'\n",
    "\n",
    "#x_validation = dmatrix(formula_ml, data=validation, return_type='dataframe')\n",
    "#y_validation = validation.Category\n",
    "\n",
    "x_validation = x_vals[y_vals.isin(y_train.values)]\n",
    "\n",
    "scores = []\n",
    "predictions = []\n",
    "\n",
    "alg = RandomForestClassifier(min_samples_leaf=1000)\n",
    "alg.fit(x_train, y_train)\n",
    "y_validation = validation.Category\n",
    "y_validation = y_validation[y_validation.isin(y_train.values)]\n",
    "mlb = MultiLabelBinarizer(classes=alg.classes_)\n",
    "y_validation = mlb.fit_transform(np.array([y_validation]).T)\n",
    "print 'xval shape'\n",
    "print x_validation.shape\n",
    "predictions = np.array(alg.predict_proba(x_validation))\n",
    "print 'yval shape ' \n",
    "print y_vals.shape\n",
    "print 'predictions shape'\n",
    "print predictions.shape\n",
    "\n",
    "score = log_loss(y_vals, predictions)\n",
    "correctly_predicted = []\n",
    "incorrectly_predicted = []\n",
    "\n",
    "print predictions\n",
    "\n",
    "#for i in y_vals:\n",
    "#    if y_vals[i] == predictions[i]:\n",
    "#        correctly_predicted.append(y_vals)\n",
    "#    else:\n",
    "#        incorrectly_preddicted.append(y_vals)\n",
    " \n",
    "\n",
    "\n",
    "print \"Score:\"\n",
    "print score\n",
    "print \"Correct\"\n",
    "print correctly_predicted\n",
    "print \"Incorrect\"\n",
    "print incorrectly_predicted"
   ]
  },
  {
   "cell_type": "code",
   "execution_count": 42,
   "metadata": {
    "collapsed": false
   },
   "outputs": [
    {
     "name": "stdout",
     "output_type": "stream",
     "text": [
      "mean: -3.30316, std: 0.09639, params: {'min_samples_leaf': 10.0}\n",
      "mean: -2.73423, std: 0.03827, params: {'min_samples_leaf': 32.0}\n",
      "mean: -2.57255, std: 0.00132, params: {'min_samples_leaf': 100.0}\n",
      "mean: -2.57350, std: 0.00424, params: {'min_samples_leaf': 316.0}\n",
      "mean: -2.60365, std: 0.00290, params: {'min_samples_leaf': 1000.0}\n",
      "mean: -2.65727, std: 0.00932, params: {'min_samples_leaf': 3162.0}\n"
     ]
    }
   ],
   "source": [
    "clf = GridSearchCV(RandomForestClassifier(), parameters, scoring='log_loss')\n",
    "\n",
    "clf.fit(x_train, y_train)\n",
    "\n",
    "for f in clf.grid_scores_:\n",
    "    print f   "
   ]
  },
  {
   "cell_type": "code",
   "execution_count": 44,
   "metadata": {
    "collapsed": true
   },
   "outputs": [],
   "source": [
    "   \n"
   ]
  },
  {
   "cell_type": "code",
   "execution_count": 83,
   "metadata": {
    "collapsed": false
   },
   "outputs": [
    {
     "ename": "TypeError",
     "evalue": "'tuple' object is not callable",
     "output_type": "error",
     "traceback": [
      "\u001b[1;31m---------------------------------------------------------------------------\u001b[0m",
      "\u001b[1;31mTypeError\u001b[0m                                 Traceback (most recent call last)",
      "\u001b[1;32m<ipython-input-83-d701a916b213>\u001b[0m in \u001b[0;36m<module>\u001b[1;34m()\u001b[0m\n\u001b[0;32m     16\u001b[0m \u001b[1;33m\u001b[0m\u001b[0m\n\u001b[0;32m     17\u001b[0m     \u001b[0mpredictions_matrix\u001b[0m \u001b[1;33m=\u001b[0m \u001b[0mpredictdf\u001b[0m\u001b[1;33m.\u001b[0m\u001b[0mas_matrix\u001b[0m\u001b[1;33m(\u001b[0m\u001b[1;33m)\u001b[0m\u001b[1;33m\u001b[0m\u001b[0m\n\u001b[1;32m---> 18\u001b[1;33m     \u001b[1;32mprint\u001b[0m \u001b[0mpredictdf\u001b[0m\u001b[1;33m.\u001b[0m\u001b[0mshape\u001b[0m\u001b[1;33m(\u001b[0m\u001b[1;33m)\u001b[0m\u001b[1;33m\u001b[0m\u001b[0m\n\u001b[0m\u001b[0;32m     19\u001b[0m     \u001b[1;31m#print y_vals[y_vals == crime].shape\u001b[0m\u001b[1;33m\u001b[0m\u001b[1;33m\u001b[0m\u001b[0m\n\u001b[0;32m     20\u001b[0m     \u001b[1;31m#print y_vals.shape\u001b[0m\u001b[1;33m\u001b[0m\u001b[1;33m\u001b[0m\u001b[0m\n",
      "\u001b[1;31mTypeError\u001b[0m: 'tuple' object is not callable"
     ]
    }
   ],
   "source": [
    "formula_ml = 'C(DayOfWeek) + C(PdDistrict) + Street_Corner + X+Y+Hour+Month'\n",
    "\n",
    "x_vals, y_vals = get_x_y_matrices(train_df, formula_ml, 'Category')\n",
    "\n",
    "clf_forest = ProbaRandomForestClassifier(min_samples_leaf=300)\n",
    "\n",
    "predictions = cross_val_predict(clf_forest, x_vals, y_vals)\n",
    "crimes = y_vals.unique()\n",
    "scores = []\n",
    "\n",
    "for crime in crimes:\n",
    "    predictdf = pd.DataFrame(predictions, index = y_vals.index)\n",
    "    predictdf = predictdf[y_vals == crime]\n",
    "    yvals_subset = y_vals[y_vals == crime]\n",
    "    \n",
    "    \n",
    "    predictions_matrix = predictdf.as_matrix()\n",
    "    print predictdf.shape()\n",
    "    #print y_vals[y_vals == crime].shape\n",
    "    #print y_vals.shape\n",
    "    scores.append(log_loss(y_vals[y_vals == crime], predictdf.as_matrix()))\n",
    "    \n",
    "\n",
    "    \n",
    "  \n",
    "    \n",
    "#plt(crimes, scores)"
   ]
  },
  {
   "cell_type": "code",
   "execution_count": null,
   "metadata": {
    "collapsed": true
   },
   "outputs": [],
   "source": []
  },
  {
   "cell_type": "code",
   "execution_count": 71,
   "metadata": {
    "collapsed": false,
    "scrolled": true
   },
   "outputs": [
    {
     "name": "stdout",
     "output_type": "stream",
     "text": [
      "                  Id              X              Y\n",
      "count  884262.000000  884262.000000  884262.000000\n",
      "mean   442130.500000    -122.422693      37.771476\n",
      "std    255264.596206       0.030985       0.484824\n",
      "min         0.000000    -122.513642      37.707879\n",
      "25%    221065.250000    -122.433069      37.752374\n",
      "50%    442130.500000    -122.416517      37.775421\n",
      "75%    663195.750000    -122.406959      37.784353\n",
      "max    884261.000000    -120.500000      90.000000\n"
     ]
    }
   ],
   "source": [
    "import gzip, csv\n",
    "ids = test.Id.values\n",
    "print test.describe()\n",
    "\n",
    "alg = RandomForestClassifier(min_samples_leaf=1000)\n",
    "alg.fit(x_train, y_train)\n",
    "x_validation = x_vals[y_vals.isin(y_train.values)]\n",
    "predictions = np.array(alg.predict_proba(x_validation))\n",
    "\n",
    "\n",
    "labels =['Id']\n",
    "for i in alg.classes_:\n",
    "    labels.append(i)\n",
    "with gzip.open('sfcrime.csv.gz', 'wb') as outf:\n",
    "    fo =csv.writer(outf, lineterminator = '\\n' )\n",
    "    fo.writerow(labels)\n",
    "    \n",
    "    for i, pred in enumerate(predictions):\n",
    "        fo.writerow([i] + list(pred))"
   ]
  },
  {
   "cell_type": "code",
   "execution_count": null,
   "metadata": {
    "collapsed": true
   },
   "outputs": [],
   "source": []
  },
  {
   "cell_type": "code",
   "execution_count": null,
   "metadata": {
    "collapsed": true
   },
   "outputs": [],
   "source": []
  }
 ],
 "metadata": {
  "kernelspec": {
   "display_name": "Python 2",
   "language": "python",
   "name": "python2"
  },
  "language_info": {
   "codemirror_mode": {
    "name": "ipython",
    "version": 2
   },
   "file_extension": ".py",
   "mimetype": "text/x-python",
   "name": "python",
   "nbconvert_exporter": "python",
   "pygments_lexer": "ipython2",
   "version": "2.7.11"
  }
 },
 "nbformat": 4,
 "nbformat_minor": 0
}
