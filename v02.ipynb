{
 "cells": [
  {
   "cell_type": "markdown",
   "metadata": {},
   "source": [
    "# Rotten Tomatoes Sentiment Analysis\n",
    "David Zhu | Spring 2017 | Machine Learning Independent Study\n",
    "\n",
    "The goal of this project is to explore different machine learning techniques on sentiment analysis. Text sentiment analysis is an interesting ML topic since word data is sparse relative to images. The meanings and grammar of language may carry a lot of meaning, but letters themselves are not as data-rich as pixels.\n",
    "\n",
    "We will be looking at a [Rotten Tomatoes movie review dataset provided by Kaggle](https://www.kaggle.com/c/sentiment-analysis-on-movie-reviews)."
   ]
  },
  {
   "cell_type": "markdown",
   "metadata": {},
   "source": [
    "## Preprocessing\n",
    "\n",
    "First, let's load in our dependencies."
   ]
  },
  {
   "cell_type": "code",
   "execution_count": 1,
   "metadata": {
    "collapsed": true
   },
   "outputs": [],
   "source": [
    "# Imports\n",
    "import numpy as np\n",
    "import pandas as pd\n",
    "\n",
    "import matplotlib\n",
    "from matplotlib import pyplot as plt\n",
    "import seaborn as sns\n",
    "\n",
    "import nltk\n",
    "from nltk.corpus import stopwords # Import the stop word list\n",
    "\n",
    "from sklearn import metrics\n",
    "from sklearn.ensemble import RandomForestClassifier\n",
    "from sklearn.externals import joblib\n",
    "from sklearn.feature_extraction.text import CountVectorizer\n",
    "from sklearn.feature_extraction.text import TfidfVectorizer\n",
    "from sklearn.linear_model import LogisticRegression\n",
    "from sklearn.model_selection import train_test_split\n",
    "from sklearn.svm import SVC"
   ]
  },
  {
   "cell_type": "code",
   "execution_count": 2,
   "metadata": {
    "collapsed": true
   },
   "outputs": [],
   "source": [
    "# Configure matplotlib correctly\n",
    "%matplotlib inline\n",
    "sns.set() # Prettify all matplotlib plots"
   ]
  },
  {
   "cell_type": "code",
   "execution_count": 3,
   "metadata": {
    "collapsed": true
   },
   "outputs": [],
   "source": [
    "# If NLTK is not loaded, download NLTK datasets\n",
    "downloaded = True\n",
    "if not downloaded:\n",
    "    nltk.download() "
   ]
  },
  {
   "cell_type": "markdown",
   "metadata": {},
   "source": [
    "Now, let's use pandas to load in our datasets and get some basic information on its structure."
   ]
  },
  {
   "cell_type": "code",
   "execution_count": 4,
   "metadata": {},
   "outputs": [
    {
     "name": "stdout",
     "output_type": "stream",
     "text": [
      "Train data dimensions: (156060, 4)\n",
      "Train columns: ['PhraseId' 'SentenceId' 'Phrase' 'Sentiment']\n",
      "Test data dimensions: (66292, 3)\n",
      "Test columns: ['PhraseId' 'SentenceId' 'Phrase']\n",
      "Sample submission data dimensions: (66292, 2)\n",
      "Sample submission columns: ['PhraseId' 'Sentiment']\n"
     ]
    }
   ],
   "source": [
    "# Load our training and test datasets\n",
    "train_df = pd.read_csv('data/train.tsv', delimiter = '\\t', encoding = 'utf-8')\n",
    "test_df = pd.read_csv('data/test.tsv', delimiter = '\\t', encoding = 'utf-8')\n",
    "sample_submission_df = pd.read_csv('data/sampleSubmission.csv', delimiter = ',', encoding = 'utf-8')\n",
    "\n",
    "# Get some basic info\n",
    "print(\"Train data dimensions: \" + str(train_df.shape))\n",
    "print(\"Train columns: \" + str(train_df.columns.values))\n",
    "print(\"Test data dimensions: \" + str(test_df.shape))\n",
    "print(\"Test columns: \" + str(test_df.columns.values))\n",
    "print(\"Sample submission data dimensions: \" + str(sample_submission_df.shape))\n",
    "print(\"Sample submission columns: \" + str(sample_submission_df.columns.values))"
   ]
  },
  {
   "cell_type": "markdown",
   "metadata": {},
   "source": [
    "To extract out the most useful info from our text, let's remove any filler words with little added meaning. These words are called stopwords, and NLTK provides us with a corpus which we can use to clean our data."
   ]
  },
  {
   "cell_type": "code",
   "execution_count": 43,
   "metadata": {},
   "outputs": [
    {
     "name": "stdout",
     "output_type": "stream",
     "text": [
      "Original:  A series of escapades demonstrating the adage that what is good for the goose is also good for the gander , some of which occasionally amuses but none of which amounts to much of a story .\n",
      "Cleaned:  series escapades demonstrating adage good goose also good gander , occasionally amuses none amounts much story .\n"
     ]
    }
   ],
   "source": [
    "stops = set(stopwords.words(\"english\")) \n",
    "\n",
    "def clean_df(df):\n",
    "    df['phrase_cleaned'] = df['Phrase'].str.lower() # Lowercases the strings\n",
    "    df['phrase_cleaned'] = df['phrase_cleaned'].str.split().apply(lambda x: \" \".join([item for item in x if item not in stops]))\n",
    "    \n",
    "clean_df(train_df)\n",
    "clean_df(test_df)\n",
    "\n",
    "print(\"Original: \", train_df['Phrase'][0])\n",
    "print(\"Cleaned: \", train_df['phrase_cleaned'][0])"
   ]
  },
  {
   "cell_type": "markdown",
   "metadata": {},
   "source": [
    "## Feature exploration and extraction\n",
    "\n",
    "One of the challenges with text is that a computer cannot directly understand words like humans do. We must convert text into a form that a computer can input. There are several ways that we could do this, for instance by looking at the quantitative aspects of a section of text. Following are some ways we can extract quantifiable meaning out of text."
   ]
  },
  {
   "cell_type": "markdown",
   "metadata": {},
   "source": [
    "### Sentiment distribution\n",
    "\n",
    "Let's first look at the distribution of our dataset. We can map the frequency of each sentiment and compare."
   ]
  },
  {
   "cell_type": "code",
   "execution_count": 6,
   "metadata": {},
   "outputs": [
    {
     "data": {
      "image/png": "[encoded data removed]",
      "text/plain": [
       "<matplotlib.figure.Figure at 0x7f0bb964dc88>"
      ]
     },
     "metadata": {},
     "output_type": "display_data"
    }
   ],
   "source": [
    "# Visualize the distribution of our dataset in sentiment.\n",
    "train_df.hist(column = \"Sentiment\")\n",
    "plt.show()"
   ]
  },
  {
   "cell_type": "markdown",
   "metadata": {},
   "source": [
    "Based on this graph, we can see that most of our dataset skews towards a sentiment of 2, which is neutral. This is something that we should take into consideration as we train our models for prediction. For instance, we may create classifiers that are biased to guess 2 based on the input. Therefore, we should also evaluate the precision and recall  (and the combined F1 score) of our predictions to get a better grasp of the model quality."
   ]
  },
  {
   "cell_type": "markdown",
   "metadata": {},
   "source": [
    "### Phrase length"
   ]
  },
  {
   "cell_type": "markdown",
   "metadata": {},
   "source": [
    "Something basic that we can evaluate is the length of the text. Different lengths of text may correlate to the sentiment of a text."
   ]
  },
  {
   "cell_type": "code",
   "execution_count": 7,
   "metadata": {
    "collapsed": true
   },
   "outputs": [],
   "source": [
    "# Create a new column with the word count evaluated\n",
    "train_df['phrase_length'] = train_df['phrase_cleaned'].str.len()"
   ]
  },
  {
   "cell_type": "code",
   "execution_count": 8,
   "metadata": {},
   "outputs": [
    {
     "data": {
      "image/png": "[encoded data removed]",
      "text/plain": [
       "<matplotlib.figure.Figure at 0x7f0bbb883f98>"
      ]
     },
     "metadata": {},
     "output_type": "display_data"
    },
    {
     "data": {
      "image/png": "[encoded data removed]",
      "text/plain": [
       "<matplotlib.figure.Figure at 0x7f0bbb8343c8>"
      ]
     },
     "metadata": {},
     "output_type": "display_data"
    }
   ],
   "source": [
    "# Visualize\n",
    "train_df.boxplot(column='phrase_length', by='Sentiment')\n",
    "plt.show()\n",
    "\n",
    "sns.violinplot(x=\"Sentiment\", y=\"phrase_length\", data=train_df)\n",
    "plt.show()"
   ]
  },
  {
   "cell_type": "markdown",
   "metadata": {},
   "source": [
    "Visualizing the phrase length along a sentiment reveals that neutral sentiment phrases are typically shorter and low-variance. This feature may help classifiers better identify opinionated vs neutral sentiment."
   ]
  },
  {
   "cell_type": "markdown",
   "metadata": {},
   "source": [
    "### Vector representations\n",
    "\n",
    "Rather than having just one dimension features, one way we can capture more information is to represent string features in vectors. The first technique that we can use is Bag-of-words.\n",
    "\n",
    "#### Bag-of-words\n",
    "\n",
    "Bag-of-words is a method to represent words based on the frequency of how many times words appear. First, we would like to traverse through our dataset and build a vocabulary of all the words used. Then, we tally up how many times each word appears. We take the most popular words of the dataset and treat it as a vector with values as their counts. Then, we can take each *individual* phrase and convert it into a vector based on the appearances of any of the chosen vocabulary. Using this vector form, we can now train classifiers to make decisions.\n",
    "\n",
    "For this reason, it is handy for us to remove stop words as to not clutter up our vocabulary with words that do not generate signal on sentiment.\n",
    "\n",
    "Following, we use Sklearn's count vectorizer to create our vocabulary and convert phrases into bag-of-words vectors."
   ]
  },
  {
   "cell_type": "code",
   "execution_count": 9,
   "metadata": {},
   "outputs": [
    {
     "name": "stdout",
     "output_type": "stream",
     "text": [
      "(156060, 5000)\n"
     ]
    }
   ],
   "source": [
    "def get_count_vectorizer(max_vocab):\n",
    "    return CountVectorizer(\n",
    "        analyzer = \"word\", \\\n",
    "        tokenizer = None, \\\n",
    "        preprocessor = None, \\\n",
    "        stop_words = None, \\\n",
    "        max_features = max_vocab)\n",
    "\n",
    "# Let's try using the top 5000 words first.\n",
    "count_vectorizer = get_count_vectorizer(5000)\n",
    "phrase_bow_vectors = count_vectorizer.fit_transform(train_df['phrase_cleaned']).toarray()\n",
    "print(phrase_bow_vectors.shape)"
   ]
  },
  {
   "cell_type": "markdown",
   "metadata": {},
   "source": [
    "The CountVectorizer converted our phrases to lengh-5000 vectors. Let's see which words are used in our vocabulary."
   ]
  },
  {
   "cell_type": "code",
   "execution_count": 10,
   "metadata": {
    "scrolled": true
   },
   "outputs": [
    {
     "name": "stdout",
     "output_type": "stream",
     "text": [
      "6733 film\n",
      "6241 movie\n",
      "3784 one\n",
      "3190 like\n",
      "2539 story\n",
      "2438 rrb\n",
      "2261 good\n",
      "2098 lrb\n",
      "1919 time\n",
      "1882 characters\n",
      "1872 much\n",
      "1813 comedy\n",
      "1718 life\n",
      "1624 even\n",
      "1605 little\n",
      "1583 funny\n",
      "1535 well\n",
      "1529 way\n",
      "1414 make\n",
      "1345 movies\n"
     ]
    }
   ],
   "source": [
    "def get_vocab_and_magnitude(vectorizer, vectors):\n",
    "    \"\"\"\n",
    "    Returns the vocabulary and its magnitude from a given vectorizer \n",
    "    \"\"\"\n",
    "    # Take a look at the words in the vocabulary\n",
    "    vocab = np.array(vectorizer.get_feature_names())\n",
    "\n",
    "    # Sum up the counts of each vocabulary word\n",
    "    magnitude = np.sum(vectors, axis=0)\n",
    "\n",
    "    sort_idxs = magnitude.argsort()[::-1]\n",
    "    magnitude = magnitude[sort_idxs]\n",
    "    vocab = vocab[sort_idxs]\n",
    "    \n",
    "    return vocab, magnitude\n",
    "\n",
    "\n",
    "def print_zip(list_1, list_2, count):\n",
    "    for a, b in list(zip(list_1, list_2))[0:count]:\n",
    "        print(a, b)\n",
    "\n",
    "        \n",
    "bow_vocab, bow_magnitude = get_vocab_and_magnitude(count_vectorizer, phrase_bow_vectors)\n",
    "\n",
    "# For each, print the vocabulary word and the number of times it \n",
    "# appears in the training set\n",
    "print_zip(bow_magnitude, bow_vocab, 20)"
   ]
  },
  {
   "cell_type": "markdown",
   "metadata": {},
   "source": [
    "#### TF-IDF\n",
    "\n",
    "Anyone way of representing text as a vector is by using TF-IDF. TF-IDF stands for term frequency–inverse document frequency, and it is a more advanced method compared to bag-of-words because it also takes into consideration how many times a word appears in multiple documents.\n",
    "\n",
    "For example, if a very popular word appears in *all* of our phrases, then that word would lose sentiment predictive power. TF-IDF penaltizes this effect, so we can build a vocabulary that is more aligned with a specific type of sentiment, which our classifiers can later pick up.\n",
    "\n",
    "Using Sklearn, we make this conversion."
   ]
  },
  {
   "cell_type": "code",
   "execution_count": 11,
   "metadata": {},
   "outputs": [
    {
     "name": "stdout",
     "output_type": "stream",
     "text": [
      "(156060, 491)\n"
     ]
    }
   ],
   "source": [
    "tfidf_vectorizer = TfidfVectorizer(\n",
    "    min_df=200, \\\n",
    "    max_df = 6000, \\\n",
    "    sublinear_tf=True, \\\n",
    "    use_idf=True)\n",
    "phrase_tfidf_vectors = tfidf_vectorizer.fit_transform(train_df['phrase_cleaned']).toarray()\n",
    "print(phrase_tfidf_vectors.shape)"
   ]
  },
  {
   "cell_type": "markdown",
   "metadata": {
    "collapsed": true
   },
   "source": [
    "We can see that, rather than a 5000-length vector, our vector length is now only 491. This is actually a good thing, as a denser vector can be less computationally expensive to train while retaining relevant data."
   ]
  },
  {
   "cell_type": "code",
   "execution_count": 12,
   "metadata": {},
   "outputs": [
    {
     "name": "stdout",
     "output_type": "stream",
     "text": [
      "1847.05674869 one\n",
      "1587.34322506 like\n",
      "1381.94895977 story\n",
      "1223.50244332 good\n",
      "1189.91375002 rrb\n",
      "1083.40943755 characters\n",
      "1050.45164456 comedy\n",
      "1038.04017392 much\n",
      "1032.53751111 time\n",
      "1000.24809845 life\n",
      "956.268631535 lrb\n",
      "947.882748343 funny\n",
      "943.441593633 little\n",
      "895.707026178 well\n",
      "889.274696866 way\n",
      "880.50117125 even\n",
      "805.45053268 love\n",
      "802.245810967 director\n",
      "782.578188478 work\n",
      "782.380853253 bad\n"
     ]
    }
   ],
   "source": [
    "tfidf_vocab, tfidf_magnitude = get_vocab_and_magnitude(tfidf_vectorizer, phrase_tfidf_vectors)\n",
    "\n",
    "# For each, print the vocabulary word and the number of times it \n",
    "# appears in the training set\n",
    "print_zip(tfidf_magnitude, tfidf_vocab, 20)"
   ]
  },
  {
   "cell_type": "markdown",
   "metadata": {},
   "source": [
    "Comparing to the above, TF-IDF seems to have a more opiniated vocabulary, which should help improve training accuracy. Let's also compare the vocabulary frequency between bag-of-words and tf-idf."
   ]
  },
  {
   "cell_type": "code",
   "execution_count": 13,
   "metadata": {},
   "outputs": [
    {
     "data": {
      "image/png": "[encoded data removed]",
      "text/plain": [
       "<matplotlib.figure.Figure at 0x7f0bb45ad0b8>"
      ]
     },
     "metadata": {},
     "output_type": "display_data"
    },
    {
     "data": {
      "image/png": "[encoded data removed]",
      "text/plain": [
       "<matplotlib.figure.Figure at 0x7f0bbb7ef1d0>"
      ]
     },
     "metadata": {},
     "output_type": "display_data"
    }
   ],
   "source": [
    "plt.plot(bow_magnitude)\n",
    "plt.title(\"Bag of words vocabulary count vs. word\")\n",
    "plt.show()\n",
    "\n",
    "plt.plot(tfidf_magnitude)\n",
    "plt.title(\"TF-IDF vocabulary count vs. word\")\n",
    "plt.show()"
   ]
  },
  {
   "cell_type": "markdown",
   "metadata": {},
   "source": [
    "TF-IDF's density is higher relative to BOW. We would expect to see more zeros in a BOW vector than TF-IDF."
   ]
  },
  {
   "cell_type": "markdown",
   "metadata": {},
   "source": [
    "## Modeling\n",
    "\n",
    "We are ready to take our extracted features and attempt to train some models. The following are a variety of models that can input features and output a sentiment prediction. We each model, we can evaluate its performance to submit to Kaggle."
   ]
  },
  {
   "cell_type": "markdown",
   "metadata": {},
   "source": [
    "### Naive model\n",
    "\n",
    "First, let's use a dummy benchmark model. This model will predict neural `2` for all inputs. Based on what we've seen about the data distribution, we expect about half of our predictions to be accurate."
   ]
  },
  {
   "cell_type": "code",
   "execution_count": 14,
   "metadata": {},
   "outputs": [
    {
     "name": "stdout",
     "output_type": "stream",
     "text": [
      "Accuracy: 0.50994489299\n",
      "             precision    recall  f1-score   support\n",
      "\n",
      "          0       0.00      0.00      0.00      7072\n",
      "          1       0.00      0.00      0.00     27273\n",
      "          2       0.51      1.00      0.68     79582\n",
      "          3       0.00      0.00      0.00     32927\n",
      "          4       0.00      0.00      0.00      9206\n",
      "\n",
      "avg / total       0.26      0.51      0.34    156060\n",
      "\n"
     ]
    },
    {
     "name": "stderr",
     "output_type": "stream",
     "text": [
      "/home/hdavidzhu/miniconda3/envs/ml_is/lib/python3.6/site-packages/sklearn/metrics/classification.py:1113: UndefinedMetricWarning: Precision and F-score are ill-defined and being set to 0.0 in labels with no predicted samples.\n",
      "  'precision', 'predicted', average, warn_for)\n"
     ]
    }
   ],
   "source": [
    "# Define a super basic model that only returns neutral sentiment\n",
    "class NaiveModel():\n",
    "    def predict(self, phrases):\n",
    "        return np.full((len(phrases), 1), 2)\n",
    "    \n",
    "    \n",
    "# Use the naive model to run a predication on our cross validation dataset\n",
    "naive_model = NaiveModel()\n",
    "predictions = naive_model.predict(train_df['Phrase'])\n",
    "    \n",
    "    \n",
    "def print_metrics(predictions, actual):\n",
    "    \"\"\"\n",
    "    Prints out some basic information about the performance of the model predictions\n",
    "    \"\"\"\n",
    "    print(\"Accuracy: \" + str(metrics.accuracy_score(actual, predictions)))\n",
    "    print(metrics.classification_report(actual, predictions))\n",
    "    \n",
    "\n",
    "print_metrics(predictions, train_df['Sentiment'])"
   ]
  },
  {
   "cell_type": "code",
   "execution_count": 15,
   "metadata": {
    "collapsed": true
   },
   "outputs": [],
   "source": [
    "def export_to_kaggle(predictions, name):\n",
    "    \"\"\"\n",
    "    Packages up testing results for Kaggle upload\n",
    "    \"\"\"\n",
    "    test_df['Sentiment'] = predictions\n",
    "    submission_df = test_df[['PhraseId', 'Sentiment']].copy()\n",
    "    submission_df.to_csv(path_or_buf='data/submission_' + name + '.csv', index=False)\n",
    "\n",
    "\n",
    "export_to_kaggle(naive_model.predict(test_df['Phrase']), 'naive_model_01')"
   ]
  },
  {
   "cell_type": "markdown",
   "metadata": {},
   "source": [
    "The resulting accuracy is **0.51789**. Although we were able to get ~50% accuracy, our precision, recall, and F1 score are terrible. Precision represents the accuracy of our predictions for a selected sentiment, and recall represents how many of our selected sentiment were accurate. The F1 score is derived from precision and recall, and it helps us quantify having good 'accuracy' without lose the balance between precision and recall.\n",
    "\n",
    "Looking at the table above, our precision and recall were zeros for any non-2 sentiment phrases. That means, for instance, that non of the 1-sentiment phrases were guessed correctly, and non of the correct guesses were 1's.  "
   ]
  },
  {
   "cell_type": "markdown",
   "metadata": {},
   "source": [
    "### Support Vector Machines\n",
    "\n",
    "Support vector machines are classifers that seperates data groups by a line (or hyperplane). It does so by trying to positioning itself equidistantly between two classes. Let's try applying our features to this model to predict sentiment.\n",
    "\n",
    "To let our SVM determine distance, let's use the default RBF kernel (radial basis function). "
   ]
  },
  {
   "cell_type": "code",
   "execution_count": 16,
   "metadata": {
    "collapsed": true
   },
   "outputs": [],
   "source": [
    "def get_train_test_splits(features, test_size=0.1):\n",
    "    return train_test_split(\n",
    "        features,\n",
    "        train_df['Sentiment'],\n",
    "        test_size = test_size, \n",
    "        random_state = 37)"
   ]
  },
  {
   "cell_type": "code",
   "execution_count": 17,
   "metadata": {},
   "outputs": [],
   "source": [
    "%%script false\n",
    "\n",
    "# Split our vector data for training and validation\n",
    "X_train, X_val, y_train, y_val = get_train_test_splits(phrase_bow_vectors, 0.1)\n",
    "X_train, X_val, y_train, y_val = get_train_test_splits(phrase_tfidf_vectors, 0.1)\n",
    "\n",
    "# Create and train our SVM\n",
    "svm_classifier = SVC(verbose=True)\n",
    "svm_classifier.fit(X_train, y_train)"
   ]
  },
  {
   "cell_type": "markdown",
   "metadata": {},
   "source": [
    "Unfortuntately, running on 140454 data samples is too resource intensive for SVC, and our system hangs. According to sklearn's SVC documentation, \"the fit time complexity is more than quadratic with the number of samples which makes it hard to scale to dataset with more than a couple of 10000 samples.\"\n",
    "\n",
    "Let's try again but with much less training data."
   ]
  },
  {
   "cell_type": "code",
   "execution_count": 29,
   "metadata": {
    "collapsed": true
   },
   "outputs": [],
   "source": [
    "# We'll only use 5% of our data for training, which is 7803 points.\n",
    "X_train, X_val, y_train, y_val = get_train_test_splits(phrase_tfidf_vectors, 0.95)"
   ]
  },
  {
   "cell_type": "code",
   "execution_count": 22,
   "metadata": {
    "scrolled": true
   },
   "outputs": [],
   "source": [
    "%%script false\n",
    "# Create and train our SVM\n",
    "svm_classifier = SVC(verbose=True)\n",
    "svm_classifier.fit(X_train, y_train)\n",
    "joblib.dump(svm_classifier, 'svm_v3.pkl')"
   ]
  },
  {
   "cell_type": "code",
   "execution_count": 23,
   "metadata": {
    "collapsed": true
   },
   "outputs": [],
   "source": [
    "svm_classifier = joblib.load('svm_v3.pkl') "
   ]
  },
  {
   "cell_type": "code",
   "execution_count": 24,
   "metadata": {},
   "outputs": [
    {
     "name": "stdout",
     "output_type": "stream",
     "text": [
      "Accuracy: 0.496\n",
      "             precision    recall  f1-score   support\n",
      "\n",
      "          0       0.00      0.00      0.00        39\n",
      "          1       0.00      0.00      0.00       198\n",
      "          2       0.50      1.00      0.66       496\n",
      "          3       0.00      0.00      0.00       211\n",
      "          4       0.00      0.00      0.00        56\n",
      "\n",
      "avg / total       0.25      0.50      0.33      1000\n",
      "\n"
     ]
    },
    {
     "name": "stderr",
     "output_type": "stream",
     "text": [
      "/home/hdavidzhu/miniconda3/envs/ml_is/lib/python3.6/site-packages/sklearn/metrics/classification.py:1113: UndefinedMetricWarning: Precision and F-score are ill-defined and being set to 0.0 in labels with no predicted samples.\n",
      "  'precision', 'predicted', average, warn_for)\n"
     ]
    }
   ],
   "source": [
    "predictions = svm_classifier.predict(X_val[0:1000])\n",
    "print_metrics(predictions, y_val[0:1000])"
   ]
  },
  {
   "cell_type": "markdown",
   "metadata": {},
   "source": [
    "That's not promising. It seems that our SVM classifier also only predicts 2s.\n",
    "\n",
    "Let's try using the phrase length feature to determine sentiment."
   ]
  },
  {
   "cell_type": "code",
   "execution_count": 33,
   "metadata": {
    "collapsed": true
   },
   "outputs": [],
   "source": [
    "X_train, X_val, y_train, y_val = get_train_test_splits(train_df['phrase_length'], 0.8)"
   ]
  },
  {
   "cell_type": "code",
   "execution_count": null,
   "metadata": {
    "collapsed": true
   },
   "outputs": [],
   "source": [
    "svm_classifier = SVC(verbose=True)\n",
    "\n",
    "# We need to use np.newaxis to conform to the fit()'s expected syntax\n",
    "svm_classifier.fit(X_train[:, np.newaxis], y_train)\n",
    "\n",
    "joblib.dump(svm_classifier, 'svm_v4_length.pkl')"
   ]
  },
  {
   "cell_type": "code",
   "execution_count": 37,
   "metadata": {},
   "outputs": [
    {
     "name": "stdout",
     "output_type": "stream",
     "text": [
      "Accuracy: 0.5038\n",
      "             precision    recall  f1-score   support\n",
      "\n",
      "          0       0.33      0.00      0.01       220\n",
      "          1       0.23      0.03      0.05       904\n",
      "          2       0.53      0.95      0.68      2528\n",
      "          3       0.24      0.09      0.13      1058\n",
      "          4       0.00      0.00      0.00       290\n",
      "\n",
      "avg / total       0.38      0.50      0.38      5000\n",
      "\n"
     ]
    }
   ],
   "source": [
    "svm_classifier = joblib.load('svm_v4_length.pkl')\n",
    "predictions = svm_classifier.predict(X_val[:, np.newaxis][0:5000])\n",
    "print_metrics(predictions, y_val[0:5000])"
   ]
  },
  {
   "cell_type": "markdown",
   "metadata": {},
   "source": [
    "Using a simpler feature for our SVM improved performance, as some non-2 sentiment predictions were made. Longer training may help with the other models using bag-of-words and tf-idf."
   ]
  },
  {
   "cell_type": "markdown",
   "metadata": {},
   "source": [
    "### Naive Bayes\n",
    "\n",
    "Naive bayes is a popular classification algorithm used in natural language processing, typically as a baseline. Naive bayes uses the Bayes theorem and assumes strong independence between features. This means that, by disregarding probability calculations among features, the probability of of a given result is simply the normalized multiplication of all feature probabilities. One benefit of this is that the probability is linearly dependent on how many features we use, and training becomes much faster. "
   ]
  },
  {
   "cell_type": "code",
   "execution_count": 46,
   "metadata": {},
   "outputs": [
    {
     "data": {
      "text/plain": [
       "MultinomialNB(alpha=1.0, class_prior=None, fit_prior=True)"
      ]
     },
     "execution_count": 46,
     "metadata": {},
     "output_type": "execute_result"
    }
   ],
   "source": [
    "from sklearn.naive_bayes import MultinomialNB\n",
    "\n",
    "X_train, X_val, y_train, y_val = get_train_test_splits(phrase_tfidf_vectors, 0.1)\n",
    "\n",
    "naive_bayes_clf = MultinomialNB()\n",
    "naive_bayes_clf.fit(X_train, y_train)"
   ]
  },
  {
   "cell_type": "code",
   "execution_count": 47,
   "metadata": {},
   "outputs": [
    {
     "name": "stdout",
     "output_type": "stream",
     "text": [
      "Accuracy: 0.535691400743\n",
      "             precision    recall  f1-score   support\n",
      "\n",
      "          0       0.00      0.00      0.00       712\n",
      "          1       0.48      0.05      0.08      2715\n",
      "          2       0.54      0.97      0.69      7963\n",
      "          3       0.50      0.15      0.23      3346\n",
      "          4       0.67      0.00      0.00       870\n",
      "\n",
      "avg / total       0.50      0.54      0.42     15606\n",
      "\n"
     ]
    },
    {
     "name": "stderr",
     "output_type": "stream",
     "text": [
      "/home/hdavidzhu/miniconda3/envs/ml_is/lib/python3.6/site-packages/sklearn/metrics/classification.py:1113: UndefinedMetricWarning: Precision and F-score are ill-defined and being set to 0.0 in labels with no predicted samples.\n",
      "  'precision', 'predicted', average, warn_for)\n"
     ]
    }
   ],
   "source": [
    "predictions = naive_bayes_clf.predict(X_val)\n",
    "print_metrics(predictions, y_val)"
   ]
  },
  {
   "cell_type": "code",
   "execution_count": 48,
   "metadata": {},
   "outputs": [
    {
     "name": "stdout",
     "output_type": "stream",
     "text": [
      "(66292, 491)\n"
     ]
    }
   ],
   "source": [
    "test_data_features = tfidf_vectorizer.transform(test_df['phrase_cleaned']).toarray()\n",
    "print(test_data_features.shape)\n",
    "\n",
    "export_to_kaggle(naive_bayes_clf.predict(test_data_features), 'naive_bayes_01')"
   ]
  },
  {
   "cell_type": "markdown",
   "metadata": {},
   "source": [
    "The resulting Kaggle accuracy is **0.53540**.\n",
    "\n",
    "Let's also try the bag-of-words to see how well it performs."
   ]
  },
  {
   "cell_type": "code",
   "execution_count": 49,
   "metadata": {},
   "outputs": [
    {
     "name": "stdout",
     "output_type": "stream",
     "text": [
      "Accuracy: 0.603549916699\n",
      "             precision    recall  f1-score   support\n",
      "\n",
      "          0       0.48      0.26      0.33       712\n",
      "          1       0.50      0.30      0.38      2715\n",
      "          2       0.65      0.86      0.74      7963\n",
      "          3       0.53      0.40      0.45      3346\n",
      "          4       0.51      0.29      0.37       870\n",
      "\n",
      "avg / total       0.58      0.60      0.58     15606\n",
      "\n"
     ]
    }
   ],
   "source": [
    "X_train, X_val, y_train, y_val = get_train_test_splits(phrase_bow_vectors, 0.1)\n",
    "\n",
    "naive_bayes_clf = MultinomialNB()\n",
    "naive_bayes_clf.fit(X_train, y_train)\n",
    "predictions = naive_bayes_clf.predict(X_val)\n",
    "print_metrics(predictions, y_val)"
   ]
  },
  {
   "cell_type": "markdown",
   "metadata": {},
   "source": [
    "Surprisingly, Naive Bayes performed best using bag-of-words vectors! Let's first evaluate on Kaggle to get test result accuracy."
   ]
  },
  {
   "cell_type": "code",
   "execution_count": 50,
   "metadata": {},
   "outputs": [
    {
     "name": "stdout",
     "output_type": "stream",
     "text": [
      "(66292, 5000)\n"
     ]
    }
   ],
   "source": [
    "test_data_features = count_vectorizer.transform(test_df['phrase_cleaned']).toarray()\n",
    "print(test_data_features.shape)\n",
    "\n",
    "export_to_kaggle(naive_bayes_clf.predict(test_data_features), 'naive_bayes_02')"
   ]
  },
  {
   "cell_type": "markdown",
   "metadata": {},
   "source": [
    "Kaggle returned **0.59497** in accuracy. I was really surpised that BOW performed much better than TF-IDF. It could be that TF-IDF is more lossy than BOW in capturing sentiment data, and we may want to tune those hyperparameters to get a better fit.\n",
    "\n",
    "Let's see if reducing the min threshold of our TF-IDF vectorizers would help improve accuracy."
   ]
  },
  {
   "cell_type": "code",
   "execution_count": 52,
   "metadata": {},
   "outputs": [
    {
     "name": "stdout",
     "output_type": "stream",
     "text": [
      "(156060, 1181)\n",
      "Accuracy: 0.555299243881\n",
      "             precision    recall  f1-score   support\n",
      "\n",
      "          0       0.77      0.02      0.05       712\n",
      "          1       0.50      0.10      0.16      2715\n",
      "          2       0.56      0.96      0.71      7963\n",
      "          3       0.53      0.22      0.31      3346\n",
      "          4       0.58      0.03      0.06       870\n",
      "\n",
      "avg / total       0.55      0.56      0.46     15606\n",
      "\n"
     ]
    }
   ],
   "source": [
    "def get_tfid_vectorizer(min_df=200, max_df=6000):\n",
    "    return TfidfVectorizer(\n",
    "        min_df=min_df, \\\n",
    "        max_df = max_df, \\\n",
    "        sublinear_tf=True, \\\n",
    "        use_idf=True)\n",
    "\n",
    "tfidf_vec_2 = get_tfid_vectorizer(min_df=100).fit_transform(train_df['phrase_cleaned']).toarray()\n",
    "print(tfidf_vec_2.shape)\n",
    "\n",
    "naive_bayes_clf = MultinomialNB()\n",
    "\n",
    "X_train, X_val, y_train, y_val = get_train_test_splits(tfidf_vec_2, 0.1)\n",
    "naive_bayes_clf.fit(X_train, y_train)\n",
    "predictions = naive_bayes_clf.predict(X_val)\n",
    "print_metrics(predictions, y_val)"
   ]
  },
  {
   "cell_type": "code",
   "execution_count": 53,
   "metadata": {},
   "outputs": [
    {
     "name": "stdout",
     "output_type": "stream",
     "text": [
      "(156060, 2475)\n",
      "Accuracy: 0.569780853518\n",
      "             precision    recall  f1-score   support\n",
      "\n",
      "          0       0.67      0.03      0.06       712\n",
      "          1       0.50      0.15      0.23      2715\n",
      "          2       0.58      0.94      0.72      7963\n",
      "          3       0.54      0.28      0.37      3346\n",
      "          4       0.59      0.06      0.11       870\n",
      "\n",
      "avg / total       0.56      0.57      0.49     15606\n",
      "\n"
     ]
    }
   ],
   "source": [
    "tfidf_vec_3 = get_tfid_vectorizer(min_df=50).fit_transform(train_df['phrase_cleaned']).toarray()\n",
    "print(tfidf_vec_3.shape)\n",
    "\n",
    "X_train, X_val, y_train, y_val = get_train_test_splits(tfidf_vec_3, 0.1)\n",
    "naive_bayes_clf.fit(X_train, y_train)\n",
    "predictions = naive_bayes_clf.predict(X_val)\n",
    "print_metrics(predictions, y_val)"
   ]
  },
  {
   "cell_type": "code",
   "execution_count": 54,
   "metadata": {},
   "outputs": [
    {
     "name": "stdout",
     "output_type": "stream",
     "text": [
      "(156060, 4840)\n",
      "Accuracy: 0.580802255543\n",
      "             precision    recall  f1-score   support\n",
      "\n",
      "          0       0.52      0.05      0.09       712\n",
      "          1       0.51      0.20      0.29      2715\n",
      "          2       0.59      0.92      0.72      7963\n",
      "          3       0.54      0.32      0.40      3346\n",
      "          4       0.65      0.08      0.14       870\n",
      "\n",
      "avg / total       0.57      0.58      0.52     15606\n",
      "\n"
     ]
    }
   ],
   "source": [
    "tfidf_vec_4 = get_tfid_vectorizer(min_df=25).fit_transform(train_df['phrase_cleaned']).toarray()\n",
    "print(tfidf_vec_4.shape)\n",
    "\n",
    "X_train, X_val, y_train, y_val = get_train_test_splits(tfidf_vec_4, 0.1)\n",
    "naive_bayes_clf.fit(X_train, y_train)\n",
    "predictions = naive_bayes_clf.predict(X_val)\n",
    "print_metrics(predictions, y_val)"
   ]
  },
  {
   "cell_type": "code",
   "execution_count": 55,
   "metadata": {},
   "outputs": [
    {
     "name": "stdout",
     "output_type": "stream",
     "text": [
      "(156060, 10789)\n",
      "Accuracy: 0.58810713828\n",
      "             precision    recall  f1-score   support\n",
      "\n",
      "          0       0.65      0.06      0.11       712\n",
      "          1       0.51      0.25      0.34      2715\n",
      "          2       0.61      0.90      0.72      7963\n",
      "          3       0.53      0.37      0.44      3346\n",
      "          4       0.56      0.07      0.12       870\n",
      "\n",
      "avg / total       0.57      0.59      0.53     15606\n",
      "\n"
     ]
    }
   ],
   "source": [
    "tfidf_vec_5 = get_tfid_vectorizer(min_df=10).fit_transform(train_df['phrase_cleaned']).toarray()\n",
    "print(tfidf_vec_5.shape)\n",
    "\n",
    "X_train, X_val, y_train, y_val = get_train_test_splits(tfidf_vec_5, 0.1)\n",
    "naive_bayes_clf.fit(X_train, y_train)\n",
    "predictions = naive_bayes_clf.predict(X_val)\n",
    "print_metrics(predictions, y_val)"
   ]
  },
  {
   "cell_type": "code",
   "execution_count": 56,
   "metadata": {},
   "outputs": [
    {
     "name": "stdout",
     "output_type": "stream",
     "text": [
      "(156060, 4842)\n",
      "Accuracy: 0.580161476355\n",
      "             precision    recall  f1-score   support\n",
      "\n",
      "          0       0.52      0.05      0.09       712\n",
      "          1       0.51      0.20      0.28      2715\n",
      "          2       0.59      0.92      0.72      7963\n",
      "          3       0.54      0.32      0.40      3346\n",
      "          4       0.67      0.08      0.14       870\n",
      "\n",
      "avg / total       0.57      0.58      0.52     15606\n",
      "\n"
     ]
    }
   ],
   "source": [
    "tfidf_vec_6 = get_tfid_vectorizer(min_df=25, max_df=1.0).fit_transform(train_df['phrase_cleaned']).toarray()\n",
    "print(tfidf_vec_6.shape)\n",
    "\n",
    "X_train, X_val, y_train, y_val = get_train_test_splits(tfidf_vec_6, 0.1)\n",
    "naive_bayes_clf.fit(X_train, y_train)\n",
    "predictions = naive_bayes_clf.predict(X_val)\n",
    "print_metrics(predictions, y_val)"
   ]
  },
  {
   "cell_type": "markdown",
   "metadata": {},
   "source": [
    "It seems that, even with tuning, our TF-IDF was not able to perform better than BOW using Naive Bayes. My assumption about TF-IDF placing more meaningful weighting on specified words could be wrong when considering sentiment. "
   ]
  },
  {
   "cell_type": "markdown",
   "metadata": {},
   "source": [
    "### Random Forest Classifier\n",
    "\n",
    "Finally, I wanted to try a random forest classifier. A random forest classifier utilizes many different decision trees to make a prediction. Each decision tree is presented with a subset of features and data to consider, so that they may each learn something different about the dataset. When it is time to predict, each decision tree makes its own predictions and cast a vote. Finally, the most popular vote becomes the prediction.\n",
    "\n",
    "What's great about a random forest is that, because it is an ensemble learning technique, high noise and variance can be essentially filtered out. It is harder to overfit a random forest classifier because each individual decision tree is only considering a subset of features.\n",
    "\n",
    "Let's build a random forest with 100 trees. We'll use the Bag-of-words vectors for training, since it performed well in our naive bayes classifier."
   ]
  },
  {
   "cell_type": "code",
   "execution_count": null,
   "metadata": {
    "collapsed": true
   },
   "outputs": [],
   "source": [
    "forest = RandomForestClassifier(n_estimators = 100, verbose=3, n_jobs=-1) \n",
    "forest = forest.fit(phrase_bow_vectors, train_df[\"Sentiment\"])"
   ]
  },
  {
   "cell_type": "code",
   "execution_count": null,
   "metadata": {},
   "outputs": [],
   "source": [
    "# Let's cache this model since it takes a very long time to train.\n",
    "joblib.dump(forest, 'forest_v2.pkl')"
   ]
  },
  {
   "cell_type": "code",
   "execution_count": 44,
   "metadata": {
    "collapsed": true
   },
   "outputs": [],
   "source": [
    "forest = joblib.load('forest_v2.pkl') "
   ]
  },
  {
   "cell_type": "code",
   "execution_count": 45,
   "metadata": {},
   "outputs": [
    {
     "name": "stderr",
     "output_type": "stream",
     "text": [
      "[Parallel(n_jobs=96)]: Done  11 out of 100 | elapsed:    5.0s remaining:   40.8s\n",
      "[Parallel(n_jobs=96)]: Done  45 out of 100 | elapsed:    8.5s remaining:   10.4s\n",
      "[Parallel(n_jobs=96)]: Done  79 out of 100 | elapsed:    9.4s remaining:    2.5s\n",
      "[Parallel(n_jobs=96)]: Done 100 out of 100 | elapsed:    9.9s finished\n"
     ]
    }
   ],
   "source": [
    "forest_predictions = forest.predict(phrase_bow_vectors)"
   ]
  },
  {
   "cell_type": "code",
   "execution_count": 46,
   "metadata": {},
   "outputs": [
    {
     "name": "stdout",
     "output_type": "stream",
     "text": [
      "Accuracy: 0.80594643086\n",
      "             precision    recall  f1-score   support\n",
      "\n",
      "          0       0.77      0.67      0.72      7072\n",
      "          1       0.78      0.68      0.73     27273\n",
      "          2       0.82      0.91      0.86     79582\n",
      "          3       0.80      0.71      0.75     32927\n",
      "          4       0.81      0.69      0.74      9206\n",
      "\n",
      "avg / total       0.80      0.81      0.80    156060\n",
      "\n"
     ]
    }
   ],
   "source": [
    "print_metrics(forest_predictions, train_df['Sentiment'])"
   ]
  },
  {
   "cell_type": "code",
   "execution_count": 47,
   "metadata": {},
   "outputs": [
    {
     "name": "stderr",
     "output_type": "stream",
     "text": [
      "[Parallel(n_jobs=96)]: Done  11 out of 100 | elapsed:    2.3s remaining:   18.5s\n",
      "[Parallel(n_jobs=96)]: Done  45 out of 100 | elapsed:    3.8s remaining:    4.7s\n",
      "[Parallel(n_jobs=96)]: Done  79 out of 100 | elapsed:    4.1s remaining:    1.1s\n",
      "[Parallel(n_jobs=96)]: Done 100 out of 100 | elapsed:    4.3s finished\n"
     ]
    }
   ],
   "source": [
    "# Preprocessing submission data\n",
    "clean_df(test_df)\n",
    "\n",
    "# Use model to predict results\n",
    "test_data_features = vectorizer.transform(test_df['phrase_cleaned']).toarray()\n",
    "test_forest_predictions = forest.predict(test_data_features)"
   ]
  },
  {
   "cell_type": "code",
   "execution_count": 52,
   "metadata": {
    "collapsed": true
   },
   "outputs": [],
   "source": [
    "# Save output to csv for submission\n",
    "export_to_kaggle(test_forest_predictions, 'random_forest_02')"
   ]
  },
  {
   "cell_type": "markdown",
   "metadata": {
    "collapsed": true
   },
   "source": [
    "The first time I submitted to Kaggle on `random_forest_01`, we got back `0.43603` as our accuracy. After some debugging, I realized that the method `fit_transform` causes our Vectorizer to re-fit to the new test dataset. By simply using `transform`, we now conform better to what our random forest classifier expects.\n",
    "\n",
    "`random_forest_02` score **0.58420**. The `0.80594643086` accuracy on our training dataset is caused by us evaluating accuracy on the training dataset. This descrepancy signifies that our model is significantly overfit on the training data, and I think this is because we are using too many features."
   ]
  },
  {
   "cell_type": "markdown",
   "metadata": {},
   "source": [
    "## Conclusion\n",
    "\n",
    "In this project, we explored the Rotten Tomatoes dataset to find ways of predicting sentiment. We took some time to preprocess our data, looked at converting text to raw features such as TF-IDF vectors, and tried a few different types of classifiers. Our best performing classifier (Naive Bayes on Bag-of-words) had an accuracy of ~59.4%. We were able to train a random forest classifier (in parallel and on Deepthought), but we struggled to train an SVN because of scaling issues.\n",
    "\n",
    "This project gave me an opportunity to play with several classifiers that I didn't see while going through the Coursera course. For example, one thing I found interesting was this concept of different families of classifiers, and how certain classifiers are better suited for text than others. I was surprised that a simpler vector mapping technique like bag-of-words outperformed tf-idf, and I wonder if its because I haven't fully tuned those hyperparameters. I also wonder if the conjunction of those features may output better results or just overfit.\n",
    "\n",
    "Some things to try in the future, if I pursue another natural language processing project, is compare how stemming and lemmatization collapses duplicate words. I also wonder if punctuation would have been important, especially exclamations. Finally, the biggest area to keep researching is utilizing grammar to detect negations.\n",
    "\n",
    "Some of the main resources that helped me through this project were the 2016 Data Science projects, Sklearn documentation, simple text tutorials and Youtube guides. I also would like to thank Paul Ruvolo for guiding me in the right directions for this independent study."
   ]
  },
  {
   "cell_type": "markdown",
   "metadata": {},
   "source": [
    "## Sources\n",
    "\n",
    "* Naive Bayes tutorial: https://www.youtube.com/watch?v=rISOsUaTrO4\n",
    "* Logistic regression: http://scikit-learn.org/stable/auto_examples/linear_model/plot_iris_logistic.html\n",
    "* SVM: https://marcobonzanini.com/2015/01/19/sentiment-analysis-with-python-and-scikit-learn/\n",
    "* http://scikit-learn.org/stable/tutorial/text_analytics/working_with_text_data.html\n",
    "* Bagging: http://stackoverflow.com/a/32025662/2204868\n",
    "* TF-IDF: https://nlp.stanford.edu/IR-book/html/htmledition/tf-idf-weighting-1.html\n",
    "* SVC documentation: http://scikit-learn.org/stable/modules/generated/sklearn.svm.SVC.html\n",
    "* Random forest: https://en.wikipedia.org/wiki/Random_forest"
   ]
  }
 ],
 "metadata": {
  "kernelspec": {
   "display_name": "Python 3",
   "language": "python",
   "name": "python3"
  },
  "language_info": {
   "codemirror_mode": {
    "name": "ipython",
    "version": 3
   },
   "file_extension": ".py",
   "mimetype": "text/x-python",
   "name": "python",
   "nbconvert_exporter": "python",
   "pygments_lexer": "ipython3",
   "version": "3.6.1"
  }
 },
 "nbformat": 4,
 "nbformat_minor": 2
}
