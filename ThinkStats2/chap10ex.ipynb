{
 "cells": [
  {
   "cell_type": "markdown",
   "metadata": {},
   "source": [
    "Exercise from Think Stats, 2nd Edition (thinkstats2.com)<br>\n",
    "Allen Downey"
   ]
  },
  {
   "cell_type": "code",
   "execution_count": 1,
   "metadata": {
    "collapsed": false
   },
   "outputs": [],
   "source": [
    "%matplotlib inline"
   ]
  },
  {
   "cell_type": "markdown",
   "metadata": {},
   "source": [
    "Using the data from the BRFSS, compute the linear least squares fit for log(weight) versus height. How would you best present the estimated parameters for a model like this where one of the variables is log-transformed? If you were trying to guess someone’s weight, how much would it help to know their height? "
   ]
  },
  {
   "cell_type": "code",
   "execution_count": 47,
   "metadata": {
    "collapsed": false,
    "scrolled": true
   },
   "outputs": [
    {
     "name": "stdout",
     "output_type": "stream",
     "text": [
      "   age  sex    wtyrago      finalwt  wtkg2  htm3\n",
      "0   82    2  76.363636   185.870345  70.91   157\n",
      "1   65    2  72.727273   126.603027  72.73   163\n",
      "2   48    2        NaN   181.063210    NaN   165\n",
      "3   61    1  73.636364   517.926275  73.64   170\n",
      "4   26    1  88.636364  1252.624630  88.64   185\n"
     ]
    }
   ],
   "source": [
    "from brfss import *\n",
    "df = ReadBrfss()\n",
    "print df.head()"
   ]
  },
  {
   "cell_type": "code",
   "execution_count": 52,
   "metadata": {
    "collapsed": false
   },
   "outputs": [
    {
     "name": "stdout",
     "output_type": "stream",
     "text": [
      "0         4.261411\n",
      "1         4.286754\n",
      "2         4.347306\n",
      "3         4.299188\n",
      "4         4.484583\n",
      "5         4.692173\n",
      "6         3.912023\n",
      "7         4.809987\n",
      "8         4.499810\n",
      "9         4.347306\n",
      "10        4.153242\n",
      "11        4.359014\n",
      "12        4.138840\n",
      "13        4.846311\n",
      "14        4.558603\n",
      "15        4.484583\n",
      "16        4.509870\n",
      "17        3.912023\n",
      "18        4.605170\n",
      "19        4.286754\n",
      "20        4.335459\n",
      "21        4.153242\n",
      "22        4.015482\n",
      "23        4.359014\n",
      "24        4.509870\n",
      "25        4.274163\n",
      "26        4.347306\n",
      "27        4.138840\n",
      "28        4.079062\n",
      "29        4.188290\n",
      "            ...   \n",
      "414479    4.254903\n",
      "414480    4.489647\n",
      "414481    4.335459\n",
      "414482    3.938860\n",
      "414483    4.222151\n",
      "414484    4.469007\n",
      "414485    4.347306\n",
      "414486    4.116758\n",
      "414487    4.347306\n",
      "414488    4.627616\n",
      "414489    4.458525\n",
      "414490    4.274163\n",
      "414491    4.347306\n",
      "414492    4.254903\n",
      "414493    4.039888\n",
      "414494    4.222151\n",
      "414495    4.286754\n",
      "414496    4.039888\n",
      "414497    4.188290\n",
      "414498    4.317488\n",
      "414499    4.864067\n",
      "414500    4.317488\n",
      "414501    4.458525\n",
      "414502    4.347306\n",
      "414503    4.359014\n",
      "414504    4.484583\n",
      "414505    4.286754\n",
      "414506    4.509870\n",
      "414507    4.489647\n",
      "414508    4.317488\n",
      "Name: wtkg2, dtype: float64\n",
      "0          70.91\n",
      "1          72.73\n",
      "2          77.27\n",
      "3          73.64\n",
      "4          88.64\n",
      "5         109.09\n",
      "6          50.00\n",
      "7         122.73\n",
      "8          90.00\n",
      "9          77.27\n",
      "10         63.64\n",
      "11         78.18\n",
      "12         62.73\n",
      "13        127.27\n",
      "14         95.45\n",
      "15         88.64\n",
      "16         90.91\n",
      "17         50.00\n",
      "18        100.00\n",
      "19         72.73\n",
      "20         76.36\n",
      "21         63.64\n",
      "22         55.45\n",
      "23         78.18\n",
      "24         90.91\n",
      "25         71.82\n",
      "26         77.27\n",
      "27         62.73\n",
      "28         59.09\n",
      "29         65.91\n",
      "           ...  \n",
      "414479     70.45\n",
      "414480     89.09\n",
      "414481     76.36\n",
      "414482     51.36\n",
      "414483     68.18\n",
      "414484     87.27\n",
      "414485     77.27\n",
      "414486     61.36\n",
      "414487     77.27\n",
      "414488    102.27\n",
      "414489     86.36\n",
      "414490     71.82\n",
      "414491     77.27\n",
      "414492     70.45\n",
      "414493     56.82\n",
      "414494     68.18\n",
      "414495     72.73\n",
      "414496     56.82\n",
      "414497     65.91\n",
      "414498     75.00\n",
      "414499    129.55\n",
      "414500     75.00\n",
      "414501     86.36\n",
      "414502     77.27\n",
      "414503     78.18\n",
      "414504     88.64\n",
      "414505     72.73\n",
      "414506     90.91\n",
      "414507     89.09\n",
      "414508     75.00\n",
      "Name: wtkg2, dtype: float64\n"
     ]
    }
   ],
   "source": [
    "weights = df.wtkg2.fillna(df.wtkg2.median())\n",
    "heights = df.htm3.fillna(df.htm3.median())\n",
    "logweights = np.log(weights)\n",
    "print logweights\n",
    "print weights"
   ]
  },
  {
   "cell_type": "markdown",
   "metadata": {},
   "source": [
    "I used fillna instead of dropna because dropping the NaNs from both the weights and heights left them different lengths, which errored on LeastSquares.  This was the easiest way I could think of to make sure their lengths matched, is there another/better way?"
   ]
  },
  {
   "cell_type": "code",
   "execution_count": 57,
   "metadata": {
    "collapsed": false
   },
   "outputs": [
    {
     "name": "stdout",
     "output_type": "stream",
     "text": [
      "68.697063567 23.0637498958\n"
     ]
    }
   ],
   "source": [
    "import thinkstats2\n",
    "import thinkplot\n",
    "\n",
    "inter, slope = thinkstats2.LeastSquares(logweights, heights)\n",
    "print inter, slope"
   ]
  },
  {
   "cell_type": "code",
   "execution_count": 49,
   "metadata": {
    "collapsed": false
   },
   "outputs": [
    {
     "data": {
      "image/png": "[encoded data removed]",
      "text/plain": [
       "<matplotlib.figure.Figure at 0x7fd755912cd0>"
      ]
     },
     "metadata": {},
     "output_type": "display_data"
    },
    {
     "data": {
      "text/plain": [
       "<matplotlib.figure.Figure at 0x7fd752064d10>"
      ]
     },
     "metadata": {},
     "output_type": "display_data"
    }
   ],
   "source": [
    "thinkplot.Scatter(weights, heights)\n",
    "thinkplot.Show()"
   ]
  },
  {
   "cell_type": "code",
   "execution_count": 50,
   "metadata": {
    "collapsed": false
   },
   "outputs": [
    {
     "data": {
      "image/png": "[encoded data removed]",
      "text/plain": [
       "<matplotlib.figure.Figure at 0x7fd7558b20d0>"
      ]
     },
     "metadata": {},
     "output_type": "display_data"
    },
    {
     "data": {
      "text/plain": [
       "<matplotlib.figure.Figure at 0x7fd755993b90>"
      ]
     },
     "metadata": {},
     "output_type": "display_data"
    }
   ],
   "source": [
    "thinkplot.Scatter(logweights, heights)\n",
    "thinkplot.Show()"
   ]
  },
  {
   "cell_type": "markdown",
   "metadata": {},
   "source": [
    "This tells me that the intercept the about 68.7cm and the slope is about 23cm per log-pound, which means that when your weight is 0, your height will be 68.7 cm (which doesn't make much sense), and you gain 23cm per log-pound, which is also hard for a person to interpret.\n",
    "\n",
    "To fix the intercept issue, we can use the intercept at the mean of the data instead:"
   ]
  },
  {
   "cell_type": "code",
   "execution_count": 54,
   "metadata": {
    "collapsed": false
   },
   "outputs": [
    {
     "name": "stdout",
     "output_type": "stream",
     "text": [
      "78.925862623 76.7765533047\n",
      "4.34089929803\n",
      "168.540683855\n"
     ]
    }
   ],
   "source": [
    "m = logweights.mean()\n",
    "print weights.mean(), np.exp(m) # these should be the same, or close\n",
    "print m\n",
    "print 68.7 + 23*m"
   ]
  },
  {
   "cell_type": "markdown",
   "metadata": {},
   "source": [
    "This is at least easier to interpret - at the mean of 4.34 log-kg, or about 77 kg, the height intercept is 168cm, which makes sense to a human.  The difference between finding the mean and then making it an exponential to offset the log, or just taking the mean of the original weights is off by a few kg, likely due to rounding of the mean."
   ]
  },
  {
   "cell_type": "markdown",
   "metadata": {},
   "source": [
    "What the Least Squares tells us is that the least-squares fit line is at the equation:\n",
    "height = 23 * ln(weight) + 68.7\n",
    "\n",
    "A linear model will be saying that every time the weight increased by x kgs, the height should increase by y cm.  A log model can be explained instead of using these definite values, using percentages.  Every time the weight increases by, say, 5%, the height will increase by 23 * ln(1.05), or 1.12cm.  This works no matter the weight:"
   ]
  },
  {
   "cell_type": "code",
   "execution_count": 56,
   "metadata": {
    "collapsed": false
   },
   "outputs": [
    {
     "name": "stdout",
     "output_type": "stream",
     "text": [
      "1.1221737759\n"
     ]
    }
   ],
   "source": [
    "weight1 = 65\n",
    "weight2 = weight1*1.05 #increase by 5%\n",
    "height1 = 23 * np.log(weight1) + 68.7\n",
    "height2 = 23 * np.log(weight2) + 68.7\n",
    "print height2 - height1 # should be 1.12"
   ]
  },
  {
   "cell_type": "markdown",
   "metadata": {},
   "source": [
    "As you can see by entering different values for weight1, the difference in heights between that and the weight 5% more is always 1.12cm.  This is a good way to explain this model to people, because people are not very well able to think in logs of their weight, but they would likely be able to think in percentage increases.  And 5% is just an example, maybe 10% would be a better way to actually explain the model because 10% is so easy to calculate in your head (moving the decimal place), so we could say that each 10% increase in weight correlates to a 2.2cm increase in height."
   ]
  },
  {
   "cell_type": "markdown",
   "metadata": {},
   "source": [
    "Just from looking at the scatterplots, we know that although there does seem to be a positive correlation between height and weight, it's not very strong and there's a lot of noise."
   ]
  },
  {
   "cell_type": "code",
   "execution_count": 60,
   "metadata": {
    "collapsed": false
   },
   "outputs": [
    {
     "name": "stdout",
     "output_type": "stream",
     "text": [
      "0.273288464105\n"
     ]
    }
   ],
   "source": [
    "print thinkstats2.CoefDetermination(heights, thinkstats2.Residuals(logweights, heights, inter, slope))"
   ]
  },
  {
   "cell_type": "markdown",
   "metadata": {},
   "source": [
    "What this R^2 values tells us is that about 27% of the variation of the residuals (deviants from the best-fit line) can be explained by the relationship between heights and the log of weights.  This is okay, but not really super strong, so if I were trying to guess a friend's height based on their weight, I wouldn't put a lot of money on my prediction."
   ]
  },
  {
   "cell_type": "markdown",
   "metadata": {},
   "source": [
    "## Clarifying Questions\n",
    "\n",
    "Use this space to ask questions regarding the content covered in the reading. These questions should be restricted to helping you better understand the material. For questions that push beyond what is in the reading, use the next answer field. If you don't have a fully formed question, but are generally having a difficult time with a topic, you can indicate that here as well."
   ]
  },
  {
   "cell_type": "markdown",
   "metadata": {},
   "source": []
  },
  {
   "cell_type": "markdown",
   "metadata": {},
   "source": [
    "## Enrichment Questions\n",
    "\n",
    "Use this space to ask any questions that go beyond (but are related to) the material presented in this reading. Perhaps there is a particular topic you'd like to see covered in more depth. Perhaps you'd like to know how to use a library in a way that wasn't show in the reading. One way to think about this is what additional topics would you want covered in the next class (or addressed in a followup e-mail to the class). I'm a little fuzzy on what stuff will likely go here, so we'll see how things evolve."
   ]
  },
  {
   "cell_type": "markdown",
   "metadata": {},
   "source": [
    "I feel like I've been struggling somewhat to get a lot out of the readings and reading questions in particular.  It feels a lot like being presented with a lot of tools (how to make a histogram, how to calculate least-squares, etc), that have been black-boxed and abstracted away from us into functions in the thinkstats2 package.  So I'm learning how to use them but not so much what they do.  To some extent, I see the value in the black-boxes so we can just deal with the results instead of the nitty-gritty, but I feel like, for example, it would have been a valuable learning experience for me to figure out how to make histograms, because I still feel iffy on just the handling and manipulation of the dataframes.\n",
    "\n",
    "I think I was able to figure out these homework questions less because of what I learned in the reading and more from just what I remembered from taking AP Stats.  I think some questions dedicated to the how and why of the tools we're learning would help me feel more comfortable with them, rather than just applying these tools.  To some extent, I feel the same way about the machine learning algorithms in the warmup project (what is even going on behind the model fitting function?) and even though I now know how to use the logistic model, I don't feel like I fully understand what's going on when I call it.  I think knowing more of that might help me feel more comfortable with the material.  I know this isn't really an enrichment question, sorry."
   ]
  },
  {
   "cell_type": "markdown",
   "metadata": {},
   "source": [
    "## Additional Resources / Explorations\n",
    "\n",
    "If you found any useful resources, or tried some useful exercises that you'd like to report please do so here. Let us know what you did, what you learned, and how others can replicate it."
   ]
  },
  {
   "cell_type": "markdown",
   "metadata": {},
   "source": []
  }
 ],
 "metadata": {
  "kernelspec": {
   "display_name": "Python 2",
   "language": "python",
   "name": "python2"
  },
  "language_info": {
   "codemirror_mode": {
    "name": "ipython",
    "version": 2
   },
   "file_extension": ".py",
   "mimetype": "text/x-python",
   "name": "python",
   "nbconvert_exporter": "python",
   "pygments_lexer": "ipython2",
   "version": "2.7.11"
  }
 },
 "nbformat": 4,
 "nbformat_minor": 0
}
