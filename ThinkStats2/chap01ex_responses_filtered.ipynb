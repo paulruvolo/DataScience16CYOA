{
 "cells": [
  {
   "cell_type": "markdown",
   "metadata": {},
   "source": [
    "## Question 1"
   ]
  },
  {
   "cell_type": "markdown",
   "metadata": {},
   "source": [
    "Print value counts for <tt>prglngth</tt> and compare to results published in the [codebook](http://www.icpsr.umich.edu/nsfg6/Controller?displayPage=labelDetails&fileCode=PREG&section=A&subSec=8016&srtLabel=611931)"
   ]
  },
  {
   "cell_type": "code",
   "execution_count": 42,
   "metadata": {
    "collapsed": false
   },
   "outputs": [
    {
     "name": "stdout",
     "output_type": "stream",
     "text": [
      "0-13 weeks 3522\n",
      "14-26 weeks 793\n",
      "Over 26 weeks 9278\n",
      "Total Number 13593\n"
     ]
    }
   ],
   "source": [
    "#df.prglngth.value_counts().sort_index()\n",
    "value_counts = df.prglngth.value_counts()\n",
    "print \"0-13 weeks\", len(df[(df.prglngth >= 0) & (df.prglngth <= 13)])\n",
    "print \"14-26 weeks\", len(df[(df.prglngth >= 14) & (df.prglngth <= 26)])\n",
    "print \"Over 26 weeks\", len(df[(df.prglngth > 26)])\n",
    "print \"Total Number\", len(df[df.prglngth])"
   ]
  },
  {
   "cell_type": "markdown",
   "metadata": {},
   "source": [
    "## Question 1"
   ]
  },
  {
   "cell_type": "markdown",
   "metadata": {},
   "source": [
    "Print value counts for <tt>prglngth</tt> and compare to results published in the [codebook](http://www.icpsr.umich.edu/nsfg6/Controller?displayPage=labelDetails&fileCode=PREG&section=A&subSec=8016&srtLabel=611931)"
   ]
  },
  {
   "cell_type": "code",
   "execution_count": 69,
   "metadata": {
    "collapsed": false
   },
   "outputs": [
    {
     "data": {
      "text/plain": [
       "0       15\n",
       "1        9\n",
       "2       78\n",
       "3      151\n",
       "4      412\n",
       "5      181\n",
       "6      543\n",
       "7      175\n",
       "8      409\n",
       "9      594\n",
       "10     137\n",
       "11     202\n",
       "12     170\n",
       "13     446\n",
       "14      29\n",
       "15      39\n",
       "16      44\n",
       "17     253\n",
       "18      17\n",
       "19      34\n",
       "20      18\n",
       "21      37\n",
       "22     147\n",
       "23      12\n",
       "24      31\n",
       "25      15\n",
       "26     117\n",
       "27       8\n",
       "28      38\n",
       "29      23\n",
       "30     198\n",
       "31      29\n",
       "32     122\n",
       "33      50\n",
       "34      60\n",
       "35     357\n",
       "36     329\n",
       "37     457\n",
       "38     609\n",
       "39    4744\n",
       "40    1120\n",
       "41     591\n",
       "42     328\n",
       "43     148\n",
       "44      46\n",
       "45      10\n",
       "46       1\n",
       "47       1\n",
       "48       7\n",
       "50       2\n",
       "Name: prglngth, dtype: int64"
      ]
     },
     "execution_count": 69,
     "metadata": {},
     "output_type": "execute_result"
    }
   ],
   "source": [
    "df.prglngth.value_counts().sort_index()"
   ]
  },
  {
   "cell_type": "markdown",
   "metadata": {},
   "source": [
    "## Question 1"
   ]
  },
  {
   "cell_type": "markdown",
   "metadata": {},
   "source": [
    "Print value counts for <tt>prglngth</tt> and compare to results published in the [codebook](http://www.icpsr.umich.edu/nsfg6/Controller?displayPage=labelDetails&fileCode=PREG&section=A&subSec=8016&srtLabel=611931)"
   ]
  },
  {
   "cell_type": "code",
   "execution_count": 83,
   "metadata": {
    "collapsed": false
   },
   "outputs": [
    {
     "name": "stdout",
     "output_type": "stream",
     "text": [
      "0-13 WEEKS      3522\n",
      "14-26 WEEKS      793\n",
      "27+ WEEKS       9278\n",
      "TOTAL          13593\n",
      "Name: prglngth, dtype: int64\n"
     ]
    }
   ],
   "source": [
    "counts = df.prglngth.value_counts().sort_index()\n",
    "\n",
    "# group records by pregnancy length\n",
    "def prglngth_group(prg_len):\n",
    "    prg_len_labels = [\"0-13 WEEKS\", \"14-26 WEEKS\", \"27+ WEEKS\"]\n",
    "\n",
    "    if (prg_len < 14):\n",
    "        return prg_len_labels[0]\n",
    "    if (prg_len >= 14 and prg_len < 27):\n",
    "        return prg_len_labels[1]\n",
    "    return prg_len_labels[2]\n",
    "    \n",
    "# total up the number in each group\n",
    "prglngth_df = counts.groupby(prglngth_group).sum()\n",
    "\n",
    "# add additional column\n",
    "prglngth_df[\"TOTAL\"] = counts.sum()\n",
    "\n",
    "print prglngth_df"
   ]
  },
  {
   "cell_type": "markdown",
   "metadata": {},
   "source": [
    "## Question 1"
   ]
  },
  {
   "cell_type": "markdown",
   "metadata": {},
   "source": [
    "###### Print value counts for <tt>prglngth</tt> and compare to results published in the [codebook](http://www.icpsr.umich.edu/nsfg6/Controller?displayPage=labelDetails&fileCode=PREG&section=A&subSec=8016&srtLabel=611931)"
   ]
  },
  {
   "cell_type": "code",
   "execution_count": 3,
   "metadata": {
    "collapsed": false
   },
   "outputs": [
    {
     "name": "stdout",
     "output_type": "stream",
     "text": [
      "0-13 wks: 3522\n",
      "14-26 wks: 793\n",
      ">27 wks: 9278\n"
     ]
    }
   ],
   "source": [
    "print \"0-13 wks: \" + str(sum(df.prglngth <= 13))\n",
    "print \"14-26 wks: \" + str(sum((df.prglngth >= 14) & (df.prglngth <= 26)))\n",
    "print \">27 wks: \" + str(sum(df.prglngth >= 27))"
   ]
  },
  {
   "cell_type": "markdown",
   "metadata": {},
   "source": [
    "## Question 1"
   ]
  },
  {
   "cell_type": "markdown",
   "metadata": {},
   "source": [
    "Print value counts for <tt>prglngth</tt> and compare to results published in the [codebook](http://www.icpsr.umich.edu/nsfg6/Controller?displayPage=labelDetails&fileCode=PREG&section=A&subSec=8016&srtLabel=611931)"
   ]
  },
  {
   "cell_type": "code",
   "execution_count": 20,
   "metadata": {
    "collapsed": false
   },
   "outputs": [
    {
     "name": "stdout",
     "output_type": "stream",
     "text": [
      " VALUE COUNT\n",
      "--------------\n",
      " 0-13: 3522\n",
      "14-26: 793\n",
      "27-50: 9278\n"
     ]
    }
   ],
   "source": [
    "prglength_series = df.prglngth.value_counts().sort_index()\n",
    "print \" VALUE \" + \"COUNT\"\n",
    "print \"--------------\"\n",
    "print \" 0-13: \" + str(sum(prglength_series[0:14]))\n",
    "print \"14-26: \" + str(sum(prglength_series[14:27]))\n",
    "print \"27-50: \" + str(sum(prglength_series[27:]))"
   ]
  },
  {
   "cell_type": "markdown",
   "metadata": {},
   "source": [
    "## Question 1"
   ]
  },
  {
   "cell_type": "markdown",
   "metadata": {},
   "source": [
    "Print value counts for <tt>prglngth</tt> and compare to results published in the [codebook](http://www.icpsr.umich.edu/nsfg6/Controller?displayPage=labelDetails&fileCode=PREG&section=A&subSec=8016&srtLabel=611931)"
   ]
  },
  {
   "cell_type": "code",
   "execution_count": 100,
   "metadata": {
    "collapsed": false
   },
   "outputs": [
    {
     "name": "stdout",
     "output_type": "stream",
     "text": [
      "13 weeks or less: 3522\n",
      "14 - 26 weeks: 793\n",
      "27 weeks or longer: 9278\n"
     ]
    }
   ],
   "source": [
    "print (\"13 weeks or less: \" + str(len(df[df.prglngth <= 13].index)))\n",
    "print (\"14 - 26 weeks: \" + str(len(df[(df.prglngth >= 14) & (df.prglngth <=26)].index)))\n",
    "print (\"27 weeks or longer: \" + str(len(df[df.prglngth >= 27].index)))"
   ]
  },
  {
   "cell_type": "markdown",
   "metadata": {},
   "source": [
    "## Question 1"
   ]
  },
  {
   "cell_type": "markdown",
   "metadata": {},
   "source": [
    "Print value counts for <tt>prglngth</tt> and compare to results published in the [codebook](http://www.icpsr.umich.edu/nsfg6/Controller?displayPage=labelDetails&fileCode=PREG&section=A&subSec=8016&srtLabel=611931)"
   ]
  },
  {
   "cell_type": "code",
   "execution_count": 3,
   "metadata": {
    "collapsed": false
   },
   "outputs": [
    {
     "name": "stdout",
     "output_type": "stream",
     "text": [
      "3522\n",
      "793\n",
      "9278\n"
     ]
    }
   ],
   "source": [
    "import numpy\n",
    "print numpy.sum(df.prglngth <= 13)\n",
    "print numpy.sum((df.prglngth > 13) & (df.prglngth < 27))\n",
    "print numpy.sum(df.prglngth >= 27)"
   ]
  },
  {
   "cell_type": "markdown",
   "metadata": {},
   "source": [
    "## Question 2"
   ]
  },
  {
   "cell_type": "markdown",
   "metadata": {},
   "source": [
    "Print value counts for <tt>agepreg</tt> and compare to results published in the [codebook](http://www.icpsr.umich.edu/nsfg6/Controller?displayPage=labelDetails&fileCode=PREG&section=A&subSec=8016&srtLabel=611935).\n",
    "\n",
    "Looking at this data, please remember my comments in the book about the obligation to approach data with consideration for the context and respect for the respondents."
   ]
  },
  {
   "cell_type": "code",
   "execution_count": 57,
   "metadata": {
    "collapsed": false
   },
   "outputs": [
    {
     "name": "stdout",
     "output_type": "stream",
     "text": [
      " 15 and Under 173\n",
      "16-19 years 3009\n",
      "20-24 years 4246\n",
      "25-29 years 3178\n",
      "30-44 years 2635\n",
      "Total Number 13593\n"
     ]
    }
   ],
   "source": [
    "#df.agepreg.value_counts().sort_index()\n",
    "value_count = df.agepreg.value_counts()\n",
    "print \"15 and Under\", len(df[(df.agepreg > 0) & (df.agepreg <= 15)]) #keep in mind ages are decimals, count 10.3 as 10\n",
    "print \"16-19 years\", len(df[(df.agepreg > 15) & (df.agepreg < 20)])\n",
    "print \"20-24 years\", len(df[(df.agepreg >= 20) & (df.agepreg < 25)])\n",
    "print \"25-29 years\", len(df[(df.agepreg >= 25) & (df.agepreg < 30)])\n",
    "print \"30-44 years\", len(df[(df.agepreg >= 30) & (df.agepreg < 45)])\n",
    "print \"Total Number\", len(df.agepreg)"
   ]
  },
  {
   "cell_type": "markdown",
   "metadata": {},
   "source": [
    "## Question 2"
   ]
  },
  {
   "cell_type": "markdown",
   "metadata": {},
   "source": [
    "Print value counts for <tt>agepreg</tt> and compare to results published in the [codebook](http://www.icpsr.umich.edu/nsfg6/Controller?displayPage=labelDetails&fileCode=PREG&section=A&subSec=8016&srtLabel=611935).\n",
    "\n",
    "Looking at this data, please remember my comments in the book about the obligation to approach data with consideration for the context and respect for the respondents."
   ]
  },
  {
   "cell_type": "code",
   "execution_count": 137,
   "metadata": {
    "collapsed": false
   },
   "outputs": [
    {
     "name": "stdout",
     "output_type": "stream",
     "text": [
      "value      total\n",
      ".          352\n",
      "0-1999     3182\n",
      "2000-2499  4246\n",
      "2500-2999  3178\n",
      "3000-4499  2635\n",
      "total:     13593\n"
     ]
    }
   ],
   "source": [
    "print 'value  ', '   total'\n",
    "print '.         ', str(len(df.agepreg) - len(df.agepreg[(df.agepreg >= 0) & (df.agepreg < 45)]))\n",
    "print '0-1999    ', str(len(df.agepreg[(df.agepreg >= 0) & (df.agepreg < 20)]))\n",
    "print '2000-2499 ', str(len(df.agepreg[(df.agepreg >= 20) & (df.agepreg < 25)]))\n",
    "print '2500-2999 ', str(len(df.agepreg[(df.agepreg >= 25) & (df.agepreg < 30)]))\n",
    "print '3000-4499 ', str(len(df.agepreg[(df.agepreg >= 30) & (df.agepreg < 45)]))\n",
    "print 'total:    ', len(df.agepreg)"
   ]
  },
  {
   "cell_type": "markdown",
   "metadata": {},
   "source": [
    "## Question 2"
   ]
  },
  {
   "cell_type": "markdown",
   "metadata": {},
   "source": [
    "Print value counts for <tt>agepreg</tt> and compare to results published in the [codebook](http://www.icpsr.umich.edu/nsfg6/Controller?displayPage=labelDetails&fileCode=PREG&section=A&subSec=8016&srtLabel=611935).\n",
    "\n",
    "Looking at this data, please remember my comments in the book about the obligation to approach data with consideration for the context and respect for the respondents."
   ]
  },
  {
   "cell_type": "code",
   "execution_count": 70,
   "metadata": {
    "collapsed": false
   },
   "outputs": [
    {
     "data": {
      "text/plain": [
       "10.33     1\n",
       "10.50     1\n",
       "10.83     1\n",
       "10.91     1\n",
       "11.08     1\n",
       "11.41     1\n",
       "11.50     1\n",
       "11.75     2\n",
       "12.08     1\n",
       "12.25     1\n",
       "12.41     2\n",
       "12.50     1\n",
       "12.66     2\n",
       "12.75     1\n",
       "12.83     2\n",
       "12.91     1\n",
       "13.00     2\n",
       "13.08     1\n",
       "13.16     1\n",
       "13.25     4\n",
       "13.33     1\n",
       "13.50     3\n",
       "13.58     2\n",
       "13.66     5\n",
       "13.75     4\n",
       "13.83     5\n",
       "13.91     5\n",
       "14.00     5\n",
       "14.08     7\n",
       "14.16    12\n",
       "         ..\n",
       "40.50     6\n",
       "40.58     4\n",
       "40.66     4\n",
       "40.75     2\n",
       "40.83     4\n",
       "40.91     4\n",
       "41.00     2\n",
       "41.08     2\n",
       "41.16     2\n",
       "41.25     6\n",
       "41.33     1\n",
       "41.41     2\n",
       "41.58     4\n",
       "41.75     3\n",
       "41.83     1\n",
       "41.91     4\n",
       "42.08     2\n",
       "42.16     1\n",
       "42.25     1\n",
       "42.33     1\n",
       "42.41     1\n",
       "42.50     2\n",
       "42.58     2\n",
       "42.75     2\n",
       "43.00     3\n",
       "43.16     1\n",
       "43.25     4\n",
       "43.58     3\n",
       "43.91     1\n",
       "44.08     1\n",
       "Name: agepreg, dtype: int64"
      ]
     },
     "execution_count": 70,
     "metadata": {},
     "output_type": "execute_result"
    }
   ],
   "source": [
    "df.agepreg.value_counts().sort_index()"
   ]
  },
  {
   "cell_type": "markdown",
   "metadata": {},
   "source": [
    "## Question 2"
   ]
  },
  {
   "cell_type": "markdown",
   "metadata": {},
   "source": [
    "Print value counts for <tt>agepreg</tt> and compare to results published in the [codebook](http://www.icpsr.umich.edu/nsfg6/Controller?displayPage=labelDetails&fileCode=PREG&section=A&subSec=8016&srtLabel=611935).\n",
    "\n",
    "Looking at this data, please remember my comments in the book about the obligation to approach data with consideration for the context and respect for the respondents."
   ]
  },
  {
   "cell_type": "code",
   "execution_count": 94,
   "metadata": {
    "collapsed": false
   },
   "outputs": [
    {
     "name": "stdout",
     "output_type": "stream",
     "text": [
      "0-19 YEARS       3182\n",
      "20-24 YEARS      4246\n",
      "25-29 YEARS      3178\n",
      "30-44 YEARS      2635\n",
      "INAPPLICABLE      352\n",
      "TOTAL           13593\n",
      "Name: agepreg, dtype: int64\n"
     ]
    }
   ],
   "source": [
    "counts = df.agepreg.value_counts().sort_index()\n",
    "\n",
    "# The codebook divides age at pregnancy outcome into the following groups:\n",
    "agepreg_labels = [\n",
    "    \"0-19 YEARS\",\n",
    "    \"20-24 YEARS\",\n",
    "    \"25-29 YEARS\",\n",
    "    \"30-44 YEARS\"\n",
    "]\n",
    "\n",
    "# group by each age group\n",
    "def agepreg_group(age):\n",
    "    if (age < 20):\n",
    "        return agepreg_labels[0]\n",
    "    if (age >= 20 and age < 25):\n",
    "        return agepreg_labels[1]\n",
    "    if (age >= 25 and age < 30):\n",
    "        return agepreg_labels[2]\n",
    "    return agepreg_labels[3]\n",
    "\n",
    "# total up the number in each age group\n",
    "agepreg_df = counts.groupby(agepreg_group).sum()\n",
    "\n",
    "# add additional columns\n",
    "agepreg_df[\"INAPPLICABLE\"] = sum(df.agepreg.isnull())\n",
    "agepreg_df[\"TOTAL\"] = len(df.agepreg)\n",
    "\n",
    "print agepreg_df"
   ]
  },
  {
   "cell_type": "markdown",
   "metadata": {},
   "source": [
    "## Question 2"
   ]
  },
  {
   "cell_type": "markdown",
   "metadata": {},
   "source": [
    "Print value counts for <tt>agepreg</tt> and compare to results published in the [codebook](http://www.icpsr.umich.edu/nsfg6/Controller?displayPage=labelDetails&fileCode=PREG&section=A&subSec=8016&srtLabel=611935).\n",
    "\n",
    "Looking at this data, please remember my comments in the book about the obligation to approach data with consideration for the context and respect for the respondents."
   ]
  },
  {
   "cell_type": "code",
   "execution_count": 4,
   "metadata": {
    "collapsed": false
   },
   "outputs": [
    {
     "name": "stdout",
     "output_type": "stream",
     "text": [
      "Inapplicable: 352\n",
      "<20 years: 3182\n",
      "20-24 years: 4246\n",
      "25-29 years: 3178\n",
      "30-44 years: 2635\n"
     ]
    }
   ],
   "source": [
    "print \"Inapplicable: \" + str(sum(df.agepreg.isnull()))\n",
    "print \"<20 years: \" + str(sum(df.agepreg < 20))\n",
    "print \"20-24 years: \" + str(sum((df.agepreg >= 20) & (df.agepreg < 25)))\n",
    "print \"25-29 years: \" + str(sum((df.agepreg >= 25) & (df.agepreg < 30)))\n",
    "print \"30-44 years: \" + str(sum((df.agepreg >= 30) & (df.agepreg < 45)))"
   ]
  },
  {
   "cell_type": "markdown",
   "metadata": {},
   "source": [
    "## Question 2"
   ]
  },
  {
   "cell_type": "markdown",
   "metadata": {},
   "source": [
    "Print value counts for <tt>agepreg</tt> and compare to results published in the [codebook](http://www.icpsr.umich.edu/nsfg6/Controller?displayPage=labelDetails&fileCode=PREG&section=A&subSec=8016&srtLabel=611935).\n",
    "\n",
    "Looking at this data, please remember my comments in the book about the obligation to approach data with consideration for the context and respect for the respondents."
   ]
  },
  {
   "cell_type": "code",
   "execution_count": 101,
   "metadata": {
    "collapsed": false
   },
   "outputs": [
    {
     "name": "stdout",
     "output_type": "stream",
     "text": [
      "Under 20 years: 3182\n",
      "20 - 24 years: 4246\n",
      "25 - 29 years: 3178\n",
      "30 - 44 years: 2635\n"
     ]
    }
   ],
   "source": [
    "print (\"Under 20 years: \" + str(len(df[df.agepreg <20].index)))\n",
    "print (\"20 - 24 years: \" + str(len(df[(df.agepreg >= 20) & (df.agepreg <25)].index)))\n",
    "print (\"25 - 29 years: \" + str(len(df[(df.agepreg >= 25) & (df.agepreg <30)].index)))\n",
    "print (\"30 - 44 years: \" + str(len(df[(df.agepreg >= 30) & (df.agepreg <45)].index)))"
   ]
  },
  {
   "cell_type": "markdown",
   "metadata": {},
   "source": [
    "## Question 2"
   ]
  },
  {
   "cell_type": "markdown",
   "metadata": {},
   "source": [
    "Print value counts for <tt>agepreg</tt> and compare to results published in the [codebook](http://www.icpsr.umich.edu/nsfg6/Controller?displayPage=labelDetails&fileCode=PREG&section=A&subSec=8016&srtLabel=611935).\n",
    "\n",
    "Looking at this data, please remember my comments in the book about the obligation to approach data with consideration for the context and respect for the respondents."
   ]
  },
  {
   "cell_type": "code",
   "execution_count": 90,
   "metadata": {
    "collapsed": false
   },
   "outputs": [
    {
     "data": {
      "text/plain": [
       "10.33     1\n",
       "10.50     1\n",
       "10.83     1\n",
       "10.91     1\n",
       "11.08     1\n",
       "11.41     1\n",
       "11.50     1\n",
       "11.75     2\n",
       "12.08     1\n",
       "12.25     1\n",
       "12.41     2\n",
       "12.50     1\n",
       "12.66     2\n",
       "12.75     1\n",
       "12.83     2\n",
       "12.91     1\n",
       "13.00     2\n",
       "13.08     1\n",
       "13.16     1\n",
       "13.25     4\n",
       "13.33     1\n",
       "13.50     3\n",
       "13.58     2\n",
       "13.66     5\n",
       "13.75     4\n",
       "13.83     5\n",
       "13.91     5\n",
       "14.00     5\n",
       "14.08     7\n",
       "14.16    12\n",
       "         ..\n",
       "40.50     6\n",
       "40.58     4\n",
       "40.66     4\n",
       "40.75     2\n",
       "40.83     4\n",
       "40.91     4\n",
       "41.00     2\n",
       "41.08     2\n",
       "41.16     2\n",
       "41.25     6\n",
       "41.33     1\n",
       "41.41     2\n",
       "41.58     4\n",
       "41.75     3\n",
       "41.83     1\n",
       "41.91     4\n",
       "42.08     2\n",
       "42.16     1\n",
       "42.25     1\n",
       "42.33     1\n",
       "42.41     1\n",
       "42.50     2\n",
       "42.58     2\n",
       "42.75     2\n",
       "43.00     3\n",
       "43.16     1\n",
       "43.25     4\n",
       "43.58     3\n",
       "43.91     1\n",
       "44.08     1\n",
       "Name: agepreg, dtype: int64"
      ]
     },
     "execution_count": 90,
     "metadata": {},
     "output_type": "execute_result"
    }
   ],
   "source": [
    "df.agepreg.value_counts().sort_index()"
   ]
  },
  {
   "cell_type": "markdown",
   "metadata": {},
   "source": [
    "In order to compare this data to the code book, the sums of each age group needs to be calculated. The code below calculates the sums of the number of women pregnant between the ages of 20 - 24\n"
   ]
  },
  {
   "cell_type": "code",
   "execution_count": 91,
   "metadata": {
    "collapsed": true
   },
   "outputs": [],
   "source": [
    "ages = df.agepreg.value_counts().sort_index()"
   ]
  },
  {
   "cell_type": "code",
   "execution_count": 92,
   "metadata": {
    "collapsed": false
   },
   "outputs": [
    {
     "data": {
      "text/plain": [
       "3182"
      ]
     },
     "execution_count": 92,
     "metadata": {},
     "output_type": "execute_result"
    }
   ],
   "source": [
    "sum(ages[0:19.99])"
   ]
  },
  {
   "cell_type": "code",
   "execution_count": 93,
   "metadata": {
    "collapsed": false
   },
   "outputs": [
    {
     "data": {
      "text/plain": [
       "4246"
      ]
     },
     "execution_count": 93,
     "metadata": {},
     "output_type": "execute_result"
    }
   ],
   "source": [
    "sum(ages[20:24.99])"
   ]
  },
  {
   "cell_type": "code",
   "execution_count": 94,
   "metadata": {
    "collapsed": false
   },
   "outputs": [
    {
     "data": {
      "text/plain": [
       "3178"
      ]
     },
     "execution_count": 94,
     "metadata": {},
     "output_type": "execute_result"
    }
   ],
   "source": [
    "sum(ages[25:29.99])"
   ]
  },
  {
   "cell_type": "code",
   "execution_count": 95,
   "metadata": {
    "collapsed": false
   },
   "outputs": [
    {
     "data": {
      "text/plain": [
       "2635"
      ]
     },
     "execution_count": 95,
     "metadata": {},
     "output_type": "execute_result"
    }
   ],
   "source": [
    "sum(ages[30:44.99])"
   ]
  },
  {
   "cell_type": "markdown",
   "metadata": {},
   "source": [
    "The data above matches the codebook's data for the specified age ranges (below)!! The ages that were described as inapplicable could not be summed to validate. \n",
    "\n",
    "AGEPREG ( 284-287 )\n",
    "\n",
    "Variable Type : Preg recode\n",
    "\n",
    "Description : Age at pregnancy outcome (recode)\n",
    "\n",
    "value\tlabel\t \tTotal\n",
    ".\tINAPPLICABLE\t \t352\n",
    "0-1999\tUNDER 20 YEARS\t \t3182\n",
    "2000-2499\t20-24 YEARS\t \t4246\n",
    "2500-2999\t25-29 YEARS\t \t3178\n",
    "3000-4499\t30-44 YEARS\t \t2635\n",
    " \tTotal\t \t13593\n"
   ]
  },
  {
   "cell_type": "markdown",
   "metadata": {},
   "source": [
    "## Question 3"
   ]
  },
  {
   "cell_type": "markdown",
   "metadata": {},
   "source": [
    "Create a new column named <tt>totalwgt_kg</tt> that contains birth weight in kilograms.  Compute its mean.  Remember that when you create a new column, you have to use dictionary syntax, not dot notation."
   ]
  },
  {
   "cell_type": "code",
   "execution_count": 9,
   "metadata": {
    "collapsed": false
   },
   "outputs": [
    {
     "data": {
      "text/plain": [
       "3.2956309433503437"
      ]
     },
     "execution_count": 9,
     "metadata": {},
     "output_type": "execute_result"
    }
   ],
   "source": [
    "df['totalwgt_kg'] = df.totalwgt_lb * 0.453592\n",
    "df.totalwgt_kg.mean()"
   ]
  },
  {
   "cell_type": "markdown",
   "metadata": {},
   "source": [
    "## Question 3"
   ]
  },
  {
   "cell_type": "markdown",
   "metadata": {},
   "source": [
    "Create a new column named <tt>totalwgt_kg</tt> that contains birth weight in kilograms.  Compute its mean.  Remember that when you create a new column, you have to use dictionary syntax, not dot notation."
   ]
  },
  {
   "cell_type": "code",
   "execution_count": 72,
   "metadata": {
    "collapsed": false
   },
   "outputs": [
    {
     "data": {
      "text/plain": [
       "3.1055101877428464"
      ]
     },
     "execution_count": 72,
     "metadata": {},
     "output_type": "execute_result"
    }
   ],
   "source": [
    "df['totalwgt_kg'] = df.birthwgt_lb / 2.2\n",
    "df.totalwgt_kg.mean()"
   ]
  },
  {
   "cell_type": "markdown",
   "metadata": {},
   "source": [
    "## Question 4"
   ]
  },
  {
   "cell_type": "markdown",
   "metadata": {},
   "source": [
    "Look through the codebook and find a variable, other than the ones mentioned in the book, that you find interesting.  Compute values counts, means, or other statistics."
   ]
  },
  {
   "cell_type": "code",
   "execution_count": 24,
   "metadata": {
    "collapsed": false
   },
   "outputs": [
    {
     "data": {
      "text/plain": [
       "24.936835227466712"
      ]
     },
     "execution_count": 24,
     "metadata": {},
     "output_type": "execute_result"
    }
   ],
   "source": [
    "df.rmarout6.value_counts().sort_index()\n",
    "df.learnprg.value_counts().sort_index()\n",
    "df.learnprg.mean()\n",
    "df.learnprg.median()\n",
    "df.learnprg.std()\n",
    "df.pncarewk.value_counts().sort_index()\n",
    "df.pncarewk.mean()\n",
    "df.pncarewk.median()\n",
    "df.pncarewk.std()"
   ]
  },
  {
   "cell_type": "markdown",
   "metadata": {},
   "source": [
    "## Question 4"
   ]
  },
  {
   "cell_type": "markdown",
   "metadata": {},
   "source": [
    "Look through the codebook and find a variable, other than the ones mentioned in the book, that you find interesting.  Compute values counts, means, or other statistics."
   ]
  },
  {
   "cell_type": "code",
   "execution_count": 151,
   "metadata": {
    "collapsed": false
   },
   "outputs": [
    {
     "name": "stdout",
     "output_type": "stream",
     "text": [
      "pregordr mean  2.34915029795\n"
     ]
    },
    {
     "data": {
      "text/plain": [
       "1     5033\n",
       "2     3766\n",
       "3     2334\n",
       "4     1224\n",
       "5      613\n",
       "6      308\n",
       "7      158\n",
       "8       78\n",
       "9       38\n",
       "10      17\n",
       "11       8\n",
       "12       5\n",
       "13       3\n",
       "14       3\n",
       "15       1\n",
       "16       1\n",
       "17       1\n",
       "18       1\n",
       "19       1\n",
       "Name: pregordr, dtype: int64"
      ]
     },
     "execution_count": 151,
     "metadata": {},
     "output_type": "execute_result"
    }
   ],
   "source": [
    "print 'pregordr mean ', df.pregordr.mean()\n",
    "df.pregordr.value_counts().sort_index()"
   ]
  },
  {
   "cell_type": "markdown",
   "metadata": {},
   "source": [
    "## Question 4"
   ]
  },
  {
   "cell_type": "markdown",
   "metadata": {},
   "source": [
    "Look through the codebook and find a variable, other than the ones mentioned in the book, that you find interesting.  Compute values counts, means, or other statistics."
   ]
  },
  {
   "cell_type": "code",
   "execution_count": 73,
   "metadata": {
    "collapsed": false
   },
   "outputs": [
    {
     "data": {
      "text/plain": [
       "1.8256449497157849"
      ]
     },
     "execution_count": 73,
     "metadata": {},
     "output_type": "execute_result"
    }
   ],
   "source": [
    "df.birthord.mean()"
   ]
  },
  {
   "cell_type": "markdown",
   "metadata": {},
   "source": [
    "## Question 4"
   ]
  },
  {
   "cell_type": "markdown",
   "metadata": {},
   "source": [
    "Look through the codebook and find a variable, other than the ones mentioned in the book, that you find interesting.  Compute values counts, means, or other statistics."
   ]
  },
  {
   "cell_type": "code",
   "execution_count": 22,
   "metadata": {
    "collapsed": false
   },
   "outputs": [
    {
     "data": {
      "text/plain": [
       "465.20705176294075"
      ]
     },
     "execution_count": 22,
     "metadata": {},
     "output_type": "execute_result"
    }
   ],
   "source": [
    "df.bfeedwks.value_counts().sort_index()\n",
    "df.bfeedwks.mean()"
   ]
  },
  {
   "cell_type": "markdown",
   "metadata": {},
   "source": [
    "## Question 4"
   ]
  },
  {
   "cell_type": "markdown",
   "metadata": {},
   "source": [
    "Look through the codebook and find a variable, other than the ones mentioned in the book, that you find interesting.  Compute values counts, means, or other statistics."
   ]
  },
  {
   "cell_type": "code",
   "execution_count": 7,
   "metadata": {
    "collapsed": false
   },
   "outputs": [
    {
     "data": {
      "text/plain": [
       "2420.70977709115"
      ]
     },
     "execution_count": 7,
     "metadata": {},
     "output_type": "execute_result"
    }
   ],
   "source": [
    "df.agecon.value_counts().sort_index()\n",
    "df.agecon.mean()"
   ]
  },
  {
   "cell_type": "markdown",
   "metadata": {},
   "source": [
    "## Question 4"
   ]
  },
  {
   "cell_type": "markdown",
   "metadata": {},
   "source": [
    "Look through the codebook and find a variable, other than the ones mentioned in the book, that you find interesting.  Compute values counts, means, or other statistics."
   ]
  },
  {
   "cell_type": "code",
   "execution_count": 65,
   "metadata": {
    "collapsed": false
   },
   "outputs": [
    {
     "name": "stdout",
     "output_type": "stream",
     "text": [
      "BFEEDWKS DATA\n",
      "mean:  465.207051763\n",
      "\n",
      "<1     65\n",
      "1-52   3805\n",
      "53+    516\n",
      "still  257\n",
      "never  3355\n"
     ]
    }
   ],
   "source": [
    "print 'BFEEDWKS DATA'\n",
    "print 'mean: ',df.bfeedwks.mean()\n",
    "print\n",
    "# print df.bfeedwks.value_counts().sort_index()\n",
    "print '<1    ',len(df.bfeedwks[df.bfeedwks == 0])\n",
    "print '1-52  ',len(df.bfeedwks[(df.bfeedwks >= 1) & (df.bfeedwks <= 52)])\n",
    "print '53+   ',len(df.bfeedwks[(df.bfeedwks >= 53) & (df.bfeedwks <= 993)])\n",
    "print 'still ',len(df.bfeedwks[df.bfeedwks == 994])\n",
    "print 'never ',len(df.bfeedwks[df.bfeedwks == 995])"
   ]
  },
  {
   "cell_type": "markdown",
   "metadata": {},
   "source": [
    "## Question 4"
   ]
  },
  {
   "cell_type": "markdown",
   "metadata": {},
   "source": [
    "Look through the codebook and find a variable, other than the ones mentioned in the book, that you find interesting.  Compute values counts, means, or other statistics."
   ]
  },
  {
   "cell_type": "markdown",
   "metadata": {},
   "source": [
    "What percentage of pregnancies result in multiple births?"
   ]
  },
  {
   "cell_type": "code",
   "execution_count": 111,
   "metadata": {
    "collapsed": false
   },
   "outputs": [
    {
     "name": "stdout",
     "output_type": "stream",
     "text": [
      "1.20%\n"
     ]
    }
   ],
   "source": [
    "multipregs = df.multbrth.count()\n",
    "\n",
    "percent = 100.0 * multipregs / len(df)\n",
    "print \"%.2f%%\" % percent"
   ]
  },
  {
   "cell_type": "markdown",
   "metadata": {},
   "source": [
    "What's the average number of live births per pregnancy?"
   ]
  },
  {
   "cell_type": "code",
   "execution_count": 112,
   "metadata": {
    "collapsed": false
   },
   "outputs": [
    {
     "name": "stdout",
     "output_type": "stream",
     "text": [
      "1.02241907262 babies\n"
     ]
    }
   ],
   "source": [
    "print df.nbrnaliv.mean(), \"babies\""
   ]
  },
  {
   "cell_type": "markdown",
   "metadata": {},
   "source": [
    "## Question 4"
   ]
  },
  {
   "cell_type": "markdown",
   "metadata": {},
   "source": [
    "Look through the codebook and find a variable, other than the ones mentioned in the book, that you find interesting.  Compute values counts, means, or other statistics."
   ]
  },
  {
   "cell_type": "code",
   "execution_count": 74,
   "metadata": {
    "collapsed": false,
    "scrolled": true
   },
   "outputs": [
    {
     "data": {
      "text/plain": [
       "6       1\n",
       "9       1\n",
       "11      1\n",
       "12      1\n",
       "13      1\n",
       "14      4\n",
       "15     11\n",
       "16     58\n",
       "17    145\n",
       "18    270\n",
       "19    365\n",
       "20    389\n",
       "21    472\n",
       "22    485\n",
       "23    513\n",
       "24    523\n",
       "25    551\n",
       "26    529\n",
       "27    520\n",
       "28    429\n",
       "29    487\n",
       "30    470\n",
       "31    391\n",
       "32    347\n",
       "33    309\n",
       "34    275\n",
       "35    272\n",
       "36    206\n",
       "37    195\n",
       "38    139\n",
       "39    101\n",
       "40    114\n",
       "41     86\n",
       "42     61\n",
       "43     41\n",
       "44     48\n",
       "45     42\n",
       "46     35\n",
       "47     22\n",
       "48     30\n",
       "49     21\n",
       "50     20\n",
       "51      9\n",
       "52      8\n",
       "53      6\n",
       "54      7\n",
       "55      4\n",
       "56      1\n",
       "57      6\n",
       "58      2\n",
       "59      1\n",
       "60      1\n",
       "61      2\n",
       "63      2\n",
       "65      1\n",
       "66      1\n",
       "67      1\n",
       "68      1\n",
       "dtype: int64"
      ]
     },
     "execution_count": 74,
     "metadata": {},
     "output_type": "execute_result"
    }
   ],
   "source": [
    "df.hpagelb.value_counts().sort_index()\n"
   ]
  },
  {
   "cell_type": "code",
   "execution_count": 75,
   "metadata": {
    "collapsed": false
   },
   "outputs": [
    {
     "data": {
      "text/plain": [
       "27.848682754040293"
      ]
     },
     "execution_count": 75,
     "metadata": {},
     "output_type": "execute_result"
    }
   ],
   "source": [
    "df.hpagelb.mean()\n"
   ]
  },
  {
   "cell_type": "code",
   "execution_count": 76,
   "metadata": {
    "collapsed": false
   },
   "outputs": [
    {
     "data": {
      "text/plain": [
       "27.0"
      ]
     },
     "execution_count": 76,
     "metadata": {},
     "output_type": "execute_result"
    }
   ],
   "source": [
    "df.hpagelb.median()"
   ]
  },
  {
   "cell_type": "markdown",
   "metadata": {},
   "source": [
    "## Question 4"
   ]
  },
  {
   "cell_type": "markdown",
   "metadata": {},
   "source": [
    "Look through the codebook and find a variable, other than the ones mentioned in the book, that you find interesting.  Compute values counts, means, or other statistics."
   ]
  },
  {
   "cell_type": "code",
   "execution_count": 64,
   "metadata": {
    "collapsed": false
   },
   "outputs": [
    {
     "data": {
      "text/plain": [
       "28.965572275421795"
      ]
     },
     "execution_count": 64,
     "metadata": {},
     "output_type": "execute_result"
    }
   ],
   "source": [
    "df[df.bfeedwks < 994].bfeedwks.mean() # Avg number of weeks breastfeeding, discounting those that never breastfed (code 995), and those currently breastfeeding (code 994)"
   ]
  },
  {
   "cell_type": "markdown",
   "metadata": {},
   "source": [
    "## Question 4"
   ]
  },
  {
   "cell_type": "markdown",
   "metadata": {},
   "source": [
    "Look through the codebook and find a variable, other than the ones mentioned in the book, that you find interesting.  Compute values counts, means, or other statistics."
   ]
  },
  {
   "cell_type": "code",
   "execution_count": 8,
   "metadata": {
    "collapsed": false
   },
   "outputs": [
    {
     "name": "stdout",
     "output_type": "stream",
     "text": [
      "Average weights in pounds:\n",
      "MALE\t7.41140948746\n",
      "FEMALE\t7.11552604985\n"
     ]
    }
   ],
   "source": [
    "print 'Average weights in pounds:'\n",
    "print 'MALE\\t', df[df.babysex == 1].totalwgt_lb.mean()\n",
    "print 'FEMALE\\t', df[df.babysex == 2].totalwgt_lb.mean()"
   ]
  },
  {
   "cell_type": "markdown",
   "metadata": {},
   "source": [
    "## Question 4"
   ]
  },
  {
   "cell_type": "markdown",
   "metadata": {},
   "source": [
    "Look through the codebook and find a variable, other than the ones mentioned in the book, that you find interesting.  Compute values counts, means, or other statistics."
   ]
  },
  {
   "cell_type": "code",
   "execution_count": 7,
   "metadata": {
    "collapsed": false
   },
   "outputs": [
    {
     "name": "stdout",
     "output_type": "stream",
     "text": [
      "mean breastfeed weeks: 28.9655722754\n",
      "quartiles:\n",
      "0.25     9\n",
      "0.50    22\n",
      "0.75    43\n",
      "dtype: float64\n"
     ]
    }
   ],
   "source": [
    "bfeedwks = df.bfeedwks\n",
    "# filter out responses that did not specifically indicate a breast-feeding length. See documentation at tinyurl.com/zn9kw2d\n",
    "bfeedwks_filtered = bfeedwks[(bfeedwks.notnull()) & (bfeedwks < 994)];\n",
    "print \"mean breastfeed weeks: \" + str(bfeedwks_filtered.mean())\n",
    "print \"quartiles:\"\n",
    "print bfeedwks_filtered.quantile([.25, .5, .75])\n"
   ]
  },
  {
   "cell_type": "markdown",
   "metadata": {},
   "source": [
    "## Question 4"
   ]
  },
  {
   "cell_type": "markdown",
   "metadata": {},
   "source": [
    "Look through the codebook and find a variable, other than the ones mentioned in the book, that you find interesting.  Compute values counts, means, or other statistics."
   ]
  },
  {
   "cell_type": "code",
   "execution_count": 83,
   "metadata": {
    "collapsed": false
   },
   "outputs": [
    {
     "name": "stdout",
     "output_type": "stream",
     "text": [
      "Use of maternity leave\n",
      "----------------------\n",
      "                                               inapplicable: 10402\n",
      "                              not employed during pregnancy: 1355\n",
      "                                        took leave from job: 1244\n",
      "did not take leave from job (job schedule or self-employed): 146\n",
      "          did not take leave from job (not offered/allowed): 93\n",
      "                did not take leave from job (other reasons): 353\n"
     ]
    }
   ],
   "source": [
    "print \"Use of maternity leave\"\n",
    "print \"----------------------\"\n",
    "print \"                                               inapplicable: \" + str(len(df.maternlv) - len(df.maternlv[df.maternlv < 5]))\n",
    "print \"                              not employed during pregnancy: \" + str(len(df.maternlv[df.maternlv == 0]))\n",
    "print \"                                        took leave from job: \" + str(len(df.maternlv[df.maternlv == 1]))\n",
    "print \"did not take leave from job (job schedule or self-employed): \" + str(len(df.maternlv[df.maternlv == 2]))\n",
    "print \"          did not take leave from job (not offered/allowed): \" + str(len(df.maternlv[df.maternlv == 3]))\n",
    "print \"                did not take leave from job (other reasons): \" + str(len(df.maternlv[df.maternlv == 4]))"
   ]
  },
  {
   "cell_type": "markdown",
   "metadata": {},
   "source": [
    "## Question 4"
   ]
  },
  {
   "cell_type": "markdown",
   "metadata": {},
   "source": [
    "Look through the codebook and find a variable, other than the ones mentioned in the book, that you find interesting.  Compute values counts, means, or other statistics."
   ]
  },
  {
   "cell_type": "code",
   "execution_count": 104,
   "metadata": {
    "collapsed": false
   },
   "outputs": [
    {
     "data": {
      "text/plain": [
       "15      7\n",
       "16     16\n",
       "17     36\n",
       "18     76\n",
       "19    111\n",
       "20    140\n",
       "21    187\n",
       "22    277\n",
       "23    345\n",
       "24    359\n",
       "25    416\n",
       "26    453\n",
       "27    502\n",
       "28    493\n",
       "29    586\n",
       "30    577\n",
       "31    618\n",
       "32    665\n",
       "33    640\n",
       "34    636\n",
       "35    638\n",
       "36    740\n",
       "37    695\n",
       "38    657\n",
       "39    575\n",
       "40    679\n",
       "41    636\n",
       "42    594\n",
       "43    650\n",
       "44    589\n",
       "Name: ager, dtype: int64"
      ]
     },
     "execution_count": 104,
     "metadata": {},
     "output_type": "execute_result"
    }
   ],
   "source": [
    "#This is the age of the respondent at the time of the interview\n",
    "df.ager.value_counts().sort_index()"
   ]
  },
  {
   "cell_type": "code",
   "execution_count": 105,
   "metadata": {
    "collapsed": false
   },
   "outputs": [
    {
     "data": {
      "text/plain": [
       "33.470904141837714"
      ]
     },
     "execution_count": 105,
     "metadata": {},
     "output_type": "execute_result"
    }
   ],
   "source": [
    "#The mean age of respondents is 33\n",
    "df.ager.mean()"
   ]
  },
  {
   "cell_type": "code",
   "execution_count": 106,
   "metadata": {
    "collapsed": false
   },
   "outputs": [
    {
     "data": {
      "text/plain": [
       "6.715705627398683"
      ]
     },
     "execution_count": 106,
     "metadata": {},
     "output_type": "execute_result"
    }
   ],
   "source": [
    "#And the standard deviation in the age of respondents is 6.616\n",
    "df.ager.std()"
   ]
  },
  {
   "cell_type": "markdown",
   "metadata": {},
   "source": [
    "## Question 4"
   ]
  },
  {
   "cell_type": "markdown",
   "metadata": {},
   "source": [
    "Look through the codebook and find a variable, other than the ones mentioned in the book, that you find interesting.  Compute values counts, means, or other statistics."
   ]
  },
  {
   "cell_type": "code",
   "execution_count": 98,
   "metadata": {
    "collapsed": false
   },
   "outputs": [
    {
     "data": {
      "text/plain": [
       "0        65\n",
       "1       122\n",
       "2       182\n",
       "3        95\n",
       "4       288\n",
       "5        33\n",
       "6       138\n",
       "7        18\n",
       "8        45\n",
       "9       329\n",
       "10       24\n",
       "11        5\n",
       "12       14\n",
       "13      438\n",
       "14        4\n",
       "15        2\n",
       "16        1\n",
       "17      323\n",
       "18        6\n",
       "19        1\n",
       "22      175\n",
       "24        2\n",
       "26      413\n",
       "30      180\n",
       "31        1\n",
       "32        2\n",
       "33        1\n",
       "35      191\n",
       "36        1\n",
       "39      180\n",
       "       ... \n",
       "61       68\n",
       "65       45\n",
       "69       22\n",
       "74       11\n",
       "78       95\n",
       "82        7\n",
       "87       15\n",
       "91        6\n",
       "95       10\n",
       "100       1\n",
       "104      87\n",
       "108       4\n",
       "112       1\n",
       "113       4\n",
       "117       1\n",
       "121       1\n",
       "126       1\n",
       "130      19\n",
       "134       1\n",
       "139       2\n",
       "143       1\n",
       "152       4\n",
       "156      29\n",
       "160       2\n",
       "182       3\n",
       "199       1\n",
       "208       8\n",
       "303       1\n",
       "994     257\n",
       "995    3355\n",
       "Name: bfeedwks, dtype: int64"
      ]
     },
     "execution_count": 98,
     "metadata": {},
     "output_type": "execute_result"
    }
   ],
   "source": [
    "df.bfeedwks.value_counts().sort_index()"
   ]
  },
  {
   "cell_type": "code",
   "execution_count": 99,
   "metadata": {
    "collapsed": false
   },
   "outputs": [
    {
     "data": {
      "text/plain": [
       "465.20705176294075"
      ]
     },
     "execution_count": 99,
     "metadata": {},
     "output_type": "execute_result"
    }
   ],
   "source": [
    "df.bfeedwks.mean()"
   ]
  },
  {
   "cell_type": "markdown",
   "metadata": {},
   "source": [
    "## Question 4"
   ]
  },
  {
   "cell_type": "markdown",
   "metadata": {},
   "source": [
    "Look through the codebook and find a variable, other than the ones mentioned in the book, that you find interesting.  Compute values counts, means, or other statistics."
   ]
  },
  {
   "cell_type": "code",
   "execution_count": 8,
   "metadata": {
    "collapsed": false
   },
   "outputs": [
    {
     "data": {
      "text/plain": [
       "5.0"
      ]
     },
     "execution_count": 8,
     "metadata": {},
     "output_type": "execute_result"
    }
   ],
   "source": [
    "max(df.nbrnaliv)"
   ]
  },
  {
   "cell_type": "markdown",
   "metadata": {},
   "source": [
    "## Question 4"
   ]
  },
  {
   "cell_type": "markdown",
   "metadata": {},
   "source": [
    "Look through the codebook and find a variable, other than the ones mentioned in the book, that you find interesting.  Compute values counts, means, or other statistics."
   ]
  },
  {
   "cell_type": "code",
   "execution_count": 7,
   "metadata": {
    "collapsed": false
   },
   "outputs": [
    {
     "data": {
      "text/plain": [
       "24.688151197038128"
      ]
     },
     "execution_count": 7,
     "metadata": {},
     "output_type": "execute_result"
    }
   ],
   "source": [
    "df.agepreg.mean()"
   ]
  },
  {
   "cell_type": "markdown",
   "metadata": {},
   "source": [
    "## Question 5"
   ]
  },
  {
   "cell_type": "markdown",
   "metadata": {},
   "source": [
    "Count the number of live births with <tt>birthwgt_lb</tt> between 9 and 95 pounds (including both).  The result should be 798 "
   ]
  },
  {
   "cell_type": "code",
   "execution_count": 28,
   "metadata": {
    "collapsed": false
   },
   "outputs": [
    {
     "data": {
      "text/plain": [
       "798"
      ]
     },
     "execution_count": 28,
     "metadata": {},
     "output_type": "execute_result"
    }
   ],
   "source": [
    "len(live[(live.birthwgt_lb >= 9) & (live.birthwgt_lb <= 95)]) #95 is an aweful lot..."
   ]
  },
  {
   "cell_type": "markdown",
   "metadata": {},
   "source": [
    "## Question 5"
   ]
  },
  {
   "cell_type": "markdown",
   "metadata": {},
   "source": [
    "Count the number of live births with <tt>birthwgt_lb</tt> between 9 and 95 pounds (including both).  The result should be 798 "
   ]
  },
  {
   "cell_type": "code",
   "execution_count": 144,
   "metadata": {
    "collapsed": false
   },
   "outputs": [
    {
     "data": {
      "text/plain": [
       "798"
      ]
     },
     "execution_count": 144,
     "metadata": {},
     "output_type": "execute_result"
    }
   ],
   "source": [
    "len(live[(live.birthwgt_lb > 8) & (live.birthwgt_lb < 96)])"
   ]
  },
  {
   "cell_type": "markdown",
   "metadata": {},
   "source": [
    "## Question 6"
   ]
  },
  {
   "cell_type": "markdown",
   "metadata": {},
   "source": [
    "Compute the mean <tt>prglngth</tt> for first babies and others.  Compute the difference in means, expressed in hours."
   ]
  },
  {
   "cell_type": "code",
   "execution_count": 58,
   "metadata": {
    "collapsed": false
   },
   "outputs": [
    {
     "name": "stdout",
     "output_type": "stream",
     "text": [
      "13.1102608186 hours\n"
     ]
    }
   ],
   "source": [
    "f_prglngth = firsts.prglngth.mean()\n",
    "o_prglngth = others.prglngth.mean()\n",
    "diff = (f_prglngth - o_prglngth) * 7 * 24 #weeks to days to hours\n",
    "print diff, \"hours\""
   ]
  },
  {
   "cell_type": "markdown",
   "metadata": {},
   "source": [
    "## Question 6"
   ]
  },
  {
   "cell_type": "markdown",
   "metadata": {},
   "source": [
    "Compute the mean <tt>prglngth</tt> for first babies and others.  Compute the difference in means, expressed in hours."
   ]
  },
  {
   "cell_type": "code",
   "execution_count": 148,
   "metadata": {
    "collapsed": false
   },
   "outputs": [
    {
     "data": {
      "text/plain": [
       "13.11026081862832"
      ]
     },
     "execution_count": 148,
     "metadata": {},
     "output_type": "execute_result"
    }
   ],
   "source": [
    "abs(firsts.prglngth.mean() - others.prglngth.mean())*7*24"
   ]
  },
  {
   "cell_type": "markdown",
   "metadata": {},
   "source": [
    "## Question 6"
   ]
  },
  {
   "cell_type": "markdown",
   "metadata": {},
   "source": [
    "Compute the mean <tt>prglngth</tt> for first babies and others.  Compute the difference in means, expressed in hours."
   ]
  },
  {
   "cell_type": "code",
   "execution_count": 30,
   "metadata": {
    "collapsed": false
   },
   "outputs": [
    {
     "data": {
      "text/plain": [
       "13.11026081862832"
      ]
     },
     "execution_count": 30,
     "metadata": {},
     "output_type": "execute_result"
    }
   ],
   "source": [
    "lenf = firsts.prglngth.mean()\n",
    "leno = others.prglngth.mean()\n",
    "hrsinwk = 24*7\n",
    "diff = (lenf - leno)*hrsinwk\n",
    "lenf\n",
    "leno\n",
    "diff"
   ]
  },
  {
   "cell_type": "markdown",
   "metadata": {},
   "source": [
    "## Question 6"
   ]
  },
  {
   "cell_type": "markdown",
   "metadata": {},
   "source": [
    "Compute the mean <tt>prglngth</tt> for first babies and others.  Compute the difference in means, expressed in hours."
   ]
  },
  {
   "cell_type": "code",
   "execution_count": 73,
   "metadata": {
    "collapsed": false
   },
   "outputs": [
    {
     "data": {
      "text/plain": [
       "13.110260818628319"
      ]
     },
     "execution_count": 73,
     "metadata": {},
     "output_type": "execute_result"
    }
   ],
   "source": [
    "fml = firsts.prglngth.mean()\n",
    "oml = others.prglngth.mean()\n",
    "(fml-oml)*7*24"
   ]
  },
  {
   "cell_type": "markdown",
   "metadata": {},
   "source": [
    "## Question 6"
   ]
  },
  {
   "cell_type": "markdown",
   "metadata": {},
   "source": [
    "Compute the mean <tt>prglngth</tt> for first babies and others.  Compute the difference in means, expressed in hours."
   ]
  },
  {
   "cell_type": "code",
   "execution_count": 84,
   "metadata": {
    "collapsed": false,
    "scrolled": false
   },
   "outputs": [
    {
     "data": {
      "text/plain": [
       "38.60095173351461"
      ]
     },
     "execution_count": 84,
     "metadata": {},
     "output_type": "execute_result"
    }
   ],
   "source": [
    "firsts.prglngth.mean()"
   ]
  },
  {
   "cell_type": "code",
   "execution_count": 85,
   "metadata": {
    "collapsed": false
   },
   "outputs": [
    {
     "data": {
      "text/plain": [
       "38.52291446673706"
      ]
     },
     "execution_count": 85,
     "metadata": {},
     "output_type": "execute_result"
    }
   ],
   "source": [
    "others.prglngth.mean()"
   ]
  },
  {
   "cell_type": "code",
   "execution_count": 86,
   "metadata": {
    "collapsed": false,
    "scrolled": true
   },
   "outputs": [
    {
     "data": {
      "text/plain": [
       "0.07803726677754952"
      ]
     },
     "execution_count": 86,
     "metadata": {},
     "output_type": "execute_result"
    }
   ],
   "source": [
    "difference = firsts.prglngth.mean()-others.prglngth.mean()\n",
    "difference"
   ]
  },
  {
   "cell_type": "code",
   "execution_count": 87,
   "metadata": {
    "collapsed": false
   },
   "outputs": [
    {
     "data": {
      "text/plain": [
       "13.11026081862832"
      ]
     },
     "execution_count": 87,
     "metadata": {},
     "output_type": "execute_result"
    }
   ],
   "source": [
    "difference * 7 * 24"
   ]
  },
  {
   "cell_type": "markdown",
   "metadata": {},
   "source": [
    "## Question 6"
   ]
  },
  {
   "cell_type": "markdown",
   "metadata": {},
   "source": [
    "Compute the mean <tt>prglngth</tt> for first babies and others.  Compute the difference in means, expressed in hours."
   ]
  },
  {
   "cell_type": "code",
   "execution_count": 72,
   "metadata": {
    "collapsed": false
   },
   "outputs": [
    {
     "data": {
      "text/plain": [
       "0.07803726677754952"
      ]
     },
     "execution_count": 72,
     "metadata": {},
     "output_type": "execute_result"
    }
   ],
   "source": [
    "first_avg = firsts.prglngth.mean()\n",
    "other_avg = others.prglngth.mean()\n",
    "\n",
    "first_avg - other_avg"
   ]
  },
  {
   "cell_type": "markdown",
   "metadata": {},
   "source": [
    "## Question 6"
   ]
  },
  {
   "cell_type": "markdown",
   "metadata": {},
   "source": [
    "Compute the mean <tt>prglngth</tt> for first babies and others.  Compute the difference in means, expressed in hours."
   ]
  },
  {
   "cell_type": "code",
   "execution_count": 114,
   "metadata": {
    "collapsed": false
   },
   "outputs": [
    {
     "data": {
      "text/plain": [
       "38.60095173351461"
      ]
     },
     "execution_count": 114,
     "metadata": {},
     "output_type": "execute_result"
    }
   ],
   "source": [
    "firstlen = firsts.prglngth.mean()\n",
    "firstlen"
   ]
  },
  {
   "cell_type": "code",
   "execution_count": 115,
   "metadata": {
    "collapsed": false
   },
   "outputs": [
    {
     "data": {
      "text/plain": [
       "38.52291446673706"
      ]
     },
     "execution_count": 115,
     "metadata": {},
     "output_type": "execute_result"
    }
   ],
   "source": [
    "otherlen = others.prglngth.mean()\n",
    "otherlen"
   ]
  },
  {
   "cell_type": "code",
   "execution_count": 116,
   "metadata": {
    "collapsed": false
   },
   "outputs": [
    {
     "data": {
      "text/plain": [
       "13.11026081862832"
      ]
     },
     "execution_count": 116,
     "metadata": {},
     "output_type": "execute_result"
    }
   ],
   "source": [
    "#Compute the difference between first babies and other babies\n",
    "#Then convert to hours\n",
    "diff = (firstlen - otherlen) * 7 * 24\n",
    "diff"
   ]
  },
  {
   "cell_type": "markdown",
   "metadata": {},
   "source": [
    "It appears that first babies tend to be born an average of 13 hours after second babies, so if they are late, they are not late by much. "
   ]
  },
  {
   "cell_type": "markdown",
   "metadata": {},
   "source": [
    "## Question 6"
   ]
  },
  {
   "cell_type": "markdown",
   "metadata": {},
   "source": [
    "Compute the mean <tt>prglngth</tt> for first babies and others.  Compute the difference in means, expressed in hours."
   ]
  },
  {
   "cell_type": "code",
   "execution_count": 107,
   "metadata": {
    "collapsed": false
   },
   "outputs": [
    {
     "data": {
      "text/plain": [
       "38.60095173351461"
      ]
     },
     "execution_count": 107,
     "metadata": {},
     "output_type": "execute_result"
    }
   ],
   "source": [
    "firsts.prglngth.mean()"
   ]
  },
  {
   "cell_type": "code",
   "execution_count": 108,
   "metadata": {
    "collapsed": false
   },
   "outputs": [
    {
     "data": {
      "text/plain": [
       "38.52291446673706"
      ]
     },
     "execution_count": 108,
     "metadata": {},
     "output_type": "execute_result"
    }
   ],
   "source": [
    "others.prglngth.mean()"
   ]
  },
  {
   "cell_type": "code",
   "execution_count": 109,
   "metadata": {
    "collapsed": false
   },
   "outputs": [
    {
     "data": {
      "text/plain": [
       "0.07803726677754952"
      ]
     },
     "execution_count": 109,
     "metadata": {},
     "output_type": "execute_result"
    }
   ],
   "source": [
    "firsts.prglngth.mean() - others.prglngth.mean()"
   ]
  },
  {
   "cell_type": "markdown",
   "metadata": {},
   "source": [
    "## Clarifying Questions\n",
    "\n",
    "Use this space to ask questions regarding the content covered in the reading. These questions should be restricted to helping you better understand the material. For questions that push beyond what is in the reading, use the next answer field. If you don't have a fully formed question, but are generally having a difficult time with a topic, you can indicate that here as well."
   ]
  },
  {
   "cell_type": "markdown",
   "metadata": {},
   "source": [
    "I think I generally understand this. Basically, there is an \"ultimate dataset\" called a data frame. This contains coded data which can be accessed through pre-defined label. Data types to deal with throughout this are the data frames, dictionary-like elements, collections, and series. "
   ]
  },
  {
   "cell_type": "markdown",
   "metadata": {},
   "source": [
    "No specific questions, but it would be nice to go over in class the best way to do each part (most efficient, readable, etc.)"
   ]
  },
  {
   "cell_type": "markdown",
   "metadata": {},
   "source": [
    "I am confused about recodes, as comparing numbers computed from the whole data set to the data set itself seems very redundant. Do we take a small sample of the entire raw data to calculate the recodes? "
   ]
  },
  {
   "cell_type": "markdown",
   "metadata": {},
   "source": [
    "## Enrichment Questions\n",
    "\n",
    "Use this space to ask any questions that go beyond (but are related to) the material presented in this reading. Perhaps there is a particular topic you'd like to see covered in more depth. Perhaps you'd like to know how to use a library in a way that wasn't show in the reading. One way to think about this is what additional topics would you want covered in the next class (or addressed in a followup e-mail to the class). I'm a little fuzzy on what stuff will likely go here, so we'll see how things evolve."
   ]
  },
  {
   "cell_type": "markdown",
   "metadata": {},
   "source": [
    "I'm wondering how typical it is to find datasets in the format here. I've done a fair amount of stuff with aid-data resources, and they are much less sophisticated than this...we're talking CSVs as the most hi-tech translation of the data. \n",
    "\n",
    "Just as a general note, it was cool to do something with population data, and it would be great to do more peoples analysis in the future. An element that was not explored here was doing cross comparisons (correlations for example), which I'm sure will come later. Significance would also be cool to learn more about."
   ]
  },
  {
   "cell_type": "markdown",
   "metadata": {},
   "source": [
    "I am curious if whether we will always be given data sets in such convenient form to use in this class, or whether we will build data sets ourselves."
   ]
  },
  {
   "cell_type": "markdown",
   "metadata": {},
   "source": [
    "I know it's only chapter one so I don't have too many questions, but the one I was wondering about as I was doing this assignment was how to figure out the value of the calculations.  Like, we could calculate so many values from this dataset, how do we know what is important?"
   ]
  },
  {
   "cell_type": "markdown",
   "metadata": {},
   "source": [
    "What is the difference between section B of the Raw Variables and Section E in the codebook? I'm just curious about what context I'm missing for the different variables. \n"
   ]
  },
  {
   "cell_type": "markdown",
   "metadata": {},
   "source": [
    "This chapter mentioned that the NSFG intentionally oversampled Hispanics, African-Americans, and teenagers. How can this be addressed if you want to look at a statistically-correct distribution over the entire population?"
   ]
  },
  {
   "cell_type": "markdown",
   "metadata": {},
   "source": [
    "How would you deal with situations where the data doesn't accurately represent the population, e.g., certain demographics are more represented than others? Are there tools for analyzing or cleaning the data?"
   ]
  },
  {
   "cell_type": "markdown",
   "metadata": {},
   "source": [
    "This is something that I'm a little unclear on in general, but I'm wondering what sorts of data science scenarios it's benficial/the \"right\" answer is to use a graph, and what questions are better answered using summary statistics/numbers. Is it always helpful to visualize? Are there times when it's better/acceptable not to?"
   ]
  },
  {
   "cell_type": "markdown",
   "metadata": {},
   "source": [
    "How do you validate data if no published results exist for comparison? "
   ]
  },
  {
   "cell_type": "markdown",
   "metadata": {},
   "source": [
    "## Additional Resources / Explorations\n",
    "\n",
    "If you found any useful resources, or tried some useful exercises that you'd like to report please do so here. Let us know what you did, what you learned, and how others can replicate it."
   ]
  },
  {
   "cell_type": "markdown",
   "metadata": {},
   "source": [
    "I liked having pandas.pydata.org to read more on the different possible methods for a dataframe"
   ]
  }
 ],
 "metadata": {
  "kernelspec": {
   "display_name": "Python 2",
   "language": "python",
   "name": "python2"
  },
  "language_info": {
   "codemirror_mode": {
    "name": "ipython",
    "version": 2
   },
   "file_extension": ".py",
   "mimetype": "text/x-python",
   "name": "python",
   "nbconvert_exporter": "python",
   "pygments_lexer": "ipython2",
   "version": "2.7.11"
  }
 },
 "nbformat": 4,
 "nbformat_minor": 0
}
