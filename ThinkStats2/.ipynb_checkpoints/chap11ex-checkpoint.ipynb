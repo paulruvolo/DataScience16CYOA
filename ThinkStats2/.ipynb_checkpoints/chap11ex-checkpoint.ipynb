{
 "cells": [
  {
   "cell_type": "markdown",
   "metadata": {},
   "source": [
    "Exercise from Think Stats, 2nd Edition (thinkstats2.com)<br>\n",
    "Allen Downey"
   ]
  },
  {
   "cell_type": "code",
   "execution_count": null,
   "metadata": {
    "collapsed": false
   },
   "outputs": [],
   "source": [
    "%matplotlib inline"
   ]
  },
  {
   "cell_type": "markdown",
   "metadata": {},
   "source": [
    "Suppose one of your co-workers is expecting a baby and you are participating in an office pool to predict the date of birth. Assuming that bets are placed during the 30th week of pregnancy, what variables could you use to make the best prediction? You should limit yourself to variables that are known before the birth, and likely to be available to the people in the pool. "
   ]
  },
  {
   "cell_type": "markdown",
   "metadata": {
    "collapsed": false
   },
   "source": [
    "I wasn't sure if this question was asking us to do analysis on the data to answer the question, or just based on what we've looked at in the data so far.  So I decided to go ahead and see what I could learn from the data\n"
   ]
  },
  {
   "cell_type": "code",
   "execution_count": 16,
   "metadata": {
    "collapsed": false
   },
   "outputs": [
    {
     "name": "stdout",
     "output_type": "stream",
     "text": [
      "lobthwgt3        1.000000\n",
      "ltrimest         1.000000\n",
      "prglngth         1.000000\n",
      "nowprgdk         1.000000\n",
      "dk2gest          1.000000\n",
      "moscurrp         0.999678\n",
      "wksgest          0.998124\n",
      "mosgest          0.944177\n",
      "prgoutcome       0.864824\n",
      "pregend1         0.863757\n",
      "outcome          0.738494\n",
      "alivenow3        0.661277\n",
      "legagree2        0.627456\n",
      "dk3gest          0.569174\n",
      "weeksdk          0.552055\n",
      "parenend2        0.524049\n",
      "getprena         0.501113\n",
      "lastage3         0.499266\n",
      "totalwgt_lb      0.494013\n",
      "birthwgt_lb      0.485165\n",
      "howpreg_n        0.484473\n",
      "lbw1             0.479601\n",
      "pncarewk         0.468033\n",
      "pnctrim          0.457940\n",
      "babysex3         0.448897\n",
      "livehere3        0.418246\n",
      "birthwgt_lb3     0.409182\n",
      "alivenow         0.402706\n",
      "matchfound3      0.337903\n",
      "lpnctri          0.329442\n",
      "                   ...   \n",
      "cmintfinop       0.000746\n",
      "workborn         0.000650\n",
      "cmprgbeg         0.000429\n",
      "paybirth3        0.000000\n",
      "dk1gest               NaN\n",
      "bpa_bdscheck2         NaN\n",
      "bpa_bdscheck3         NaN\n",
      "cmkidlft3             NaN\n",
      "wherenow3             NaN\n",
      "legagree3             NaN\n",
      "parenend3             NaN\n",
      "fedsolid3             NaN\n",
      "frsteatd_n3           NaN\n",
      "frsteatd_p3           NaN\n",
      "frsteatd3             NaN\n",
      "quitnurs3             NaN\n",
      "ageqtnur_n3           NaN\n",
      "ageqtnur_p3           NaN\n",
      "ageqtnur3             NaN\n",
      "wantbld2              NaN\n",
      "whyprg2               NaN\n",
      "ager_i                NaN\n",
      "fmarital_i            NaN\n",
      "rmarital_i            NaN\n",
      "race_i                NaN\n",
      "hisprace_i            NaN\n",
      "rcurpreg_i            NaN\n",
      "pregnum_i             NaN\n",
      "metro_i               NaN\n",
      "cmintvw               NaN\n",
      "Name: prglngth, dtype: float64\n"
     ]
    }
   ],
   "source": [
    "import nsfg\n",
    "df = nsfg.ReadFemPreg()\n",
    "\n",
    "c = df.corr().abs()\n",
    "\n",
    "print c.prglngth.sort_values(ascending=False)"
   ]
  },
  {
   "cell_type": "markdown",
   "metadata": {},
   "source": [
    "I tried to use pandas to find possible correlations between the length of the pregnancy and other variables, but it ultimately didn't prove to be very helpful.  The variables I was hoping to see having an impact (ones that we could easily measure from a coworker) like mother's age or birth order didn't show up as high-correlation.  The variables that did show up are often data that comes after birth, like birthweight (makes sense that this is tied to length, preemie babies have less time to grow), or the outcome of the birth, or obvious things like other measure of pregnancy length."
   ]
  },
  {
   "cell_type": "code",
   "execution_count": 20,
   "metadata": {
    "collapsed": false
   },
   "outputs": [
    {
     "name": "stdout",
     "output_type": "stream",
     "text": [
      "prglngth 1.0\n",
      "wksgest 0.810466988405\n",
      "agecon 0.781350418865\n",
      "totalwgt_lb 0.125503308033\n",
      "birthwgt_lb 0.120679453558\n",
      "lbw1 0.103838874743\n",
      "mosgest 0.0982884576401\n",
      "prglngth_i 0.0215849926795\n",
      "pregend1 0.00843280219459\n",
      "outcome 0.00787817147656\n",
      "prgoutcome 0.00784661257936\n",
      "canhaver 0.00675998334427\n",
      "datcon01_i 0.00590185285858\n",
      "con1mar1_i 0.00559512377641\n",
      "nbrnaliv 0.00458014116394\n",
      "mar1con1_i 0.00328669224473\n",
      "anynurse 0.00291848398136\n",
      "bfeedwks 0.00256701215878\n",
      "evuseint 0.0021679382829\n",
      "rmarout11_i 0.00216747068093\n",
      "marout11_i 0.00216747068093\n",
      "marcon11_i 0.00216747068093\n",
      "datend02_i 0.00207103036159\n",
      "datcon02_i 0.00207103036159\n",
      "agecon02_i 0.00202887790055\n",
      "ageprg02_i 0.00199128042069\n",
      "paydu 0.00198269210289\n",
      "fmarcon5_i 0.00194217103909\n",
      "cmlastlb_r 0.00190168382206\n",
      "cmlastlb 0.00190168382206\n"
     ]
    }
   ],
   "source": [
    "import chap01soln\n",
    "import statsmodels.formula.api as smf\n",
    "\n",
    "df = df[df.prglngth>30]\n",
    "resp = chap01soln.ReadFemResp()\n",
    "resp.index = resp.caseid\n",
    "join = df.join(resp, on='caseid', rsuffix='_r')\n",
    "\n",
    "t = []\n",
    "for name in join.columns:\n",
    "    try:\n",
    "        if join[name].var() < 1e-7:\n",
    "            continue\n",
    "        formula = 'prglngth ~ agepreg + ' + str(name)\n",
    "        model = smf.ols(formula, data=join)\n",
    "        if model.nobs < len(join)/2:\n",
    "            continue\n",
    "        results = model.fit()\n",
    "    except (ValueError, TypeError):\n",
    "        continue\n",
    "    t.append((results.rsquared, name))\n",
    "    \n",
    "t.sort(reverse=True)\n",
    "for mse, name in t[:30]:\n",
    "    print name, mse"
   ]
  },
  {
   "cell_type": "markdown",
   "metadata": {},
   "source": [
    "This time, I used the statsmodel approach as shown in the book, but again, the results were not terribly helpful.  Obviously, it correlates with prglngth, and a lot of the variables, like outcome or totalwgt_lb will only be relevant after the actual birth.\n",
    "\n",
    "Age at conception is easily determined, but is obviously correlated with age of the mother now, so probably doesn't add any new information.  A variable like canhaver (ability to have another baby) might be another that we could figure oyuut pre-brith from the coworker, but at this point the R-squared value is under 1%, which means it really isn't having much of an impact anyways.  \n",
    "\n",
    "If I were actually doing this for my office, I would just collect as many variables from my coworker as possible, such as age, birth order of child, race, babysex, did they recieve prenatal care, or any other variables that show up in the dataset.  Then, I could make a training model based only on the variables I have, in order to attempt to predict pregnancy length.\n"
   ]
  },
  {
   "cell_type": "markdown",
   "metadata": {},
   "source": [
    "## Clarifying Questions\n",
    "\n",
    "Use this space to ask questions regarding the content covered in the reading. These questions should be restricted to helping you better understand the material. For questions that push beyond what is in the reading, use the next answer field. If you don't have a fully formed question, but are generally having a difficult time with a topic, you can indicate that here as well."
   ]
  },
  {
   "cell_type": "markdown",
   "metadata": {},
   "source": []
  },
  {
   "cell_type": "markdown",
   "metadata": {},
   "source": []
  },
  {
   "cell_type": "markdown",
   "metadata": {},
   "source": [
    "## Enrichment Questions\n",
    "\n",
    "Use this space to ask any questions that go beyond (but are related to) the material presented in this reading. Perhaps there is a particular topic you'd like to see covered in more depth. Perhaps you'd like to know how to use a library in a way that wasn't show in the reading. One way to think about this is what additional topics would you want covered in the next class (or addressed in a followup e-mail to the class). I'm a little fuzzy on what stuff will likely go here, so we'll see how things evolve."
   ]
  },
  {
   "cell_type": "markdown",
   "metadata": {},
   "source": []
  },
  {
   "cell_type": "markdown",
   "metadata": {},
   "source": [
    "## Additional Resources / Explorations\n",
    "\n",
    "If you found any useful resources, or tried some useful exercises that you'd like to report please do so here. Let us know what you did, what you learned, and how others can replicate it."
   ]
  },
  {
   "cell_type": "markdown",
   "metadata": {},
   "source": []
  }
 ],
 "metadata": {
  "kernelspec": {
   "display_name": "Python 2",
   "language": "python",
   "name": "python2"
  },
  "language_info": {
   "codemirror_mode": {
    "name": "ipython",
    "version": 2
   },
   "file_extension": ".py",
   "mimetype": "text/x-python",
   "name": "python",
   "nbconvert_exporter": "python",
   "pygments_lexer": "ipython2",
   "version": "2.7.11"
  }
 },
 "nbformat": 4,
 "nbformat_minor": 0
}
