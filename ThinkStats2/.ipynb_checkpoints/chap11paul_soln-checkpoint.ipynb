{
 "cells": [
  {
   "cell_type": "markdown",
   "metadata": {},
   "source": [
    "Exercise from Think Stats, 2nd Edition (thinkstats2.com)<br>\n",
    "Allen Downey"
   ]
  },
  {
   "cell_type": "code",
   "execution_count": 1,
   "metadata": {
    "collapsed": false
   },
   "outputs": [
    {
     "name": "stderr",
     "output_type": "stream",
     "text": [
      "/home/pruvolo/anaconda2/lib/python2.7/site-packages/matplotlib/font_manager.py:273: UserWarning: Matplotlib is building the font cache using fc-list. This may take a moment.\n",
      "  warnings.warn('Matplotlib is building the font cache using fc-list. This may take a moment.')\n"
     ]
    }
   ],
   "source": [
    "%matplotlib inline"
   ]
  },
  {
   "cell_type": "markdown",
   "metadata": {},
   "source": [
    "Suppose one of your co-workers is expecting a baby and you are participating in an office pool to predict the date of birth. Assuming that bets are placed during the 30th week of pregnancy, what variables could you use to make the best prediction? You should limit yourself to variables that are known before the birth, and likely to be available to the people in the pool. "
   ]
  },
  {
   "cell_type": "code",
   "execution_count": 2,
   "metadata": {
    "collapsed": false
   },
   "outputs": [],
   "source": [
    "import nsfg\n",
    "\n",
    "data = nsfg.ReadFemPreg()"
   ]
  },
  {
   "cell_type": "code",
   "execution_count": 3,
   "metadata": {
    "collapsed": false
   },
   "outputs": [],
   "source": [
    "data_filtered = data[(data.prglngth > 30) & (data.prgoutcome == 1)]"
   ]
  },
  {
   "cell_type": "code",
   "execution_count": 4,
   "metadata": {
    "collapsed": false
   },
   "outputs": [],
   "source": [
    "import thinkstats2\n",
    "\n",
    "def ReadFemResp(dct_file='2002FemResp.dct',\n",
    "                dat_file='2002FemResp.dat.gz',\n",
    "                nrows=None):\n",
    "    \"\"\"Reads the NSFG respondent data.\n",
    "\n",
    "    dct_file: string file name\n",
    "    dat_file: string file name\n",
    "\n",
    "    returns: DataFrame\n",
    "    \"\"\"\n",
    "    dct = thinkstats2.ReadStataDct(dct_file)\n",
    "    df = dct.ReadFixedWidth(dat_file, compression='gzip', nrows=nrows)\n",
    "    return df\n",
    "\n",
    "respondents = ReadFemResp()"
   ]
  },
  {
   "cell_type": "code",
   "execution_count": 5,
   "metadata": {
    "collapsed": false
   },
   "outputs": [
    {
     "name": "stdout",
     "output_type": "stream",
     "text": [
      "Number of columns joined 3331\n",
      "Number of columns original 244\n",
      "rcurpreg_i nan\n",
      "pregnum_i nan\n",
      "birthwgt_lb 0.119773078049\n",
      "mosgest 0.0956243198959\n",
      "race 0.000314402188101\n",
      "birthord_i nan\n",
      "prgoutcome nan\n",
      "nbrnaliv 0.00457756578553\n",
      "cmlastlb 0.00204314244221\n",
      "fmarcon5_i 0.00196815932428\n",
      "birthord 0.00123727367368\n",
      "gestasun_w 0.00105137990873\n",
      "outcome_i nan\n",
      "poverty 0.00112341537571\n",
      "cmintstr 0.00087396929583\n",
      "educat 0.000590682440346\n",
      "wantresp 0.000499185401084\n",
      "ager_i nan\n",
      "fmarital_i nan\n",
      "fmarital 0.000572478064062\n"
     ]
    }
   ],
   "source": [
    "import pandas as pd\n",
    "\n",
    "joined = data_filtered.join(respondents, on='caseid', rsuffix='_r')\n",
    "print \"Number of columns joined\", len(joined.columns)\n",
    "print \"Number of columns original\", len(data_filtered.columns)\n",
    "\n",
    "data_mining = {}\n",
    "for column_name, column_data in joined.iteritems():\n",
    "    if column_name == 'prglngth':\n",
    "        continue\n",
    "    if column_data.isnull().mean() < 0.10:\n",
    "        relevant_columns = pd.concat((column_data, joined.prglngth), axis=1).dropna()\n",
    "        try:\n",
    "            intercept, slope = thinkstats2.LeastSquares(relevant_columns[column_name],\n",
    "                                                        relevant_columns.prglngth)\n",
    "            res = slope*relevant_columns[column_name]+intercept - relevant_columns.prglngth\n",
    "            data_mining[column_name] = thinkstats2.CoefDetermination(relevant_columns.prglngth,\n",
    "                                                                     res)\n",
    "        except Exception as ex:\n",
    "            print ex\n",
    "\n",
    "for w in sorted(data_mining, key=data_mining.get, reverse=True)[0:20]:\n",
    "    print w, data_mining[w]"
   ]
  },
  {
   "cell_type": "markdown",
   "metadata": {},
   "source": [
    "Of these, only a subset would actually reasonably be available to us.  I'd choose: race, nbrnaliv, birthord, fmarcon5."
   ]
  },
  {
   "cell_type": "code",
   "execution_count": 6,
   "metadata": {
    "collapsed": false
   },
   "outputs": [
    {
     "name": "stdout",
     "output_type": "stream",
     "text": [
      "1.89264008596\n",
      "1.89815725743\n"
     ]
    }
   ],
   "source": [
    "from sklearn.linear_model import LinearRegression\n",
    "import numpy as np\n",
    "\n",
    "model = LinearRegression()\n",
    "filtered = joined.dropna(subset=['birthord', 'race', 'nbrnaliv', 'fmarcon5','prglngth'])\n",
    "X = filtered[['birthord', 'race', 'nbrnaliv', 'fmarcon5']]\n",
    "y = filtered.prglngth\n",
    "model.fit(X, y)\n",
    "print \"RMS model\", np.sqrt(((model.predict(X) - y)**2).mean())\n",
    "print \"RMS baseline\", np.sqrt(((y - y.mean())**2).mean())"
   ]
  }
 ],
 "metadata": {
  "kernelspec": {
   "display_name": "Python 2",
   "language": "python",
   "name": "python2"
  },
  "language_info": {
   "codemirror_mode": {
    "name": "ipython",
    "version": 2
   },
   "file_extension": ".py",
   "mimetype": "text/x-python",
   "name": "python",
   "nbconvert_exporter": "python",
   "pygments_lexer": "ipython2",
   "version": "2.7.11"
  }
 },
 "nbformat": 4,
 "nbformat_minor": 0
}
