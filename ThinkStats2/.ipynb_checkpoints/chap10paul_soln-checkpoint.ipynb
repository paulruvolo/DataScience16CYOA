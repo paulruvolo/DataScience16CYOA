{
 "cells": [
  {
   "cell_type": "markdown",
   "metadata": {},
   "source": [
    "Exercise from Think Stats, 2nd Edition (thinkstats2.com)<br>\n",
    "Allen Downey"
   ]
  },
  {
   "cell_type": "code",
   "execution_count": 1,
   "metadata": {
    "collapsed": false
   },
   "outputs": [
    {
     "name": "stderr",
     "output_type": "stream",
     "text": [
      "/home/pruvolo/anaconda2/lib/python2.7/site-packages/matplotlib/font_manager.py:273: UserWarning: Matplotlib is building the font cache using fc-list. This may take a moment.\n",
      "  warnings.warn('Matplotlib is building the font cache using fc-list. This may take a moment.')\n"
     ]
    }
   ],
   "source": [
    "%matplotlib inline"
   ]
  },
  {
   "cell_type": "markdown",
   "metadata": {},
   "source": [
    "Using the data from the BRFSS, compute the linear least squares fit for log(weight) versus height. How would you best present the estimated parameters for a model like this where one of the variables is log-transformed? If you were trying to guess someone’s weight, how much would it help to know their height? "
   ]
  },
  {
   "cell_type": "code",
   "execution_count": 2,
   "metadata": {
    "collapsed": false
   },
   "outputs": [
    {
     "data": {
      "text/html": [
       "<div>\n",
       "<table border=\"1\" class=\"dataframe\">\n",
       "  <thead>\n",
       "    <tr style=\"text-align: right;\">\n",
       "      <th></th>\n",
       "      <th>age</th>\n",
       "      <th>sex</th>\n",
       "      <th>wtyrago</th>\n",
       "      <th>finalwt</th>\n",
       "      <th>wtkg2</th>\n",
       "      <th>htm3</th>\n",
       "    </tr>\n",
       "  </thead>\n",
       "  <tbody>\n",
       "    <tr>\n",
       "      <th>0</th>\n",
       "      <td>82</td>\n",
       "      <td>2</td>\n",
       "      <td>76.363636</td>\n",
       "      <td>185.870345</td>\n",
       "      <td>70.91</td>\n",
       "      <td>157</td>\n",
       "    </tr>\n",
       "    <tr>\n",
       "      <th>1</th>\n",
       "      <td>65</td>\n",
       "      <td>2</td>\n",
       "      <td>72.727273</td>\n",
       "      <td>126.603027</td>\n",
       "      <td>72.73</td>\n",
       "      <td>163</td>\n",
       "    </tr>\n",
       "    <tr>\n",
       "      <th>2</th>\n",
       "      <td>48</td>\n",
       "      <td>2</td>\n",
       "      <td>NaN</td>\n",
       "      <td>181.063210</td>\n",
       "      <td>NaN</td>\n",
       "      <td>165</td>\n",
       "    </tr>\n",
       "    <tr>\n",
       "      <th>3</th>\n",
       "      <td>61</td>\n",
       "      <td>1</td>\n",
       "      <td>73.636364</td>\n",
       "      <td>517.926275</td>\n",
       "      <td>73.64</td>\n",
       "      <td>170</td>\n",
       "    </tr>\n",
       "    <tr>\n",
       "      <th>4</th>\n",
       "      <td>26</td>\n",
       "      <td>1</td>\n",
       "      <td>88.636364</td>\n",
       "      <td>1252.624630</td>\n",
       "      <td>88.64</td>\n",
       "      <td>185</td>\n",
       "    </tr>\n",
       "  </tbody>\n",
       "</table>\n",
       "</div>"
      ],
      "text/plain": [
       "   age  sex    wtyrago      finalwt  wtkg2  htm3\n",
       "0   82    2  76.363636   185.870345  70.91   157\n",
       "1   65    2  72.727273   126.603027  72.73   163\n",
       "2   48    2        NaN   181.063210    NaN   165\n",
       "3   61    1  73.636364   517.926275  73.64   170\n",
       "4   26    1  88.636364  1252.624630  88.64   185"
      ]
     },
     "execution_count": 2,
     "metadata": {},
     "output_type": "execute_result"
    }
   ],
   "source": [
    "import brfss\n",
    "\n",
    "data = brfss.ReadBrfss()\n",
    "data.head()"
   ]
  },
  {
   "cell_type": "code",
   "execution_count": 3,
   "metadata": {
    "collapsed": false
   },
   "outputs": [
    {
     "data": {
      "text/plain": [
       "wtkg2    0\n",
       "htm3     0\n",
       "dtype: float64"
      ]
     },
     "execution_count": 3,
     "metadata": {},
     "output_type": "execute_result"
    }
   ],
   "source": [
    "import numpy as np\n",
    "height_weight = data[['wtkg2','htm3']]\n",
    "height_weight = height_weight.dropna()\n",
    "height_weight.isnull().mean()"
   ]
  },
  {
   "cell_type": "code",
   "execution_count": 15,
   "metadata": {
    "collapsed": false
   },
   "outputs": [],
   "source": [
    "height_weight['logwtkg2'] = np.log10(height_weight.wtkg2)"
   ]
  },
  {
   "cell_type": "code",
   "execution_count": 16,
   "metadata": {
    "collapsed": false
   },
   "outputs": [],
   "source": [
    "import thinkstats2\n",
    "\n",
    "intercept, slope = thinkstats2.LeastSquares(height_weight.htm3,\n",
    "                                            height_weight.logwtkg2)"
   ]
  },
  {
   "cell_type": "code",
   "execution_count": 17,
   "metadata": {
    "collapsed": false
   },
   "outputs": [
    {
     "data": {
      "image/png": "[encoded data removed]",
      "text/plain": [
       "<matplotlib.figure.Figure at 0x7f11af0b3490>"
      ]
     },
     "metadata": {},
     "output_type": "display_data"
    }
   ],
   "source": [
    "import matplotlib.pyplot as plt\n",
    "\n",
    "plt.plot(height_weight.htm3, height_weight.logfinalwt,'b.')\n",
    "xs = min(height_weight.htm3), max(height_weight.htm3)\n",
    "plt.plot(xs, [xs[0]*slope + intercept, xs[1]*slope + intercept],'r')\n",
    "plt.xlabel('height (cm)')\n",
    "plt.ylabel('log_10(weight (kg))')\n",
    "plt.show()"
   ]
  },
  {
   "cell_type": "markdown",
   "metadata": {},
   "source": [
    "### Interpreting the Model\n",
    "\n",
    "The model we've fit is:\n",
    "\n",
    "$\\log_{10} \\mbox{weight_kg} = \\mbox{slope} \\times \\mbox{height_cm} + \\mbox{intercept}$\n",
    "\n",
    "If we exponentiate both sides we get:\n",
    "$\\mbox{weight_kg} = 10^{\\mbox{slope} \\times \\mbox{height_cm}}\\times 10^\\mbox{intercept}$.  \n",
    "\n",
    "To make things more interpretable, we can replace $\\mbox{height_cm}$ with the deviation from the average height (which is about 170cm).\n",
    "\n",
    "$\\mbox{weight_kg} = 10^{\\mbox{slope} \\times \\left (\\mbox{height_cm} - 170 \\right)}\\times 10^{\\mbox{intercept}+170 \\times \\mbox{slope}}$\n",
    "\n",
    "Plugging in the specific value for intercept and slope gives us:\n",
    "\n",
    "$\\mbox{weight_kg} = 77.8 \\times 10^{\\mbox{slope} \\times \\left (\\mbox{height_cm} - 170 \\right)}$\n",
    "\n",
    "To understand this further let's consider the weight ratio for someone that is 171cm versus 170cm.\n",
    "\n",
    "$\\begin{align}\n",
    "\\frac{\\mbox{weight_kg}(171cm)}{\\mbox{weight_kg}(170cm)} &= \\frac{77.8 \\times 10^{\\mbox{slope} \\times 1}}{77.8 \\times 10^{\\mbox{slope} \\times 0}} \\\\\n",
    "&= 10^{\\mbox{slope}} \\\\\n",
    "&= 1.0122\n",
    "\\end{align}$\n",
    "\n",
    "Which is a percentage increase of $1.22\\%$ per cm of additional height.\n",
    "For those that are not metrically inclined, we can reframe the equation using inches and pounds.\n",
    "\n",
    "$\\mbox{weight_lb} = 171.2 \\times 10^{0.0134 \\times \\left (\\mbox{height_in} - 67 \\right)}$\n",
    "\n",
    "Which means that a person's expected weight increases from 171.2 pounds by $3.1\\%$ for every inch of height over 5 foot 7 inches (similarly a decrease in $3.1\\%$ would be expected for every inch under 5 foot 7 inches)."
   ]
  },
  {
   "cell_type": "markdown",
   "metadata": {
    "collapsed": true
   },
   "source": [
    "### How much does it help?\n",
    "\n",
    "To determine how much it helps we can compute the coefficient of determination.  We'll do this for both height predicting weight and height predicting $\\log_{10}$ weight."
   ]
  },
  {
   "cell_type": "code",
   "execution_count": 24,
   "metadata": {
    "collapsed": false
   },
   "outputs": [
    {
     "name": "stdout",
     "output_type": "stream",
     "text": [
      "coeff determination log 0.282734943119\n",
      "coeff determination no log 0.262774075792\n"
     ]
    }
   ],
   "source": [
    "original_variance = thinkstats2.Var(height_weight.logwtkg2)\n",
    "final_variance = thinkstats2.Var(height_weight.htm3*slope + intercept - height_weight.logfinalwt)\n",
    "print \"coeff determination log\", 1 - final_variance/original_variance\n",
    "\n",
    "original_variance_no_log = thinkstats2.Var(height_weight.wtkg2)\n",
    "final_variance_no_log = thinkstats2.Var(10**(height_weight.htm3*slope + intercept) - height_weight.wtkg2)\n",
    "print \"coeff determination no log\", 1 - final_variance_no_log / original_variance_no_log"
   ]
  }
 ],
 "metadata": {
  "kernelspec": {
   "display_name": "Python 2",
   "language": "python",
   "name": "python2"
  },
  "language_info": {
   "codemirror_mode": {
    "name": "ipython",
    "version": 2
   },
   "file_extension": ".py",
   "mimetype": "text/x-python",
   "name": "python",
   "nbconvert_exporter": "python",
   "pygments_lexer": "ipython2",
   "version": "2.7.11"
  }
 },
 "nbformat": 4,
 "nbformat_minor": 0
}
