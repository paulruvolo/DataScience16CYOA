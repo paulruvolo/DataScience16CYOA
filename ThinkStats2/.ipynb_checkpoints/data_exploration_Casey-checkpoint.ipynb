{
 "cells": [
  {
   "cell_type": "code",
   "execution_count": 60,
   "metadata": {
    "collapsed": false
   },
   "outputs": [],
   "source": [
    "import numpy as np \n",
    "import pandas \n",
    "from pattern.en import *\n",
    "import thinkstats2\n",
    "import thinkplot\n",
    "import pattern\n",
    "\n",
    "%matplotlib inline"
   ]
  },
  {
   "cell_type": "code",
   "execution_count": 61,
   "metadata": {
    "collapsed": false
   },
   "outputs": [],
   "source": [
    "data = pandas.read_csv('../train.tsv', sep = '\\t') "
   ]
  },
  {
   "cell_type": "markdown",
   "metadata": {},
   "source": [
    "Looking at the data below. "
   ]
  },
  {
   "cell_type": "code",
   "execution_count": 62,
   "metadata": {
    "collapsed": false
   },
   "outputs": [
    {
     "data": {
      "text/html": [
       "<div>\n",
       "<table border=\"1\" class=\"dataframe\">\n",
       "  <thead>\n",
       "    <tr style=\"text-align: right;\">\n",
       "      <th></th>\n",
       "      <th>PhraseId</th>\n",
       "      <th>SentenceId</th>\n",
       "      <th>Phrase</th>\n",
       "      <th>Sentiment</th>\n",
       "    </tr>\n",
       "  </thead>\n",
       "  <tbody>\n",
       "    <tr>\n",
       "      <th>0</th>\n",
       "      <td>1</td>\n",
       "      <td>1</td>\n",
       "      <td>A series of escapades demonstrating the adage ...</td>\n",
       "      <td>1</td>\n",
       "    </tr>\n",
       "    <tr>\n",
       "      <th>1</th>\n",
       "      <td>2</td>\n",
       "      <td>1</td>\n",
       "      <td>A series of escapades demonstrating the adage ...</td>\n",
       "      <td>2</td>\n",
       "    </tr>\n",
       "    <tr>\n",
       "      <th>2</th>\n",
       "      <td>3</td>\n",
       "      <td>1</td>\n",
       "      <td>A series</td>\n",
       "      <td>2</td>\n",
       "    </tr>\n",
       "    <tr>\n",
       "      <th>3</th>\n",
       "      <td>4</td>\n",
       "      <td>1</td>\n",
       "      <td>A</td>\n",
       "      <td>2</td>\n",
       "    </tr>\n",
       "    <tr>\n",
       "      <th>4</th>\n",
       "      <td>5</td>\n",
       "      <td>1</td>\n",
       "      <td>series</td>\n",
       "      <td>2</td>\n",
       "    </tr>\n",
       "    <tr>\n",
       "      <th>5</th>\n",
       "      <td>6</td>\n",
       "      <td>1</td>\n",
       "      <td>of escapades demonstrating the adage that what...</td>\n",
       "      <td>2</td>\n",
       "    </tr>\n",
       "    <tr>\n",
       "      <th>6</th>\n",
       "      <td>7</td>\n",
       "      <td>1</td>\n",
       "      <td>of</td>\n",
       "      <td>2</td>\n",
       "    </tr>\n",
       "    <tr>\n",
       "      <th>7</th>\n",
       "      <td>8</td>\n",
       "      <td>1</td>\n",
       "      <td>escapades demonstrating the adage that what is...</td>\n",
       "      <td>2</td>\n",
       "    </tr>\n",
       "    <tr>\n",
       "      <th>8</th>\n",
       "      <td>9</td>\n",
       "      <td>1</td>\n",
       "      <td>escapades</td>\n",
       "      <td>2</td>\n",
       "    </tr>\n",
       "    <tr>\n",
       "      <th>9</th>\n",
       "      <td>10</td>\n",
       "      <td>1</td>\n",
       "      <td>demonstrating the adage that what is good for ...</td>\n",
       "      <td>2</td>\n",
       "    </tr>\n",
       "    <tr>\n",
       "      <th>10</th>\n",
       "      <td>11</td>\n",
       "      <td>1</td>\n",
       "      <td>demonstrating the adage</td>\n",
       "      <td>2</td>\n",
       "    </tr>\n",
       "    <tr>\n",
       "      <th>11</th>\n",
       "      <td>12</td>\n",
       "      <td>1</td>\n",
       "      <td>demonstrating</td>\n",
       "      <td>2</td>\n",
       "    </tr>\n",
       "    <tr>\n",
       "      <th>12</th>\n",
       "      <td>13</td>\n",
       "      <td>1</td>\n",
       "      <td>the adage</td>\n",
       "      <td>2</td>\n",
       "    </tr>\n",
       "    <tr>\n",
       "      <th>13</th>\n",
       "      <td>14</td>\n",
       "      <td>1</td>\n",
       "      <td>the</td>\n",
       "      <td>2</td>\n",
       "    </tr>\n",
       "    <tr>\n",
       "      <th>14</th>\n",
       "      <td>15</td>\n",
       "      <td>1</td>\n",
       "      <td>adage</td>\n",
       "      <td>2</td>\n",
       "    </tr>\n",
       "    <tr>\n",
       "      <th>15</th>\n",
       "      <td>16</td>\n",
       "      <td>1</td>\n",
       "      <td>that what is good for the goose</td>\n",
       "      <td>2</td>\n",
       "    </tr>\n",
       "    <tr>\n",
       "      <th>16</th>\n",
       "      <td>17</td>\n",
       "      <td>1</td>\n",
       "      <td>that</td>\n",
       "      <td>2</td>\n",
       "    </tr>\n",
       "    <tr>\n",
       "      <th>17</th>\n",
       "      <td>18</td>\n",
       "      <td>1</td>\n",
       "      <td>what is good for the goose</td>\n",
       "      <td>2</td>\n",
       "    </tr>\n",
       "    <tr>\n",
       "      <th>18</th>\n",
       "      <td>19</td>\n",
       "      <td>1</td>\n",
       "      <td>what</td>\n",
       "      <td>2</td>\n",
       "    </tr>\n",
       "    <tr>\n",
       "      <th>19</th>\n",
       "      <td>20</td>\n",
       "      <td>1</td>\n",
       "      <td>is good for the goose</td>\n",
       "      <td>2</td>\n",
       "    </tr>\n",
       "    <tr>\n",
       "      <th>20</th>\n",
       "      <td>21</td>\n",
       "      <td>1</td>\n",
       "      <td>is</td>\n",
       "      <td>2</td>\n",
       "    </tr>\n",
       "    <tr>\n",
       "      <th>21</th>\n",
       "      <td>22</td>\n",
       "      <td>1</td>\n",
       "      <td>good for the goose</td>\n",
       "      <td>3</td>\n",
       "    </tr>\n",
       "    <tr>\n",
       "      <th>22</th>\n",
       "      <td>23</td>\n",
       "      <td>1</td>\n",
       "      <td>good</td>\n",
       "      <td>3</td>\n",
       "    </tr>\n",
       "    <tr>\n",
       "      <th>23</th>\n",
       "      <td>24</td>\n",
       "      <td>1</td>\n",
       "      <td>for the goose</td>\n",
       "      <td>2</td>\n",
       "    </tr>\n",
       "    <tr>\n",
       "      <th>24</th>\n",
       "      <td>25</td>\n",
       "      <td>1</td>\n",
       "      <td>for</td>\n",
       "      <td>2</td>\n",
       "    </tr>\n",
       "    <tr>\n",
       "      <th>25</th>\n",
       "      <td>26</td>\n",
       "      <td>1</td>\n",
       "      <td>the goose</td>\n",
       "      <td>2</td>\n",
       "    </tr>\n",
       "    <tr>\n",
       "      <th>26</th>\n",
       "      <td>27</td>\n",
       "      <td>1</td>\n",
       "      <td>goose</td>\n",
       "      <td>2</td>\n",
       "    </tr>\n",
       "    <tr>\n",
       "      <th>27</th>\n",
       "      <td>28</td>\n",
       "      <td>1</td>\n",
       "      <td>is also good for the gander , some of which oc...</td>\n",
       "      <td>2</td>\n",
       "    </tr>\n",
       "    <tr>\n",
       "      <th>28</th>\n",
       "      <td>29</td>\n",
       "      <td>1</td>\n",
       "      <td>is also good for the gander , some of which oc...</td>\n",
       "      <td>2</td>\n",
       "    </tr>\n",
       "    <tr>\n",
       "      <th>29</th>\n",
       "      <td>30</td>\n",
       "      <td>1</td>\n",
       "      <td>is also</td>\n",
       "      <td>2</td>\n",
       "    </tr>\n",
       "    <tr>\n",
       "      <th>...</th>\n",
       "      <td>...</td>\n",
       "      <td>...</td>\n",
       "      <td>...</td>\n",
       "      <td>...</td>\n",
       "    </tr>\n",
       "    <tr>\n",
       "      <th>156030</th>\n",
       "      <td>156031</td>\n",
       "      <td>8542</td>\n",
       "      <td>a joke in the United States</td>\n",
       "      <td>2</td>\n",
       "    </tr>\n",
       "    <tr>\n",
       "      <th>156031</th>\n",
       "      <td>156032</td>\n",
       "      <td>8543</td>\n",
       "      <td>The movie 's downfall is to substitute plot fo...</td>\n",
       "      <td>1</td>\n",
       "    </tr>\n",
       "    <tr>\n",
       "      <th>156032</th>\n",
       "      <td>156033</td>\n",
       "      <td>8543</td>\n",
       "      <td>The movie 's downfall</td>\n",
       "      <td>1</td>\n",
       "    </tr>\n",
       "    <tr>\n",
       "      <th>156033</th>\n",
       "      <td>156034</td>\n",
       "      <td>8543</td>\n",
       "      <td>is to substitute plot for personality .</td>\n",
       "      <td>1</td>\n",
       "    </tr>\n",
       "    <tr>\n",
       "      <th>156034</th>\n",
       "      <td>156035</td>\n",
       "      <td>8543</td>\n",
       "      <td>is to substitute plot for personality</td>\n",
       "      <td>1</td>\n",
       "    </tr>\n",
       "    <tr>\n",
       "      <th>156035</th>\n",
       "      <td>156036</td>\n",
       "      <td>8543</td>\n",
       "      <td>to substitute plot for personality</td>\n",
       "      <td>2</td>\n",
       "    </tr>\n",
       "    <tr>\n",
       "      <th>156036</th>\n",
       "      <td>156037</td>\n",
       "      <td>8543</td>\n",
       "      <td>substitute plot for personality</td>\n",
       "      <td>1</td>\n",
       "    </tr>\n",
       "    <tr>\n",
       "      <th>156037</th>\n",
       "      <td>156038</td>\n",
       "      <td>8543</td>\n",
       "      <td>substitute plot</td>\n",
       "      <td>2</td>\n",
       "    </tr>\n",
       "    <tr>\n",
       "      <th>156038</th>\n",
       "      <td>156039</td>\n",
       "      <td>8543</td>\n",
       "      <td>for personality</td>\n",
       "      <td>2</td>\n",
       "    </tr>\n",
       "    <tr>\n",
       "      <th>156039</th>\n",
       "      <td>156040</td>\n",
       "      <td>8544</td>\n",
       "      <td>The film is darkly atmospheric , with Herrmann...</td>\n",
       "      <td>2</td>\n",
       "    </tr>\n",
       "    <tr>\n",
       "      <th>156040</th>\n",
       "      <td>156041</td>\n",
       "      <td>8544</td>\n",
       "      <td>is darkly atmospheric , with Herrmann quietly ...</td>\n",
       "      <td>2</td>\n",
       "    </tr>\n",
       "    <tr>\n",
       "      <th>156041</th>\n",
       "      <td>156042</td>\n",
       "      <td>8544</td>\n",
       "      <td>is darkly atmospheric , with Herrmann quietly ...</td>\n",
       "      <td>2</td>\n",
       "    </tr>\n",
       "    <tr>\n",
       "      <th>156042</th>\n",
       "      <td>156043</td>\n",
       "      <td>8544</td>\n",
       "      <td>is darkly atmospheric ,</td>\n",
       "      <td>2</td>\n",
       "    </tr>\n",
       "    <tr>\n",
       "      <th>156043</th>\n",
       "      <td>156044</td>\n",
       "      <td>8544</td>\n",
       "      <td>is darkly atmospheric</td>\n",
       "      <td>3</td>\n",
       "    </tr>\n",
       "    <tr>\n",
       "      <th>156044</th>\n",
       "      <td>156045</td>\n",
       "      <td>8544</td>\n",
       "      <td>with Herrmann quietly suggesting the sadness a...</td>\n",
       "      <td>2</td>\n",
       "    </tr>\n",
       "    <tr>\n",
       "      <th>156045</th>\n",
       "      <td>156046</td>\n",
       "      <td>8544</td>\n",
       "      <td>Herrmann quietly suggesting the sadness and ob...</td>\n",
       "      <td>2</td>\n",
       "    </tr>\n",
       "    <tr>\n",
       "      <th>156046</th>\n",
       "      <td>156047</td>\n",
       "      <td>8544</td>\n",
       "      <td>Herrmann</td>\n",
       "      <td>2</td>\n",
       "    </tr>\n",
       "    <tr>\n",
       "      <th>156047</th>\n",
       "      <td>156048</td>\n",
       "      <td>8544</td>\n",
       "      <td>quietly suggesting the sadness and obsession b...</td>\n",
       "      <td>1</td>\n",
       "    </tr>\n",
       "    <tr>\n",
       "      <th>156048</th>\n",
       "      <td>156049</td>\n",
       "      <td>8544</td>\n",
       "      <td>suggesting the sadness and obsession beneath H...</td>\n",
       "      <td>2</td>\n",
       "    </tr>\n",
       "    <tr>\n",
       "      <th>156049</th>\n",
       "      <td>156050</td>\n",
       "      <td>8544</td>\n",
       "      <td>suggesting the sadness and obsession</td>\n",
       "      <td>2</td>\n",
       "    </tr>\n",
       "    <tr>\n",
       "      <th>156050</th>\n",
       "      <td>156051</td>\n",
       "      <td>8544</td>\n",
       "      <td>the sadness and obsession</td>\n",
       "      <td>2</td>\n",
       "    </tr>\n",
       "    <tr>\n",
       "      <th>156051</th>\n",
       "      <td>156052</td>\n",
       "      <td>8544</td>\n",
       "      <td>sadness and obsession</td>\n",
       "      <td>1</td>\n",
       "    </tr>\n",
       "    <tr>\n",
       "      <th>156052</th>\n",
       "      <td>156053</td>\n",
       "      <td>8544</td>\n",
       "      <td>sadness and</td>\n",
       "      <td>1</td>\n",
       "    </tr>\n",
       "    <tr>\n",
       "      <th>156053</th>\n",
       "      <td>156054</td>\n",
       "      <td>8544</td>\n",
       "      <td>beneath Hearst 's forced avuncular chortles</td>\n",
       "      <td>2</td>\n",
       "    </tr>\n",
       "    <tr>\n",
       "      <th>156054</th>\n",
       "      <td>156055</td>\n",
       "      <td>8544</td>\n",
       "      <td>Hearst 's forced avuncular chortles</td>\n",
       "      <td>2</td>\n",
       "    </tr>\n",
       "    <tr>\n",
       "      <th>156055</th>\n",
       "      <td>156056</td>\n",
       "      <td>8544</td>\n",
       "      <td>Hearst 's</td>\n",
       "      <td>2</td>\n",
       "    </tr>\n",
       "    <tr>\n",
       "      <th>156056</th>\n",
       "      <td>156057</td>\n",
       "      <td>8544</td>\n",
       "      <td>forced avuncular chortles</td>\n",
       "      <td>1</td>\n",
       "    </tr>\n",
       "    <tr>\n",
       "      <th>156057</th>\n",
       "      <td>156058</td>\n",
       "      <td>8544</td>\n",
       "      <td>avuncular chortles</td>\n",
       "      <td>3</td>\n",
       "    </tr>\n",
       "    <tr>\n",
       "      <th>156058</th>\n",
       "      <td>156059</td>\n",
       "      <td>8544</td>\n",
       "      <td>avuncular</td>\n",
       "      <td>2</td>\n",
       "    </tr>\n",
       "    <tr>\n",
       "      <th>156059</th>\n",
       "      <td>156060</td>\n",
       "      <td>8544</td>\n",
       "      <td>chortles</td>\n",
       "      <td>2</td>\n",
       "    </tr>\n",
       "  </tbody>\n",
       "</table>\n",
       "<p>156060 rows × 4 columns</p>\n",
       "</div>"
      ],
      "text/plain": [
       "        PhraseId  SentenceId  \\\n",
       "0              1           1   \n",
       "1              2           1   \n",
       "2              3           1   \n",
       "3              4           1   \n",
       "4              5           1   \n",
       "5              6           1   \n",
       "6              7           1   \n",
       "7              8           1   \n",
       "8              9           1   \n",
       "9             10           1   \n",
       "10            11           1   \n",
       "11            12           1   \n",
       "12            13           1   \n",
       "13            14           1   \n",
       "14            15           1   \n",
       "15            16           1   \n",
       "16            17           1   \n",
       "17            18           1   \n",
       "18            19           1   \n",
       "19            20           1   \n",
       "20            21           1   \n",
       "21            22           1   \n",
       "22            23           1   \n",
       "23            24           1   \n",
       "24            25           1   \n",
       "25            26           1   \n",
       "26            27           1   \n",
       "27            28           1   \n",
       "28            29           1   \n",
       "29            30           1   \n",
       "...          ...         ...   \n",
       "156030    156031        8542   \n",
       "156031    156032        8543   \n",
       "156032    156033        8543   \n",
       "156033    156034        8543   \n",
       "156034    156035        8543   \n",
       "156035    156036        8543   \n",
       "156036    156037        8543   \n",
       "156037    156038        8543   \n",
       "156038    156039        8543   \n",
       "156039    156040        8544   \n",
       "156040    156041        8544   \n",
       "156041    156042        8544   \n",
       "156042    156043        8544   \n",
       "156043    156044        8544   \n",
       "156044    156045        8544   \n",
       "156045    156046        8544   \n",
       "156046    156047        8544   \n",
       "156047    156048        8544   \n",
       "156048    156049        8544   \n",
       "156049    156050        8544   \n",
       "156050    156051        8544   \n",
       "156051    156052        8544   \n",
       "156052    156053        8544   \n",
       "156053    156054        8544   \n",
       "156054    156055        8544   \n",
       "156055    156056        8544   \n",
       "156056    156057        8544   \n",
       "156057    156058        8544   \n",
       "156058    156059        8544   \n",
       "156059    156060        8544   \n",
       "\n",
       "                                                   Phrase  Sentiment  \n",
       "0       A series of escapades demonstrating the adage ...          1  \n",
       "1       A series of escapades demonstrating the adage ...          2  \n",
       "2                                                A series          2  \n",
       "3                                                       A          2  \n",
       "4                                                  series          2  \n",
       "5       of escapades demonstrating the adage that what...          2  \n",
       "6                                                      of          2  \n",
       "7       escapades demonstrating the adage that what is...          2  \n",
       "8                                               escapades          2  \n",
       "9       demonstrating the adage that what is good for ...          2  \n",
       "10                                demonstrating the adage          2  \n",
       "11                                          demonstrating          2  \n",
       "12                                              the adage          2  \n",
       "13                                                    the          2  \n",
       "14                                                  adage          2  \n",
       "15                        that what is good for the goose          2  \n",
       "16                                                   that          2  \n",
       "17                             what is good for the goose          2  \n",
       "18                                                   what          2  \n",
       "19                                  is good for the goose          2  \n",
       "20                                                     is          2  \n",
       "21                                     good for the goose          3  \n",
       "22                                                   good          3  \n",
       "23                                          for the goose          2  \n",
       "24                                                    for          2  \n",
       "25                                              the goose          2  \n",
       "26                                                  goose          2  \n",
       "27      is also good for the gander , some of which oc...          2  \n",
       "28      is also good for the gander , some of which oc...          2  \n",
       "29                                                is also          2  \n",
       "...                                                   ...        ...  \n",
       "156030                        a joke in the United States          2  \n",
       "156031  The movie 's downfall is to substitute plot fo...          1  \n",
       "156032                              The movie 's downfall          1  \n",
       "156033            is to substitute plot for personality .          1  \n",
       "156034              is to substitute plot for personality          1  \n",
       "156035                 to substitute plot for personality          2  \n",
       "156036                    substitute plot for personality          1  \n",
       "156037                                    substitute plot          2  \n",
       "156038                                    for personality          2  \n",
       "156039  The film is darkly atmospheric , with Herrmann...          2  \n",
       "156040  is darkly atmospheric , with Herrmann quietly ...          2  \n",
       "156041  is darkly atmospheric , with Herrmann quietly ...          2  \n",
       "156042                            is darkly atmospheric ,          2  \n",
       "156043                              is darkly atmospheric          3  \n",
       "156044  with Herrmann quietly suggesting the sadness a...          2  \n",
       "156045  Herrmann quietly suggesting the sadness and ob...          2  \n",
       "156046                                           Herrmann          2  \n",
       "156047  quietly suggesting the sadness and obsession b...          1  \n",
       "156048  suggesting the sadness and obsession beneath H...          2  \n",
       "156049               suggesting the sadness and obsession          2  \n",
       "156050                          the sadness and obsession          2  \n",
       "156051                              sadness and obsession          1  \n",
       "156052                                        sadness and          1  \n",
       "156053        beneath Hearst 's forced avuncular chortles          2  \n",
       "156054                Hearst 's forced avuncular chortles          2  \n",
       "156055                                          Hearst 's          2  \n",
       "156056                          forced avuncular chortles          1  \n",
       "156057                                 avuncular chortles          3  \n",
       "156058                                          avuncular          2  \n",
       "156059                                           chortles          2  \n",
       "\n",
       "[156060 rows x 4 columns]"
      ]
     },
     "execution_count": 62,
     "metadata": {},
     "output_type": "execute_result"
    }
   ],
   "source": [
    "data"
   ]
  },
  {
   "cell_type": "markdown",
   "metadata": {},
   "source": [
    "Cleaning the data: "
   ]
  },
  {
   "cell_type": "code",
   "execution_count": 63,
   "metadata": {
    "collapsed": false
   },
   "outputs": [
    {
     "name": "stdout",
     "output_type": "stream",
     "text": [
      "0\n",
      "0\n",
      "0\n"
     ]
    }
   ],
   "source": [
    "def clean_data(d):\n",
    "#     check for empty string\n",
    "# check for any sentiment values that are not 0, 1, 2, 3\n",
    "#     print d.isnull().sum()\n",
    "    \n",
    "    print data.Phrase[data.Phrase == \"\"].sum() \n",
    "    \n",
    "    print data.Sentiment[(data.Sentiment < 0)].sum()\n",
    "    print data.Sentiment[(data.Sentiment > 4)].sum()\n",
    "    \n",
    "        \n",
    "\n",
    "clean_data(data)"
   ]
  },
  {
   "cell_type": "markdown",
   "metadata": {},
   "source": [
    "Looking at the data, it is clear that the first PhraseId for a setenceId is always the full sentence in its entirety. Then the sentence is broken up into smaller phrases, given a phrase Id, but linked to the same sentenceId because it is part of the same sentence. I wanted to see how the mean sentiment of each of the phrases would compare to the sentiment of the entire sentence. Results are below."
   ]
  },
  {
   "cell_type": "markdown",
   "metadata": {},
   "source": [
    "Sample, for sentence id = 1"
   ]
  },
  {
   "cell_type": "code",
   "execution_count": 64,
   "metadata": {
    "collapsed": false
   },
   "outputs": [
    {
     "data": {
      "text/plain": [
       "2.0327868852459017"
      ]
     },
     "execution_count": 64,
     "metadata": {},
     "output_type": "execute_result"
    }
   ],
   "source": [
    "phraseIdSentiments = data.Sentiment[data.PhraseId[data.SentenceId ==  1]]\n",
    "phraseIdSentiments[2:len(phraseIdSentiments)].mean()"
   ]
  },
  {
   "cell_type": "code",
   "execution_count": 65,
   "metadata": {
    "collapsed": false
   },
   "outputs": [
    {
     "data": {
      "text/plain": [
       "2"
      ]
     },
     "execution_count": 65,
     "metadata": {},
     "output_type": "execute_result"
    }
   ],
   "source": [
    "phraseIdSentiments[1]"
   ]
  },
  {
   "cell_type": "code",
   "execution_count": 66,
   "metadata": {
    "collapsed": false
   },
   "outputs": [
    {
     "data": {
      "text/plain": [
       "1"
      ]
     },
     "execution_count": 66,
     "metadata": {},
     "output_type": "execute_result"
    }
   ],
   "source": [
    "data.Sentiment[data.SentenceId == 1][0]"
   ]
  },
  {
   "cell_type": "markdown",
   "metadata": {},
   "source": [
    "Interestingly enough the sentiment of the sentence as a whole is much lower than the mean sentiment of all of the phrases. "
   ]
  },
  {
   "cell_type": "code",
   "execution_count": 67,
   "metadata": {
    "collapsed": false
   },
   "outputs": [],
   "source": [
    "sentenceIds = list(set(data.SentenceId))"
   ]
  },
  {
   "cell_type": "code",
   "execution_count": 68,
   "metadata": {
    "collapsed": false
   },
   "outputs": [],
   "source": [
    "sentenceSentiments = []\n",
    "phraseMeans = []\n",
    "for i in sentenceIds: \n",
    "    phraseSents = data.Sentiment[data.PhraseId[data.SentenceId == i]]\n",
    "#     print phraseSents[0: len(phraseSents)]\n",
    "    mean = phraseSents[2:len(phraseSents)].mean(); \n",
    "    phraseMeans.append(mean)\n",
    "\n",
    "#     print data[data.PhraseId == 156039]\n",
    "    sentenceSentiments.append(data.Sentiment[data.SentenceId == i].iloc[0])\n",
    "#     data.Sentiment[data.SentenceId == i].iloc[0]"
   ]
  },
  {
   "cell_type": "code",
   "execution_count": 71,
   "metadata": {
    "collapsed": false
   },
   "outputs": [
    {
     "data": {
      "image/png": "[encoded data removed]",
      "text/plain": [
       "<matplotlib.figure.Figure at 0x7f09374a6510>"
      ]
     },
     "metadata": {},
     "output_type": "display_data"
    },
    {
     "data": {
      "text/plain": [
       "<matplotlib.figure.Figure at 0x7f09373e8390>"
      ]
     },
     "metadata": {},
     "output_type": "display_data"
    }
   ],
   "source": [
    "thinkplot.Scatter(sentenceSentiments, phraseMeans)\n",
    "thinkplot.Show(xlabel = 'sentiment of sentence', ylabel = 'mean of all phrase sentiments')"
   ]
  },
  {
   "cell_type": "code",
   "execution_count": 82,
   "metadata": {
    "collapsed": false
   },
   "outputs": [
    {
     "name": "stdout",
     "output_type": "stream",
     "text": [
      "63           2\n",
      "66           2\n",
      "74           2\n",
      "77           2\n",
      "117          4\n",
      "118          4\n",
      "123          4\n",
      "166          6\n",
      "172          6\n",
      "176          6\n",
      "180          6\n",
      "182          6\n",
      "183          6\n",
      "280         11\n",
      "303         11\n",
      "352         13\n",
      "355         13\n",
      "358         13\n",
      "362         13\n",
      "384         14\n",
      "419         15\n",
      "444         16\n",
      "445         16\n",
      "449         16\n",
      "452         16\n",
      "454         16\n",
      "480         18\n",
      "497         18\n",
      "499         18\n",
      "551         21\n",
      "          ... \n",
      "155333    8502\n",
      "155367    8503\n",
      "155395    8505\n",
      "155397    8505\n",
      "155527    8513\n",
      "155529    8513\n",
      "155530    8513\n",
      "155570    8515\n",
      "155571    8515\n",
      "155593    8516\n",
      "155594    8516\n",
      "155596    8516\n",
      "155597    8516\n",
      "155598    8516\n",
      "155669    8520\n",
      "155676    8520\n",
      "155694    8521\n",
      "155696    8521\n",
      "155699    8522\n",
      "155700    8522\n",
      "155701    8522\n",
      "155705    8523\n",
      "155785    8527\n",
      "155803    8528\n",
      "155808    8528\n",
      "155946    8537\n",
      "155955    8538\n",
      "155961    8538\n",
      "156007    8541\n",
      "156010    8541\n",
      "Name: SentenceId, dtype: int64\n",
      "[8193, 2, 4, 6, 8200, 8201, 11, 13, 14, 15, 16, 18, 21, 8214, 8215, 8217, 26, 8219, 8220, 30, 8224, 33, 8226, 35, 37, 40, 43, 8237, 46, 47, 49, 50, 8243, 8245, 55, 56, 8249, 8250, 60, 8253, 8254, 65, 67, 8261, 70, 72, 8266, 79, 80, 81, 84, 85, 87, 88, 8283, 92, 93, 8287, 96, 99, 8293, 102, 8295, 8297, 107, 8300, 109, 110, 114, 117, 118, 119, 120, 121, 124, 125, 126, 127, 129, 130, 132, 8325, 136, 137, 138, 140, 142, 8337, 147, 8342, 151, 8345, 8347, 156, 8349, 8351, 160, 162, 164, 165, 168, 170, 8364, 8365, 174, 177, 8370, 179, 8373, 182, 183, 184, 191, 8384, 198, 199, 202, 204, 206, 207, 208, 8402, 213, 218, 8411, 8412, 8414, 8229, 8417, 8418, 229, 8424, 8426, 8427, 236, 237, 238, 239, 241, 243, 244, 245, 246, 248, 8441, 251, 8446, 255, 8450, 259, 260, 261, 263, 8456, 269, 270, 271, 272, 274, 8468, 8238, 281, 8474, 285, 286, 288, 289, 8482, 8485, 294, 8488, 297, 298, 8492, 8242, 302, 304, 309, 310, 8503, 313, 317, 318, 321, 8515, 8516, 325, 8520, 8521, 8522, 8247, 332, 334, 8527, 336, 339, 342, 345, 8538, 8541, 354, 360, 366, 368, 369, 372, 374, 375, 376, 377, 380, 381, 385, 387, 388, 394, 395, 400, 403, 405, 408, 410, 415, 417, 418, 421, 422, 426, 428, 429, 431, 433, 435, 438, 444, 446, 454, 457, 463, 467, 470, 472, 473, 474, 479, 480, 8272, 8273, 489, 490, 493, 495, 497, 498, 501, 8203, 504, 8276, 506, 507, 508, 509, 515, 516, 517, 519, 520, 522, 523, 528, 530, 532, 544, 550, 551, 553, 555, 559, 560, 564, 565, 566, 567, 568, 570, 571, 572, 576, 8288, 578, 579, 580, 584, 586, 590, 592, 594, 595, 596, 597, 600, 602, 603, 610, 611, 617, 620, 622, 623, 626, 629, 630, 631, 633, 635, 636, 637, 642, 643, 645, 646, 648, 651, 652, 654, 657, 663, 664, 672, 673, 675, 676, 677, 678, 679, 680, 681, 683, 685, 691, 692, 694, 696, 697, 698, 700, 702, 703, 704, 705, 706, 707, 709, 711, 713, 8311, 717, 720, 722, 723, 724, 726, 733, 735, 8316, 746, 751, 753, 755, 8318, 760, 761, 762, 763, 764, 765, 772, 773, 775, 780, 783, 786, 787, 789, 790, 791, 793, 795, 797, 800, 802, 803, 805, 811, 812, 817, 819, 826, 833, 834, 836, 839, 841, 844, 845, 848, 851, 857, 866, 868, 870, 872, 875, 878, 882, 884, 885, 886, 887, 888, 891, 896, 898, 907, 910, 911, 914, 915, 916, 919, 921, 923, 926, 931, 932, 936, 8348, 939, 943, 945, 947, 949, 950, 955, 959, 961, 963, 966, 968, 970, 972, 977, 978, 980, 983, 984, 990, 8357, 995, 998, 8299, 1004, 1018, 8490, 1020, 1021, 1024, 1026, 1030, 1032, 1037, 1039, 1046, 1052, 1056, 1059, 1060, 1064, 1072, 1073, 8371, 1076, 1077, 1085, 1086, 1088, 1089, 1095, 1097, 1103, 1106, 1107, 8493, 1111, 1113, 1114, 1116, 1117, 1124, 1125, 1126, 1128, 1129, 1131, 1132, 1133, 1139, 1149, 1152, 1159, 1164, 1167, 1168, 1169, 1174, 1175, 1176, 1178, 1180, 1185, 1188, 8390, 1197, 1198, 8464, 1201, 1203, 1204, 1209, 1211, 1215, 1216, 1217, 1219, 1224, 1227, 1231, 1232, 1234, 1238, 1241, 1242, 1243, 1244, 1245, 1246, 1247, 1249, 1253, 1260, 1262, 1263, 1265, 1266, 1267, 1270, 1271, 1272, 1274, 1283, 1287, 1289, 1291, 1292, 1294, 1296, 1297, 1298, 1303, 1305, 1307, 1308, 8410, 1310, 1312, 1314, 1324, 1325, 1326, 1327, 1329, 1337, 8415, 1348, 1351, 1353, 1354, 1356, 1359, 1364, 1365, 1370, 1374, 1380, 1381, 1383, 1385, 1387, 1390, 1391, 1392, 1394, 1397, 1398, 1399, 1400, 1405, 1407, 1408, 1410, 1413, 1414, 1417, 1420, 1421, 1423, 1425, 1428, 1434, 1435, 1436, 1446, 1447, 1451, 1455, 1456, 1460, 8232, 1468, 1469, 1472, 8438, 1480, 1481, 1483, 1485, 1487, 1488, 1489, 1492, 1497, 1500, 1504, 1507, 1511, 1512, 1513, 1514, 1516, 1517, 1518, 1519, 1520, 1522, 1523, 1527, 1528, 1529, 1530, 8447, 1534, 1536, 1538, 1542, 1546, 1547, 1553, 1554, 1556, 1557, 1558, 1559, 8452, 1562, 1563, 1566, 1567, 1573, 1574, 1577, 1578, 1580, 1581, 1583, 1585, 1587, 1591, 1596, 1606, 1610, 1611, 1613, 1617, 1624, 1626, 1629, 1630, 1633, 1634, 1636, 1637, 1639, 1640, 1641, 1643, 1644, 8466, 1647, 1650, 1651, 1655, 1658, 1659, 8469, 1664, 1667, 1668, 1670, 1671, 1678, 1680, 1683, 1684, 1687, 1689, 1691, 1693, 1697, 1698, 1699, 1700, 1701, 1702, 1704, 1707, 1709, 8513, 1712, 1716, 1723, 1724, 1725, 1726, 1727, 1731, 1733, 1734, 1735, 1744, 1746, 1748, 1749, 1750, 1751, 1753, 1756, 1758, 1761, 1762, 1766, 1768, 1769, 1770, 1772, 1773, 1776, 1777, 1778, 1781, 8489, 1785, 1786, 1789, 1792, 1796, 1798, 1800, 1805, 1807, 1809, 1810, 1813, 1814, 1817, 1820, 1821, 1833, 1834, 1835, 1838, 1840, 1849, 1850, 1851, 1854, 8501, 8502, 1862, 1865, 1867, 1872, 1873, 1877, 8505, 1880, 1886, 1888, 1893, 1896, 1898, 1899, 1901, 1903, 1905, 1909, 1912, 1918, 1920, 1921, 1924, 1927, 1929, 1930, 1933, 1936, 1938, 1939, 1942, 1943, 1944, 1945, 1947, 1948, 1956, 1958, 1960, 1964, 1966, 1967, 1970, 1974, 1976, 8523, 1988, 1989, 1990, 1992, 2000, 2003, 2005, 2012, 2013, 2015, 8528, 2018, 2021, 2024, 2025, 2026, 2027, 2038, 2040, 2041, 2044, 2045, 2047, 2049, 2050, 2053, 2054, 2064, 2065, 2066, 2067, 2071, 2073, 2076, 2082, 2084, 2086, 2088, 2089, 2092, 2093, 2099, 2100, 2106, 2110, 2112, 2113, 2115, 2117, 2125, 2127, 2129, 2130, 2131, 2132, 2133, 2140, 2142, 2144, 2148, 2154, 2156, 2158, 2162, 2167, 2168, 2171, 2176, 2178, 2180, 2181, 2186, 2189, 2190, 2195, 2198, 2199, 2201, 2202, 2203, 2205, 2206, 2208, 2210, 2212, 2214, 2215, 2217, 2220, 2221, 2223, 2227, 2232, 2235, 2236, 2248, 2249, 2251, 2254, 2255, 2256, 2257, 2262, 2265, 2266, 2268, 2269, 2270, 2272, 2276, 2278, 2279, 2284, 2285, 2290, 2292, 2293, 2296, 2298, 2302, 2303, 2304, 2308, 2313, 2314, 2315, 2317, 2319, 2321, 2323, 2326, 2330, 2331, 2335, 2338, 2339, 2343, 2344, 2348, 2355, 2357, 2366, 2369, 2375, 2378, 2379, 2383, 2386, 2390, 2395, 2398, 2399, 2401, 2402, 2404, 2406, 2407, 2414, 2420, 2421, 2423, 2426, 2427, 2428, 8537, 2434, 2436, 2441, 2442, 2444, 2450, 2454, 2456, 2464, 2469, 2471, 2475, 2478, 2479, 2481, 2484, 2487, 2488, 2489, 2490, 2493, 2494, 2500, 2503, 2504, 2509, 2514, 2520, 2526, 2528, 2531, 2534, 2535, 2536, 2538, 2544, 2545, 2547, 2548, 8473, 2553, 2554, 2557, 2559, 2560, 2562, 2563, 2565, 2571, 2573, 2574, 2580, 2587, 2589, 2592, 2593, 2595, 2596, 2600, 2601, 2606, 2609, 2610, 2611, 2613, 2615, 2618, 2620, 2625, 2629, 2630, 2632, 2635, 2637, 2641, 2642, 2644, 2646, 2647, 2648, 2649, 2651, 2652, 2654, 2655, 2657, 2668, 2669, 2676, 2679, 2683, 2684, 2688, 2690, 2691, 2693, 2695, 2698, 2700, 2701, 2703, 2704, 2707, 2710, 2714, 2717, 2719, 2720, 2728, 2731, 2734, 2739, 2740, 2744, 2749, 2752, 2754, 2755, 2764, 2766, 2768, 2771, 2773, 2775, 2780, 2781, 2784, 2789, 2791, 2793, 2794, 2799, 2800, 2804, 2810, 2815, 2820, 2822, 2826, 2827, 2840, 2843, 2844, 2845, 2847, 2852, 2853, 2858, 2859, 2866, 2867, 2871, 2873, 8279, 2877, 2879, 2883, 2885, 2886, 2888, 2889, 2894, 2895, 2896, 2898, 2902, 2904, 2906, 2907, 2910, 2915, 2916, 2919, 2921, 2924, 2932, 2937, 2938, 2939, 2940, 2942, 2943, 2945, 2949, 2950, 2951, 2953, 2954, 2960, 2963, 2964, 2965, 2966, 2969, 2971, 2972, 2974, 2980, 2981, 2982, 2983, 2986, 2989, 2991, 2992, 2993, 2996, 2997, 2998, 3000, 3014, 3015, 3017, 3018, 3019, 3021, 3023, 8284, 3026, 3027, 3028, 3029, 3030, 3036, 3037, 3038, 3039, 3040, 3044, 3052, 3053, 3055, 3058, 3060, 3062, 3064, 3068, 3070, 3071, 3072, 3073, 3074, 3075, 3077, 3083, 3085, 3086, 3087, 3088, 3090, 3091, 3094, 3095, 3098, 3100, 3104, 3106, 3107, 3109, 3110, 3112, 3115, 3122, 3125, 3130, 3135, 3137, 3138, 3140, 3143, 3144, 3148, 3151, 3152, 3154, 3156, 3158, 3162, 3164, 3165, 3166, 3167, 3172, 3175, 3176, 3177, 3179, 3180, 3181, 3182, 3183, 3185, 3187, 3188, 3191, 3192, 3193, 3194, 3197, 3198, 3200, 3202, 3203, 3204, 3210, 3212, 3214, 3215, 3216, 3222, 3224, 3227, 3230, 3231, 8291, 3237, 3242, 3244, 3247, 3250, 3252, 3253, 3254, 3255, 3259, 3261, 3262, 3264, 3267, 3268, 3269, 3271, 3277, 3278, 3281, 3283, 3288, 3296, 3297, 3299, 3303, 3313, 3320, 3332, 3334, 3336, 3339, 3340, 3343, 3347, 3348, 3349, 3352, 3353, 3359, 3363, 3368, 3369, 3370, 3378, 3387, 3388, 3391, 3392, 3396, 3397, 3398, 3400, 3404, 3410, 3412, 3415, 3416, 3417, 3429, 3432, 3433, 3434, 3435, 3436, 3437, 3444, 3447, 3448, 3452, 3456, 3462, 3465, 3466, 3470, 3475, 3476, 3479, 3482, 3484, 3485, 3489, 3491, 3493, 3496, 3497, 3502, 3503, 3507, 3508, 3510, 3513, 3517, 3520, 3524, 3526, 3527, 3529, 3532, 3533, 3539, 3541, 3545, 3554, 3566, 3569, 3570, 3574, 3578, 3579, 3584, 3586, 3589, 3593, 3594, 3596, 3597, 3598, 3600, 3601, 3602, 3603, 3605, 3610, 3614, 3615, 3620, 3623, 3624, 3626, 3628, 3631, 3632, 3633, 3635, 3639, 3642, 3645, 3647, 3651, 3652, 3656, 3659, 3660, 3661, 3665, 3669, 3671, 3672, 3675, 3676, 3677, 3679, 3683, 3684, 3686, 3687, 3688, 3693, 3694, 3697, 3698, 8317, 3701, 3703, 3705, 3706, 3707, 3708, 3716, 3717, 3720, 3721, 3722, 3725, 3726, 3727, 3730, 3731, 3734, 3738, 3742, 3748, 3753, 3754, 3755, 3758, 3760, 3762, 3763, 3765, 3770, 3771, 3777, 3778, 3779, 3781, 3782, 3783, 3784, 3786, 3788, 3793, 8310, 3807, 3814, 3815, 3816, 3817, 3820, 3825, 3827, 3828, 3833, 3834, 3836, 3837, 3838, 3841, 3847, 3848, 3849, 3852, 3853, 3855, 3860, 3861, 3862, 3865, 3867, 3870, 3871, 3874, 3875, 3877, 3885, 3887, 3890, 3891, 3903, 3906, 3907, 3908, 3913, 3923, 3924, 3926, 3932, 3937, 3939, 3940, 3941, 3942, 3943, 3945, 3949, 3952, 3955, 3957, 3958, 3960, 3961, 3963, 3966, 3969, 3972, 3976, 3978, 3980, 3982, 3983, 3987, 3991, 3992, 3993, 3995, 3997, 4000, 4003, 4004, 4005, 4006, 4009, 4010, 4014, 4015, 4017, 4018, 8210, 4022, 4024, 4027, 4029, 4036, 4037, 4041, 4045, 4046, 4049, 4056, 4061, 4065, 4069, 4070, 4072, 4073, 4075, 4076, 4077, 4079, 4082, 4086, 4088, 4089, 4090, 4094, 4095, 4096, 4104, 4105, 4106, 4110, 4114, 4115, 4117, 4120, 4121, 4131, 4137, 4138, 4139, 4143, 4145, 4146, 4147, 4148, 4149, 4153, 4158, 4159, 4162, 4163, 4164, 4165, 4179, 4180, 4181, 4184, 4187, 4188, 4189, 4193, 4194, 4199, 4201, 4203, 4204, 4208, 4211, 4216, 4217, 4225, 8324, 4229, 4232, 4233, 4235, 4239, 4240, 4247, 4248, 4249, 4257, 4259, 4260, 4261, 4263, 4264, 4267, 4268, 4278, 4279, 4280, 4283, 4284, 4291, 4296, 4301, 4302, 4304, 4309, 4310, 4311, 4313, 4316, 4319, 4326, 4329, 4336, 4338, 4339, 4342, 4343, 4344, 8328, 4347, 4351, 4353, 4354, 4355, 4357, 4358, 4361, 4363, 4366, 4368, 4373, 4380, 4383, 4388, 4390, 4392, 4396, 4398, 4399, 4401, 4402, 4403, 4407, 4408, 4410, 4411, 4413, 4414, 4420, 4421, 4424, 4429, 4432, 4434, 4439, 4442, 4446, 4447, 4449, 4451, 4455, 4456, 4459, 4465, 4467, 4468, 4471, 4473, 4475, 4476, 4480, 4485, 4486, 4493, 4494, 4497, 4498, 4499, 4501, 4503, 4505, 4506, 4507, 4511, 4513, 4515, 4519, 4522, 4529, 4532, 4534, 4539, 4540, 4543, 4545, 4546, 4551, 4556, 4559, 4560, 4561, 4563, 4565, 4566, 4567, 4572, 4578, 4587, 4588, 4590, 4591, 4595, 4598, 4599, 4600, 4601, 4603, 4607, 4608, 4611, 4612, 4613, 4616, 4619, 4620, 4621, 4625, 4626, 4632, 4633, 4635, 4636, 4637, 4639, 4641, 4648, 4659, 4663, 4666, 4670, 4672, 4674, 4675, 4689, 4694, 4698, 4700, 4701, 4709, 4710, 4711, 4713, 4716, 4720, 4723, 4724, 4725, 4728, 4731, 4732, 4736, 4737, 4740, 4744, 4751, 4753, 4757, 4762, 4763, 4765, 4766, 4769, 4770, 4771, 4777, 4779, 4781, 4783, 4788, 4789, 4792, 4793, 4797, 4798, 4799, 4801, 4803, 4804, 4806, 4807, 4811, 4812, 4818, 4826, 4827, 4830, 4831, 4834, 4835, 4836, 4841, 4842, 4850, 4862, 4864, 4868, 4872, 4874, 4875, 4878, 4879, 4880, 4884, 4887, 4890, 4891, 4893, 4899, 4902, 4904, 4905, 4907, 4909, 4917, 4918, 4919, 4920, 4921, 4929, 4933, 4938, 4944, 4945, 4949, 4955, 4956, 4966, 4968, 4969, 4975, 4981, 4984, 4989, 4990, 4991, 4994, 4995, 4999, 5001, 5002, 5003, 5004, 5005, 5007, 5009, 5013, 5014, 5018, 5022, 5023, 5024, 5027, 5030, 5031, 5032, 5039, 5057, 5060, 5062, 5063, 5064, 5068, 5071, 5074, 5080, 5083, 5085, 5087, 5088, 5089, 5093, 5096, 5099, 5101, 5105, 5108, 5114, 5117, 5119, 5125, 5127, 5128, 5133, 5143, 5149, 5159, 5161, 5163, 5164, 5165, 5166, 5167, 5168, 5171, 5173, 5178, 5180, 5184, 5186, 5195, 5198, 5204, 5205, 5209, 5211, 5212, 5213, 5218, 5219, 5221, 5226, 5227, 5230, 5232, 5235, 5236, 5237, 5239, 5242, 5247, 5249, 5250, 5255, 5256, 5257, 5258, 5259, 5263, 5265, 5266, 5267, 5268, 5270, 5272, 5274, 5278, 5283, 5291, 5293, 5296, 5301, 5305, 5306, 5311, 5320, 5324, 5325, 5328, 5332, 5335, 5336, 5341, 5342, 5345, 5346, 5352, 5361, 5367, 5374, 5378, 5380, 5384, 5386, 5392, 5393, 5394, 5396, 5398, 5402, 5406, 5407, 5412, 5414, 5416, 5417, 5418, 5421, 5422, 5424, 5430, 5431, 5433, 5434, 5436, 5439, 5440, 5443, 5444, 5446, 5447, 5450, 5451, 5454, 5456, 5459, 5460, 5462, 5467, 5468, 5469, 5474, 5477, 5481, 5482, 5487, 5496, 5500, 5501, 5504, 5506, 5507, 5508, 5509, 5512, 5513, 5520, 5521, 5530, 5531, 5536, 5537, 5542, 5545, 5547, 5550, 5552, 5553, 5556, 5557, 5558, 5562, 5566, 5567, 5574, 5578, 5582, 5585, 5587, 5591, 5592, 5594, 5598, 5603, 5605, 5608, 5613, 5615, 5623, 5625, 5626, 5634, 5637, 5639, 5640, 5641, 5648, 5649, 5650, 5652, 5655, 5656, 5657, 5658, 5660, 5661, 5662, 5664, 5665, 5669, 5670, 5671, 5673, 5674, 5675, 5676, 5677, 5678, 5679, 5682, 5683, 5687, 5688, 5689, 5690, 5692, 5694, 5697, 5701, 5703, 8494, 5706, 5709, 5711, 5713, 5715, 5716, 5723, 5725, 5732, 5733, 5734, 5735, 5736, 5737, 5738, 5739, 5740, 5743, 5749, 5750, 5752, 5754, 5760, 5763, 5766, 5767, 5787, 5788, 5791, 5793, 5796, 5799, 5807, 5810, 5814, 5820, 5822, 5825, 5828, 5829, 5833, 5836, 5838, 5839, 5845, 5847, 5849, 5850, 5853, 5855, 5858, 5859, 5866, 5869, 5871, 5872, 5873, 5874, 5880, 5882, 5884, 5886, 5888, 5893, 5895, 5897, 5899, 5902, 5904, 5908, 5912, 5914, 5921, 5924, 5926, 5929, 5930, 5936, 5941, 5943, 5946, 5951, 5952, 5954, 5955, 5958, 5959, 5961, 5962, 5969, 5970, 5977, 5982, 5986, 5998, 6000, 6005, 6011, 6012, 6014, 6016, 6018, 6021, 6025, 6028, 6029, 6034, 6038, 6039, 6042, 6046, 6048, 6056, 6057, 6059, 6060, 6067, 6072, 6076, 6081, 6082, 6085, 6086, 6089, 6091, 6092, 6095, 6102, 6107, 6113, 6121, 6122, 6125, 6126, 6128, 6131, 6132, 6141, 6142, 6144, 6148, 6149, 6152, 6155, 6159, 6161, 6162, 6163, 6164, 6166, 6167, 6169, 6171, 6176, 6178, 6180, 6182, 6185, 6186, 6192, 6193, 6194, 6195, 6196, 6204, 6208, 6216, 6217, 6219, 6222, 6225, 6228, 6230, 6232, 6234, 6235, 6239, 6242, 6244, 6246, 6247, 6248, 6249, 6251, 6253, 6254, 6257, 6258, 6259, 6260, 6264, 6268, 6271, 6273, 8225, 6275, 6280, 6285, 6286, 6287, 6289, 6293, 6294, 6297, 6298, 6299, 6300, 6303, 6304, 6305, 6306, 6307, 6308, 6313, 6318, 6319, 6326, 6327, 6328, 6329, 6330, 6331, 6333, 6334, 6339, 6340, 6344, 6345, 6347, 6348, 6349, 6351, 6352, 6354, 6357, 6362, 6363, 6364, 6368, 6373, 6375, 6377, 6381, 6385, 6386, 6388, 6389, 6390, 6391, 6393, 6394, 6406, 6408, 6412, 6413, 6415, 6422, 6423, 6424, 6425, 6427, 6428, 6432, 6433, 6439, 6440, 6441, 6444, 6446, 6449, 6451, 6453, 6454, 6457, 6458, 6462, 6469, 6471, 6472, 6476, 6477, 6478, 6479, 6481, 6483, 6484, 6491, 6494, 6499, 6502, 6504, 6507, 6509, 6517, 6521, 6523, 6524, 6525, 6540, 6541, 6543, 6544, 6546, 6550, 6551, 6553, 6555, 6557, 6558, 6560, 6562, 6564, 6574, 6575, 6577, 6581, 6585, 6586, 6587, 6588, 6592, 6593, 6604, 6608, 6609, 6611, 6612, 6616, 6618, 6619, 6620, 6623, 6625, 6626, 6632, 6638, 6641, 6643, 6646, 6650, 6654, 6655, 6658, 6659, 6665, 6667, 6668, 6674, 6676, 6681, 6684, 6685, 6687, 6689, 6692, 6704, 6705, 6706, 6707, 6708, 6711, 6715, 6716, 6717, 6723, 6731, 6737, 6739, 6745, 6748, 6750, 6752, 6756, 6760, 6761, 6762, 6768, 6771, 6772, 6775, 6776, 6779, 6780, 6782, 6786, 6790, 6793, 6795, 6797, 6799, 6801, 6803, 6806, 6808, 6810, 6811, 6813, 6814, 6817, 6818, 6820, 6823, 6824, 6825, 6828, 6830, 6831, 6836, 6837, 6838, 6839, 6840, 6842, 6845, 6846, 6852, 6853, 6855, 6856, 6863, 6865, 6866, 6869, 6873, 6874, 6875, 6876, 6877, 6880, 6881, 6883, 6889, 6897, 6898, 6900, 6901, 6903, 6906, 6908, 6911, 6912, 6913, 6915, 6916, 6918, 6923, 6924, 6929, 6931, 6934, 6937, 6939, 6940, 6947, 6949, 6957, 6961, 6964, 6965, 6966, 6967, 6968, 6974, 6977, 6979, 6980, 6981, 6984, 6987, 6989, 6993, 6994, 6996, 6997, 7002, 7007, 7012, 7016, 7017, 7021, 7024, 7026, 7028, 7032, 7036, 7038, 7039, 7043, 7048, 7049, 7059, 7065, 7068, 7069, 7075, 7076, 7079, 7082, 7087, 7089, 7094, 7101, 7102, 7111, 7116, 7122, 7123, 7124, 7129, 7133, 7138, 7139, 7142, 7144, 7146, 7147, 7148, 7149, 7150, 7151, 7153, 7158, 7160, 7161, 7162, 7164, 7168, 7172, 7178, 7179, 7185, 7186, 7187, 7188, 7193, 7194, 7195, 7196, 7197, 7198, 7201, 7202, 7204, 7205, 7206, 7207, 7208, 7210, 7211, 7212, 7215, 7216, 7222, 7225, 7228, 7233, 7234, 7237, 7243, 7244, 7245, 7246, 7250, 7257, 7261, 7262, 7272, 7275, 7276, 7278, 7281, 7283, 7286, 7287, 7299, 7306, 7307, 7308, 7310, 7311, 7312, 7314, 7321, 7326, 7327, 7334, 7335, 7336, 7338, 7340, 7341, 7343, 7344, 7349, 7350, 7351, 7354, 7355, 7356, 7359, 7360, 7363, 7366, 7368, 7369, 7371, 7374, 7375, 7376, 8429, 7381, 7389, 7394, 7399, 7403, 7406, 7407, 7408, 7413, 7414, 7419, 7420, 7422, 7426, 7429, 7435, 7437, 7438, 7439, 7441, 7448, 7449, 7450, 7456, 7458, 7460, 7462, 7465, 7466, 7467, 7470, 7471, 7476, 7477, 7478, 7479, 7481, 7483, 7485, 7490, 7491, 7494, 7496, 7499, 7501, 7506, 7509, 7512, 7515, 7517, 7518, 7522, 7529, 7532, 7534, 7538, 7544, 7546, 7548, 7550, 7551, 7552, 7554, 7555, 7557, 7559, 7560, 7561, 7562, 7566, 7567, 7569, 7573, 7576, 7578, 7579, 7584, 7585, 7587, 7588, 7589, 7590, 7595, 7596, 7597, 7599, 7602, 7604, 7608, 7609, 7610, 7612, 7613, 7614, 7616, 7617, 7620, 7621, 7622, 7623, 7624, 7627, 7629, 7630, 7637, 7640, 7641, 7643, 7644, 7648, 7651, 7653, 7655, 7659, 7661, 7662, 7668, 7669, 7670, 7671, 7680, 7685, 7687, 7691, 7692, 7696, 7703, 7705, 7709, 7711, 7712, 7713, 7717, 7718, 7719, 7723, 7724, 7726, 7728, 7730, 7735, 7737, 7738, 7742, 7745, 7746, 7747, 7748, 7754, 7757, 7760, 7761, 7762, 7764, 7770, 7771, 7773, 7774, 7776, 7777, 7781, 7783, 7787, 7788, 7789, 7795, 7801, 7804, 7816, 7820, 7827, 7831, 7832, 7834, 7835, 7837, 7838, 7844, 7845, 7850, 7852, 7853, 7857, 7860, 7862, 7864, 7865, 7867, 7870, 7871, 7875, 7881, 7882, 7883, 7885, 7891, 7892, 7893, 7897, 7898, 7899, 7901, 7909, 7912, 7913, 7916, 7918, 7926, 7927, 7928, 7930, 7931, 7932, 7934, 7935, 7941, 7942, 7943, 7945, 7947, 7948, 7949, 7950, 7958, 7972, 7976, 7981, 7982, 7986, 7987, 7988, 7989, 7990, 7993, 7999, 8002, 8004, 8007, 8010, 8014, 8015, 8016, 8018, 8022, 8030, 8033, 8034, 8037, 8039, 8042, 8043, 8049, 8052, 8053, 8054, 8055, 8058, 8060, 8061, 8064, 8067, 8069, 8071, 8075, 8078, 8081, 8083, 8087, 8088, 8092, 8093, 8095, 8098, 8099, 8453, 8102, 8111, 8112, 8115, 8120, 8125, 8131, 8132, 8136, 8137, 8141, 8142, 8143, 8150, 8152, 8154, 8160, 8165, 8166, 8167, 8173, 8179, 8180, 8181, 8184, 8185, 8188, 8189, 8190]\n"
     ]
    },
    {
     "ename": "NameError",
     "evalue": "name 'meh' is not defined",
     "output_type": "error",
     "traceback": [
      "\u001b[1;31m---------------------------------------------------------------------------\u001b[0m",
      "\u001b[1;31mNameError\u001b[0m                                 Traceback (most recent call last)",
      "\u001b[1;32m<ipython-input-82-471cbff10e7d>\u001b[0m in \u001b[0;36m<module>\u001b[1;34m()\u001b[0m\n\u001b[0;32m      5\u001b[0m \u001b[0mpositive_phrases\u001b[0m \u001b[1;33m=\u001b[0m \u001b[1;33m[\u001b[0m\u001b[1;33m]\u001b[0m\u001b[1;33m\u001b[0m\u001b[0m\n\u001b[0;32m      6\u001b[0m \u001b[1;32mfor\u001b[0m \u001b[0mid\u001b[0m \u001b[1;32min\u001b[0m \u001b[0msids\u001b[0m\u001b[1;33m:\u001b[0m\u001b[1;33m\u001b[0m\u001b[0m\n\u001b[1;32m----> 7\u001b[1;33m     \u001b[1;32mprint\u001b[0m \u001b[0mmeh\u001b[0m\u001b[1;33m\u001b[0m\u001b[0m\n\u001b[0m\u001b[0;32m      8\u001b[0m \u001b[1;31m#     print(data.Phrase[data.SentenceId == id].iloc[0])\u001b[0m\u001b[1;33m\u001b[0m\u001b[1;33m\u001b[0m\u001b[0m\n",
      "\u001b[1;31mNameError\u001b[0m: name 'meh' is not defined"
     ]
    }
   ],
   "source": [
    "sids = data.SentenceId[data.Sentiment ==4]\n",
    "print sids\n",
    "sids = list(set(sids))\n",
    "print sids\n",
    "positive_phrases = []\n",
    "for id in sids: \n",
    "#     print meh\n",
    "    print(data.Phrase[data.SentenceId == id].iloc[0])"
   ]
  },
  {
   "cell_type": "code",
   "execution_count": 75,
   "metadata": {
    "collapsed": false
   },
   "outputs": [
    {
     "ename": "NameError",
     "evalue": "name 'p_data' is not defined",
     "output_type": "error",
     "traceback": [
      "\u001b[1;31m---------------------------------------------------------------------------\u001b[0m",
      "\u001b[1;31mNameError\u001b[0m                                 Traceback (most recent call last)",
      "\u001b[1;32m<ipython-input-75-f113f5364e56>\u001b[0m in \u001b[0;36m<module>\u001b[1;34m()\u001b[0m\n\u001b[0;32m      1\u001b[0m \u001b[0msids\u001b[0m \u001b[1;33m=\u001b[0m \u001b[0mdata\u001b[0m\u001b[1;33m.\u001b[0m\u001b[0mSentenceId\u001b[0m\u001b[1;33m[\u001b[0m\u001b[0mdata\u001b[0m\u001b[1;33m.\u001b[0m\u001b[0mSentiment\u001b[0m \u001b[1;33m==\u001b[0m\u001b[1;36m4\u001b[0m\u001b[1;33m]\u001b[0m\u001b[1;33m\u001b[0m\u001b[0m\n\u001b[0;32m      2\u001b[0m \u001b[1;32mfor\u001b[0m \u001b[0mid\u001b[0m \u001b[1;32min\u001b[0m \u001b[0msids\u001b[0m\u001b[1;33m:\u001b[0m\u001b[1;33m\u001b[0m\u001b[0m\n\u001b[1;32m----> 3\u001b[1;33m     \u001b[0mp_data\u001b[0m\u001b[1;33m.\u001b[0m\u001b[0mPhrase\u001b[0m\u001b[1;33m[\u001b[0m\u001b[0mdata\u001b[0m\u001b[1;33m.\u001b[0m\u001b[0mSentenceId\u001b[0m \u001b[1;33m==\u001b[0m \u001b[0mid\u001b[0m\u001b[1;33m]\u001b[0m\u001b[1;33m\u001b[0m\u001b[0m\n\u001b[0m\u001b[0;32m      4\u001b[0m \u001b[1;33m\u001b[0m\u001b[0m\n",
      "\u001b[1;31mNameError\u001b[0m: name 'p_data' is not defined"
     ]
    }
   ],
   "source": [
    "sids = data.SentenceId[data.Sentiment ==4]\n",
    "for id in sids: \n",
    "    p_data.Phrase[data.SentenceId == id]\n",
    "    "
   ]
  },
  {
   "cell_type": "code",
   "execution_count": null,
   "metadata": {
    "collapsed": false
   },
   "outputs": [],
   "source": [
    "p_words = {}\n",
    "phrases = data.SentenceId[data.Phrase[data.Sentiment ==4]]\n",
    "for phrase in phrases:\n",
    "#     print(phrase)\n",
    "    all_info = phrase.split()\n",
    "    for word in all_info: \n",
    "#         print(word)\n",
    "        if(word not in p_words): \n",
    "            p_words[word] = 1\n",
    "        else: \n",
    "            p_words[word] += 1"
   ]
  },
  {
   "cell_type": "code",
   "execution_count": null,
   "metadata": {
    "collapsed": false
   },
   "outputs": [],
   "source": [
    "p_words"
   ]
  },
  {
   "cell_type": "code",
   "execution_count": null,
   "metadata": {
    "collapsed": false
   },
   "outputs": [],
   "source": [
    "xs = np.arange(0, len(p_words), 1)\n",
    "thinkplot.plot(xs, p_words.values())\n",
    "thinkplot.show(xlabel = 'word', ylabel = 'frequency used', title = 'most popular words for high sentiment words')"
   ]
  },
  {
   "cell_type": "markdown",
   "metadata": {},
   "source": [
    "What is the most widely used word, what is word 4000? "
   ]
  },
  {
   "cell_type": "code",
   "execution_count": null,
   "metadata": {
    "collapsed": false
   },
   "outputs": [],
   "source": [
    "for word in p_words: \n",
    "    print(word, p_words[word])"
   ]
  },
  {
   "cell_type": "code",
   "execution_count": null,
   "metadata": {
    "collapsed": false
   },
   "outputs": [],
   "source": [
    "for w in sorted(p_words, key=p_words.get, reverse=True):\n",
    "    print (w, p_words[w])"
   ]
  },
  {
   "cell_type": "markdown",
   "metadata": {},
   "source": [
    "As is the case, it seems like the most popular word was: \",\". This is to be expected because I did not filter by puncutation. Beyond that, frequently occuring words are \"and\" and \"the\". These are the most common words in the english language. Past small pronouns, high scoring words are like \"best\" and \"funny\" and \"film\".  "
   ]
  },
  {
   "cell_type": "markdown",
   "metadata": {},
   "source": [
    "Now let's try the most negative scoring words! "
   ]
  },
  {
   "cell_type": "code",
   "execution_count": null,
   "metadata": {
    "collapsed": false
   },
   "outputs": [],
   "source": [
    "data.Phrase[data.Sentiment ==0]"
   ]
  },
  {
   "cell_type": "code",
   "execution_count": null,
   "metadata": {
    "collapsed": true
   },
   "outputs": [],
   "source": [
    "n_words = {}\n",
    "phrases = data.Phrase[data.Sentiment ==0]\n",
    "for phrase in phrases:\n",
    "#     print(phrase)\n",
    "    all_info = phrase.split()\n",
    "    for word in all_info: \n",
    "#         print(word)\n",
    "        if(word not in n_words): \n",
    "            n_words[word] = 1\n",
    "        else: \n",
    "            n_words[word] += 1"
   ]
  },
  {
   "cell_type": "code",
   "execution_count": null,
   "metadata": {
    "collapsed": false
   },
   "outputs": [],
   "source": [
    "xs = np.arange(0, len(n_words), 1)\n",
    "thinkplot.plot(xs, n_words.values())\n",
    "thinkplot.show(xlabel = 'word', ylabel = 'frequency used', title = 'most popular words for low sentiment words')"
   ]
  },
  {
   "cell_type": "code",
   "execution_count": null,
   "metadata": {
    "collapsed": false
   },
   "outputs": [],
   "source": [
    "for word in n_words: \n",
    "    print(word, n_words[word])"
   ]
  },
  {
   "cell_type": "code",
   "execution_count": null,
   "metadata": {
    "collapsed": false
   },
   "outputs": [],
   "source": [
    "for w in sorted(n_words, key=n_words.get, reverse=True):\n",
    "    print (w, n_words[w])"
   ]
  },
  {
   "cell_type": "code",
   "execution_count": null,
   "metadata": {
    "collapsed": false
   },
   "outputs": [],
   "source": [
    "shares_words = []\n",
    "for word in n_words and p_words: \n",
    "    print word\n",
    "    shares_words.append(word)\n",
    "print(len(shares_words))"
   ]
  },
  {
   "cell_type": "code",
   "execution_count": null,
   "metadata": {
    "collapsed": false
   },
   "outputs": [],
   "source": [
    "sentiment, objSub = sentiment(\"I hate potatoes\")"
   ]
  },
  {
   "cell_type": "code",
   "execution_count": null,
   "metadata": {
    "collapsed": true
   },
   "outputs": [],
   "source": [
    "sentiment, objSub = sentiment(\"I hate potatoes\")"
   ]
  }
 ],
 "metadata": {
  "kernelspec": {
   "display_name": "Python 2",
   "language": "python",
   "name": "python2"
  },
  "language_info": {
   "codemirror_mode": {
    "name": "ipython",
    "version": 2
   },
   "file_extension": ".py",
   "mimetype": "text/x-python",
   "name": "python",
   "nbconvert_exporter": "python",
   "pygments_lexer": "ipython2",
   "version": "2.7.11"
  }
 },
 "nbformat": 4,
 "nbformat_minor": 0
}
