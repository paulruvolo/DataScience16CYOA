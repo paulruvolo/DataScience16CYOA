{
 "cells": [
  {
   "cell_type": "code",
   "execution_count": 25,
   "metadata": {
    "collapsed": false
   },
   "outputs": [
    {
     "ename": "SyntaxError",
     "evalue": "invalid syntax (<ipython-input-25-8cfb92b06ff5>, line 7)",
     "output_type": "error",
     "traceback": [
      "\u001b[1;36m  File \u001b[1;32m\"<ipython-input-25-8cfb92b06ff5>\"\u001b[1;36m, line \u001b[1;32m7\u001b[0m\n\u001b[1;33m    location_train_vw = \"rotten.train.vw\" will be created\u001b[0m\n\u001b[1;37m                                             ^\u001b[0m\n\u001b[1;31mSyntaxError\u001b[0m\u001b[1;31m:\u001b[0m invalid syntax\n"
     ]
    }
   ],
   "source": [
    "import csv\n",
    "import re\n",
    "\n",
    "location_train = \"../train.tsv\"\n",
    "location_test = \"../test.tsv\"\n",
    "\n",
    "location_train_vw = \"rotten.train.vw\" #will be created\n",
    "location_test_vw = \"rotten.test.vw\" #will be created\n",
    "\n",
    "#cleans a string \"I'm a string!?\" returns as \"i m a string\"\n",
    "def clean(s):\n",
    "    return \" \".join(re.findall(r'\\w+', s,flags = re.UNICODE | re.LOCALE)).lower()\n",
    "\n",
    "#creates Vowpal Wabbit-formatted file from tsv file\n",
    "def to_vw(location_input_file, location_output_file, test = False):\n",
    "    print \"\\nReading:\",location_input_file,\"\\nWriting:\",location_output_file\n",
    "    with open(location_input_file) as infile, open(location_output_file, \"wb\") as outfile:\n",
    "        #create a reader to read train file\n",
    "        reader = csv.DictReader(infile, delimiter=\"\\t\")\n",
    "        #for every line\n",
    "        for row in reader:\n",
    "            #if test set label doesnt matter/or isnt available\n",
    "            if test:\n",
    "                label = \"1\"\n",
    "            else:\n",
    "                label = str(int(row['Sentiment'])+1)\n",
    "                phrase = clean(row['Phrase'])\n",
    "                outfile.write(   label +\n",
    "                              \" '\"+row['PhraseId'] + \n",
    "                              \" |f \" + phrase + \n",
    "                              \" |a \" + \n",
    "                              \"word_count:\"+str(phrase.count(\" \")+1)\n",
    "                              + \"\\n\" )\n",
    "                \n",
    "to_vw(location_train, location_train_vw)\n",
    "to_vw(location_test, location_test_vw, test=True)"
   ]
  },
  {
   "cell_type": "code",
   "execution_count": 23,
   "metadata": {
    "collapsed": false
   },
   "outputs": [
    {
     "ename": "SyntaxError",
     "evalue": "invalid syntax (<ipython-input-23-05a5b6710ce2>, line 1)",
     "output_type": "error",
     "traceback": [
      "\u001b[1;36m  File \u001b[1;32m\"<ipython-input-23-05a5b6710ce2>\"\u001b[1;36m, line \u001b[1;32m1\u001b[0m\n\u001b[1;33m    vw  location_train_vw  -c -k --passes 300 --ngram 7 -b 24 --ect 5 -f rotten.model.vw\u001b[0m\n\u001b[1;37m                        ^\u001b[0m\n\u001b[1;31mSyntaxError\u001b[0m\u001b[1;31m:\u001b[0m invalid syntax\n"
     ]
    }
   ],
   "source": [
    "vw  rotten.train.vw  -c -k --passes 300 --ngram 7 -b 24 --ect 5 -f rotten.model.vw"
   ]
  },
  {
   "cell_type": "code",
   "execution_count": null,
   "metadata": {
    "collapsed": true
   },
   "outputs": [],
   "source": []
  }
 ],
 "metadata": {
  "kernelspec": {
   "display_name": "Python 2",
   "language": "python",
   "name": "python2"
  },
  "language_info": {
   "codemirror_mode": {
    "name": "ipython",
    "version": 2
   },
   "file_extension": ".py",
   "mimetype": "text/x-python",
   "name": "python",
   "nbconvert_exporter": "python",
   "pygments_lexer": "ipython2",
   "version": "2.7.11"
  }
 },
 "nbformat": 4,
 "nbformat_minor": 0
}
