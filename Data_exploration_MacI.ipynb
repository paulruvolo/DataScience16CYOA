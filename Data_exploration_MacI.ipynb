{
 "cells": [
  {
   "cell_type": "markdown",
   "metadata": {},
   "source": [
    "# Data Exploration - Mac I\n",
    "In the interest of not having to deal with merge conflicts (we later found a better solution), we elected to split our data exploration into two different files, one for each  of us!"
   ]
  },
  {
   "cell_type": "markdown",
   "metadata": {},
   "source": [
    "## Importing everything"
   ]
  },
  {
   "cell_type": "code",
   "execution_count": null,
   "metadata": {
    "collapsed": false
   },
   "outputs": [],
   "source": [
    "% matplotlib inline\n",
    "import pandas as pd\n",
    "import numpy as np\n",
    "\n",
    "import matplotlib.pyplot as plt\n",
    "from matplotlib.patches import Polygon\n",
    "from matplotlib.collections import PatchCollection\n",
    "from matplotlib import cm\n",
    "from datetime import datetime\n",
    "from ipywidgets import widgets  \n",
    "from IPython.display import display\n",
    "\n",
    "import seaborn as sns\n",
    "print \"imports imported\"\n"
   ]
  },
  {
   "cell_type": "markdown",
   "metadata": {},
   "source": [
    "Import crimedata and so some small transformations. \n",
    "\n",
    "Here, we're just transforming the data into an actual date-time object. "
   ]
  },
  {
   "cell_type": "code",
   "execution_count": null,
   "metadata": {
    "collapsed": false
   },
   "outputs": [],
   "source": [
    "crimeData = pd.read_csv('train.csv')\n",
    "\n",
    "crimeData['DateTime'] = crimeData['Dates'].apply(\n",
    "    lambda x: datetime.strptime(x, '%Y-%m-%d %H:%M:%S'))\n",
    "\n",
    "crimeData['Year'] = crimeData['DateTime'].apply(lambda x: x.year)\n",
    "crimeData['Month'] = crimeData['DateTime'].apply(lambda x: x.month)\n",
    "crimeData['Day'] = crimeData['DateTime'].apply(lambda x: x.day)\n",
    "crimeData['Hour'] = crimeData['DateTime'].apply(lambda x: x.hour)\n",
    "\n",
    "print \"crimeData recoded\"\n",
    "crimeData"
   ]
  },
  {
   "cell_type": "markdown",
   "metadata": {},
   "source": [
    "Generate a map of incidents for each type of crime"
   ]
  },
  {
   "cell_type": "code",
   "execution_count": null,
   "metadata": {
    "collapsed": false,
    "scrolled": false
   },
   "outputs": [],
   "source": [
    "mapdata = np.loadtxt(\"sf_map_copyright_openstreetmap_contributors.txt\")\n",
    "asp = mapdata.shape[0] * 1.0 / mapdata.shape[1]\n",
    "clipsize = [[-122.5247, -122.3366],[ 37.699, 37.8299]]\n",
    "lon_lat_box=[-122.52469, -122.33663, 37.69862, 37.82986]\n",
    "\n",
    "crimeData['Xok'] = crimeData[crimeData.X<-121].X\n",
    "crimeData['Yok'] = crimeData[crimeData.Y<40].Y\n",
    "\n",
    "for cat in crimeData.Category.unique():\n",
    "\n",
    "    crimeDataS = crimeData[crimeData.Category == cat]\n",
    "    plt.figure()\n",
    "    plt.grid(False)\n",
    "    \n",
    "    #ax = sns.kdeplot(crimeDataS.Xok, crimeDataS.Yok, clip=clipsize, aspect=1/asp)\n",
    "\n",
    "    cmap = plt.get_cmap('gray')\n",
    "\n",
    "    g = sns.regplot(x=\"Xok\", y=\"Yok\", data=crimeDataS, fit_reg=False, scatter_kws={'alpha':0.3})\n",
    "    g.set_title(cat)\n",
    "    g.imshow(mapdata, cmap=plt.get_cmap('gray'), \n",
    "                  extent=lon_lat_box, \n",
    "                  aspect=asp)"
   ]
  },
  {
   "cell_type": "markdown",
   "metadata": {},
   "source": [
    "In the above graphs it is easy to see some clustering for certain crimes such as drugs and prostitution. This indicates that location will probably play a large role in predicting crimes. "
   ]
  },
  {
   "cell_type": "markdown",
   "metadata": {},
   "source": [
    "Function display a map of a given type of crime at a given hour"
   ]
  },
  {
   "cell_type": "code",
   "execution_count": null,
   "metadata": {
    "collapsed": true
   },
   "outputs": [],
   "source": [
    "def image_display(crime, time):\n",
    "    #print crime,time\n",
    "    crimeDataS = crimeData[crimeData.Category == crime][crimeData.Hour==time]\n",
    "    plt.figure()\n",
    "    plt.grid(False)\n",
    "    \n",
    "    #ax = sns.kdeplot(crimeDataS.Xok, crimeDataS.Yok, clip=clipsize, aspect=1/asp)\n",
    "\n",
    "    cmap = plt.get_cmap('gray')\n",
    "\n",
    "    g = sns.regplot(x=\"Xok\", y=\"Yok\", data=crimeDataS, fit_reg=False, scatter_kws={'alpha':0.3})\n",
    "    g.set_title(cat)\n",
    "    g.imshow(mapdata, cmap=plt.get_cmap('gray'), \n",
    "                  extent=lon_lat_box, \n",
    "                  aspect=asp)"
   ]
  },
  {
   "cell_type": "markdown",
   "metadata": {},
   "source": [
    "Create Widgets to control map. By selecting the hour and crime type you can see a map of the crime locations. "
   ]
  },
  {
   "cell_type": "code",
   "execution_count": null,
   "metadata": {
    "collapsed": false
   },
   "outputs": [],
   "source": [
    "vals = list(zip(crimeData.Category.unique(), crimeData.Category.unique()))\n",
    "crime = widgets.Select(options=vals, description='Select one of the values:')\n",
    "time = widgets.IntSlider(min=0, max=23, value=2003)\n",
    "widgets.interact(image_display, crime = crime, time=time)"
   ]
  },
  {
   "cell_type": "markdown",
   "metadata": {},
   "source": [
    "There is definitely some noticable trends in the time certain crimes occus and so it is quite likely this will also be helpful in predicting the type of crime that occured. "
   ]
  },
  {
   "cell_type": "code",
   "execution_count": null,
   "metadata": {
    "collapsed": true
   },
   "outputs": [],
   "source": []
  }
 ],
 "metadata": {
  "kernelspec": {
   "display_name": "Python 2",
   "language": "python",
   "name": "python2"
  },
  "language_info": {
   "codemirror_mode": {
    "name": "ipython",
    "version": 2
   },
   "file_extension": ".py",
   "mimetype": "text/x-python",
   "name": "python",
   "nbconvert_exporter": "python",
   "pygments_lexer": "ipython2",
   "version": "2.7.11"
  }
 },
 "nbformat": 4,
 "nbformat_minor": 0
}
