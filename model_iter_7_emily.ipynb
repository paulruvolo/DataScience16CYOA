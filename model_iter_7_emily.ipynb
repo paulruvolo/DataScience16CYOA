{
 "cells": [
  {
   "cell_type": "markdown",
   "metadata": {},
   "source": [
    "Emily Wang and Filippos Lymperopoulos | Data Science 2016 | CYOA: sfcrime"
   ]
  },
  {
   "cell_type": "markdown",
   "metadata": {},
   "source": [
    "Feb 17, 2016\n",
    "\n",
    "### Goals for *model_iter_7_emily.ipynb*\n",
    "\n",
    "* Improve readability\n",
    "* Several different folds; summary statistics on k folds\n",
    "* Different ideas for feature engineering/encoding\n",
    "\n",
    "Note: Apologies if model_iter_7_emily.ipynb is a misleading title; the models themselves are similar to the models that have been happening since notebook 4 or 5, and have been using the same preprocessor class (SFP). What's different is the accompanying analysis and additional commentary from the previous model_iter_X notebooks."
   ]
  },
  {
   "cell_type": "markdown",
   "metadata": {},
   "source": [
    "Feb 15, 2016\n",
    "\n",
    "### The process\n",
    "\n",
    "* Import libraries and training data\n",
    "* Feature engineering / preprocessing: \n",
    "    * Make \"useful\" combinations of features to give our model; \n",
    "    * Also encode categorical things in an intelligent way; \n",
    "    * Can choose to only use a subset of features if desired\n",
    "* Partition your data (cross-validation kfolds, etc)\n",
    "* Model fit\n",
    "* Make some predictions\n",
    "* Compute the logloss score\n",
    "* Reflect; iterate "
   ]
  },
  {
   "cell_type": "markdown",
   "metadata": {},
   "source": [
    "Firstly, let's import some useful libraries and import the data. "
   ]
  },
  {
   "cell_type": "code",
   "execution_count": 2,
   "metadata": {
    "collapsed": false
   },
   "outputs": [
    {
     "data": {
      "text/html": [
       "<div>\n",
       "<table border=\"1\" class=\"dataframe\">\n",
       "  <thead>\n",
       "    <tr style=\"text-align: right;\">\n",
       "      <th></th>\n",
       "      <th>Dates</th>\n",
       "      <th>Category</th>\n",
       "      <th>Descript</th>\n",
       "      <th>DayOfWeek</th>\n",
       "      <th>PdDistrict</th>\n",
       "      <th>Resolution</th>\n",
       "      <th>Address</th>\n",
       "      <th>X</th>\n",
       "      <th>Y</th>\n",
       "    </tr>\n",
       "  </thead>\n",
       "  <tbody>\n",
       "    <tr>\n",
       "      <th>0</th>\n",
       "      <td>2015-05-13 23:53:00</td>\n",
       "      <td>WARRANTS</td>\n",
       "      <td>WARRANT ARREST</td>\n",
       "      <td>Wednesday</td>\n",
       "      <td>NORTHERN</td>\n",
       "      <td>ARREST, BOOKED</td>\n",
       "      <td>OAK ST / LAGUNA ST</td>\n",
       "      <td>-122.425892</td>\n",
       "      <td>37.774599</td>\n",
       "    </tr>\n",
       "    <tr>\n",
       "      <th>1</th>\n",
       "      <td>2015-05-13 23:53:00</td>\n",
       "      <td>OTHER OFFENSES</td>\n",
       "      <td>TRAFFIC VIOLATION ARREST</td>\n",
       "      <td>Wednesday</td>\n",
       "      <td>NORTHERN</td>\n",
       "      <td>ARREST, BOOKED</td>\n",
       "      <td>OAK ST / LAGUNA ST</td>\n",
       "      <td>-122.425892</td>\n",
       "      <td>37.774599</td>\n",
       "    </tr>\n",
       "    <tr>\n",
       "      <th>2</th>\n",
       "      <td>2015-05-13 23:33:00</td>\n",
       "      <td>OTHER OFFENSES</td>\n",
       "      <td>TRAFFIC VIOLATION ARREST</td>\n",
       "      <td>Wednesday</td>\n",
       "      <td>NORTHERN</td>\n",
       "      <td>ARREST, BOOKED</td>\n",
       "      <td>VANNESS AV / GREENWICH ST</td>\n",
       "      <td>-122.424363</td>\n",
       "      <td>37.800414</td>\n",
       "    </tr>\n",
       "  </tbody>\n",
       "</table>\n",
       "</div>"
      ],
      "text/plain": [
       "                Dates        Category                  Descript  DayOfWeek  \\\n",
       "0 2015-05-13 23:53:00        WARRANTS            WARRANT ARREST  Wednesday   \n",
       "1 2015-05-13 23:53:00  OTHER OFFENSES  TRAFFIC VIOLATION ARREST  Wednesday   \n",
       "2 2015-05-13 23:33:00  OTHER OFFENSES  TRAFFIC VIOLATION ARREST  Wednesday   \n",
       "\n",
       "  PdDistrict      Resolution                    Address           X          Y  \n",
       "0   NORTHERN  ARREST, BOOKED         OAK ST / LAGUNA ST -122.425892  37.774599  \n",
       "1   NORTHERN  ARREST, BOOKED         OAK ST / LAGUNA ST -122.425892  37.774599  \n",
       "2   NORTHERN  ARREST, BOOKED  VANNESS AV / GREENWICH ST -122.424363  37.800414  "
      ]
     },
     "metadata": {},
     "output_type": "display_data"
    }
   ],
   "source": [
    "%matplotlib inline\n",
    "import matplotlib.pyplot as plt\n",
    "import seaborn as sns\n",
    "import pandas as pd\n",
    "from IPython.display import display\n",
    "from sklearn.cross_validation import train_test_split\n",
    "from sklearn import preprocessing\n",
    "from sklearn import cross_validation\n",
    "from sklearn.metrics import log_loss\n",
    "import numpy as np\n",
    "import pprint as pp\n",
    "\n",
    "# Convert the Dates column of our provided data from string to datetime format.\n",
    "train = pd.read_csv('train.csv', parse_dates = ['Dates'])\n",
    "test = pd.read_csv('test.csv', parse_dates = ['Dates'])\n",
    "\n",
    "# Print the first 3 rows of the dataframe.\n",
    "display(train.head(3))"
   ]
  },
  {
   "cell_type": "markdown",
   "metadata": {},
   "source": [
    "### Feature Engineering, Preprocessing\n",
    "\n",
    "Make a class that will:\n",
    "* Extract the time features we want to use for the model (e.g. year, season, month, day, etc.)\n",
    "* Encode categorical variables in a meaningful way: contains a preprocessor that can both transform and inverse_transform the categorical variables\n",
    "* Return a transformed dataframe to be given to the model\n",
    "* Maybe: allow for some flexibility with what is in the transformed dataframe (to iterate quickly) (e.g. choosing how many time features you want in this experiment)"
   ]
  },
  {
   "cell_type": "code",
   "execution_count": 3,
   "metadata": {
    "collapsed": false
   },
   "outputs": [],
   "source": [
    "# SFP = SFCrime Preprocessor\n",
    "class SFP():\n",
    "    def __init__(self, data):\n",
    "        self.data = data\n",
    "        self.Y_encoder = preprocessing.LabelEncoder()\n",
    "    \n",
    "    # Prepare inputs\n",
    "    def prep_district(self):\n",
    "        # one hot encoding\n",
    "        return pd.get_dummies(self.data.PdDistrict)\n",
    "    \n",
    "    def prep_hour(self):\n",
    "        # a continuous value from 0 to 23\n",
    "        return self.data.Dates.dt.hour # Gets the hour portion form the \"Dates\" column\n",
    "    \n",
    "    def prep_day(self):\n",
    "        # one hot encoding\n",
    "        return pd.get_dummies(self.data.DayOfWeek)\n",
    "    \n",
    "    def prep_years(self):\n",
    "        # beware: 2015 has significantly less incidents than the other years in this dataset.        \n",
    "        pass\n",
    "    \n",
    "    def concat_features(self):\n",
    "        hour = self.prep_hour()\n",
    "        day = self.prep_day()\n",
    "        district = self.prep_district()\n",
    "        return pd.concat([hour, day, district], axis=1)\n",
    "    \n",
    "    # Encode or decode classes\n",
    "    def encode_Y(self, Y):\n",
    "        return self.Y_encoder.fit_transform(Y)\n",
    "\n",
    "    def decode_Y(self, encoded_Y):\n",
    "        return self.Y_encoder.inverse_transform(encoded_Y)"
   ]
  },
  {
   "cell_type": "code",
   "execution_count": 4,
   "metadata": {
    "collapsed": false
   },
   "outputs": [],
   "source": [
    "sfp = SFP(train)\n",
    "X = sfp.concat_features()\n",
    "y = sfp.encode_Y(train.Category)\n",
    "X.rename(columns = {'Dates':'Hour'}, inplace = True)"
   ]
  },
  {
   "cell_type": "markdown",
   "metadata": {},
   "source": [
    "#### Sanity check\n",
    "\n",
    "Print out the head for X to ensure that our preprocessing via the SFP class worked as expected. \n",
    "We should have a number between 0 and 39 for Hour. Each incident should have a 1 in one of the weekday columns and 0 in all other weekday columns. Each incident should have a 1 in one of the PdDistrict columns and 0 ina ll other PdDistrict columns. "
   ]
  },
  {
   "cell_type": "code",
   "execution_count": 5,
   "metadata": {
    "collapsed": false
   },
   "outputs": [
    {
     "data": {
      "text/html": [
       "<div>\n",
       "<table border=\"1\" class=\"dataframe\">\n",
       "  <thead>\n",
       "    <tr style=\"text-align: right;\">\n",
       "      <th></th>\n",
       "      <th>Hour</th>\n",
       "      <th>Friday</th>\n",
       "      <th>Monday</th>\n",
       "      <th>Saturday</th>\n",
       "      <th>Sunday</th>\n",
       "      <th>Thursday</th>\n",
       "      <th>Tuesday</th>\n",
       "      <th>Wednesday</th>\n",
       "      <th>BAYVIEW</th>\n",
       "      <th>CENTRAL</th>\n",
       "      <th>INGLESIDE</th>\n",
       "      <th>MISSION</th>\n",
       "      <th>NORTHERN</th>\n",
       "      <th>PARK</th>\n",
       "      <th>RICHMOND</th>\n",
       "      <th>SOUTHERN</th>\n",
       "      <th>TARAVAL</th>\n",
       "      <th>TENDERLOIN</th>\n",
       "    </tr>\n",
       "  </thead>\n",
       "  <tbody>\n",
       "    <tr>\n",
       "      <th>0</th>\n",
       "      <td>23</td>\n",
       "      <td>0</td>\n",
       "      <td>0</td>\n",
       "      <td>0</td>\n",
       "      <td>0</td>\n",
       "      <td>0</td>\n",
       "      <td>0</td>\n",
       "      <td>1</td>\n",
       "      <td>0</td>\n",
       "      <td>0</td>\n",
       "      <td>0</td>\n",
       "      <td>0</td>\n",
       "      <td>1</td>\n",
       "      <td>0</td>\n",
       "      <td>0</td>\n",
       "      <td>0</td>\n",
       "      <td>0</td>\n",
       "      <td>0</td>\n",
       "    </tr>\n",
       "    <tr>\n",
       "      <th>1</th>\n",
       "      <td>23</td>\n",
       "      <td>0</td>\n",
       "      <td>0</td>\n",
       "      <td>0</td>\n",
       "      <td>0</td>\n",
       "      <td>0</td>\n",
       "      <td>0</td>\n",
       "      <td>1</td>\n",
       "      <td>0</td>\n",
       "      <td>0</td>\n",
       "      <td>0</td>\n",
       "      <td>0</td>\n",
       "      <td>1</td>\n",
       "      <td>0</td>\n",
       "      <td>0</td>\n",
       "      <td>0</td>\n",
       "      <td>0</td>\n",
       "      <td>0</td>\n",
       "    </tr>\n",
       "    <tr>\n",
       "      <th>2</th>\n",
       "      <td>23</td>\n",
       "      <td>0</td>\n",
       "      <td>0</td>\n",
       "      <td>0</td>\n",
       "      <td>0</td>\n",
       "      <td>0</td>\n",
       "      <td>0</td>\n",
       "      <td>1</td>\n",
       "      <td>0</td>\n",
       "      <td>0</td>\n",
       "      <td>0</td>\n",
       "      <td>0</td>\n",
       "      <td>1</td>\n",
       "      <td>0</td>\n",
       "      <td>0</td>\n",
       "      <td>0</td>\n",
       "      <td>0</td>\n",
       "      <td>0</td>\n",
       "    </tr>\n",
       "    <tr>\n",
       "      <th>3</th>\n",
       "      <td>23</td>\n",
       "      <td>0</td>\n",
       "      <td>0</td>\n",
       "      <td>0</td>\n",
       "      <td>0</td>\n",
       "      <td>0</td>\n",
       "      <td>0</td>\n",
       "      <td>1</td>\n",
       "      <td>0</td>\n",
       "      <td>0</td>\n",
       "      <td>0</td>\n",
       "      <td>0</td>\n",
       "      <td>1</td>\n",
       "      <td>0</td>\n",
       "      <td>0</td>\n",
       "      <td>0</td>\n",
       "      <td>0</td>\n",
       "      <td>0</td>\n",
       "    </tr>\n",
       "    <tr>\n",
       "      <th>4</th>\n",
       "      <td>23</td>\n",
       "      <td>0</td>\n",
       "      <td>0</td>\n",
       "      <td>0</td>\n",
       "      <td>0</td>\n",
       "      <td>0</td>\n",
       "      <td>0</td>\n",
       "      <td>1</td>\n",
       "      <td>0</td>\n",
       "      <td>0</td>\n",
       "      <td>0</td>\n",
       "      <td>0</td>\n",
       "      <td>0</td>\n",
       "      <td>1</td>\n",
       "      <td>0</td>\n",
       "      <td>0</td>\n",
       "      <td>0</td>\n",
       "      <td>0</td>\n",
       "    </tr>\n",
       "  </tbody>\n",
       "</table>\n",
       "</div>"
      ],
      "text/plain": [
       "   Hour  Friday  Monday  Saturday  Sunday  Thursday  Tuesday  Wednesday  \\\n",
       "0    23       0       0         0       0         0        0          1   \n",
       "1    23       0       0         0       0         0        0          1   \n",
       "2    23       0       0         0       0         0        0          1   \n",
       "3    23       0       0         0       0         0        0          1   \n",
       "4    23       0       0         0       0         0        0          1   \n",
       "\n",
       "   BAYVIEW  CENTRAL  INGLESIDE  MISSION  NORTHERN  PARK  RICHMOND  SOUTHERN  \\\n",
       "0        0        0          0        0         1     0         0         0   \n",
       "1        0        0          0        0         1     0         0         0   \n",
       "2        0        0          0        0         1     0         0         0   \n",
       "3        0        0          0        0         1     0         0         0   \n",
       "4        0        0          0        0         0     1         0         0   \n",
       "\n",
       "   TARAVAL  TENDERLOIN  \n",
       "0        0           0  \n",
       "1        0           0  \n",
       "2        0           0  \n",
       "3        0           0  \n",
       "4        0           0  "
      ]
     },
     "metadata": {},
     "output_type": "display_data"
    }
   ],
   "source": [
    "display(X.head())"
   ]
  },
  {
   "cell_type": "markdown",
   "metadata": {},
   "source": [
    "### Partition the data!"
   ]
  },
  {
   "cell_type": "code",
   "execution_count": 6,
   "metadata": {
    "collapsed": false
   },
   "outputs": [],
   "source": [
    "# note: this X and Y in particular are from the data in train.csv. See previous section for details.\n",
    "X_train, X_test, y_train, y_test = train_test_split(X, y, test_size=0.40, random_state=42)"
   ]
  },
  {
   "cell_type": "markdown",
   "metadata": {},
   "source": [
    "### Fit the training data to the algorithm\n",
    "\n",
    "Decision trees are known to be good at handling categorical data. Let's try using some of the decision tree variations in scikit learn (decision tree, random forest, gradient boost, etc) and tweak some hyperparameters. We might even do some ensemble learning. Oooh shiny!"
   ]
  },
  {
   "cell_type": "markdown",
   "metadata": {},
   "source": [
    "#### Decision Tree"
   ]
  },
  {
   "cell_type": "code",
   "execution_count": 7,
   "metadata": {
    "collapsed": false
   },
   "outputs": [
    {
     "name": "stdout",
     "output_type": "stream",
     "text": [
      "[[ 0.          0.099631    0.         ...,  0.02214022  0.099631\n",
      "   0.01476015]\n",
      " [ 0.          0.05607477  0.         ...,  0.06542056  0.04672897\n",
      "   0.00934579]\n",
      " [ 0.          0.06768838  0.         ...,  0.05491699  0.03320562\n",
      "   0.00383142]\n",
      " ..., \n",
      " [ 0.00179211  0.06989247  0.         ...,  0.01792115  0.03763441\n",
      "   0.01612903]\n",
      " [ 0.00305344  0.07022901  0.         ...,  0.01984733  0.05954198\n",
      "   0.01221374]\n",
      " [ 0.          0.06991525  0.         ...,  0.00847458  0.08474576\n",
      "   0.00635593]]\n"
     ]
    }
   ],
   "source": [
    "from sklearn import tree\n",
    "dtc = tree.DecisionTreeClassifier()\n",
    "_ = dtc.fit(X_train, y_train)\n",
    "y_predictions = dtc.predict_proba(X_test)\n",
    "print y_predictions\n",
    "dtc_log_loss = log_loss(y_test, y_predictions)"
   ]
  },
  {
   "cell_type": "code",
   "execution_count": 8,
   "metadata": {
    "collapsed": false
   },
   "outputs": [
    {
     "data": {
      "text/plain": [
       "3.007115993440352"
      ]
     },
     "execution_count": 8,
     "metadata": {},
     "output_type": "execute_result"
    }
   ],
   "source": [
    "dtc_log_loss "
   ]
  },
  {
   "cell_type": "markdown",
   "metadata": {},
   "source": [
    "Filippos says he thinks this log loss value of 3.007115993440352 is very deece. Confirmed by looking at the kaggle leaderboards."
   ]
  },
  {
   "cell_type": "markdown",
   "metadata": {},
   "source": [
    "#### A baseline: Predict all unseen incidents as LARCENY/THEFT\n",
    "\n",
    "So... we know from the exploration phase that the dataset is not evenly distributed (i.e. not all 39 classes are equally represented in the dataset. What's the log loss for a model that just predicts that all new data is the most common crime type ('LARCENCY/THEFT') ? This means that the baseline model outputs the same prediction each time: a 39 dimensional vector of 0s and a 1 in the corresponding column for LARCENY/THEFT. The 1 signifies 100% confidence that the unseen incident is LARCENY/THEFT. \n",
    "\n",
    "Another idea for a baseline would be to randomly guess an intger between 0 and 38 for each unseen incident. \n",
    "\n",
    "Since log loss is a new error metric for us amd we don't already have an intuition for what log loss values are possible/reasonable for this project, this baseline provides a sanity check to ensure that we should be getting a better score on the models we are trying to train well with feature engineering, different classifiers, ensembling, etc."
   ]
  },
  {
   "cell_type": "code",
   "execution_count": 9,
   "metadata": {
    "collapsed": false
   },
   "outputs": [],
   "source": [
    "decoded = sfp.decode_Y(dtc.classes_)\n",
    "\n",
    "for x in range(len(decoded)):\n",
    "    if decoded[x] == \"LARCENY/THEFT\": \n",
    "        # we know from the exploration phase that LARCENY/THEFT was the most popular crime in train.csv\n",
    "        popular_index = x\n",
    "\n",
    "baseline_y_pred = np.zeros((y_test.shape[0], 39))\n",
    "baseline_y_pred[:,16] = 1\n",
    "\n",
    "baseline_log_loss = log_loss(y_test, baseline_y_pred)"
   ]
  },
  {
   "cell_type": "code",
   "execution_count": 10,
   "metadata": {
    "collapsed": false
   },
   "outputs": [
    {
     "data": {
      "text/plain": [
       "27.658162800015461"
      ]
     },
     "execution_count": 10,
     "metadata": {},
     "output_type": "execute_result"
    }
   ],
   "source": [
    "baseline_log_loss"
   ]
  },
  {
   "cell_type": "markdown",
   "metadata": {},
   "source": [
    "#### Random Forest!!"
   ]
  },
  {
   "cell_type": "code",
   "execution_count": 11,
   "metadata": {
    "collapsed": false
   },
   "outputs": [],
   "source": [
    "from sklearn.ensemble import RandomForestClassifier\n",
    "\n",
    "# Using some hyperparameter values from DataQuest mission 75\n",
    "rf = RandomForestClassifier(random_state=1, n_estimators=10, min_samples_split=4, min_samples_leaf=1) \n",
    "_ = rf.fit(X_train, y_train)\n",
    "y_predictions = rf.predict_proba(X_test)\n",
    "rf_log_loss = log_loss(y_test, y_predictions)"
   ]
  },
  {
   "cell_type": "code",
   "execution_count": 12,
   "metadata": {
    "collapsed": false
   },
   "outputs": [
    {
     "data": {
      "text/plain": [
       "3.0111558103212417"
      ]
     },
     "execution_count": 12,
     "metadata": {},
     "output_type": "execute_result"
    }
   ],
   "source": [
    "rf_log_loss"
   ]
  },
  {
   "cell_type": "markdown",
   "metadata": {},
   "source": [
    "#### Stochastic Gradient Descent\n",
    "[scikit learn cheatsheet advises us to look into SGD classifiers!](http://scikit-learn.org/stable/tutorial/machine_learning_map/)\n",
    "\n",
    "Understanding SGD:\n",
    "* yay Andrew Ng ML video\n",
    "* batch gradient descent (looks at all of the training examples in every iteration)\n",
    "* stochastic gradient descent (looks at only one training example in every iteration)\n",
    "    * how well is my hypothesis doing on a single example? for a given theta and x,y pair\n",
    "* different in the implementation details and making progress towards the minimum"
   ]
  },
  {
   "cell_type": "code",
   "execution_count": 13,
   "metadata": {
    "collapsed": true
   },
   "outputs": [],
   "source": [
    "from sklearn.linear_model import SGDClassifier\n",
    "sgd = SGDClassifier(loss=\"log\", penalty=\"l2\", n_iter = 10)\n",
    "_ = sgd.fit(X_train, y_train)\n",
    "y_predictions = sgd.predict_proba(X_test)\n",
    "sgd_log_loss = log_loss(y_test, y_predictions)"
   ]
  },
  {
   "cell_type": "code",
   "execution_count": 14,
   "metadata": {
    "collapsed": false
   },
   "outputs": [
    {
     "data": {
      "text/plain": [
       "2.6718009977038615"
      ]
     },
     "execution_count": 14,
     "metadata": {},
     "output_type": "execute_result"
    }
   ],
   "source": [
    "sgd_log_loss"
   ]
  },
  {
   "cell_type": "markdown",
   "metadata": {},
   "source": [
    "\"Ooooooooooohhhh\"  -- Emily and Filippos"
   ]
  },
  {
   "cell_type": "markdown",
   "metadata": {},
   "source": [
    "#### Naive Bayes\n"
   ]
  },
  {
   "cell_type": "code",
   "execution_count": 15,
   "metadata": {
    "collapsed": true
   },
   "outputs": [],
   "source": [
    "from sklearn.naive_bayes import BernoulliNB\n",
    "nb = BernoulliNB()\n",
    "_ = nb.fit(X_train, y_train)\n",
    "y_nb_predictions = nb.predict_proba(X_test)\n",
    "nb_log_loss = log_loss(y_test, y_nb_predictions)"
   ]
  },
  {
   "cell_type": "code",
   "execution_count": 16,
   "metadata": {
    "collapsed": false
   },
   "outputs": [
    {
     "data": {
      "text/plain": [
       "2.609770164645326"
      ]
     },
     "execution_count": 16,
     "metadata": {},
     "output_type": "execute_result"
    }
   ],
   "source": [
    "nb_log_loss"
   ]
  },
  {
   "cell_type": "markdown",
   "metadata": {},
   "source": [
    "\"Ooooooooooohhhh\" (again)  -- Emily and Filippos"
   ]
  },
  {
   "cell_type": "markdown",
   "metadata": {},
   "source": [
    "#### Next steps\n",
    "\n",
    "ASAP:\n",
    "* ~~prepare a submission to kaggle~~\n",
    "* Visualization of performance of the different models (include an ensemble learning result in here too)\n",
    "* ~~Comparison of log loss to the \"predict the most common thing\" baseline model (predict all unseen incidents to be LARCENY/THEFT)~~\n",
    "* *10 fold validation + mean and standard deviation for the metrics* - Emily\n",
    "* ~~log loss on each separate class (turn the multi class problem into 39 binary problems)~~\n",
    "    * --> discover more specifically which things the model predicts well and not so well \n",
    "    * --> more exploration and feature engineering in hopes of resolving the difference in performance between crime classes\n",
    "\n",
    "\n",
    "Backlog:\n",
    "* ~~explanation on SGD black box~~\n",
    "* ~~How to translate the 39-element outputs into more \"human readable\" outputs: TOP5~~\n",
    "* *Creative approaches to ensemble learning!* - Filippos \n",
    "* ~~Naive Bayes~~\n",
    "* Try playing with hyperparameters; see how changes in those values impact the logloss, and plot them (hyperparameter value vs. log loss)\n",
    "\n",
    "Process comments:\n",
    "* Feb 15, 2016: We're relatively happy with our current preprocessor to pause on the feature engineering and do experiments with the predictive models; we'll cycle back to the feature engineering if there's time and interest. :)\n",
    "* Feb 17, 2016: Now that we have the per class log loss values, we have some motivation to go back to the exploration phase to better understand the classes which the model had more trouble with. "
   ]
  },
  {
   "cell_type": "markdown",
   "metadata": {},
   "source": [
    "Feb 16, 2016"
   ]
  },
  {
   "cell_type": "markdown",
   "metadata": {},
   "source": [
    "### Trying it out on the test set\n",
    "\n",
    "Preparing our inputs (the X matrix): This should all look very familiar to the cells in the previous sections.\n",
    "\n",
    "Be careful of your variable names!!"
   ]
  },
  {
   "cell_type": "code",
   "execution_count": 17,
   "metadata": {
    "collapsed": false
   },
   "outputs": [
    {
     "data": {
      "text/html": [
       "<div>\n",
       "<table border=\"1\" class=\"dataframe\">\n",
       "  <thead>\n",
       "    <tr style=\"text-align: right;\">\n",
       "      <th></th>\n",
       "      <th>Hour</th>\n",
       "      <th>Friday</th>\n",
       "      <th>Monday</th>\n",
       "      <th>Saturday</th>\n",
       "      <th>Sunday</th>\n",
       "      <th>Thursday</th>\n",
       "      <th>Tuesday</th>\n",
       "      <th>Wednesday</th>\n",
       "      <th>BAYVIEW</th>\n",
       "      <th>CENTRAL</th>\n",
       "      <th>INGLESIDE</th>\n",
       "      <th>MISSION</th>\n",
       "      <th>NORTHERN</th>\n",
       "      <th>PARK</th>\n",
       "      <th>RICHMOND</th>\n",
       "      <th>SOUTHERN</th>\n",
       "      <th>TARAVAL</th>\n",
       "      <th>TENDERLOIN</th>\n",
       "    </tr>\n",
       "  </thead>\n",
       "  <tbody>\n",
       "    <tr>\n",
       "      <th>0</th>\n",
       "      <td>23</td>\n",
       "      <td>0</td>\n",
       "      <td>0</td>\n",
       "      <td>0</td>\n",
       "      <td>0</td>\n",
       "      <td>0</td>\n",
       "      <td>0</td>\n",
       "      <td>1</td>\n",
       "      <td>0</td>\n",
       "      <td>0</td>\n",
       "      <td>0</td>\n",
       "      <td>0</td>\n",
       "      <td>1</td>\n",
       "      <td>0</td>\n",
       "      <td>0</td>\n",
       "      <td>0</td>\n",
       "      <td>0</td>\n",
       "      <td>0</td>\n",
       "    </tr>\n",
       "    <tr>\n",
       "      <th>1</th>\n",
       "      <td>23</td>\n",
       "      <td>0</td>\n",
       "      <td>0</td>\n",
       "      <td>0</td>\n",
       "      <td>0</td>\n",
       "      <td>0</td>\n",
       "      <td>0</td>\n",
       "      <td>1</td>\n",
       "      <td>0</td>\n",
       "      <td>0</td>\n",
       "      <td>0</td>\n",
       "      <td>0</td>\n",
       "      <td>1</td>\n",
       "      <td>0</td>\n",
       "      <td>0</td>\n",
       "      <td>0</td>\n",
       "      <td>0</td>\n",
       "      <td>0</td>\n",
       "    </tr>\n",
       "    <tr>\n",
       "      <th>2</th>\n",
       "      <td>23</td>\n",
       "      <td>0</td>\n",
       "      <td>0</td>\n",
       "      <td>0</td>\n",
       "      <td>0</td>\n",
       "      <td>0</td>\n",
       "      <td>0</td>\n",
       "      <td>1</td>\n",
       "      <td>0</td>\n",
       "      <td>0</td>\n",
       "      <td>0</td>\n",
       "      <td>0</td>\n",
       "      <td>1</td>\n",
       "      <td>0</td>\n",
       "      <td>0</td>\n",
       "      <td>0</td>\n",
       "      <td>0</td>\n",
       "      <td>0</td>\n",
       "    </tr>\n",
       "    <tr>\n",
       "      <th>3</th>\n",
       "      <td>23</td>\n",
       "      <td>0</td>\n",
       "      <td>0</td>\n",
       "      <td>0</td>\n",
       "      <td>0</td>\n",
       "      <td>0</td>\n",
       "      <td>0</td>\n",
       "      <td>1</td>\n",
       "      <td>0</td>\n",
       "      <td>0</td>\n",
       "      <td>0</td>\n",
       "      <td>0</td>\n",
       "      <td>1</td>\n",
       "      <td>0</td>\n",
       "      <td>0</td>\n",
       "      <td>0</td>\n",
       "      <td>0</td>\n",
       "      <td>0</td>\n",
       "    </tr>\n",
       "    <tr>\n",
       "      <th>4</th>\n",
       "      <td>23</td>\n",
       "      <td>0</td>\n",
       "      <td>0</td>\n",
       "      <td>0</td>\n",
       "      <td>0</td>\n",
       "      <td>0</td>\n",
       "      <td>0</td>\n",
       "      <td>1</td>\n",
       "      <td>0</td>\n",
       "      <td>0</td>\n",
       "      <td>0</td>\n",
       "      <td>0</td>\n",
       "      <td>0</td>\n",
       "      <td>1</td>\n",
       "      <td>0</td>\n",
       "      <td>0</td>\n",
       "      <td>0</td>\n",
       "      <td>0</td>\n",
       "    </tr>\n",
       "  </tbody>\n",
       "</table>\n",
       "</div>"
      ],
      "text/plain": [
       "   Hour  Friday  Monday  Saturday  Sunday  Thursday  Tuesday  Wednesday  \\\n",
       "0    23       0       0         0       0         0        0          1   \n",
       "1    23       0       0         0       0         0        0          1   \n",
       "2    23       0       0         0       0         0        0          1   \n",
       "3    23       0       0         0       0         0        0          1   \n",
       "4    23       0       0         0       0         0        0          1   \n",
       "\n",
       "   BAYVIEW  CENTRAL  INGLESIDE  MISSION  NORTHERN  PARK  RICHMOND  SOUTHERN  \\\n",
       "0        0        0          0        0         1     0         0         0   \n",
       "1        0        0          0        0         1     0         0         0   \n",
       "2        0        0          0        0         1     0         0         0   \n",
       "3        0        0          0        0         1     0         0         0   \n",
       "4        0        0          0        0         0     1         0         0   \n",
       "\n",
       "   TARAVAL  TENDERLOIN  \n",
       "0        0           0  \n",
       "1        0           0  \n",
       "2        0           0  \n",
       "3        0           0  \n",
       "4        0           0  "
      ]
     },
     "metadata": {},
     "output_type": "display_data"
    },
    {
     "data": {
      "text/html": [
       "<div>\n",
       "<table border=\"1\" class=\"dataframe\">\n",
       "  <thead>\n",
       "    <tr style=\"text-align: right;\">\n",
       "      <th></th>\n",
       "      <th>Dates</th>\n",
       "      <th>Friday</th>\n",
       "      <th>Monday</th>\n",
       "      <th>Saturday</th>\n",
       "      <th>Sunday</th>\n",
       "      <th>Thursday</th>\n",
       "      <th>Tuesday</th>\n",
       "      <th>Wednesday</th>\n",
       "      <th>BAYVIEW</th>\n",
       "      <th>CENTRAL</th>\n",
       "      <th>INGLESIDE</th>\n",
       "      <th>MISSION</th>\n",
       "      <th>NORTHERN</th>\n",
       "      <th>PARK</th>\n",
       "      <th>RICHMOND</th>\n",
       "      <th>SOUTHERN</th>\n",
       "      <th>TARAVAL</th>\n",
       "      <th>TENDERLOIN</th>\n",
       "    </tr>\n",
       "  </thead>\n",
       "  <tbody>\n",
       "    <tr>\n",
       "      <th>0</th>\n",
       "      <td>23</td>\n",
       "      <td>0</td>\n",
       "      <td>0</td>\n",
       "      <td>0</td>\n",
       "      <td>1</td>\n",
       "      <td>0</td>\n",
       "      <td>0</td>\n",
       "      <td>0</td>\n",
       "      <td>1</td>\n",
       "      <td>0</td>\n",
       "      <td>0</td>\n",
       "      <td>0</td>\n",
       "      <td>0</td>\n",
       "      <td>0</td>\n",
       "      <td>0</td>\n",
       "      <td>0</td>\n",
       "      <td>0</td>\n",
       "      <td>0</td>\n",
       "    </tr>\n",
       "    <tr>\n",
       "      <th>1</th>\n",
       "      <td>23</td>\n",
       "      <td>0</td>\n",
       "      <td>0</td>\n",
       "      <td>0</td>\n",
       "      <td>1</td>\n",
       "      <td>0</td>\n",
       "      <td>0</td>\n",
       "      <td>0</td>\n",
       "      <td>1</td>\n",
       "      <td>0</td>\n",
       "      <td>0</td>\n",
       "      <td>0</td>\n",
       "      <td>0</td>\n",
       "      <td>0</td>\n",
       "      <td>0</td>\n",
       "      <td>0</td>\n",
       "      <td>0</td>\n",
       "      <td>0</td>\n",
       "    </tr>\n",
       "    <tr>\n",
       "      <th>2</th>\n",
       "      <td>23</td>\n",
       "      <td>0</td>\n",
       "      <td>0</td>\n",
       "      <td>0</td>\n",
       "      <td>1</td>\n",
       "      <td>0</td>\n",
       "      <td>0</td>\n",
       "      <td>0</td>\n",
       "      <td>0</td>\n",
       "      <td>0</td>\n",
       "      <td>0</td>\n",
       "      <td>0</td>\n",
       "      <td>1</td>\n",
       "      <td>0</td>\n",
       "      <td>0</td>\n",
       "      <td>0</td>\n",
       "      <td>0</td>\n",
       "      <td>0</td>\n",
       "    </tr>\n",
       "    <tr>\n",
       "      <th>3</th>\n",
       "      <td>23</td>\n",
       "      <td>0</td>\n",
       "      <td>0</td>\n",
       "      <td>0</td>\n",
       "      <td>1</td>\n",
       "      <td>0</td>\n",
       "      <td>0</td>\n",
       "      <td>0</td>\n",
       "      <td>0</td>\n",
       "      <td>0</td>\n",
       "      <td>1</td>\n",
       "      <td>0</td>\n",
       "      <td>0</td>\n",
       "      <td>0</td>\n",
       "      <td>0</td>\n",
       "      <td>0</td>\n",
       "      <td>0</td>\n",
       "      <td>0</td>\n",
       "    </tr>\n",
       "    <tr>\n",
       "      <th>4</th>\n",
       "      <td>23</td>\n",
       "      <td>0</td>\n",
       "      <td>0</td>\n",
       "      <td>0</td>\n",
       "      <td>1</td>\n",
       "      <td>0</td>\n",
       "      <td>0</td>\n",
       "      <td>0</td>\n",
       "      <td>0</td>\n",
       "      <td>0</td>\n",
       "      <td>1</td>\n",
       "      <td>0</td>\n",
       "      <td>0</td>\n",
       "      <td>0</td>\n",
       "      <td>0</td>\n",
       "      <td>0</td>\n",
       "      <td>0</td>\n",
       "      <td>0</td>\n",
       "    </tr>\n",
       "  </tbody>\n",
       "</table>\n",
       "</div>"
      ],
      "text/plain": [
       "   Dates  Friday  Monday  Saturday  Sunday  Thursday  Tuesday  Wednesday  \\\n",
       "0     23       0       0         0       1         0        0          0   \n",
       "1     23       0       0         0       1         0        0          0   \n",
       "2     23       0       0         0       1         0        0          0   \n",
       "3     23       0       0         0       1         0        0          0   \n",
       "4     23       0       0         0       1         0        0          0   \n",
       "\n",
       "   BAYVIEW  CENTRAL  INGLESIDE  MISSION  NORTHERN  PARK  RICHMOND  SOUTHERN  \\\n",
       "0        1        0          0        0         0     0         0         0   \n",
       "1        1        0          0        0         0     0         0         0   \n",
       "2        0        0          0        0         1     0         0         0   \n",
       "3        0        0          1        0         0     0         0         0   \n",
       "4        0        0          1        0         0     0         0         0   \n",
       "\n",
       "   TARAVAL  TENDERLOIN  \n",
       "0        0           0  \n",
       "1        0           0  \n",
       "2        0           0  \n",
       "3        0           0  \n",
       "4        0           0  "
      ]
     },
     "metadata": {},
     "output_type": "display_data"
    }
   ],
   "source": [
    "# sfp_submission will be used to preprocess the data from test.csv\n",
    "sfp_submission = SFP(test) \n",
    "X_submission = sfp_submission.concat_features() \n",
    "\n",
    "# Sanity check: These should not be the same, because X is from train.csv and X_submission is from test.csv\n",
    "display(X.head())\n",
    "display(X_submission.head())"
   ]
  },
  {
   "cell_type": "code",
   "execution_count": 18,
   "metadata": {
    "collapsed": false
   },
   "outputs": [],
   "source": [
    "# As a first pass, using the sgd we trained earlier in the notebook\n",
    "y_predictions_submission = sgd.predict_proba(X_submission)"
   ]
  },
  {
   "cell_type": "code",
   "execution_count": 19,
   "metadata": {
    "collapsed": false
   },
   "outputs": [
    {
     "data": {
      "text/html": [
       "<div>\n",
       "<table border=\"1\" class=\"dataframe\">\n",
       "  <thead>\n",
       "    <tr style=\"text-align: right;\">\n",
       "      <th></th>\n",
       "      <th>0</th>\n",
       "      <th>1</th>\n",
       "      <th>2</th>\n",
       "      <th>3</th>\n",
       "      <th>4</th>\n",
       "      <th>5</th>\n",
       "      <th>6</th>\n",
       "      <th>7</th>\n",
       "      <th>8</th>\n",
       "      <th>9</th>\n",
       "      <th>...</th>\n",
       "      <th>29</th>\n",
       "      <th>30</th>\n",
       "      <th>31</th>\n",
       "      <th>32</th>\n",
       "      <th>33</th>\n",
       "      <th>34</th>\n",
       "      <th>35</th>\n",
       "      <th>36</th>\n",
       "      <th>37</th>\n",
       "      <th>38</th>\n",
       "    </tr>\n",
       "  </thead>\n",
       "  <tbody>\n",
       "    <tr>\n",
       "      <th>0</th>\n",
       "      <td>0.005801</td>\n",
       "      <td>0.072146</td>\n",
       "      <td>0.000415</td>\n",
       "      <td>0.000840</td>\n",
       "      <td>0.010125</td>\n",
       "      <td>0.002309</td>\n",
       "      <td>0.000666</td>\n",
       "      <td>0.039955</td>\n",
       "      <td>0.002259</td>\n",
       "      <td>0.000375</td>\n",
       "      <td>...</td>\n",
       "      <td>0.000084</td>\n",
       "      <td>0.003046</td>\n",
       "      <td>0.000370</td>\n",
       "      <td>0.015156</td>\n",
       "      <td>4.917007e-07</td>\n",
       "      <td>0.019820</td>\n",
       "      <td>0.208972</td>\n",
       "      <td>0.066452</td>\n",
       "      <td>0.060734</td>\n",
       "      <td>0.015961</td>\n",
       "    </tr>\n",
       "    <tr>\n",
       "      <th>1</th>\n",
       "      <td>0.005801</td>\n",
       "      <td>0.072146</td>\n",
       "      <td>0.000415</td>\n",
       "      <td>0.000840</td>\n",
       "      <td>0.010125</td>\n",
       "      <td>0.002309</td>\n",
       "      <td>0.000666</td>\n",
       "      <td>0.039955</td>\n",
       "      <td>0.002259</td>\n",
       "      <td>0.000375</td>\n",
       "      <td>...</td>\n",
       "      <td>0.000084</td>\n",
       "      <td>0.003046</td>\n",
       "      <td>0.000370</td>\n",
       "      <td>0.015156</td>\n",
       "      <td>4.917007e-07</td>\n",
       "      <td>0.019820</td>\n",
       "      <td>0.208972</td>\n",
       "      <td>0.066452</td>\n",
       "      <td>0.060734</td>\n",
       "      <td>0.015961</td>\n",
       "    </tr>\n",
       "    <tr>\n",
       "      <th>2</th>\n",
       "      <td>0.002481</td>\n",
       "      <td>0.055554</td>\n",
       "      <td>0.000479</td>\n",
       "      <td>0.000600</td>\n",
       "      <td>0.014260</td>\n",
       "      <td>0.003342</td>\n",
       "      <td>0.000768</td>\n",
       "      <td>0.040064</td>\n",
       "      <td>0.003008</td>\n",
       "      <td>0.000461</td>\n",
       "      <td>...</td>\n",
       "      <td>0.000078</td>\n",
       "      <td>0.004758</td>\n",
       "      <td>0.000424</td>\n",
       "      <td>0.011557</td>\n",
       "      <td>5.308493e-07</td>\n",
       "      <td>0.020497</td>\n",
       "      <td>0.196976</td>\n",
       "      <td>0.052907</td>\n",
       "      <td>0.058305</td>\n",
       "      <td>0.006834</td>\n",
       "    </tr>\n",
       "    <tr>\n",
       "      <th>3</th>\n",
       "      <td>0.003263</td>\n",
       "      <td>0.071624</td>\n",
       "      <td>0.000434</td>\n",
       "      <td>0.000747</td>\n",
       "      <td>0.009631</td>\n",
       "      <td>0.002052</td>\n",
       "      <td>0.000710</td>\n",
       "      <td>0.024846</td>\n",
       "      <td>0.002095</td>\n",
       "      <td>0.000397</td>\n",
       "      <td>...</td>\n",
       "      <td>0.000088</td>\n",
       "      <td>0.003270</td>\n",
       "      <td>0.000404</td>\n",
       "      <td>0.013560</td>\n",
       "      <td>4.888744e-07</td>\n",
       "      <td>0.015003</td>\n",
       "      <td>0.233711</td>\n",
       "      <td>0.101969</td>\n",
       "      <td>0.038135</td>\n",
       "      <td>0.011983</td>\n",
       "    </tr>\n",
       "    <tr>\n",
       "      <th>4</th>\n",
       "      <td>0.003263</td>\n",
       "      <td>0.071624</td>\n",
       "      <td>0.000434</td>\n",
       "      <td>0.000747</td>\n",
       "      <td>0.009631</td>\n",
       "      <td>0.002052</td>\n",
       "      <td>0.000710</td>\n",
       "      <td>0.024846</td>\n",
       "      <td>0.002095</td>\n",
       "      <td>0.000397</td>\n",
       "      <td>...</td>\n",
       "      <td>0.000088</td>\n",
       "      <td>0.003270</td>\n",
       "      <td>0.000404</td>\n",
       "      <td>0.013560</td>\n",
       "      <td>4.888744e-07</td>\n",
       "      <td>0.015003</td>\n",
       "      <td>0.233711</td>\n",
       "      <td>0.101969</td>\n",
       "      <td>0.038135</td>\n",
       "      <td>0.011983</td>\n",
       "    </tr>\n",
       "  </tbody>\n",
       "</table>\n",
       "<p>5 rows × 39 columns</p>\n",
       "</div>"
      ],
      "text/plain": [
       "         0         1         2         3         4         5         6   \\\n",
       "0  0.005801  0.072146  0.000415  0.000840  0.010125  0.002309  0.000666   \n",
       "1  0.005801  0.072146  0.000415  0.000840  0.010125  0.002309  0.000666   \n",
       "2  0.002481  0.055554  0.000479  0.000600  0.014260  0.003342  0.000768   \n",
       "3  0.003263  0.071624  0.000434  0.000747  0.009631  0.002052  0.000710   \n",
       "4  0.003263  0.071624  0.000434  0.000747  0.009631  0.002052  0.000710   \n",
       "\n",
       "         7         8         9     ...           29        30        31  \\\n",
       "0  0.039955  0.002259  0.000375    ...     0.000084  0.003046  0.000370   \n",
       "1  0.039955  0.002259  0.000375    ...     0.000084  0.003046  0.000370   \n",
       "2  0.040064  0.003008  0.000461    ...     0.000078  0.004758  0.000424   \n",
       "3  0.024846  0.002095  0.000397    ...     0.000088  0.003270  0.000404   \n",
       "4  0.024846  0.002095  0.000397    ...     0.000088  0.003270  0.000404   \n",
       "\n",
       "         32            33        34        35        36        37        38  \n",
       "0  0.015156  4.917007e-07  0.019820  0.208972  0.066452  0.060734  0.015961  \n",
       "1  0.015156  4.917007e-07  0.019820  0.208972  0.066452  0.060734  0.015961  \n",
       "2  0.011557  5.308493e-07  0.020497  0.196976  0.052907  0.058305  0.006834  \n",
       "3  0.013560  4.888744e-07  0.015003  0.233711  0.101969  0.038135  0.011983  \n",
       "4  0.013560  4.888744e-07  0.015003  0.233711  0.101969  0.038135  0.011983  \n",
       "\n",
       "[5 rows x 39 columns]"
      ]
     },
     "metadata": {},
     "output_type": "display_data"
    }
   ],
   "source": [
    "submission_header = sfp.decode_Y(sgd.classes_).tolist()\n",
    "df_submission = pd.DataFrame(y_predictions_submission)\n",
    "display(df_submission.head())\n",
    "filename = \"model5_sgd.csv\"\n",
    "\n",
    "# uncomment the line below to generate a submission csv\n",
    "# df_submission.to_csv(filename, index=True, index_label=\"Id\", header=submission_header)"
   ]
  },
  {
   "cell_type": "code",
   "execution_count": 20,
   "metadata": {
    "collapsed": false
   },
   "outputs": [
    {
     "data": {
      "text/plain": [
       "(884262, 39)"
      ]
     },
     "execution_count": 20,
     "metadata": {},
     "output_type": "execute_result"
    }
   ],
   "source": [
    "df_submission.shape # should have 884262 predictions"
   ]
  },
  {
   "cell_type": "markdown",
   "metadata": {},
   "source": [
    "This model received a log loss score of 2.70463 (rank 857 on the kaggle leaderboards)."
   ]
  },
  {
   "cell_type": "markdown",
   "metadata": {},
   "source": [
    "### Supplemental notes on how we're preparing submission for kaggle\n",
    "\n",
    "* a header that describes the different categories... \n",
    "* id column (can be done with the to_csv function)\n",
    "* each row is a 39-element vector (probablity for each of the 39 classes for each incident)"
   ]
  },
  {
   "cell_type": "markdown",
   "metadata": {},
   "source": [
    "#### How do we make the header from our predict_proba output?\n",
    "\n",
    "According to the scikit learn documentation, the output is: \"The class probabilities of the input samples. The order of the classes corresponds to that in the attribute classes_\" [Also, thanks stackoverflow for an example.](http://stackoverflow.com/questions/16858652/how-to-find-the-corresponding-class-in-clf-predict-proba/16859091#16859091)"
   ]
  },
  {
   "cell_type": "code",
   "execution_count": 21,
   "metadata": {
    "collapsed": false
   },
   "outputs": [
    {
     "name": "stdout",
     "output_type": "stream",
     "text": [
      "[  5.80069302e-03   7.21458313e-02   4.15405447e-04   8.40223627e-04\n",
      "   1.01249218e-02   2.30874090e-03   6.66100506e-04   3.99545982e-02\n",
      "   2.25866995e-03   3.74982849e-04   1.09899866e-04   5.36267074e-04\n",
      "   3.00154017e-03   4.72567465e-03   3.07224081e-04   3.37277012e-03\n",
      "   7.57358861e-02   2.13599941e-03   1.36372025e-03   6.42623810e-02\n",
      "   6.48572628e-02   2.13111614e-01   5.60001095e-06   5.79988940e-04\n",
      "   2.77053594e-03   1.60323967e-02   5.79997868e-03   1.33781764e-02\n",
      "   2.42706427e-03   8.37817296e-05   3.04613606e-03   3.70366399e-04\n",
      "   1.51557468e-02   4.91700683e-07   1.98196649e-02   2.08972373e-01\n",
      "   6.64518264e-02   6.07339979e-02   1.59614667e-02]\n",
      "[ 0  1  2  3  4  5  6  7  8  9 10 11 12 13 14 15 16 17 18 19 20 21 22 23 24\n",
      " 25 26 27 28 29 30 31 32 33 34 35 36 37 38]\n",
      "['ARSON' 'ASSAULT' 'BAD CHECKS' 'BRIBERY' 'BURGLARY' 'DISORDERLY CONDUCT'\n",
      " 'DRIVING UNDER THE INFLUENCE' 'DRUG/NARCOTIC' 'DRUNKENNESS' 'EMBEZZLEMENT'\n",
      " 'EXTORTION' 'FAMILY OFFENSES' 'FORGERY/COUNTERFEITING' 'FRAUD' 'GAMBLING'\n",
      " 'KIDNAPPING' 'LARCENY/THEFT' 'LIQUOR LAWS' 'LOITERING' 'MISSING PERSON'\n",
      " 'NON-CRIMINAL' 'OTHER OFFENSES' 'PORNOGRAPHY/OBSCENE MAT' 'PROSTITUTION'\n",
      " 'RECOVERED VEHICLE' 'ROBBERY' 'RUNAWAY' 'SECONDARY CODES'\n",
      " 'SEX OFFENSES FORCIBLE' 'SEX OFFENSES NON FORCIBLE' 'STOLEN PROPERTY'\n",
      " 'SUICIDE' 'SUSPICIOUS OCC' 'TREA' 'TRESPASS' 'VANDALISM' 'VEHICLE THEFT'\n",
      " 'WARRANTS' 'WEAPON LAWS']\n"
     ]
    }
   ],
   "source": [
    "print(y_predictions_submission[0]) \n",
    "print(sgd.classes_) \n",
    "print(sfp.decode_Y(sgd.classes_)) # human readable"
   ]
  },
  {
   "cell_type": "markdown",
   "metadata": {},
   "source": [
    "I then prototyped some code to prepare the submission csv. Uncomment if you want to investigate further. (It's currently commented out to prevent the creation of a csv by accident.)"
   ]
  },
  {
   "cell_type": "code",
   "execution_count": 22,
   "metadata": {
    "collapsed": true
   },
   "outputs": [],
   "source": [
    "# Making a test_submission \n",
    "# subset = y_predictions[0:10]\n",
    "# df = pd.DataFrame(subset)\n",
    "# submission_header = sfp.decode_Y(sgd.classes_).tolist()\n",
    "# csv = df.to_csv(\"test_submission.csv\", index=True, index_label=\"Id\", header=submission_header)"
   ]
  },
  {
   "cell_type": "markdown",
   "metadata": {},
   "source": [
    "### Making the outputs human readable\n",
    "\n",
    "Let's print out the top 5 probabilities for a single incident."
   ]
  },
  {
   "cell_type": "code",
   "execution_count": 23,
   "metadata": {
    "collapsed": false
   },
   "outputs": [
    {
     "name": "stdout",
     "output_type": "stream",
     "text": [
      "[('DRUG/NARCOTIC', 0.20727665289618605),\n",
      " ('OTHER OFFENSES', 0.19672752988687622),\n",
      " ('WARRANTS', 0.11101911850634345),\n",
      " ('NON-CRIMINAL', 0.088535933641174056),\n",
      " ('VANDALISM', 0.084257642610765876)]\n"
     ]
    }
   ],
   "source": [
    "a = y_predictions[0]\n",
    "\n",
    "# # strategy from http://stackoverflow.com/questions/6910641/how-to-get-indices-of-n-maximum-values-in-a-numpy-array\n",
    "ind = np.argpartition(a, -5)[-5:]\n",
    "top5_words = sfp.decode_Y(ind)\n",
    "top5 = {}\n",
    "for i in range(len(ind)):\n",
    "    top5[top5_words[i]] = a[ind[i]] \n",
    "\n",
    "import operator\n",
    "sorted_top5 = sorted(top5.items(), key=operator.itemgetter(1), reverse=True)\n",
    "pp.pprint(sorted_top5)\n",
    "\n",
    "# Visualize for a given incident"
   ]
  },
  {
   "cell_type": "code",
   "execution_count": 24,
   "metadata": {
    "collapsed": false
   },
   "outputs": [],
   "source": [
    "# TODO: plot category vs. probability"
   ]
  },
  {
   "cell_type": "code",
   "execution_count": 25,
   "metadata": {
    "collapsed": false
   },
   "outputs": [],
   "source": [
    "def compute_per_class_log_loss(y_predictions, y_test):\n",
    "    # returns a 39-element list of the per_class_log_loss \n",
    "    # (one value per class. the index of the element corresponds with the class numbebr)\n",
    "    per_class_log_loss = []\n",
    "    for c in range(0, 39):\n",
    "        current_class = y_predictions[:, c]\n",
    "        not_current_class = 1 - y_predictions[:, c]\n",
    "\n",
    "        df = pd.DataFrame({\n",
    "                \"truth\" : y_test,\n",
    "                \"current_class\" : current_class,\n",
    "                \"not_current_class\" : not_current_class\n",
    "            })\n",
    "\n",
    "        df.loc[df[\"truth\"] == c, \"binary_truth\"] = 1\n",
    "        df.loc[df[\"truth\"] != c, \"binary_truth\"] = 0\n",
    "\n",
    "        y_binary_truth = np.array(df[\"binary_truth\"])\n",
    "        y_binary_predictions = np.array(pd.concat([df[\"current_class\"], df[\"not_current_class\"]], axis=1))\n",
    "\n",
    "        current_class_log_loss = log_loss(y_binary_truth, y_binary_predictions)\n",
    "        per_class_log_loss.append(current_class_log_loss)\n",
    "    return per_class_log_loss"
   ]
  },
  {
   "cell_type": "code",
   "execution_count": 26,
   "metadata": {
    "collapsed": false
   },
   "outputs": [
    {
     "data": {
      "text/plain": [
       "[5.8461713306073575,\n",
       " 2.4677249403370842,\n",
       " 7.1695826550886563,\n",
       " 7.5910918662716993,\n",
       " 3.7161016168640173,\n",
       " 5.2118299785538262,\n",
       " 6.5408377408633633,\n",
       " 2.9710537223892954,\n",
       " 5.5636147101990714,\n",
       " 6.7215991714959351,\n",
       " 8.3357561451932707,\n",
       " 7.5894916192771724,\n",
       " 4.4561356392751001,\n",
       " 3.9937542955526966,\n",
       " 8.2043306236249816,\n",
       " 5.8173442831535072,\n",
       " 1.6921075256769256,\n",
       " 5.980026361404911,\n",
       " 6.1523942977755528,\n",
       " 3.3286759437594142,\n",
       " 2.0423315871700343,\n",
       " 1.5060010285177039,\n",
       " 10.564663378835666,\n",
       " 5.7770120544017898,\n",
       " 5.9610742208985421,\n",
       " 3.8173224140904161,\n",
       " 6.3316033956432705,\n",
       " 4.6411556644329917,\n",
       " 5.4295568782069328,\n",
       " 8.7778326570146277,\n",
       " 5.3837153133006206,\n",
       " 7.6707929217419313,\n",
       " 3.6706031899841438,\n",
       " 12.027566074836754,\n",
       " 3.9655811736775983,\n",
       " 2.2105913751464552,\n",
       " 3.0387141080650042,\n",
       " 2.7235670185802219,\n",
       " 4.6829693688707241]"
      ]
     },
     "metadata": {},
     "output_type": "display_data"
    }
   ],
   "source": [
    "per_class_log_loss = compute_per_class_log_loss(y_predictions, y_test)\n",
    "display(per_class_log_loss)"
   ]
  },
  {
   "cell_type": "markdown",
   "metadata": {},
   "source": [
    "Let's plot these values on a scatter plot for a quick overview of the 39 values for per class log loss."
   ]
  },
  {
   "cell_type": "code",
   "execution_count": 27,
   "metadata": {
    "collapsed": false
   },
   "outputs": [
    {
     "data": {
      "image/png": "[encoded data removed]",
      "text/plain": [
       "<matplotlib.figure.Figure at 0x11b422750>"
      ]
     },
     "metadata": {},
     "output_type": "display_data"
    }
   ],
   "source": [
    "plt.scatter(range(0,39), per_class_log_loss)\n",
    "plt.xlabel(\"category #\")\n",
    "plt.ylabel(\"per_class_log_loss\")\n",
    "plt.show()"
   ]
  },
  {
   "cell_type": "markdown",
   "metadata": {},
   "source": [
    "It looks like our NB model is worst at predicting class 33 (TREA) and 22 (PORNOGRAHY/OBSCENE MAT) and is the best at predicting the most common classes 16 (LARCENY/THEFT) and 1 (ASSAULT). Classes 33 and 22 also happen to be the categories with the least amount of incidents in the training dataset. \n",
    "\n",
    "The next steps would be to explore how these classes are different from the other classes, and find different ways to represent these data points to make better predictions. "
   ]
  },
  {
   "cell_type": "markdown",
   "metadata": {},
   "source": [
    "We could also find summary statistics for the per-class log loss (what's the average log loss value? etc).\n",
    "\n",
    "log loss has been a tough error metric to grasp conceptually... I'm a bit shaky on what it means to have a high or low log loss score, comparing log loss scores to each other, and so on. "
   ]
  },
  {
   "cell_type": "markdown",
   "metadata": {},
   "source": [
    "Feb 17, 2016\n",
    "\n",
    "#### Returning a sorted list of per-class log loss"
   ]
  },
  {
   "cell_type": "code",
   "execution_count": 28,
   "metadata": {
    "collapsed": false
   },
   "outputs": [],
   "source": [
    "def sorted_perclass_logloss(labelstrs, log_losses):\n",
    "    spl = []\n",
    "    for i in range(len(labelstrs)):\n",
    "        spl.append([labels[i], \"CLASS \" + str(i), log_losses[i]])\n",
    "    spl = sorted(spl, key=lambda x: x[2]) # sort by the class' log loss value (the 2nd element in the list within)\n",
    "    return spl\n",
    "\n",
    "def n_highest_perclass_logloss(spl, n=39):\n",
    "    # if no n is specified, this function returns the entire list sorted from highest to lowest perclass logloss\n",
    "    reversed_spl = list(reversed(spl))\n",
    "    return reversed_spl[0:n]\n",
    "\n",
    "def n_lowest_perclass_logloss(spl, n=39):\n",
    "    # if no n is specified, this function returns the entire list sorted from lowest to highest perclass logloss\n",
    "    # spl is already in order from lowest to highest perclass logloss value\n",
    "    return spl[0:n]"
   ]
  },
  {
   "cell_type": "code",
   "execution_count": 29,
   "metadata": {
    "collapsed": false
   },
   "outputs": [],
   "source": [
    "labels = sfp.decode_Y(sgd.classes_)\n",
    "spl = sorted_perclass_logloss(labels, per_class_log_loss)"
   ]
  },
  {
   "cell_type": "markdown",
   "metadata": {},
   "source": [
    "#### Classes with the largest perclass logloss values\n",
    "\n",
    "These are the classes which the model has been doing the (relative) worst on classifying correctly."
   ]
  },
  {
   "cell_type": "code",
   "execution_count": 30,
   "metadata": {
    "collapsed": false
   },
   "outputs": [
    {
     "name": "stdout",
     "output_type": "stream",
     "text": [
      "[['TREA', 'CLASS 33', 12.027566074836754],\n",
      " ['PORNOGRAPHY/OBSCENE MAT', 'CLASS 22', 10.564663378835666],\n",
      " ['SEX OFFENSES NON FORCIBLE', 'CLASS 29', 8.7778326570146277],\n",
      " ['EXTORTION', 'CLASS 10', 8.3357561451932707],\n",
      " ['GAMBLING', 'CLASS 14', 8.2043306236249816]]\n"
     ]
    }
   ],
   "source": [
    "pp.pprint(n_highest_perclass_logloss(spl, 5))"
   ]
  },
  {
   "cell_type": "markdown",
   "metadata": {},
   "source": [
    "#### Classes with the lowest perclass logloss values\n",
    "\n",
    "These are the classes which the model has been doing the (relative) best at classifying corectly."
   ]
  },
  {
   "cell_type": "code",
   "execution_count": 31,
   "metadata": {
    "collapsed": false
   },
   "outputs": [
    {
     "name": "stdout",
     "output_type": "stream",
     "text": [
      "[['OTHER OFFENSES', 'CLASS 21', 1.5060010285177039],\n",
      " ['LARCENY/THEFT', 'CLASS 16', 1.6921075256769256],\n",
      " ['NON-CRIMINAL', 'CLASS 20', 2.0423315871700343],\n",
      " ['VANDALISM', 'CLASS 35', 2.2105913751464552],\n",
      " ['ASSAULT', 'CLASS 1', 2.4677249403370842]]\n"
     ]
    }
   ],
   "source": [
    "pp.pprint(n_lowest_perclass_logloss(spl, 5))"
   ]
  },
  {
   "cell_type": "markdown",
   "metadata": {},
   "source": [
    "### k-fold cross validation\n",
    "\n",
    "As an alternative validation method to the single test train split we did earlier in the notebook... As a first step I'd like to implement the k-fold cross-validation with a SGD classifier, make predictions on the data in test.csv, and submit to kaggle to compare the results from when we did the single test train split.\n",
    "\n",
    "Warning: This is going back to an earlier stage in the predictive modelling pipeline; please don't mix up the variables after this cell with the work done above!"
   ]
  },
  {
   "cell_type": "markdown",
   "metadata": {},
   "source": [
    "For every fold, a model is trained using k-1 of the folds as training data. This model is then validated on the one fold that was not used for training. The log loss of the model is an average of the log losses for all the folds. This way we don't need to reserve a validation set and suffer the consequences of having datasets with relatively few incidents to train on.\n",
    "\n",
    "We can compare the cross validation scores between different classifiers (SGD, Random Forest, Decision Tree, Naive Bayes, etc) and get more metrics on how the models are performing. These metrics will then inform us to pick a model with which to fit the entire dataset (and then apply this model to the test.csv dataset).\n",
    "\n",
    "[The responses to this stackoverflow post](http://stackoverflow.com/questions/32700797/saving-a-cross-validation-trained-model-in-scikit) helped clarify what role cross validation has in the process (you do cross validation when trying out models and then train the classifier using the entire training dataset if it has nice results during cross validation)."
   ]
  },
  {
   "cell_type": "markdown",
   "metadata": {},
   "source": [
    "#### k fold cross validation for the models we tried earlier in this notebook\n",
    "\n",
    "The intent here is for k fold cross validation to help us observe the effects of hyperparameters and compare performance between models trained with the same X. "
   ]
  },
  {
   "cell_type": "code",
   "execution_count": 32,
   "metadata": {
    "collapsed": true
   },
   "outputs": [],
   "source": [
    "# instantiating sfp, X, and y again\n",
    "sfp = SFP(train)\n",
    "X = sfp.concat_features()\n",
    "y = sfp.encode_Y(train.Category)\n",
    "X.rename(columns = {'Dates':'Hour'}, inplace = True)"
   ]
  },
  {
   "cell_type": "code",
   "execution_count": 33,
   "metadata": {
    "collapsed": true
   },
   "outputs": [],
   "source": [
    "# relevant cross validation parameters\n",
    "k = 5 # number of folds for k fold cross validation"
   ]
  },
  {
   "cell_type": "code",
   "execution_count": 34,
   "metadata": {
    "collapsed": true
   },
   "outputs": [],
   "source": [
    "# helper function for running cross_val_score and printing results\n",
    "def cvs(clf, desired_k):\n",
    "    # cvs is an abbreviation for cross validation score\n",
    "    scores = cross_validation.cross_val_score(clf, X, y, scoring=\"log_loss\", cv=desired_k)\n",
    "    print(\"(k fold cross validation) log loss: %0.2f (+/- %0.2f)\" % (-1 * scores.mean(), scores.std() * 2))\n",
    "    return"
   ]
  },
  {
   "cell_type": "markdown",
   "metadata": {},
   "source": [
    "Occasional issue with the classifiers that came up while prototyping this code with `cv = 10`: \n",
    "Sometimes the folds don't have incidents from all 39 classes; wondering if there's some way to guarantee this. I know that test_train_split has a some stratification parameter, but this doesn't seem to be the case with cross_val_score. :l\n",
    "\n",
    "To explain the `-1 * scores.mean()` in the cvs function's print statement: \n",
    "The log loss returned by cross_val_score is negative... this is a notation thing with sk learn. Apparently with the sk learn scoring API, the score thata is returned is negated when it is a score that should be minimized (this is the case with log loss) and left positive if it is a score that should be mximized. The actual log loss is the positive version of this number. [Thanks to this stackoverflow post for clarifying; this particular question is about MSE but the same issue came up with negative values being returned.](https://stackoverflow.com/questions/21443865/scikit-learn-cross-validation-negative-values-with-mean-squared-error)\n",
    "\n",
    "Note: \n",
    "The baseline model we made isn't included in the cells below; if desired we can try making a clf wrapper for it to feed into cross_val_score.\n"
   ]
  },
  {
   "cell_type": "markdown",
   "metadata": {},
   "source": [
    "#### Decision Tree"
   ]
  },
  {
   "cell_type": "code",
   "execution_count": 35,
   "metadata": {
    "collapsed": false
   },
   "outputs": [
    {
     "name": "stdout",
     "output_type": "stream",
     "text": [
      "(k fold cross validation) log loss: 2.95 (+/- 0.05)\n"
     ]
    }
   ],
   "source": [
    "clf = tree.DecisionTreeClassifier()\n",
    "cvs(clf, k)"
   ]
  },
  {
   "cell_type": "markdown",
   "metadata": {},
   "source": [
    "#### Random Forest"
   ]
  },
  {
   "cell_type": "code",
   "execution_count": 36,
   "metadata": {
    "collapsed": false,
    "scrolled": true
   },
   "outputs": [
    {
     "name": "stdout",
     "output_type": "stream",
     "text": [
      "(k fold cross validation) log loss: 2.95 (+/- 0.05)\n"
     ]
    }
   ],
   "source": [
    "clf = RandomForestClassifier(random_state=1, n_estimators=10, min_samples_split=4, min_samples_leaf=1) \n",
    "cvs(clf, k)"
   ]
  },
  {
   "cell_type": "markdown",
   "metadata": {},
   "source": [
    "#### Stochastic Gradient Descent"
   ]
  },
  {
   "cell_type": "code",
   "execution_count": 37,
   "metadata": {
    "collapsed": false
   },
   "outputs": [
    {
     "name": "stdout",
     "output_type": "stream",
     "text": [
      "(k fold cross validation) log loss: 2.76 (+/- 0.08)\n"
     ]
    }
   ],
   "source": [
    "clf = SGDClassifier(loss=\"log\", penalty=\"l2\")\n",
    "cvs(clf, k)"
   ]
  },
  {
   "cell_type": "markdown",
   "metadata": {},
   "source": [
    "#### Naive Bayes"
   ]
  },
  {
   "cell_type": "code",
   "execution_count": 38,
   "metadata": {
    "collapsed": false,
    "scrolled": true
   },
   "outputs": [
    {
     "name": "stdout",
     "output_type": "stream",
     "text": [
      "(k fold cross validation) log loss: 2.61 (+/- 0.02)\n"
     ]
    }
   ],
   "source": [
    "clf = BernoulliNB()\n",
    "cvs(clf, k)"
   ]
  },
  {
   "cell_type": "markdown",
   "metadata": {},
   "source": [
    "Overall, the trend in the k fold cross validation log loss values between these different classifiers matched the trend we saw with the simple 40/60 test train split. Naive Bayes is still in the lead, with SGD performing only slightly worse. The Decision Tree and Random Forest models had the same log loss value. "
   ]
  },
  {
   "cell_type": "markdown",
   "metadata": {},
   "source": [
    "### Next Steps?\n",
    "\n",
    "#### Doing some more feature engineering; comparing the performance of the model with different feature combinations\n",
    "* Especially to help the classes with the highest perclass logloss values\n",
    "\n",
    "#### Visualizing the performance of our models\n",
    "\n",
    "Ideas! (some of these can build from the work done earlier in this notebook)\n",
    "* Plot the log loss values of different classifiers\n",
    "* Compare training performance vs. kaggle performance\n",
    "* Compare classifiers with different hyperparameter values used\n",
    "* Summary statistics\n",
    "* Making a confusion matrix. [See the example on the sk learn website.](http://scikit-learn.org/stable/auto_examples/model_selection/plot_confusion_matrix.html)"
   ]
  },
  {
   "cell_type": "markdown",
   "metadata": {},
   "source": [
    "Still kind of fuzzy on the log_loss metric as a means of understanding the accuracy of our model. Our baseline was developed under the assumption that all crimes are actual \"LACENCY/THEFT\" and our score was shown above to be around 27.65.  "
   ]
  },
  {
   "cell_type": "markdown",
   "metadata": {},
   "source": [
    "Focus on the \"focus of impact\" aspect of project. Goal of reccommending districts where the plice forces can redistribute their forces. This may include certain map vizualizations of the districts and time. For a specific time (day or hour) suggest what crime and what location (district) it may occur.\n",
    "\n",
    "Look at the effect of a given crime at a district. --> Potentially descriptive provision of solution (training, preparation etc.) that is going to be more exploratory. Consider different facets of training that a PD district can take into account. "
   ]
  },
  {
   "cell_type": "markdown",
   "metadata": {},
   "source": []
  },
  {
   "cell_type": "markdown",
   "metadata": {},
   "source": [
    "### Ensemble Example"
   ]
  },
  {
   "cell_type": "code",
   "execution_count": 39,
   "metadata": {
    "collapsed": true
   },
   "outputs": [],
   "source": [
    "# todo"
   ]
  },
  {
   "cell_type": "markdown",
   "metadata": {},
   "source": [
    "### A new baseline"
   ]
  },
  {
   "cell_type": "code",
   "execution_count": 40,
   "metadata": {
    "collapsed": false
   },
   "outputs": [
    {
     "data": {
      "text/plain": [
       "LogisticRegression(C=1.0, class_weight=None, dual=False, fit_intercept=True,\n",
       "          intercept_scaling=1, max_iter=100, multi_class='multinomial',\n",
       "          n_jobs=1, penalty='l2', random_state=None, solver='newton-cg',\n",
       "          tol=0.0001, verbose=0, warm_start=False)"
      ]
     },
     "execution_count": 40,
     "metadata": {},
     "output_type": "execute_result"
    }
   ],
   "source": [
    "from sklearn.linear_model import LogisticRegression\n",
    "import numpy as np\n",
    "\n",
    "# Apply a new baseline model with logistic regression that contains no features\n",
    "new_baseline_model = LogisticRegression(multi_class='multinomial', solver='newton-cg')\n",
    "\n",
    "# Fit the data to the model\n",
    "new_baseline_model.fit(np.ones((X_train.shape[0],1)), y_train)"
   ]
  },
  {
   "cell_type": "code",
   "execution_count": 41,
   "metadata": {
    "collapsed": false
   },
   "outputs": [
    {
     "name": "stdout",
     "output_type": "stream",
     "text": [
      "Our baseline aggregate log loss is  2.68000308005\n"
     ]
    }
   ],
   "source": [
    "y_predictions = new_baseline_model.predict_proba(np.zeros((X_test.shape[0],1)))\n",
    "\n",
    "baseline_per_class_log_loss = compute_per_class_log_loss(y_predictions, y_test)\n",
    "baseline_aggregate_log_loss = log_loss(y_test, y_predictions)\n",
    "print \"Our baseline aggregate log loss is \", baseline_aggregate_log_loss"
   ]
  },
  {
   "cell_type": "code",
   "execution_count": 42,
   "metadata": {
    "collapsed": false
   },
   "outputs": [],
   "source": [
    "labels = sfp.decode_Y(new_baseline_model.classes_)\n",
    "spl_base = sorted_perclass_logloss(labels, baseline_per_class_log_loss)"
   ]
  },
  {
   "cell_type": "code",
   "execution_count": 43,
   "metadata": {
    "collapsed": false
   },
   "outputs": [
    {
     "name": "stdout",
     "output_type": "stream",
     "text": [
      "[['TREA', 'CLASS 33', 12.075908716812071],\n",
      " ['PORNOGRAPHY/OBSCENE MAT', 'CLASS 22', 10.46637346282898],\n",
      " ['GAMBLING', 'CLASS 14', 8.6845870878933571],\n",
      " ['SEX OFFENSES NON FORCIBLE', 'CLASS 29', 8.651464898144928],\n",
      " ['EXTORTION', 'CLASS 10', 8.0605792890613301]]\n"
     ]
    }
   ],
   "source": [
    "pp.pprint(n_highest_perclass_logloss(spl_base, 5))"
   ]
  },
  {
   "cell_type": "code",
   "execution_count": 44,
   "metadata": {
    "collapsed": false
   },
   "outputs": [
    {
     "name": "stdout",
     "output_type": "stream",
     "text": [
      "[['LARCENY/THEFT', 'CLASS 16', 1.3363669221467298],\n",
      " ['OTHER OFFENSES', 'CLASS 21', 1.6832714085173539],\n",
      " ['NON-CRIMINAL', 'CLASS 20', 2.0268515268952094],\n",
      " ['ASSAULT', 'CLASS 1', 2.2299783532184332],\n",
      " ['DRUG/NARCOTIC', 'CLASS 7', 2.6240661779641616]]\n"
     ]
    }
   ],
   "source": [
    "pp.pprint(n_lowest_perclass_logloss(spl_base, 5))"
   ]
  },
  {
   "cell_type": "markdown",
   "metadata": {},
   "source": [
    "## Plot sorted baseline log_losses "
   ]
  },
  {
   "cell_type": "code",
   "execution_count": 45,
   "metadata": {
    "collapsed": false
   },
   "outputs": [
    {
     "data": {
      "text/plain": [
       "([<matplotlib.axis.XTick at 0x11b422390>,\n",
       "  <matplotlib.axis.XTick at 0x11b422350>,\n",
       "  <matplotlib.axis.XTick at 0x119bd8390>,\n",
       "  <matplotlib.axis.XTick at 0x1146f5390>,\n",
       "  <matplotlib.axis.XTick at 0x1146f5b10>,\n",
       "  <matplotlib.axis.XTick at 0x11c4082d0>,\n",
       "  <matplotlib.axis.XTick at 0x11c408a50>,\n",
       "  <matplotlib.axis.XTick at 0x11c413210>,\n",
       "  <matplotlib.axis.XTick at 0x11c413990>,\n",
       "  <matplotlib.axis.XTick at 0x11c41b150>,\n",
       "  <matplotlib.axis.XTick at 0x11c41b8d0>,\n",
       "  <matplotlib.axis.XTick at 0x11c426090>,\n",
       "  <matplotlib.axis.XTick at 0x11c426810>,\n",
       "  <matplotlib.axis.XTick at 0x11c426f90>,\n",
       "  <matplotlib.axis.XTick at 0x11c42f750>,\n",
       "  <matplotlib.axis.XTick at 0x11c42fed0>,\n",
       "  <matplotlib.axis.XTick at 0x11c43a690>,\n",
       "  <matplotlib.axis.XTick at 0x11c43ae10>,\n",
       "  <matplotlib.axis.XTick at 0x1177c95d0>,\n",
       "  <matplotlib.axis.XTick at 0x1177c9d50>,\n",
       "  <matplotlib.axis.XTick at 0x1177d4510>,\n",
       "  <matplotlib.axis.XTick at 0x1177d4c90>,\n",
       "  <matplotlib.axis.XTick at 0x1177df450>,\n",
       "  <matplotlib.axis.XTick at 0x1177dfbd0>,\n",
       "  <matplotlib.axis.XTick at 0x1177e8390>,\n",
       "  <matplotlib.axis.XTick at 0x1177e8b10>,\n",
       "  <matplotlib.axis.XTick at 0x1177f22d0>,\n",
       "  <matplotlib.axis.XTick at 0x1177f2a50>,\n",
       "  <matplotlib.axis.XTick at 0x1177fb210>,\n",
       "  <matplotlib.axis.XTick at 0x1177fb990>,\n",
       "  <matplotlib.axis.XTick at 0x117807150>,\n",
       "  <matplotlib.axis.XTick at 0x1178078d0>,\n",
       "  <matplotlib.axis.XTick at 0x114e90090>,\n",
       "  <matplotlib.axis.XTick at 0x114e90810>,\n",
       "  <matplotlib.axis.XTick at 0x114e90f90>,\n",
       "  <matplotlib.axis.XTick at 0x114e9a750>,\n",
       "  <matplotlib.axis.XTick at 0x114e9aed0>,\n",
       "  <matplotlib.axis.XTick at 0x114ea5690>,\n",
       "  <matplotlib.axis.XTick at 0x114ea5e10>],\n",
       " <a list of 39 Text xticklabel objects>)"
      ]
     },
     "execution_count": 45,
     "metadata": {},
     "output_type": "execute_result"
    },
    {
     "data": {
      "image/png": "[encoded data removed]",
      "text/plain": [
       "<matplotlib.figure.Figure at 0x118b13b50>"
      ]
     },
     "metadata": {},
     "output_type": "display_data"
    }
   ],
   "source": [
    "import matplotlib.pyplot as plt\n",
    "import numpy as np\n",
    "\n",
    "sorted_crimes = n_lowest_perclass_logloss(spl_base)\n",
    "y_values = []\n",
    "x_values = []\n",
    "\n",
    "for i in range(len(sorted_crimes)):\n",
    "    y_values.append(sorted_crimes[i][2])\n",
    "    x_values.append(sorted_crimes[i][0])\n",
    "    \n",
    "plt.bar(range(len(sorted_crimes)), y_values, align='center')\n",
    "plt.xticks(range(len(sorted_crimes)), x_values, rotation='vertical')\n"
   ]
  },
  {
   "cell_type": "markdown",
   "metadata": {},
   "source": [
    "After we plotted the log_loss values for our baseline it is time to compare our perclass log_loss of our baseline with one of our models, as shown below."
   ]
  },
  {
   "cell_type": "code",
   "execution_count": null,
   "metadata": {
    "collapsed": true
   },
   "outputs": [],
   "source": [
    "    "
   ]
  },
  {
   "cell_type": "markdown",
   "metadata": {},
   "source": [
    "## Thoughts\n",
    "SFP.prep_hours() API method --> potentially handle \"bin\" input for get_dummies option based on Paul comment on making binarized "
   ]
  }
 ],
 "metadata": {
  "kernelspec": {
   "display_name": "Python 2",
   "language": "python",
   "name": "python2"
  },
  "language_info": {
   "codemirror_mode": {
    "name": "ipython",
    "version": 2
   },
   "file_extension": ".py",
   "mimetype": "text/x-python",
   "name": "python",
   "nbconvert_exporter": "python",
   "pygments_lexer": "ipython2",
   "version": "2.7.11"
  }
 },
 "nbformat": 4,
 "nbformat_minor": 0
}
