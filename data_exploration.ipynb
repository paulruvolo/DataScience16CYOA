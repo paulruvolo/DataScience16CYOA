{
 "cells": [
  {
   "cell_type": "markdown",
   "metadata": {},
   "source": [
    "After importing the appropriate libraries and the train dataset, we can start the exploration."
   ]
  },
  {
   "cell_type": "code",
   "execution_count": 10,
   "metadata": {
    "collapsed": false
   },
   "outputs": [
    {
     "data": {
      "text/html": [
       "<div>\n",
       "<table border=\"1\" class=\"dataframe\">\n",
       "  <thead>\n",
       "    <tr style=\"text-align: right;\">\n",
       "      <th></th>\n",
       "      <th>Dates</th>\n",
       "      <th>Category</th>\n",
       "      <th>Descript</th>\n",
       "      <th>DayOfWeek</th>\n",
       "      <th>PdDistrict</th>\n",
       "      <th>Resolution</th>\n",
       "      <th>Address</th>\n",
       "      <th>X</th>\n",
       "      <th>Y</th>\n",
       "    </tr>\n",
       "  </thead>\n",
       "  <tbody>\n",
       "    <tr>\n",
       "      <th>0</th>\n",
       "      <td>2015-05-13 23:53:00</td>\n",
       "      <td>WARRANTS</td>\n",
       "      <td>WARRANT ARREST</td>\n",
       "      <td>Wednesday</td>\n",
       "      <td>NORTHERN</td>\n",
       "      <td>ARREST, BOOKED</td>\n",
       "      <td>OAK ST / LAGUNA ST</td>\n",
       "      <td>-122.425892</td>\n",
       "      <td>37.774599</td>\n",
       "    </tr>\n",
       "    <tr>\n",
       "      <th>1</th>\n",
       "      <td>2015-05-13 23:53:00</td>\n",
       "      <td>OTHER OFFENSES</td>\n",
       "      <td>TRAFFIC VIOLATION ARREST</td>\n",
       "      <td>Wednesday</td>\n",
       "      <td>NORTHERN</td>\n",
       "      <td>ARREST, BOOKED</td>\n",
       "      <td>OAK ST / LAGUNA ST</td>\n",
       "      <td>-122.425892</td>\n",
       "      <td>37.774599</td>\n",
       "    </tr>\n",
       "  </tbody>\n",
       "</table>\n",
       "</div>"
      ],
      "text/plain": [
       "                Dates        Category                  Descript  DayOfWeek  \\\n",
       "0 2015-05-13 23:53:00        WARRANTS            WARRANT ARREST  Wednesday   \n",
       "1 2015-05-13 23:53:00  OTHER OFFENSES  TRAFFIC VIOLATION ARREST  Wednesday   \n",
       "\n",
       "  PdDistrict      Resolution             Address           X          Y  \n",
       "0   NORTHERN  ARREST, BOOKED  OAK ST / LAGUNA ST -122.425892  37.774599  \n",
       "1   NORTHERN  ARREST, BOOKED  OAK ST / LAGUNA ST -122.425892  37.774599  "
      ]
     },
     "execution_count": 10,
     "metadata": {},
     "output_type": "execute_result"
    }
   ],
   "source": [
    "%matplotlib inline\n",
    "import pandas as pd\n",
    "import seaborn as sns\n",
    "import numpy as np\n",
    "import matplotlib.pyplot as plt\n",
    "import re\n",
    "\n",
    "train=pd.read_csv('train.csv', parse_dates = ['Dates'])\n",
    "train.head(2)"
   ]
  },
  {
   "cell_type": "markdown",
   "metadata": {},
   "source": [
    "I am initially interested in seeing the range of time that this data spans."
   ]
  },
  {
   "cell_type": "code",
   "execution_count": 11,
   "metadata": {
    "collapsed": false
   },
   "outputs": [
    {
     "name": "stdout",
     "output_type": "stream",
     "text": [
      "2015-05-13 23:53:00\n",
      "2003-01-06 00:01:00\n"
     ]
    },
    {
     "data": {
      "text/html": [
       "<div>\n",
       "<table border=\"1\" class=\"dataframe\">\n",
       "  <thead>\n",
       "    <tr style=\"text-align: right;\">\n",
       "      <th></th>\n",
       "      <th>Dates</th>\n",
       "      <th>Category</th>\n",
       "      <th>Descript</th>\n",
       "      <th>DayOfWeek</th>\n",
       "      <th>PdDistrict</th>\n",
       "      <th>Resolution</th>\n",
       "      <th>Address</th>\n",
       "      <th>X</th>\n",
       "      <th>Y</th>\n",
       "      <th>NumDays</th>\n",
       "    </tr>\n",
       "  </thead>\n",
       "  <tbody>\n",
       "    <tr>\n",
       "      <th>0</th>\n",
       "      <td>2015-05-13 23:53:00</td>\n",
       "      <td>WARRANTS</td>\n",
       "      <td>WARRANT ARREST</td>\n",
       "      <td>Wednesday</td>\n",
       "      <td>NORTHERN</td>\n",
       "      <td>ARREST, BOOKED</td>\n",
       "      <td>OAK ST / LAGUNA ST</td>\n",
       "      <td>-122.425892</td>\n",
       "      <td>37.774599</td>\n",
       "      <td>4510</td>\n",
       "    </tr>\n",
       "  </tbody>\n",
       "</table>\n",
       "</div>"
      ],
      "text/plain": [
       "                Dates  Category        Descript  DayOfWeek PdDistrict  \\\n",
       "0 2015-05-13 23:53:00  WARRANTS  WARRANT ARREST  Wednesday   NORTHERN   \n",
       "\n",
       "       Resolution             Address           X          Y  NumDays  \n",
       "0  ARREST, BOOKED  OAK ST / LAGUNA ST -122.425892  37.774599     4510  "
      ]
     },
     "execution_count": 11,
     "metadata": {},
     "output_type": "execute_result"
    }
   ],
   "source": [
    "dates = train['Dates']\n",
    "date_max=dates.max()\n",
    "date_min = dates.min()\n",
    "t_delta=(dates-date_min).astype('timedelta64[D]')\n",
    "train['NumDays']=t_delta\n",
    "print date_max\n",
    "print date_min\n",
    "train.head(1)"
   ]
  },
  {
   "cell_type": "markdown",
   "metadata": {},
   "source": [
    "Now let's have a look at the distribution of crimes by category in the dataset. "
   ]
  },
  {
   "cell_type": "code",
   "execution_count": 12,
   "metadata": {
    "collapsed": false
   },
   "outputs": [
    {
     "data": {
      "image/png": "[encoded data removed]",
      "text/plain": [
       "<matplotlib.figure.Figure at 0x12a49db90>"
      ]
     },
     "metadata": {},
     "output_type": "display_data"
    }
   ],
   "source": [
    "# Set the figure size\n",
    "f = plt.figure(figsize=(10,10))\n",
    "# Use the \"Category\" column from the train dataset and order based on count\n",
    "sns.countplot(y=\"Category\", data=train, order=train.Category.value_counts().index)\n",
    "# Set figure title and dims\n",
    "st = f.suptitle('Number of crimes per category', fontsize=\"x-large\")\n",
    "st.set_y(0.95)\n",
    "f.subplots_adjust(top=0.9)\n",
    "# Save figure as .png\n",
    "f.savefig('Number of crimes per category.png')"
   ]
  },
  {
   "cell_type": "markdown",
   "metadata": {},
   "source": [
    "Taking into account the figure above, I am interested in seeing how given \"Category\" information can be further broken down."
   ]
  },
  {
   "cell_type": "code",
   "execution_count": 13,
   "metadata": {
    "collapsed": false
   },
   "outputs": [],
   "source": [
    "# Count the number of crime \"classes\" - 39 total\n",
    "classCount=train.groupby('Category').size().count()\n",
    "# Now let's see the number of \"Descript\" - 879 total\n",
    "descriptCount=train.groupby('Descript').size().count()"
   ]
  },
  {
   "cell_type": "markdown",
   "metadata": {},
   "source": [
    "Since there are more descriptions than classes, this implies that there are multiple descriptions per class. Looking into \"LARCENY/THEFT\" we can get the following information about the different descriptions."
   ]
  },
  {
   "cell_type": "code",
   "execution_count": 14,
   "metadata": {
    "collapsed": false
   },
   "outputs": [
    {
     "data": {
      "text/plain": [
       "GRAND THEFT FROM LOCKED AUTO      60022\n",
       "PETTY THEFT FROM LOCKED AUTO      19771\n",
       "PETTY THEFT OF PROPERTY           16196\n",
       "GRAND THEFT OF PROPERTY           11010\n",
       "PETTY THEFT FROM A BUILDING       10029\n",
       "PETTY THEFT SHOPLIFTING            9571\n",
       "GRAND THEFT FROM A BUILDING        9512\n",
       "GRAND THEFT FROM PERSON            7061\n",
       "GRAND THEFT PICKPOCKET             5653\n",
       "GRAND THEFT FROM UNLOCKED AUTO     4096\n",
       "Name: Descript, dtype: int64"
      ]
     },
     "execution_count": 14,
     "metadata": {},
     "output_type": "execute_result"
    }
   ],
   "source": [
    "# Look into general THEFT column\n",
    "cat=train[train['Category']=='LARCENY/THEFT']\n",
    "# Find the count for each description in that column\n",
    "c=cat['Descript'].value_counts()\n",
    "# Soft values before rendering\n",
    "c.sort_values(ascending=False)\n",
    "c.head(10)"
   ]
  },
  {
   "cell_type": "markdown",
   "metadata": {},
   "source": [
    "There seems to be a lot of theft. Let's zoom into this a bit more. We will first create bins of 30 days of data."
   ]
  },
  {
   "cell_type": "code",
   "execution_count": 15,
   "metadata": {
    "collapsed": false
   },
   "outputs": [
    {
     "name": "stderr",
     "output_type": "stream",
     "text": [
      "/anaconda/lib/python2.7/site-packages/ipykernel/__main__.py:1: SettingWithCopyWarning: \n",
      "A value is trying to be set on a copy of a slice from a DataFrame.\n",
      "Try using .loc[row_indexer,col_indexer] = value instead\n",
      "\n",
      "See the caveats in the documentation: http://pandas.pydata.org/pandas-docs/stable/indexing.html#indexing-view-versus-copy\n",
      "  if __name__ == '__main__':\n"
     ]
    }
   ],
   "source": [
    "cat['Month']=np.floor(cat['NumDays']/30) # Approximate month (30 day window)\n",
    "\n",
    "district = \"All\""
   ]
  },
  {
   "cell_type": "code",
   "execution_count": 16,
   "metadata": {
    "collapsed": false
   },
   "outputs": [
    {
     "data": {
      "text/html": [
       "<div>\n",
       "<table border=\"1\" class=\"dataframe\">\n",
       "  <thead>\n",
       "    <tr style=\"text-align: right;\">\n",
       "      <th>Descript</th>\n",
       "      <th>ATTEMPTED AUTO STRIP</th>\n",
       "      <th>ATTEMPTED GRAND THEFT FROM PERSON</th>\n",
       "      <th>ATTEMPTED GRAND THEFT PICKPOCKET</th>\n",
       "      <th>ATTEMPTED GRAND THEFT PURSESNATCH</th>\n",
       "      <th>ATTEMPTED MOTORCYCLE STRIP</th>\n",
       "      <th>ATTEMPTED PETTY THEFT OF PROPERTY</th>\n",
       "      <th>ATTEMPTED SHOPLIFTING</th>\n",
       "      <th>ATTEMPTED THEFT COIN OPERATED MACHINE</th>\n",
       "      <th>ATTEMPTED THEFT FROM A BUILDING</th>\n",
       "      <th>ATTEMPTED THEFT FROM LOCKED VEHICLE</th>\n",
       "      <th>...</th>\n",
       "      <th>THEFT, BICYCLE, &lt;$50, SERIAL NUMBER KNOWN</th>\n",
       "      <th>THEFT, BOAT</th>\n",
       "      <th>THEFT, DRUNK ROLL, $200-$400</th>\n",
       "      <th>THEFT, DRUNK ROLL, $50-$200</th>\n",
       "      <th>THEFT, DRUNK ROLL, &lt;$50</th>\n",
       "      <th>THEFT, DRUNK ROLL, &gt;$400</th>\n",
       "      <th>THEFT, GRAND, AGRICULTURAL</th>\n",
       "      <th>THEFT, GRAND, BY FIDUCIARY, &gt;$400 IN 12 MONTHS</th>\n",
       "      <th>THEFT, GRAND, OF FIREARM</th>\n",
       "      <th>TRADE SECRETS, THEFT OR UNAUTHORIZED COPYING</th>\n",
       "    </tr>\n",
       "    <tr>\n",
       "      <th>Month</th>\n",
       "      <th></th>\n",
       "      <th></th>\n",
       "      <th></th>\n",
       "      <th></th>\n",
       "      <th></th>\n",
       "      <th></th>\n",
       "      <th></th>\n",
       "      <th></th>\n",
       "      <th></th>\n",
       "      <th></th>\n",
       "      <th></th>\n",
       "      <th></th>\n",
       "      <th></th>\n",
       "      <th></th>\n",
       "      <th></th>\n",
       "      <th></th>\n",
       "      <th></th>\n",
       "      <th></th>\n",
       "      <th></th>\n",
       "      <th></th>\n",
       "      <th></th>\n",
       "    </tr>\n",
       "  </thead>\n",
       "  <tbody>\n",
       "    <tr>\n",
       "      <th>0</th>\n",
       "      <td>0</td>\n",
       "      <td>0</td>\n",
       "      <td>0</td>\n",
       "      <td>1</td>\n",
       "      <td>0</td>\n",
       "      <td>2</td>\n",
       "      <td>4</td>\n",
       "      <td>0</td>\n",
       "      <td>2</td>\n",
       "      <td>25</td>\n",
       "      <td>...</td>\n",
       "      <td>0</td>\n",
       "      <td>0</td>\n",
       "      <td>0</td>\n",
       "      <td>0</td>\n",
       "      <td>0</td>\n",
       "      <td>0</td>\n",
       "      <td>0</td>\n",
       "      <td>0</td>\n",
       "      <td>0</td>\n",
       "      <td>0</td>\n",
       "    </tr>\n",
       "    <tr>\n",
       "      <th>1</th>\n",
       "      <td>0</td>\n",
       "      <td>0</td>\n",
       "      <td>1</td>\n",
       "      <td>0</td>\n",
       "      <td>0</td>\n",
       "      <td>2</td>\n",
       "      <td>4</td>\n",
       "      <td>0</td>\n",
       "      <td>0</td>\n",
       "      <td>48</td>\n",
       "      <td>...</td>\n",
       "      <td>0</td>\n",
       "      <td>0</td>\n",
       "      <td>0</td>\n",
       "      <td>0</td>\n",
       "      <td>0</td>\n",
       "      <td>0</td>\n",
       "      <td>0</td>\n",
       "      <td>0</td>\n",
       "      <td>0</td>\n",
       "      <td>0</td>\n",
       "    </tr>\n",
       "  </tbody>\n",
       "</table>\n",
       "<p>2 rows × 60 columns</p>\n",
       "</div>"
      ],
      "text/plain": [
       "Descript  ATTEMPTED AUTO STRIP  ATTEMPTED GRAND THEFT FROM PERSON  \\\n",
       "Month                                                               \n",
       "0                            0                                  0   \n",
       "1                            0                                  0   \n",
       "\n",
       "Descript  ATTEMPTED GRAND THEFT PICKPOCKET  ATTEMPTED GRAND THEFT PURSESNATCH  \\\n",
       "Month                                                                           \n",
       "0                                        0                                  1   \n",
       "1                                        1                                  0   \n",
       "\n",
       "Descript  ATTEMPTED MOTORCYCLE STRIP  ATTEMPTED PETTY THEFT OF PROPERTY  \\\n",
       "Month                                                                     \n",
       "0                                  0                                  2   \n",
       "1                                  0                                  2   \n",
       "\n",
       "Descript  ATTEMPTED SHOPLIFTING  ATTEMPTED THEFT COIN OPERATED MACHINE  \\\n",
       "Month                                                                    \n",
       "0                             4                                      0   \n",
       "1                             4                                      0   \n",
       "\n",
       "Descript  ATTEMPTED THEFT FROM A BUILDING  \\\n",
       "Month                                       \n",
       "0                                       2   \n",
       "1                                       0   \n",
       "\n",
       "Descript  ATTEMPTED THEFT FROM LOCKED VEHICLE  \\\n",
       "Month                                           \n",
       "0                                          25   \n",
       "1                                          48   \n",
       "\n",
       "Descript                      ...                       \\\n",
       "Month                         ...                        \n",
       "0                             ...                        \n",
       "1                             ...                        \n",
       "\n",
       "Descript  THEFT, BICYCLE, <$50, SERIAL NUMBER KNOWN  THEFT, BOAT  \\\n",
       "Month                                                              \n",
       "0                                                 0            0   \n",
       "1                                                 0            0   \n",
       "\n",
       "Descript  THEFT, DRUNK ROLL, $200-$400  THEFT, DRUNK ROLL, $50-$200  \\\n",
       "Month                                                                 \n",
       "0                                    0                            0   \n",
       "1                                    0                            0   \n",
       "\n",
       "Descript  THEFT, DRUNK ROLL, <$50  THEFT, DRUNK ROLL, >$400  \\\n",
       "Month                                                         \n",
       "0                               0                         0   \n",
       "1                               0                         0   \n",
       "\n",
       "Descript  THEFT, GRAND, AGRICULTURAL  \\\n",
       "Month                                  \n",
       "0                                  0   \n",
       "1                                  0   \n",
       "\n",
       "Descript  THEFT, GRAND, BY FIDUCIARY, >$400 IN 12 MONTHS  \\\n",
       "Month                                                      \n",
       "0                                                      0   \n",
       "1                                                      0   \n",
       "\n",
       "Descript  THEFT, GRAND, OF FIREARM  \\\n",
       "Month                                \n",
       "0                                0   \n",
       "1                                0   \n",
       "\n",
       "Descript  TRADE SECRETS, THEFT OR UNAUTHORIZED COPYING  \n",
       "Month                                                   \n",
       "0                                                    0  \n",
       "1                                                    0  \n",
       "\n",
       "[2 rows x 60 columns]"
      ]
     },
     "execution_count": 16,
     "metadata": {},
     "output_type": "execute_result"
    }
   ],
   "source": [
    "def timeseries(dat,per):\n",
    "    ''' Category grouped by month '''\n",
    "    \n",
    "    # Group by month and district \n",
    "    cat_per_time=dat.groupby('Month').Descript.value_counts(sort=True)\n",
    "    t=cat_per_time.unstack().fillna(0)\n",
    "        \n",
    "    # Filter by month per district\n",
    "    crime_sum=t.sum(axis=0)\n",
    "    crime_sum.sort_values()\n",
    "    \n",
    "    # Large number, so let's slice the data.\n",
    "    p=np.percentile(crime_sum,per)\n",
    "    ix=crime_sum[crime_sum>p]\n",
    "    t=t[ix.index]\n",
    "    return t\n",
    "    \n",
    "t_all=timeseries(cat,0)\n",
    "t_all.head(2)"
   ]
  },
  {
   "cell_type": "code",
   "execution_count": 17,
   "metadata": {
    "collapsed": false
   },
   "outputs": [
    {
     "data": {
      "text/plain": [
       "Descript\n",
       "GRAND THEFT FROM LOCKED AUTO    60022\n",
       "PETTY THEFT FROM LOCKED AUTO    19771\n",
       "PETTY THEFT OF PROPERTY         16196\n",
       "GRAND THEFT OF PROPERTY         11010\n",
       "PETTY THEFT FROM A BUILDING     10029\n",
       "dtype: float64"
      ]
     },
     "execution_count": 17,
     "metadata": {},
     "output_type": "execute_result"
    }
   ],
   "source": [
    "# Total incidents per column - and sort by respective number\n",
    "c = t_all.sum(axis = 0)\n",
    "c.sort_values(ascending=False).head(5)"
   ]
  },
  {
   "cell_type": "markdown",
   "metadata": {},
   "source": [
    "After taking a look at a resource I found online, we can group by types of theft incidents into broader groups. First let's list all scenaria. "
   ]
  },
  {
   "cell_type": "code",
   "execution_count": 18,
   "metadata": {
    "collapsed": false
   },
   "outputs": [
    {
     "data": {
      "text/plain": [
       "Index([u'ATTEMPTED AUTO STRIP', u'ATTEMPTED GRAND THEFT FROM PERSON',\n",
       "       u'ATTEMPTED GRAND THEFT PICKPOCKET',\n",
       "       u'ATTEMPTED GRAND THEFT PURSESNATCH', u'ATTEMPTED MOTORCYCLE STRIP',\n",
       "       u'ATTEMPTED PETTY THEFT OF PROPERTY', u'ATTEMPTED SHOPLIFTING',\n",
       "       u'ATTEMPTED THEFT COIN OPERATED MACHINE',\n",
       "       u'ATTEMPTED THEFT FROM A BUILDING',\n",
       "       u'ATTEMPTED THEFT FROM LOCKED VEHICLE',\n",
       "       u'ATTEMPTED THEFT FROM UNLOCKED VEHICLE',\n",
       "       u'ATTEMPTED THEFT OF A BICYCLE',\n",
       "       u'EMBEZZLEMENT FROM DEPENDENT OR ELDER ADULT BY CARETAKER',\n",
       "       u'GRAND THEFT AUTO STRIP', u'GRAND THEFT BICYCLE',\n",
       "       u'GRAND THEFT BY PROSTITUTE', u'GRAND THEFT COIN OPERATED MACHINE',\n",
       "       u'GRAND THEFT FROM A BUILDING', u'GRAND THEFT FROM LOCKED AUTO',\n",
       "       u'GRAND THEFT FROM PERSON', u'GRAND THEFT FROM UNLOCKED AUTO',\n",
       "       u'GRAND THEFT MOTORCYCLE STRIP', u'GRAND THEFT OF PROPERTY',\n",
       "       u'GRAND THEFT PHONE BOOTH', u'GRAND THEFT PICKPOCKET',\n",
       "       u'GRAND THEFT PURSESNATCH', u'GRAND THEFT SHOPLIFTING',\n",
       "       u'LICENSE PLATE OR TAB, THEFT OF', u'LOST PROPERTY, GRAND THEFT',\n",
       "       u'LOST PROPERTY, PETTY THEFT', u'PETTY THEFT AUTO STRIP',\n",
       "       u'PETTY THEFT BICYCLE', u'PETTY THEFT COIN OPERATED MACHINE',\n",
       "       u'PETTY THEFT FROM A BUILDING', u'PETTY THEFT FROM LOCKED AUTO',\n",
       "       u'PETTY THEFT FROM UNLOCKED AUTO', u'PETTY THEFT MOTORCYCLE STRIP',\n",
       "       u'PETTY THEFT OF PROPERTY', u'PETTY THEFT PHONE BOOTH',\n",
       "       u'PETTY THEFT SHOPLIFTING', u'PETTY THEFT WITH PRIOR',\n",
       "       u'THEFT FROM MERCHANT OR LIBRARY', u'THEFT OF ANIMALS (GENERAL)',\n",
       "       u'THEFT OF CHECKS OR CREDIT CARDS',\n",
       "       u'THEFT OF COMPUTERS OR CELL PHONES',\n",
       "       u'THEFT OF TELECOMMUNICATION SERVICES, INCL. CLONE PHONE',\n",
       "       u'THEFT OF UTILITY SERVICES', u'THEFT OF WRITTEN INSTRUMENT',\n",
       "       u'THEFT, ANIMAL, ATT.', u'THEFT, BICYCLE, <$50, NO SERIAL NUMBER',\n",
       "       u'THEFT, BICYCLE, <$50, SERIAL NUMBER KNOWN', u'THEFT, BOAT',\n",
       "       u'THEFT, DRUNK ROLL, $200-$400', u'THEFT, DRUNK ROLL, $50-$200',\n",
       "       u'THEFT, DRUNK ROLL, <$50', u'THEFT, DRUNK ROLL, >$400',\n",
       "       u'THEFT, GRAND, AGRICULTURAL',\n",
       "       u'THEFT, GRAND, BY FIDUCIARY, >$400 IN 12 MONTHS',\n",
       "       u'THEFT, GRAND, OF FIREARM',\n",
       "       u'TRADE SECRETS, THEFT OR UNAUTHORIZED COPYING'],\n",
       "      dtype='object', name=u'Descript')"
      ]
     },
     "execution_count": 18,
     "metadata": {},
     "output_type": "execute_result"
    }
   ],
   "source": [
    "c.index"
   ]
  },
  {
   "cell_type": "code",
   "execution_count": 19,
   "metadata": {
    "collapsed": true
   },
   "outputs": [],
   "source": [
    "auto_grand=['GRAND THEFT FROM LOCKED AUTO',\n",
    "                    'GRAND THEFT FROM UNLOCKED AUTO',\n",
    "                    'ATTEMPTED THEFT FROM LOCKED VEHICLE',\n",
    "                    'ATTEMPTED THEFT FROM UNLOCKED VEHICLE',\n",
    "                    'GRAND THEFT AUTO STRIP',\n",
    "                    'ATTEMPTED AUTO STRIP',\n",
    "                    'GRAND THEFT MOTORCYCLE STRIP']\n",
    "\n",
    "auto_petty=['PETTY THEFT FROM LOCKED AUTO',\n",
    "               'PETTY THEFT FROM UNLOCKED AUTO',\n",
    "               'PETTY THEFT AUTO STRIP']\n",
    "\n",
    "auto=auto_petty+auto_grand"
   ]
  },
  {
   "cell_type": "markdown",
   "metadata": {},
   "source": [
    "In additio to cars, we know that people love bikes in SF, therefore:"
   ]
  },
  {
   "cell_type": "code",
   "execution_count": 20,
   "metadata": {
    "collapsed": true
   },
   "outputs": [],
   "source": [
    "bike=['GRAND THEFT BICYCLE',\n",
    "      'PETTY THEFT BICYCLE',\n",
    "      'ATTEMPTED THEFT OF A BICYCLE',\n",
    "      'THEFT, BICYCLE, <$50, NO SERIAL NUMBER',\n",
    "      'THEFT, BICYCLE, <$50, SERIAL NUMBER KNOWN']"
   ]
  },
  {
   "cell_type": "code",
   "execution_count": 21,
   "metadata": {
    "collapsed": true
   },
   "outputs": [],
   "source": [
    "building=['GRAND THEFT FROM A BUILDING',\n",
    "          'PETTY THEFT FROM A BUILDING',\n",
    "          'ATTEMPTED THEFT FROM A BUILDING']"
   ]
  },
  {
   "cell_type": "code",
   "execution_count": 22,
   "metadata": {
    "collapsed": true
   },
   "outputs": [],
   "source": [
    "prop=['GRAND THEFT OF PROPERTY',\n",
    "              'ATTEMPTED PETTY THEFT OF PROPERTY']"
   ]
  },
  {
   "cell_type": "code",
   "execution_count": 23,
   "metadata": {
    "collapsed": true
   },
   "outputs": [],
   "source": [
    "shoplift=['PETTY THEFT SHOPLIFTING',\n",
    "          'GRAND THEFT SHOPLIFTING',\n",
    "          'ATTEMPTED SHOPLIFTING']"
   ]
  },
  {
   "cell_type": "code",
   "execution_count": 24,
   "metadata": {
    "collapsed": true
   },
   "outputs": [],
   "source": [
    "person=['GRAND THEFT FROM PERSON',\n",
    "               'GRAND THEFT PICKPOCKET',\n",
    "               'ATTEMPTED GRAND THEFT FROM PERSON',\n",
    "               'GRAND THEFT PURSESNATCH',\n",
    "               'ATTEMPTED GRAND THEFT PURSESNATCH',\n",
    "               'ATTEMPTED GRAND THEFT PICKPOCKET',\n",
    "               'ATTEMPTED GRAND THEFT FROM PERSON']"
   ]
  },
  {
   "cell_type": "code",
   "execution_count": 26,
   "metadata": {
    "collapsed": false
   },
   "outputs": [
    {
     "ename": "NameError",
     "evalue": "name 'date' is not defined",
     "output_type": "error",
     "traceback": [
      "\u001b[0;31m---------------------------------------------------------------------------\u001b[0m",
      "\u001b[0;31mNameError\u001b[0m                                 Traceback (most recent call last)",
      "\u001b[0;32m<ipython-input-26-964b447fb987>\u001b[0m in \u001b[0;36m<module>\u001b[0;34m()\u001b[0m\n\u001b[1;32m      1\u001b[0m \u001b[0;31m# Lets use real dates for plotting\u001b[0m\u001b[0;34m\u001b[0m\u001b[0;34m\u001b[0m\u001b[0m\n\u001b[1;32m      2\u001b[0m \u001b[0mdays_from_start\u001b[0m\u001b[0;34m=\u001b[0m\u001b[0mpd\u001b[0m\u001b[0;34m.\u001b[0m\u001b[0mSeries\u001b[0m\u001b[0;34m(\u001b[0m\u001b[0mt_all\u001b[0m\u001b[0;34m.\u001b[0m\u001b[0mindex\u001b[0m\u001b[0;34m*\u001b[0m\u001b[0;36m30\u001b[0m\u001b[0;34m)\u001b[0m\u001b[0;34m.\u001b[0m\u001b[0mastype\u001b[0m\u001b[0;34m(\u001b[0m\u001b[0;34m'timedelta64[D]'\u001b[0m\u001b[0;34m)\u001b[0m\u001b[0;34m\u001b[0m\u001b[0m\n\u001b[0;32m----> 3\u001b[0;31m \u001b[0mdates_for_plot\u001b[0m\u001b[0;34m=\u001b[0m\u001b[0mdate\u001b[0m\u001b[0;34m.\u001b[0m\u001b[0mmin\u001b[0m\u001b[0;34m(\u001b[0m\u001b[0;34m)\u001b[0m\u001b[0;34m+\u001b[0m\u001b[0mdays_from_start\u001b[0m\u001b[0;34m\u001b[0m\u001b[0m\n\u001b[0m\u001b[1;32m      4\u001b[0m \u001b[0mtime_labels\u001b[0m\u001b[0;34m=\u001b[0m\u001b[0mdates_for_plot\u001b[0m\u001b[0;34m.\u001b[0m\u001b[0mmap\u001b[0m\u001b[0;34m(\u001b[0m\u001b[0;32mlambda\u001b[0m \u001b[0mx\u001b[0m\u001b[0;34m:\u001b[0m \u001b[0mstr\u001b[0m\u001b[0;34m(\u001b[0m\u001b[0mx\u001b[0m\u001b[0;34m.\u001b[0m\u001b[0myear\u001b[0m\u001b[0;34m)\u001b[0m\u001b[0;34m+\u001b[0m\u001b[0;34m'-'\u001b[0m\u001b[0;34m+\u001b[0m\u001b[0mstr\u001b[0m\u001b[0;34m(\u001b[0m\u001b[0mx\u001b[0m\u001b[0;34m.\u001b[0m\u001b[0mmonth\u001b[0m\u001b[0;34m)\u001b[0m\u001b[0;34m)\u001b[0m\u001b[0;34m\u001b[0m\u001b[0m\n\u001b[1;32m      5\u001b[0m \u001b[0;34m\u001b[0m\u001b[0m\n",
      "\u001b[0;31mNameError\u001b[0m: name 'date' is not defined"
     ]
    }
   ],
   "source": [
    "# Lets use real dates for plotting\n",
    "days_from_start=pd.Series(t_all.index*30).astype('timedelta64[D]')\n",
    "dates_for_plot=date.min()+days_from_start\n",
    "time_labels=dates_for_plot.map(lambda x: str(x.year)+'-'+str(x.month))\n",
    "\n",
    "def theft_analysis(t,district,plot, normal, legendShow):\n",
    "    t['AUTO']=t[map(lambda s: s.strip(), auto)].sum(axis=1)\n",
    "    t['BIKE']=t[map(lambda s: s.strip(), bike)].sum(axis=1)\n",
    "    t['BUILDING']=t[map(lambda s: s.strip(), building)].sum(axis=1)\n",
    "    t['SHOLIFT']=t[map(lambda s: s.strip(), shoplift)].sum(axis=1)\n",
    "    t['PROPERTY']=t[map(lambda s: s.strip(), prop)].sum(axis=1)\n",
    "    t['PERSON']=t[map(lambda s: s.strip(), person)].sum(axis=1)\n",
    "    theft=t[['AUTO','BIKE','BUILDING','SHOLIFT','PROPERTY','PERSON']]\n",
    "    if plot:\n",
    "        if normal:\n",
    "            theft=theft.div(theft.sum(axis=1),axis=0)\n",
    "        theft.index=[int(i) for i in theft.index]\n",
    "        colors = plt.cm.jet(np.linspace(0, 1, theft.shape[1]))\n",
    "        theft.plot(kind='bar', stacked=True, figsize=(20,10), color=colors, width=1, title=district,fontsize=6, legend=legendShow)\n",
    "        if normal:\n",
    "            plt.ylim([0,1])\n",
    "\n",
    "    return theft\n",
    "\n",
    "theft_df_all=theft_analysis(t_all,district,True, False, True)"
   ]
  },
  {
   "cell_type": "markdown",
   "metadata": {},
   "source": [
    "Now let's normalize the data so we can see the effect on a [0,1]-basis axis."
   ]
  },
  {
   "cell_type": "code",
   "execution_count": null,
   "metadata": {
    "collapsed": false
   },
   "outputs": [],
   "source": [
    "theft_df_all=theft_analysis(t_all,district,True, True, False)"
   ]
  },
  {
   "cell_type": "markdown",
   "metadata": {},
   "source": [
    "Let's add the real dates, so we see how the actual effects vary throughout the years of data provided."
   ]
  },
  {
   "cell_type": "code",
   "execution_count": null,
   "metadata": {
    "collapsed": false
   },
   "outputs": [],
   "source": [
    "dates_for_plot.index=dates_for_plot\n",
    "sns.set_context(rc={\"figure.figsize\": (12.5,5.5)})\n",
    "for d,c in zip(['AUTO','BIKE','BUILDING','PERSON'],['b','r','c','g']):\n",
    "    plt.plot(dates_for_plot.index,theft_df_all[d],'o-',color=c,ms=6,mew=1.5,mec='white',linewidth=0.5,label=d,alpha=0.75)\n",
    "plt.legend(loc='upper left',scatterpoints=1,prop={'size':8})\n",
    "plt.savefig('Types of theft.png')"
   ]
  },
  {
   "cell_type": "markdown",
   "metadata": {},
   "source": [
    "Now let's look at the the resolutions that took place."
   ]
  },
  {
   "cell_type": "code",
   "execution_count": null,
   "metadata": {
    "collapsed": false
   },
   "outputs": [],
   "source": [
    "f = plt.figure(figsize=(10,10))\n",
    "sns.countplot(palette = None, y=\"Resolution\", data=train, order=train.Resolution.value_counts().index)\n",
    "f.tight_layout()\n",
    "st = f.suptitle('Number of crimes per resolution', fontsize=\"x-large\")\n",
    "st.set_y(0.95)\n",
    "f.subplots_adjust(top=0.9)\n",
    "f.savefig('Number of crimes per resolution.png')"
   ]
  },
  {
   "cell_type": "markdown",
   "metadata": {},
   "source": [
    "Since we might soon be interested in viewing how number of crimes vary per district, I was interested in seeing how that would display, as shown below."
   ]
  },
  {
   "cell_type": "code",
   "execution_count": null,
   "metadata": {
    "collapsed": false
   },
   "outputs": [],
   "source": [
    "f = plt.figure(figsize=(10,6))\n",
    "sns.countplot(x=\"PdDistrict\", data=train, order=train.PdDistrict.value_counts().index)\n",
    "f.tight_layout()\n",
    "st = f.suptitle('Number of crimes per district', fontsize=\"x-large\")\n",
    "st.set_y(0.95)\n",
    "f.subplots_adjust(top=0.9)\n",
    "f.savefig('Number of crimes per district.png')"
   ]
  },
  {
   "cell_type": "markdown",
   "metadata": {},
   "source": [
    "Create a array of weekdays, so that we can order accordinly. "
   ]
  },
  {
   "cell_type": "code",
   "execution_count": null,
   "metadata": {
    "collapsed": false
   },
   "outputs": [],
   "source": [
    "# We could implement the following, but days are not sorted accordingly\n",
    "# weekDays = train.DayOfWeek.unique()\n",
    "# Hence, we hardcode the weekdays in an array\n",
    "weekDays = ['Monday', 'Tuesday', 'Wednesday', 'Thursday', 'Friday', 'Saturday', 'Sunday']\n",
    "\n",
    "f = plt.figure(figsize=(9,6))\n",
    "sns.countplot(x=\"DayOfWeek\", data=train, order=weekDays)\n",
    "f.tight_layout()\n",
    "st = f.suptitle('Number of crimes per day of week', fontsize=\"x-large\")\n",
    "st.set_y(0.95)\n",
    "f.subplots_adjust(top=0.9)\n",
    "f.savefig('Number of crimes per day of week.png')"
   ]
  }
 ],
 "metadata": {
  "kernelspec": {
   "display_name": "Python 2",
   "language": "python",
   "name": "python2"
  },
  "language_info": {
   "codemirror_mode": {
    "name": "ipython",
    "version": 2
   },
   "file_extension": ".py",
   "mimetype": "text/x-python",
   "name": "python",
   "nbconvert_exporter": "python",
   "pygments_lexer": "ipython2",
   "version": "2.7.11"
  }
 },
 "nbformat": 4,
 "nbformat_minor": 0
}
